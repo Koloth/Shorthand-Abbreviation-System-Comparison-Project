{
 "cells": [
  {
   "cell_type": "markdown",
   "metadata": {},
   "source": [
    "# Basic Setup\n",
    "\n",
    "Install and import some libraries."
   ]
  },
  {
   "cell_type": "code",
   "execution_count": 52,
   "metadata": {},
   "outputs": [],
   "source": [
    "# Imports\n",
    "import pandas as pd\n",
    "import re\n",
    "import random\n",
    "import copy\n",
    "import math\n",
    "import json\n",
    "import matplotlib.pyplot as plt\n",
    "import plotly.express as px\n",
    "import plotly.graph_objects as go\n",
    "import numpy as np\n",
    "from collections import Counter\n",
    "import statsmodels.api as sm\n",
    "from scipy.stats import linregress"
   ]
  },
  {
   "cell_type": "markdown",
   "metadata": {},
   "source": [
    "# Import The IPA dictionary\n",
    "\n",
    "This section of the code imports the IPA dictionary used to generate the various shorthand abbreviation systems."
   ]
  },
  {
   "cell_type": "code",
   "execution_count": 53,
   "metadata": {},
   "outputs": [],
   "source": [
    "# Scoring methods designed to select one of the options from the IPA dictionary.\n",
    "# It selects the shortest words with the most schwas (laziest pronunciation).\n",
    "\n",
    "\n",
    "def score(word):\n",
    "    word.replace(\" \", \"\")\n",
    "    return (len(word), -word.count(\"ə\"))\n",
    "\n",
    "\n",
    "def get_laziest(ipa_list):\n",
    "    return list(sorted(ipa_list, key=score))[0]\n",
    "\n",
    "\n",
    "# Loading the dictionary and parsing out the best scoring pronunciation\n",
    "ipa = pd.read_csv(\"en_US.txt\", sep='\\t', names=[\"eng\", \"ipa\"])\n",
    "ipa_opt_dict = {row[1]['eng']: row[1]['ipa'].split(', ') for row in ipa.iterrows()}\n",
    "ipa_dict = {row[1]['eng']: get_laziest(row[1]['ipa'].split(', ')) for row in ipa.iterrows()}"
   ]
  },
  {
   "cell_type": "markdown",
   "metadata": {},
   "source": [
    "# Translation code\n",
    "\n",
    "This code will now translate using various rules for abbreviaiont.  The code should be examined for details, but I wrote small snippets of rules to define a few different ways to transform from my folk phonetic into various abbreviated forms.  "
   ]
  },
  {
   "cell_type": "code",
   "execution_count": 54,
   "metadata": {},
   "outputs": [],
   "source": [
    "# Code to do basic string transformations\n",
    "def translate_add(string, rules, verbose = False): \n",
    "    out = []\n",
    "    pos = 0\n",
    "    while pos < len(string):\n",
    "        matched = False\n",
    "        for rule_head, rule_tail in rules:\n",
    "            if string[pos:pos+len(rule_head)] == rule_head:\n",
    "                if rule_tail != None:\n",
    "                    out.append(rule_tail)\n",
    "                matched = True\n",
    "                pos += len(rule_head)\n",
    "                if verbose:\n",
    "                    print(f\"Matched: {rule_head} -> {rule_tail}\")\n",
    "                break\n",
    "        if not matched:\n",
    "            if verbose:\n",
    "                print(f\"Skipped: {string[pos]}\")\n",
    "            pos += 1\n",
    "    return out if len(out) > 0 else [\"e\"]"
   ]
  },
  {
   "cell_type": "code",
   "execution_count": 55,
   "metadata": {},
   "outputs": [],
   "source": [
    "# Consonants without variable representation\n",
    "unpaired_consonants = [('ɫ', 'l'),\n",
    " ('ɹ', 'r'),\n",
    " ('m', 'm'),\n",
    " ('ŋ', 'ŋ'),\n",
    " ('n', 'n'),\n",
    " ('w', 'w'),\n",
    " ('h', 'h'),\n",
    " ('j', 'y')]\n",
    "\n",
    "# ch and j\n",
    "full_affrictives = [\n",
    " ('dʒ', 'j'),\n",
    " ('tʃ', 'C')]\n",
    "\n",
    "merged_affrictives = [\n",
    " ('dʒ', 'C'),\n",
    " ('tʃ', 'C')]\n",
    "\n",
    "# Frictives\n",
    "full_frictives = [\n",
    " ('s', 's'),\n",
    " ('ʒ', 'ʒ'),\n",
    " ('ʃ', 'ʃ'),\n",
    " ('v', 'v'),\n",
    " ('θ', 'θ'),\n",
    " ('f', 'f'),\n",
    " ('z', 'z'),\n",
    " ('ð', 'ð')]\n",
    "\n",
    "merged_frictives = [\n",
    " ('s', 's'),\n",
    " ('ʒ', 'ʃ'),\n",
    " ('ʃ', 'ʃ'),\n",
    " ('v', 'f'),\n",
    " ('θ', 'θ'),\n",
    " ('f', 'f'),\n",
    " ('z', 's'),\n",
    " ('ð', 'θ')]\n",
    "\n",
    "# Plosives\n",
    "full_plosives = [\n",
    " ('t', 't'),\n",
    " ('b', 'b'),\n",
    " ('ɡ', 'g'),\n",
    " ('p', 'p'),\n",
    " ('d', 'd'),\n",
    " ('k', 'k')]\n",
    "\n",
    "merged_plosives = [\n",
    " ('t', 't'),\n",
    " ('b', 'p'),\n",
    " ('ɡ', 'k'),\n",
    " ('p', 'p'),\n",
    " ('d', 't'),\n",
    " ('k', 'k')]\n",
    "\n",
    "consonant_types = {\n",
    "    'full consonants': full_affrictives + unpaired_consonants + full_frictives + full_plosives,\n",
    "    'full plosives, merged frictives': full_affrictives + unpaired_consonants + merged_frictives + full_plosives,\n",
    "    'merged consonants': merged_affrictives + unpaired_consonants + merged_frictives + merged_plosives,\n",
    "}\n",
    "\n",
    "short_consonant_names = {\n",
    "    'full consonants': 'FC',\n",
    "    'full plosives, merged frictives': 'FPMF',\n",
    "    'merged consonants': 'MC',\n",
    "}"
   ]
  },
  {
   "cell_type": "code",
   "execution_count": 56,
   "metadata": {},
   "outputs": [],
   "source": [
    "# Schwa's Name\n",
    "schwa_name = 'e'\n",
    "\n",
    "# Stupid R\n",
    "r_with_vowels = [('ɝ', schwa_name + 'r')]\n",
    "r_with_lateral_vowels = [('~ɝ', schwa_name + 'r'),('ɝ', 'r')]\n",
    "r_with_flattened_lateral_vowels = [('~ɝ', 'er'),('ɝ', 'r')]\n",
    "r_without_vowels = [('ɝ', 'r')]"
   ]
  },
  {
   "cell_type": "code",
   "execution_count": 57,
   "metadata": {},
   "outputs": [],
   "source": [
    "# Long Vowels\n",
    "long_vowels = [\n",
    " ('i', 'e'),\n",
    " ('eɪ', 'a'),\n",
    " ('oʊ', 'o'),\n",
    " ('aɪ', 'i'),\n",
    " ('ju', 'u'),\n",
    "]\n",
    "\n",
    "lateral_long_vowels = [\n",
    " ('~i', 'e'),\n",
    " ('~eɪ', 'a'),\n",
    " ('~oʊ', 'o'),\n",
    " ('~aɪ', 'i'),\n",
    " ('~ju', 'u'),\n",
    " ('i~', 'e'),\n",
    " ('eɪ~', 'a'),\n",
    " ('oʊ~', 'o'),\n",
    " ('aɪ~', 'i'),\n",
    " ('ju~', 'u'),\n",
    "]\n",
    "\n",
    "flattened_lateral_long_vowels = [\n",
    " ('~i', 'e'),\n",
    " ('~eɪ', 'e'),\n",
    " ('~oʊ', 'e'),\n",
    " ('~aɪ', 'e'),\n",
    " ('~ju', 'e'),\n",
    " ('i~', 'e'),\n",
    " ('eɪ~', 'e'),\n",
    " ('oʊ~', 'e'),\n",
    " ('aɪ~', 'e'),\n",
    " ('ju~', 'e'),\n",
    "]\n",
    "\n",
    "# Schwa\n",
    "schwa = [\n",
    " ('ə', schwa_name),\n",
    "]\n",
    "\n",
    "lateral_schwa = [\n",
    " ('~ə', schwa_name),\n",
    " ('ə~', schwa_name),\n",
    "]\n",
    "\n",
    "flattened_lateral_schwa = [\n",
    " ('~ə', 'e'),\n",
    " ('ə~', 'e'),\n",
    "]\n",
    "\n",
    "# remaining vowels\n",
    "remaining_vowels = [\n",
    " ('ɑ', 'a'),\n",
    " ('æ', 'a'),\n",
    " ('e', 'e'),\n",
    " ('ʊ', 'u'),\n",
    " ('ɛ', 'e'),\n",
    " ('ɔ', 'o'),\n",
    " ('a', 'a'),\n",
    " ('o', 'o'),\n",
    " ('ɪ', 'i'),\n",
    " ('u', 'u'),\n",
    "]\n",
    "\n",
    "lateral_remaining_vowels = [\n",
    " ('~ɑ', 'a'),\n",
    " ('~æ', 'a'),\n",
    " ('~e', 'e'),\n",
    " ('~ʊ', 'u'),\n",
    " ('~ɛ', 'e'),\n",
    " ('~ɔ', 'o'),\n",
    " ('~a', 'a'),\n",
    " ('~o', 'o'),\n",
    " ('~ɪ', 'i'),\n",
    " ('~u', 'u'),\n",
    " ('ɑ~', 'a'),\n",
    " ('æ~', 'a'),\n",
    " ('e~', 'e'),\n",
    " ('ʊ~', 'u'),\n",
    " ('ɛ~', 'e'),\n",
    " ('ɔ~', 'o'),\n",
    " ('a~', 'a'),\n",
    " ('o~', 'o'),\n",
    " ('ɪ~', 'i'),\n",
    " ('u~', 'u'),\n",
    "]\n",
    "\n",
    "flattened_lateral_remaining_vowels = [\n",
    " ('~ɑ', 'e'),\n",
    " ('~æ', 'e'),\n",
    " ('~e', 'e'),\n",
    " ('~ʊ', 'e'),\n",
    " ('~ɛ', 'e'),\n",
    " ('~ɔ', 'e'),\n",
    " ('~a', 'e'),\n",
    " ('~o', 'e'),\n",
    " ('~ɪ', 'e'),\n",
    " ('~u', 'e'),\n",
    " ('ɑ~', 'e'),\n",
    " ('æ~', 'e'),\n",
    " ('e~', 'e'),\n",
    " ('ʊ~', 'e'),\n",
    " ('ɛ~', 'e'),\n",
    " ('ɔ~', 'e'),\n",
    " ('a~', 'e'),\n",
    " ('o~', 'e'),\n",
    " ('ɪ~', 'e'),\n",
    " ('u~', 'e'),\n",
    "]\n",
    "\n",
    "# kill 'y' as part of long vowels\n",
    "no_long_u = [('ju','')]\n",
    "\n",
    "vowel_types = {\n",
    "    'full vowels': r_with_vowels + long_vowels + schwa + remaining_vowels,\n",
    "    'schwa suppressed vowels': r_with_lateral_vowels + long_vowels + lateral_schwa + remaining_vowels,\n",
    "    'short suppressed vowels': r_with_lateral_vowels + long_vowels + lateral_schwa + lateral_remaining_vowels,\n",
    "    'long vowels': r_without_vowels + long_vowels,\n",
    "    'lateral vowels': r_with_lateral_vowels + lateral_long_vowels + lateral_schwa + lateral_remaining_vowels + no_long_u,\n",
    "    'flattened lateral vowels': r_with_flattened_lateral_vowels + flattened_lateral_long_vowels + lateral_schwa + flattened_lateral_remaining_vowels + no_long_u,\n",
    "    'no vowels': r_without_vowels + no_long_u \n",
    "}\n",
    "\n",
    "short_vowel_names = {\n",
    "    'full vowels': 'FV',\n",
    "    'schwa suppressed vowels': 'SSV',\n",
    "    'short suppressed vowels': 'ShSV',\n",
    "    'long vowels': 'LoV',\n",
    "    'lateral vowels': 'LV',\n",
    "    'flattened lateral vowels': 'FLV',\n",
    "    'no vowels': 'NV' \n",
    "}"
   ]
  },
  {
   "cell_type": "code",
   "execution_count": 58,
   "metadata": {},
   "outputs": [],
   "source": [
    "def translate(ipa_word, rules, verbose = False):\n",
    "    temp = \"\".join(translate_add(\"~\" + ipa_word.replace('/','').replace('ˈ','').replace('ˌ','') + \"~\",rules, verbose))\n",
    "    return temp if len(temp) > 0 else \"e\"\n",
    "\n",
    "def sentence_translate(ipa_sentence,rules):\n",
    "    return \" \".join([translate(ipa_word,rules) for ipa_word in ipa_sentence.split()])"
   ]
  },
  {
   "cell_type": "code",
   "execution_count": 59,
   "metadata": {},
   "outputs": [],
   "source": [
    "import string\n",
    "\n",
    "def remove_punctuation(text):\n",
    "    \"\"\"Removes punctuation from a string.\"\"\"\n",
    "    translator = str.maketrans('', '', string.punctuation)\n",
    "    return text.translate(translator)"
   ]
  },
  {
   "cell_type": "markdown",
   "metadata": {},
   "source": [
    "# The Harvard Sentences\n",
    "\n",
    "This is an important part: we will use the [Harvard Sentences](https://en.wikipedia.org/wiki/Harvard_sentences).  Thankfully, I had never heard of these before, because if I had, it would have ruined my ability to use them in this experiment.  The Harvard Sentences are 720 grammatically correct sentences on random topics, all of about 10 words each, that were designed to benchmark telephone systems ability to transmit speech. What makes them particularly useful here is that they are designed to be *phonetically balanced*, which is to say that they use the sounds of English in the same frequency as they appear in English.  This makes them fantastic for benchmarking the performance of a phonetic shorthand system.\n",
    "\n",
    "The experimental protocol is as follows:\n",
    "1. The system will loop exactly once over all the Harvard Sentences.\n",
    "2. For each sentence, it will select a random abbreviation system from the above methods.\n",
    "3. The choice of system, along with the encoded sentence, is displayed to the experiment subject.\n",
    "4. The subject then types in their translation of the sentence back to standard English.\n",
    "\n",
    "As I have never seen these sentences before, the only information I have on their content is through the shorthand. Thus, my ability to translate these sentences with the context of the other words around can be compared with the theoretical predictions."
   ]
  },
  {
   "cell_type": "code",
   "execution_count": 60,
   "metadata": {},
   "outputs": [],
   "source": [
    "bank = []\n",
    "\n",
    "with open(\"harvard-sentences.txt\", \"r\") as file:\n",
    "    lines = file.readlines()\n",
    "\n",
    "pos = 0\n",
    "\n",
    "def harvard_task():\n",
    "    global pos\n",
    "    try:\n",
    "        raw_sentence = lines[pos]\n",
    "        pos += 1\n",
    "        ipa_sentence = \" \".join(ipa_dict[word][1:-1] for word in remove_punctuation(raw_sentence[:-1]).lower().split())\n",
    "        consonant_type = random.choice(list(consonant_types.keys()))\n",
    "        vowel_type = random.choice(list(vowel_types.keys()))\n",
    "\n",
    "        translated_sentence = sentence_translate(ipa_sentence,vowel_types[vowel_type] + consonant_types[consonant_type])\n",
    "        return raw_sentence, ipa_sentence, consonant_type, vowel_type, translated_sentence \n",
    "    except:\n",
    "        return \"\",\"\",\"\",\"\",\"\"\n"
   ]
  },
  {
   "cell_type": "code",
   "execution_count": 61,
   "metadata": {},
   "outputs": [],
   "source": [
    "import json\n",
    "with open('sentence_bank.json', 'r', encoding='utf-8') as f:\n",
    "    bank = json.load(f)\n",
    "\n",
    "pos = lines.index(bank[-1][0]) + 1"
   ]
  },
  {
   "cell_type": "code",
   "execution_count": 62,
   "metadata": {},
   "outputs": [
    {
     "name": "stderr",
     "output_type": "stream",
     "text": [
      "/var/folders/ng/pntt6yds68xb60yvl8c33wpm0000gq/T/ipykernel_40721/3329733450.py:28: DeprecationWarning:\n",
      "\n",
      "on_submit is deprecated. Instead, set the .continuous_update attribute to False and observe the value changing with: mywidget.observe(callback, 'value').\n",
      "\n"
     ]
    },
    {
     "data": {
      "application/vnd.jupyter.widget-view+json": {
       "model_id": "ce07ad238f354d20a86e66ad26f8dd99",
       "version_major": 2,
       "version_minor": 0
      },
      "text/plain": [
       "VBox(children=(HTML(value='<p><h2>System</h2><br><h2>Sample</h2></p>'), Text(value='', description='Input:', l…"
      ]
     },
     "metadata": {},
     "output_type": "display_data"
    }
   ],
   "source": [
    "import ipywidgets as widgets\n",
    "from IPython.display import display\n",
    "\n",
    "current = harvard_task()\n",
    "\n",
    "# Displayed paragraph\n",
    "paragraph = widgets.HTML(\n",
    "    value=f\"<p><h2>System</h2>{current[2]}<br>{current[3]}<h2>Sample</h2>{current[4]}</p>\"\n",
    ")\n",
    "\n",
    "# Text input widget (continuous_update is irrelevant here)\n",
    "text_input = widgets.Text(\n",
    "    placeholder='Type your response here...',\n",
    "    description='Input:',\n",
    "    layout=widgets.Layout(width='50%')\n",
    ")\n",
    "\n",
    "# Function called explicitly when Enter is pressed\n",
    "def on_enter_pressed(sender):\n",
    "    global current\n",
    "    if sender.value:\n",
    "        bank.append((*current, sender.value))\n",
    "        current = harvard_task()\n",
    "        paragraph.value = f\"<p><h2>System</h2>{current[2]}<br>{current[3]}<h2>Sample</h2>{current[4]}</p>\"\n",
    "        sender.value = ''\n",
    "\n",
    "# Bind the on_submit callback\n",
    "text_input.on_submit(on_enter_pressed)\n",
    "\n",
    "# Display widgets vertically\n",
    "display(widgets.VBox([paragraph, text_input]))"
   ]
  },
  {
   "cell_type": "markdown",
   "metadata": {},
   "source": [
    "# Saving Code\n",
    "\n",
    "This is currently commented out, but here is some code for saving the sentence banks once gathered.  I've already done it for myself, if you want to try to replicate this experiment on your own, you should delete `sentence_bank.json` and then run throught the widget above, and save it with the commented out code below."
   ]
  },
  {
   "cell_type": "code",
   "execution_count": 63,
   "metadata": {},
   "outputs": [],
   "source": [
    "# import json\n",
    "# with open('sentence_bank.json', 'w', encoding='utf-8') as f:\n",
    "#     json.dump(bank, f, ensure_ascii=False, indent=4)"
   ]
  },
  {
   "cell_type": "markdown",
   "metadata": {},
   "source": [
    "# Analysis\n",
    "\n",
    "We can now analyze and compare with the theoretical predictions from the reconstruction probability.  First, we will compute the estimates of:\n",
    "\n",
    "1. **The measured error rate.** This is simply the fraction of the words I actually got right.\n",
    "2. **The measured complexity.** This is an explicit estimate of outline complexity.  It is the $log_2$ of the number of different distinct letters, times the mean length.\n",
    "\n",
    "I'll also compute some error bars for these, so we can compare them.\n",
    "\n",
    "After that, we compare the theoretical probabilities with the measured probabilities.  These two will be logit transformed, then a linear fit will be made in the logit space (a fairly standard technique)."
   ]
  },
  {
   "cell_type": "code",
   "execution_count": 64,
   "metadata": {},
   "outputs": [],
   "source": [
    "right = {}\n",
    "wrong = {}\n",
    "\n",
    "for sent in bank:\n",
    "    if len(remove_punctuation(sent[0].lower()).split()) != len(remove_punctuation(sent[5].lower()).split()):\n",
    "        print(\"ERROR:\", sent)\n",
    "        continue\n",
    "    right[(sent[2],sent[3])] = right.get((sent[2],sent[3]),0) + sum(el1 == el2 for el1, el2 in zip(remove_punctuation(sent[0].lower()).split(), remove_punctuation(sent[5].lower()).split()))\n",
    "    wrong[(sent[2],sent[3])] = wrong.get((sent[2],sent[3]),0) + sum(el1 != el2 for el1, el2 in zip(remove_punctuation(sent[0].lower()).split(), remove_punctuation(sent[5].lower()).split()))"
   ]
  },
  {
   "cell_type": "code",
   "execution_count": 65,
   "metadata": {},
   "outputs": [
    {
     "data": {
      "text/plain": [
       "{('merged consonants', 'lateral vowels'): (0.12365273084856607,\n",
       "  0.2304015748565118),\n",
       " ('full consonants', 'schwa suppressed vowels'): (0.003744692959841907,\n",
       "  0.03470059332874382),\n",
       " ('full consonants', 'full vowels'): (0.009507546026088847,\n",
       "  0.05520374109350262),\n",
       " ('full consonants', 'flattened lateral vowels'): (0.046683229429337635,\n",
       "  0.10928166509423455),\n",
       " ('merged consonants', 'no vowels'): (0.2603702552555637, 0.36667283997864203),\n",
       " ('merged consonants', 'short suppressed vowels'): (0.06729252696279726,\n",
       "  0.139048044530566),\n",
       " ('full consonants', 'long vowels'): (0.051685357443948414,\n",
       "  0.11421903967718484),\n",
       " ('full plosives, merged frictives', 'full vowels'): (0.01919065091251528,\n",
       "  0.07176499619624185),\n",
       " ('full plosives, merged frictives',\n",
       "  'short suppressed vowels'): (0.02463365525921415, 0.1079896608168007),\n",
       " ('full plosives, merged frictives',\n",
       "  'schwa suppressed vowels'): (0.01000475009508759, 0.04492000238411904),\n",
       " ('full plosives, merged frictives', 'no vowels'): (0.10457483932021812,\n",
       "  0.18753710082342995),\n",
       " ('merged consonants', 'flattened lateral vowels'): (0.127405630259634,\n",
       "  0.23696014195303486),\n",
       " ('merged consonants', 'schwa suppressed vowels'): (0.04126832704257621,\n",
       "  0.0917862175865279),\n",
       " ('full plosives, merged frictives', 'long vowels'): (0.08286551660579868,\n",
       "  0.1605052575950483),\n",
       " ('full consonants', 'lateral vowels'): (0.05375657762779515,\n",
       "  0.12285273357245219),\n",
       " ('full plosives, merged frictives',\n",
       "  'flattened lateral vowels'): (0.08767993027945263, 0.1595605062093536),\n",
       " ('merged consonants', 'long vowels'): (0.07518671384272646,\n",
       "  0.16123555165051182),\n",
       " ('full plosives, merged frictives', 'lateral vowels'): (0.02695420845106852,\n",
       "  0.09353365957949306),\n",
       " ('full consonants', 'no vowels'): (0.1486807675484905, 0.24030785839638225),\n",
       " ('merged consonants', 'full vowels'): (0.03140187804960308,\n",
       "  0.0976249272044263),\n",
       " ('full consonants', 'short suppressed vowels'): (0.037286334407022226,\n",
       "  0.10618887471442316)}"
      ]
     },
     "execution_count": 65,
     "metadata": {},
     "output_type": "execute_result"
    }
   ],
   "source": [
    "error_rate = {type:sm.stats.proportion_confint(wrong[type], right[type]+wrong[type], method='beta', alpha = 0.05) for type in right}\n",
    "error_rate"
   ]
  },
  {
   "cell_type": "code",
   "execution_count": 66,
   "metadata": {},
   "outputs": [],
   "source": [
    "import statsmodels.stats.weightstats as sw\n",
    "\n",
    "def ave_bits(type):\n",
    "    num_alphabet = len(set([z for y in vowel_types[type[1]] + consonant_types[type[0]] if len(y[1]) > 0 for z in y[1]]))\n",
    "    data = []\n",
    "    for sent in bank:\n",
    "        if len(remove_punctuation(sent[0].lower()).split()) != len(remove_punctuation(sent[5].lower()).split()):\n",
    "            print(\"ERROR:\", sent)\n",
    "            continue\n",
    "        if sent[2] != type[0] or sent[3] != type[1]:\n",
    "            continue\n",
    "        for word in remove_punctuation(sent[5].lower()).split():\n",
    "            data.append(np.log2(num_alphabet)*len(word))\n",
    "    return sw.zconfint(data, alpha=0.05)"
   ]
  },
  {
   "cell_type": "code",
   "execution_count": 67,
   "metadata": {},
   "outputs": [],
   "source": [
    "ave_bit_conf = {type:ave_bits(type) for type in error_rate}"
   ]
  },
  {
   "cell_type": "code",
   "execution_count": 68,
   "metadata": {},
   "outputs": [
    {
     "data": {
      "application/vnd.plotly.v1+json": {
       "config": {
        "plotlyServerURL": "https://plot.ly"
       },
       "data": [
        {
         "error_x": {
          "array": {
           "bdata": "IEB2vr1j7D9gkEgkv1LqP8CQq/8+u+4/gAMfjc216T8g/J6ZILPmP+AO+n6H+OY/gH6yaE/y6T9giYowUtrqP8AkkOTcAPI/ADWQe61b5z8gWQPa41joPyjezKFaBeo/4DyvzZvI5D/gayQqEUDrP4AjWTozjOs/oIMlFSly5j+Ab0k9PP7qP8CtwLr32e4/gCVeFePD6D+gzKF1rsnrP0BkrzmtN+8/",
           "dtype": "f8"
          }
         },
         "error_y": {
          "array": {
           "bdata": "+mHmaeRTqz82iM9O57KPP8Z7u959ZZc/XCT2eXMGoD8Eq91spTarP8XYQtGRXqI/yhcXGDUCoD/aVTRLBuuaP/yGy7XRVqU/nQttdWngkT/nX/XHAz2lP0w32rTDC6w/i5R/H3vdmT9nMmu0MuCjPzLGDyJJsKE/aynW8sNmoj9mRT7wSwemP46lLtVZC6E/foueft90pz9+glxm/vOgP7dKO82Yo6E/",
           "dtype": "f8"
          }
         },
         "hovertemplate": "mid_bit=%{x}<br>mid_error=%{y}<br>type=%{text}<extra></extra>",
         "legendgroup": "",
         "marker": {
          "color": "#636efa",
          "symbol": "circle"
         },
         "mode": "markers+text",
         "name": "",
         "orientation": "v",
         "showlegend": false,
         "text": [
          "merged consonants<br>lateral vowels",
          "full consonants<br>schwa suppressed vowels",
          "full consonants<br>full vowels",
          "full consonants<br>flattened lateral vowels",
          "merged consonants<br>no vowels",
          "merged consonants<br>short suppressed vowels",
          "full consonants<br>long vowels",
          "full plosives, merged frictives<br>full vowels",
          "full plosives, merged frictives<br>short suppressed vowels",
          "full plosives, merged frictives<br>schwa suppressed vowels",
          "full plosives, merged frictives<br>no vowels",
          "merged consonants<br>flattened lateral vowels",
          "merged consonants<br>schwa suppressed vowels",
          "full plosives, merged frictives<br>long vowels",
          "full consonants<br>lateral vowels",
          "full plosives, merged frictives<br>flattened lateral vowels",
          "merged consonants<br>long vowels",
          "full plosives, merged frictives<br>lateral vowels",
          "full consonants<br>no vowels",
          "merged consonants<br>full vowels",
          "full consonants<br>short suppressed vowels"
         ],
         "type": "scatter",
         "x": {
          "bdata": "JVAiJF8bMUBwtJrPry4zQDHBP6Il+TJA91Rx0XXUMUCqgb1jamAvQAkIsKjKMTFAY4WntMzJMkCkCIMjm9YxQHKjeQlPkzJAqqpNNQu4MUAu09HTI+gwQNCqrSWE7S5AYgB4r6IXMUDU0rUrD2YyQG9eIlqxITNA5FBWKsJwMUBjXB5kSskwQHqRrcWucDJAOGRavYYJMkAxPFcGZWkxQE8wKx81bjJA",
          "dtype": "f8"
         },
         "xaxis": "x",
         "y": {
          "bdata": "ErkAZNOoxj9X9Ja+Ga+TP5VX3D3rkKA/M8OmXKj2sz821WauvBDUP/ByMyteabo/NO3y81o8tT8P+LeJ3kinPyDlnQLN+bA/dzZH3xgfnD94CWxH9rHCP0ra29DEUcc/AhLiau4HsT/cVv8Fxia/P08X40cim7Y/lO17GpOlvz/jeiu1FUO+P+qKwfxK2K4/yL+8jDDlyD8izG9K84OwP6xPe0llXbI/",
          "dtype": "f8"
         },
         "yaxis": "y"
        }
       ],
       "layout": {
        "height": 1024,
        "legend": {
         "tracegroupgap": 0
        },
        "margin": {
         "t": 60
        },
        "template": {
         "data": {
          "bar": [
           {
            "error_x": {
             "color": "#2a3f5f"
            },
            "error_y": {
             "color": "#2a3f5f"
            },
            "marker": {
             "line": {
              "color": "#E5ECF6",
              "width": 0.5
             },
             "pattern": {
              "fillmode": "overlay",
              "size": 10,
              "solidity": 0.2
             }
            },
            "type": "bar"
           }
          ],
          "barpolar": [
           {
            "marker": {
             "line": {
              "color": "#E5ECF6",
              "width": 0.5
             },
             "pattern": {
              "fillmode": "overlay",
              "size": 10,
              "solidity": 0.2
             }
            },
            "type": "barpolar"
           }
          ],
          "carpet": [
           {
            "aaxis": {
             "endlinecolor": "#2a3f5f",
             "gridcolor": "white",
             "linecolor": "white",
             "minorgridcolor": "white",
             "startlinecolor": "#2a3f5f"
            },
            "baxis": {
             "endlinecolor": "#2a3f5f",
             "gridcolor": "white",
             "linecolor": "white",
             "minorgridcolor": "white",
             "startlinecolor": "#2a3f5f"
            },
            "type": "carpet"
           }
          ],
          "choropleth": [
           {
            "colorbar": {
             "outlinewidth": 0,
             "ticks": ""
            },
            "type": "choropleth"
           }
          ],
          "contour": [
           {
            "colorbar": {
             "outlinewidth": 0,
             "ticks": ""
            },
            "colorscale": [
             [
              0,
              "#0d0887"
             ],
             [
              0.1111111111111111,
              "#46039f"
             ],
             [
              0.2222222222222222,
              "#7201a8"
             ],
             [
              0.3333333333333333,
              "#9c179e"
             ],
             [
              0.4444444444444444,
              "#bd3786"
             ],
             [
              0.5555555555555556,
              "#d8576b"
             ],
             [
              0.6666666666666666,
              "#ed7953"
             ],
             [
              0.7777777777777778,
              "#fb9f3a"
             ],
             [
              0.8888888888888888,
              "#fdca26"
             ],
             [
              1,
              "#f0f921"
             ]
            ],
            "type": "contour"
           }
          ],
          "contourcarpet": [
           {
            "colorbar": {
             "outlinewidth": 0,
             "ticks": ""
            },
            "type": "contourcarpet"
           }
          ],
          "heatmap": [
           {
            "colorbar": {
             "outlinewidth": 0,
             "ticks": ""
            },
            "colorscale": [
             [
              0,
              "#0d0887"
             ],
             [
              0.1111111111111111,
              "#46039f"
             ],
             [
              0.2222222222222222,
              "#7201a8"
             ],
             [
              0.3333333333333333,
              "#9c179e"
             ],
             [
              0.4444444444444444,
              "#bd3786"
             ],
             [
              0.5555555555555556,
              "#d8576b"
             ],
             [
              0.6666666666666666,
              "#ed7953"
             ],
             [
              0.7777777777777778,
              "#fb9f3a"
             ],
             [
              0.8888888888888888,
              "#fdca26"
             ],
             [
              1,
              "#f0f921"
             ]
            ],
            "type": "heatmap"
           }
          ],
          "histogram": [
           {
            "marker": {
             "pattern": {
              "fillmode": "overlay",
              "size": 10,
              "solidity": 0.2
             }
            },
            "type": "histogram"
           }
          ],
          "histogram2d": [
           {
            "colorbar": {
             "outlinewidth": 0,
             "ticks": ""
            },
            "colorscale": [
             [
              0,
              "#0d0887"
             ],
             [
              0.1111111111111111,
              "#46039f"
             ],
             [
              0.2222222222222222,
              "#7201a8"
             ],
             [
              0.3333333333333333,
              "#9c179e"
             ],
             [
              0.4444444444444444,
              "#bd3786"
             ],
             [
              0.5555555555555556,
              "#d8576b"
             ],
             [
              0.6666666666666666,
              "#ed7953"
             ],
             [
              0.7777777777777778,
              "#fb9f3a"
             ],
             [
              0.8888888888888888,
              "#fdca26"
             ],
             [
              1,
              "#f0f921"
             ]
            ],
            "type": "histogram2d"
           }
          ],
          "histogram2dcontour": [
           {
            "colorbar": {
             "outlinewidth": 0,
             "ticks": ""
            },
            "colorscale": [
             [
              0,
              "#0d0887"
             ],
             [
              0.1111111111111111,
              "#46039f"
             ],
             [
              0.2222222222222222,
              "#7201a8"
             ],
             [
              0.3333333333333333,
              "#9c179e"
             ],
             [
              0.4444444444444444,
              "#bd3786"
             ],
             [
              0.5555555555555556,
              "#d8576b"
             ],
             [
              0.6666666666666666,
              "#ed7953"
             ],
             [
              0.7777777777777778,
              "#fb9f3a"
             ],
             [
              0.8888888888888888,
              "#fdca26"
             ],
             [
              1,
              "#f0f921"
             ]
            ],
            "type": "histogram2dcontour"
           }
          ],
          "mesh3d": [
           {
            "colorbar": {
             "outlinewidth": 0,
             "ticks": ""
            },
            "type": "mesh3d"
           }
          ],
          "parcoords": [
           {
            "line": {
             "colorbar": {
              "outlinewidth": 0,
              "ticks": ""
             }
            },
            "type": "parcoords"
           }
          ],
          "pie": [
           {
            "automargin": true,
            "type": "pie"
           }
          ],
          "scatter": [
           {
            "fillpattern": {
             "fillmode": "overlay",
             "size": 10,
             "solidity": 0.2
            },
            "type": "scatter"
           }
          ],
          "scatter3d": [
           {
            "line": {
             "colorbar": {
              "outlinewidth": 0,
              "ticks": ""
             }
            },
            "marker": {
             "colorbar": {
              "outlinewidth": 0,
              "ticks": ""
             }
            },
            "type": "scatter3d"
           }
          ],
          "scattercarpet": [
           {
            "marker": {
             "colorbar": {
              "outlinewidth": 0,
              "ticks": ""
             }
            },
            "type": "scattercarpet"
           }
          ],
          "scattergeo": [
           {
            "marker": {
             "colorbar": {
              "outlinewidth": 0,
              "ticks": ""
             }
            },
            "type": "scattergeo"
           }
          ],
          "scattergl": [
           {
            "marker": {
             "colorbar": {
              "outlinewidth": 0,
              "ticks": ""
             }
            },
            "type": "scattergl"
           }
          ],
          "scattermap": [
           {
            "marker": {
             "colorbar": {
              "outlinewidth": 0,
              "ticks": ""
             }
            },
            "type": "scattermap"
           }
          ],
          "scattermapbox": [
           {
            "marker": {
             "colorbar": {
              "outlinewidth": 0,
              "ticks": ""
             }
            },
            "type": "scattermapbox"
           }
          ],
          "scatterpolar": [
           {
            "marker": {
             "colorbar": {
              "outlinewidth": 0,
              "ticks": ""
             }
            },
            "type": "scatterpolar"
           }
          ],
          "scatterpolargl": [
           {
            "marker": {
             "colorbar": {
              "outlinewidth": 0,
              "ticks": ""
             }
            },
            "type": "scatterpolargl"
           }
          ],
          "scatterternary": [
           {
            "marker": {
             "colorbar": {
              "outlinewidth": 0,
              "ticks": ""
             }
            },
            "type": "scatterternary"
           }
          ],
          "surface": [
           {
            "colorbar": {
             "outlinewidth": 0,
             "ticks": ""
            },
            "colorscale": [
             [
              0,
              "#0d0887"
             ],
             [
              0.1111111111111111,
              "#46039f"
             ],
             [
              0.2222222222222222,
              "#7201a8"
             ],
             [
              0.3333333333333333,
              "#9c179e"
             ],
             [
              0.4444444444444444,
              "#bd3786"
             ],
             [
              0.5555555555555556,
              "#d8576b"
             ],
             [
              0.6666666666666666,
              "#ed7953"
             ],
             [
              0.7777777777777778,
              "#fb9f3a"
             ],
             [
              0.8888888888888888,
              "#fdca26"
             ],
             [
              1,
              "#f0f921"
             ]
            ],
            "type": "surface"
           }
          ],
          "table": [
           {
            "cells": {
             "fill": {
              "color": "#EBF0F8"
             },
             "line": {
              "color": "white"
             }
            },
            "header": {
             "fill": {
              "color": "#C8D4E3"
             },
             "line": {
              "color": "white"
             }
            },
            "type": "table"
           }
          ]
         },
         "layout": {
          "annotationdefaults": {
           "arrowcolor": "#2a3f5f",
           "arrowhead": 0,
           "arrowwidth": 1
          },
          "autotypenumbers": "strict",
          "coloraxis": {
           "colorbar": {
            "outlinewidth": 0,
            "ticks": ""
           }
          },
          "colorscale": {
           "diverging": [
            [
             0,
             "#8e0152"
            ],
            [
             0.1,
             "#c51b7d"
            ],
            [
             0.2,
             "#de77ae"
            ],
            [
             0.3,
             "#f1b6da"
            ],
            [
             0.4,
             "#fde0ef"
            ],
            [
             0.5,
             "#f7f7f7"
            ],
            [
             0.6,
             "#e6f5d0"
            ],
            [
             0.7,
             "#b8e186"
            ],
            [
             0.8,
             "#7fbc41"
            ],
            [
             0.9,
             "#4d9221"
            ],
            [
             1,
             "#276419"
            ]
           ],
           "sequential": [
            [
             0,
             "#0d0887"
            ],
            [
             0.1111111111111111,
             "#46039f"
            ],
            [
             0.2222222222222222,
             "#7201a8"
            ],
            [
             0.3333333333333333,
             "#9c179e"
            ],
            [
             0.4444444444444444,
             "#bd3786"
            ],
            [
             0.5555555555555556,
             "#d8576b"
            ],
            [
             0.6666666666666666,
             "#ed7953"
            ],
            [
             0.7777777777777778,
             "#fb9f3a"
            ],
            [
             0.8888888888888888,
             "#fdca26"
            ],
            [
             1,
             "#f0f921"
            ]
           ],
           "sequentialminus": [
            [
             0,
             "#0d0887"
            ],
            [
             0.1111111111111111,
             "#46039f"
            ],
            [
             0.2222222222222222,
             "#7201a8"
            ],
            [
             0.3333333333333333,
             "#9c179e"
            ],
            [
             0.4444444444444444,
             "#bd3786"
            ],
            [
             0.5555555555555556,
             "#d8576b"
            ],
            [
             0.6666666666666666,
             "#ed7953"
            ],
            [
             0.7777777777777778,
             "#fb9f3a"
            ],
            [
             0.8888888888888888,
             "#fdca26"
            ],
            [
             1,
             "#f0f921"
            ]
           ]
          },
          "colorway": [
           "#636efa",
           "#EF553B",
           "#00cc96",
           "#ab63fa",
           "#FFA15A",
           "#19d3f3",
           "#FF6692",
           "#B6E880",
           "#FF97FF",
           "#FECB52"
          ],
          "font": {
           "color": "#2a3f5f"
          },
          "geo": {
           "bgcolor": "white",
           "lakecolor": "white",
           "landcolor": "#E5ECF6",
           "showlakes": true,
           "showland": true,
           "subunitcolor": "white"
          },
          "hoverlabel": {
           "align": "left"
          },
          "hovermode": "closest",
          "mapbox": {
           "style": "light"
          },
          "paper_bgcolor": "white",
          "plot_bgcolor": "#E5ECF6",
          "polar": {
           "angularaxis": {
            "gridcolor": "white",
            "linecolor": "white",
            "ticks": ""
           },
           "bgcolor": "#E5ECF6",
           "radialaxis": {
            "gridcolor": "white",
            "linecolor": "white",
            "ticks": ""
           }
          },
          "scene": {
           "xaxis": {
            "backgroundcolor": "#E5ECF6",
            "gridcolor": "white",
            "gridwidth": 2,
            "linecolor": "white",
            "showbackground": true,
            "ticks": "",
            "zerolinecolor": "white"
           },
           "yaxis": {
            "backgroundcolor": "#E5ECF6",
            "gridcolor": "white",
            "gridwidth": 2,
            "linecolor": "white",
            "showbackground": true,
            "ticks": "",
            "zerolinecolor": "white"
           },
           "zaxis": {
            "backgroundcolor": "#E5ECF6",
            "gridcolor": "white",
            "gridwidth": 2,
            "linecolor": "white",
            "showbackground": true,
            "ticks": "",
            "zerolinecolor": "white"
           }
          },
          "shapedefaults": {
           "line": {
            "color": "#2a3f5f"
           }
          },
          "ternary": {
           "aaxis": {
            "gridcolor": "white",
            "linecolor": "white",
            "ticks": ""
           },
           "baxis": {
            "gridcolor": "white",
            "linecolor": "white",
            "ticks": ""
           },
           "bgcolor": "#E5ECF6",
           "caxis": {
            "gridcolor": "white",
            "linecolor": "white",
            "ticks": ""
           }
          },
          "title": {
           "x": 0.05
          },
          "xaxis": {
           "automargin": true,
           "gridcolor": "white",
           "linecolor": "white",
           "ticks": "",
           "title": {
            "standoff": 15
           },
           "zerolinecolor": "white",
           "zerolinewidth": 2
          },
          "yaxis": {
           "automargin": true,
           "gridcolor": "white",
           "linecolor": "white",
           "ticks": "",
           "title": {
            "standoff": 15
           },
           "zerolinecolor": "white",
           "zerolinewidth": 2
          }
         }
        },
        "width": 1280,
        "xaxis": {
         "anchor": "y",
         "domain": [
          0,
          1
         ],
         "title": {
          "text": "Average Outline Complexity (bits)"
         }
        },
        "yaxis": {
         "anchor": "x",
         "domain": [
          0,
          1
         ],
         "title": {
          "text": "Reconstruction Error (probability)"
         }
        }
       }
      }
     },
     "metadata": {},
     "output_type": "display_data"
    }
   ],
   "source": [
    "import plotly.express as px\n",
    "df = pd.DataFrame([{\"type\":type[0] + \"<br>\" + type[1], \"mid_bit\":(ave_bit_conf[type][1]+ave_bit_conf[type][0])/2, \"bit_width\":(ave_bit_conf[type][1]-ave_bit_conf[type][0])/2, \"mid_error\":(error_rate[type][1]+error_rate[type][0])/2, \"error_width\":(error_rate[type][1]-error_rate[type][0])/2,} for type in ave_bit_conf])\n",
    "\n",
    "fig = px.scatter(df, x=\"mid_bit\", y=\"mid_error\", text=\"type\",\n",
    "                 error_x=\"bit_width\", error_y=\"error_width\")\n",
    "\n",
    "fig.update_layout(width=1280, height=1024,\n",
    "                  xaxis_title=\"Average Outline Complexity (bits)\",\n",
    "                  yaxis_title=\"Reconstruction Error (probability)\")\n",
    "fig.show()"
   ]
  },
  {
   "cell_type": "code",
   "execution_count": 69,
   "metadata": {},
   "outputs": [
    {
     "data": {
      "application/vnd.plotly.v1+json": {
       "config": {
        "plotlyServerURL": "https://plot.ly"
       },
       "data": [
        {
         "hovertemplate": "mid_bit=%{x}<br>mid_error=%{y}<br>type=%{text}<extra></extra>",
         "legendgroup": "",
         "marker": {
          "color": "#636efa",
          "symbol": "circle"
         },
         "mode": "markers+text",
         "name": "",
         "orientation": "v",
         "showlegend": false,
         "text": [
          "merged consonants<br>lateral vowels",
          "full consonants<br>schwa suppressed vowels",
          "full consonants<br>full vowels",
          "full consonants<br>flattened lateral vowels",
          "merged consonants<br>no vowels",
          "merged consonants<br>short suppressed vowels",
          "full consonants<br>long vowels",
          "full plosives, merged frictives<br>full vowels",
          "full plosives, merged frictives<br>short suppressed vowels",
          "full plosives, merged frictives<br>schwa suppressed vowels",
          "full plosives, merged frictives<br>no vowels",
          "merged consonants<br>flattened lateral vowels",
          "merged consonants<br>schwa suppressed vowels",
          "full plosives, merged frictives<br>long vowels",
          "full consonants<br>lateral vowels",
          "full plosives, merged frictives<br>flattened lateral vowels",
          "merged consonants<br>long vowels",
          "full plosives, merged frictives<br>lateral vowels",
          "full consonants<br>no vowels",
          "merged consonants<br>full vowels",
          "full consonants<br>short suppressed vowels"
         ],
         "type": "scatter",
         "x": {
          "bdata": "JVAiJF8bMUBwtJrPry4zQDHBP6Il+TJA91Rx0XXUMUCqgb1jamAvQAkIsKjKMTFAY4WntMzJMkCkCIMjm9YxQHKjeQlPkzJAqqpNNQu4MUAu09HTI+gwQNCqrSWE7S5AYgB4r6IXMUDU0rUrD2YyQG9eIlqxITNA5FBWKsJwMUBjXB5kSskwQHqRrcWucDJAOGRavYYJMkAxPFcGZWkxQE8wKx81bjJA",
          "dtype": "f8"
         },
         "xaxis": "x",
         "y": {
          "bdata": "ErkAZNOoxj9X9Ja+Ga+TP5VX3D3rkKA/M8OmXKj2sz821WauvBDUP/ByMyteabo/NO3y81o8tT8P+LeJ3kinPyDlnQLN+bA/dzZH3xgfnD94CWxH9rHCP0ra29DEUcc/AhLiau4HsT/cVv8Fxia/P08X40cim7Y/lO17GpOlvz/jeiu1FUO+P+qKwfxK2K4/yL+8jDDlyD8izG9K84OwP6xPe0llXbI/",
          "dtype": "f8"
         },
         "yaxis": "y"
        }
       ],
       "layout": {
        "height": 1024,
        "legend": {
         "tracegroupgap": 0
        },
        "margin": {
         "t": 60
        },
        "template": {
         "data": {
          "bar": [
           {
            "error_x": {
             "color": "#2a3f5f"
            },
            "error_y": {
             "color": "#2a3f5f"
            },
            "marker": {
             "line": {
              "color": "#E5ECF6",
              "width": 0.5
             },
             "pattern": {
              "fillmode": "overlay",
              "size": 10,
              "solidity": 0.2
             }
            },
            "type": "bar"
           }
          ],
          "barpolar": [
           {
            "marker": {
             "line": {
              "color": "#E5ECF6",
              "width": 0.5
             },
             "pattern": {
              "fillmode": "overlay",
              "size": 10,
              "solidity": 0.2
             }
            },
            "type": "barpolar"
           }
          ],
          "carpet": [
           {
            "aaxis": {
             "endlinecolor": "#2a3f5f",
             "gridcolor": "white",
             "linecolor": "white",
             "minorgridcolor": "white",
             "startlinecolor": "#2a3f5f"
            },
            "baxis": {
             "endlinecolor": "#2a3f5f",
             "gridcolor": "white",
             "linecolor": "white",
             "minorgridcolor": "white",
             "startlinecolor": "#2a3f5f"
            },
            "type": "carpet"
           }
          ],
          "choropleth": [
           {
            "colorbar": {
             "outlinewidth": 0,
             "ticks": ""
            },
            "type": "choropleth"
           }
          ],
          "contour": [
           {
            "colorbar": {
             "outlinewidth": 0,
             "ticks": ""
            },
            "colorscale": [
             [
              0,
              "#0d0887"
             ],
             [
              0.1111111111111111,
              "#46039f"
             ],
             [
              0.2222222222222222,
              "#7201a8"
             ],
             [
              0.3333333333333333,
              "#9c179e"
             ],
             [
              0.4444444444444444,
              "#bd3786"
             ],
             [
              0.5555555555555556,
              "#d8576b"
             ],
             [
              0.6666666666666666,
              "#ed7953"
             ],
             [
              0.7777777777777778,
              "#fb9f3a"
             ],
             [
              0.8888888888888888,
              "#fdca26"
             ],
             [
              1,
              "#f0f921"
             ]
            ],
            "type": "contour"
           }
          ],
          "contourcarpet": [
           {
            "colorbar": {
             "outlinewidth": 0,
             "ticks": ""
            },
            "type": "contourcarpet"
           }
          ],
          "heatmap": [
           {
            "colorbar": {
             "outlinewidth": 0,
             "ticks": ""
            },
            "colorscale": [
             [
              0,
              "#0d0887"
             ],
             [
              0.1111111111111111,
              "#46039f"
             ],
             [
              0.2222222222222222,
              "#7201a8"
             ],
             [
              0.3333333333333333,
              "#9c179e"
             ],
             [
              0.4444444444444444,
              "#bd3786"
             ],
             [
              0.5555555555555556,
              "#d8576b"
             ],
             [
              0.6666666666666666,
              "#ed7953"
             ],
             [
              0.7777777777777778,
              "#fb9f3a"
             ],
             [
              0.8888888888888888,
              "#fdca26"
             ],
             [
              1,
              "#f0f921"
             ]
            ],
            "type": "heatmap"
           }
          ],
          "histogram": [
           {
            "marker": {
             "pattern": {
              "fillmode": "overlay",
              "size": 10,
              "solidity": 0.2
             }
            },
            "type": "histogram"
           }
          ],
          "histogram2d": [
           {
            "colorbar": {
             "outlinewidth": 0,
             "ticks": ""
            },
            "colorscale": [
             [
              0,
              "#0d0887"
             ],
             [
              0.1111111111111111,
              "#46039f"
             ],
             [
              0.2222222222222222,
              "#7201a8"
             ],
             [
              0.3333333333333333,
              "#9c179e"
             ],
             [
              0.4444444444444444,
              "#bd3786"
             ],
             [
              0.5555555555555556,
              "#d8576b"
             ],
             [
              0.6666666666666666,
              "#ed7953"
             ],
             [
              0.7777777777777778,
              "#fb9f3a"
             ],
             [
              0.8888888888888888,
              "#fdca26"
             ],
             [
              1,
              "#f0f921"
             ]
            ],
            "type": "histogram2d"
           }
          ],
          "histogram2dcontour": [
           {
            "colorbar": {
             "outlinewidth": 0,
             "ticks": ""
            },
            "colorscale": [
             [
              0,
              "#0d0887"
             ],
             [
              0.1111111111111111,
              "#46039f"
             ],
             [
              0.2222222222222222,
              "#7201a8"
             ],
             [
              0.3333333333333333,
              "#9c179e"
             ],
             [
              0.4444444444444444,
              "#bd3786"
             ],
             [
              0.5555555555555556,
              "#d8576b"
             ],
             [
              0.6666666666666666,
              "#ed7953"
             ],
             [
              0.7777777777777778,
              "#fb9f3a"
             ],
             [
              0.8888888888888888,
              "#fdca26"
             ],
             [
              1,
              "#f0f921"
             ]
            ],
            "type": "histogram2dcontour"
           }
          ],
          "mesh3d": [
           {
            "colorbar": {
             "outlinewidth": 0,
             "ticks": ""
            },
            "type": "mesh3d"
           }
          ],
          "parcoords": [
           {
            "line": {
             "colorbar": {
              "outlinewidth": 0,
              "ticks": ""
             }
            },
            "type": "parcoords"
           }
          ],
          "pie": [
           {
            "automargin": true,
            "type": "pie"
           }
          ],
          "scatter": [
           {
            "fillpattern": {
             "fillmode": "overlay",
             "size": 10,
             "solidity": 0.2
            },
            "type": "scatter"
           }
          ],
          "scatter3d": [
           {
            "line": {
             "colorbar": {
              "outlinewidth": 0,
              "ticks": ""
             }
            },
            "marker": {
             "colorbar": {
              "outlinewidth": 0,
              "ticks": ""
             }
            },
            "type": "scatter3d"
           }
          ],
          "scattercarpet": [
           {
            "marker": {
             "colorbar": {
              "outlinewidth": 0,
              "ticks": ""
             }
            },
            "type": "scattercarpet"
           }
          ],
          "scattergeo": [
           {
            "marker": {
             "colorbar": {
              "outlinewidth": 0,
              "ticks": ""
             }
            },
            "type": "scattergeo"
           }
          ],
          "scattergl": [
           {
            "marker": {
             "colorbar": {
              "outlinewidth": 0,
              "ticks": ""
             }
            },
            "type": "scattergl"
           }
          ],
          "scattermap": [
           {
            "marker": {
             "colorbar": {
              "outlinewidth": 0,
              "ticks": ""
             }
            },
            "type": "scattermap"
           }
          ],
          "scattermapbox": [
           {
            "marker": {
             "colorbar": {
              "outlinewidth": 0,
              "ticks": ""
             }
            },
            "type": "scattermapbox"
           }
          ],
          "scatterpolar": [
           {
            "marker": {
             "colorbar": {
              "outlinewidth": 0,
              "ticks": ""
             }
            },
            "type": "scatterpolar"
           }
          ],
          "scatterpolargl": [
           {
            "marker": {
             "colorbar": {
              "outlinewidth": 0,
              "ticks": ""
             }
            },
            "type": "scatterpolargl"
           }
          ],
          "scatterternary": [
           {
            "marker": {
             "colorbar": {
              "outlinewidth": 0,
              "ticks": ""
             }
            },
            "type": "scatterternary"
           }
          ],
          "surface": [
           {
            "colorbar": {
             "outlinewidth": 0,
             "ticks": ""
            },
            "colorscale": [
             [
              0,
              "#0d0887"
             ],
             [
              0.1111111111111111,
              "#46039f"
             ],
             [
              0.2222222222222222,
              "#7201a8"
             ],
             [
              0.3333333333333333,
              "#9c179e"
             ],
             [
              0.4444444444444444,
              "#bd3786"
             ],
             [
              0.5555555555555556,
              "#d8576b"
             ],
             [
              0.6666666666666666,
              "#ed7953"
             ],
             [
              0.7777777777777778,
              "#fb9f3a"
             ],
             [
              0.8888888888888888,
              "#fdca26"
             ],
             [
              1,
              "#f0f921"
             ]
            ],
            "type": "surface"
           }
          ],
          "table": [
           {
            "cells": {
             "fill": {
              "color": "#EBF0F8"
             },
             "line": {
              "color": "white"
             }
            },
            "header": {
             "fill": {
              "color": "#C8D4E3"
             },
             "line": {
              "color": "white"
             }
            },
            "type": "table"
           }
          ]
         },
         "layout": {
          "annotationdefaults": {
           "arrowcolor": "#2a3f5f",
           "arrowhead": 0,
           "arrowwidth": 1
          },
          "autotypenumbers": "strict",
          "coloraxis": {
           "colorbar": {
            "outlinewidth": 0,
            "ticks": ""
           }
          },
          "colorscale": {
           "diverging": [
            [
             0,
             "#8e0152"
            ],
            [
             0.1,
             "#c51b7d"
            ],
            [
             0.2,
             "#de77ae"
            ],
            [
             0.3,
             "#f1b6da"
            ],
            [
             0.4,
             "#fde0ef"
            ],
            [
             0.5,
             "#f7f7f7"
            ],
            [
             0.6,
             "#e6f5d0"
            ],
            [
             0.7,
             "#b8e186"
            ],
            [
             0.8,
             "#7fbc41"
            ],
            [
             0.9,
             "#4d9221"
            ],
            [
             1,
             "#276419"
            ]
           ],
           "sequential": [
            [
             0,
             "#0d0887"
            ],
            [
             0.1111111111111111,
             "#46039f"
            ],
            [
             0.2222222222222222,
             "#7201a8"
            ],
            [
             0.3333333333333333,
             "#9c179e"
            ],
            [
             0.4444444444444444,
             "#bd3786"
            ],
            [
             0.5555555555555556,
             "#d8576b"
            ],
            [
             0.6666666666666666,
             "#ed7953"
            ],
            [
             0.7777777777777778,
             "#fb9f3a"
            ],
            [
             0.8888888888888888,
             "#fdca26"
            ],
            [
             1,
             "#f0f921"
            ]
           ],
           "sequentialminus": [
            [
             0,
             "#0d0887"
            ],
            [
             0.1111111111111111,
             "#46039f"
            ],
            [
             0.2222222222222222,
             "#7201a8"
            ],
            [
             0.3333333333333333,
             "#9c179e"
            ],
            [
             0.4444444444444444,
             "#bd3786"
            ],
            [
             0.5555555555555556,
             "#d8576b"
            ],
            [
             0.6666666666666666,
             "#ed7953"
            ],
            [
             0.7777777777777778,
             "#fb9f3a"
            ],
            [
             0.8888888888888888,
             "#fdca26"
            ],
            [
             1,
             "#f0f921"
            ]
           ]
          },
          "colorway": [
           "#636efa",
           "#EF553B",
           "#00cc96",
           "#ab63fa",
           "#FFA15A",
           "#19d3f3",
           "#FF6692",
           "#B6E880",
           "#FF97FF",
           "#FECB52"
          ],
          "font": {
           "color": "#2a3f5f"
          },
          "geo": {
           "bgcolor": "white",
           "lakecolor": "white",
           "landcolor": "#E5ECF6",
           "showlakes": true,
           "showland": true,
           "subunitcolor": "white"
          },
          "hoverlabel": {
           "align": "left"
          },
          "hovermode": "closest",
          "mapbox": {
           "style": "light"
          },
          "paper_bgcolor": "white",
          "plot_bgcolor": "#E5ECF6",
          "polar": {
           "angularaxis": {
            "gridcolor": "white",
            "linecolor": "white",
            "ticks": ""
           },
           "bgcolor": "#E5ECF6",
           "radialaxis": {
            "gridcolor": "white",
            "linecolor": "white",
            "ticks": ""
           }
          },
          "scene": {
           "xaxis": {
            "backgroundcolor": "#E5ECF6",
            "gridcolor": "white",
            "gridwidth": 2,
            "linecolor": "white",
            "showbackground": true,
            "ticks": "",
            "zerolinecolor": "white"
           },
           "yaxis": {
            "backgroundcolor": "#E5ECF6",
            "gridcolor": "white",
            "gridwidth": 2,
            "linecolor": "white",
            "showbackground": true,
            "ticks": "",
            "zerolinecolor": "white"
           },
           "zaxis": {
            "backgroundcolor": "#E5ECF6",
            "gridcolor": "white",
            "gridwidth": 2,
            "linecolor": "white",
            "showbackground": true,
            "ticks": "",
            "zerolinecolor": "white"
           }
          },
          "shapedefaults": {
           "line": {
            "color": "#2a3f5f"
           }
          },
          "ternary": {
           "aaxis": {
            "gridcolor": "white",
            "linecolor": "white",
            "ticks": ""
           },
           "baxis": {
            "gridcolor": "white",
            "linecolor": "white",
            "ticks": ""
           },
           "bgcolor": "#E5ECF6",
           "caxis": {
            "gridcolor": "white",
            "linecolor": "white",
            "ticks": ""
           }
          },
          "title": {
           "x": 0.05
          },
          "xaxis": {
           "automargin": true,
           "gridcolor": "white",
           "linecolor": "white",
           "ticks": "",
           "title": {
            "standoff": 15
           },
           "zerolinecolor": "white",
           "zerolinewidth": 2
          },
          "yaxis": {
           "automargin": true,
           "gridcolor": "white",
           "linecolor": "white",
           "ticks": "",
           "title": {
            "standoff": 15
           },
           "zerolinecolor": "white",
           "zerolinewidth": 2
          }
         }
        },
        "width": 1280,
        "xaxis": {
         "anchor": "y",
         "domain": [
          0,
          1
         ],
         "title": {
          "text": "Average Outline Complexity (bits)"
         }
        },
        "yaxis": {
         "anchor": "x",
         "domain": [
          0,
          1
         ],
         "title": {
          "text": "Reconstruction Error (probability)"
         }
        }
       }
      }
     },
     "metadata": {},
     "output_type": "display_data"
    }
   ],
   "source": [
    "import plotly.express as px\n",
    "df = pd.DataFrame([{\"type\":type[0] + \"<br>\" + type[1], \"mid_bit\":(ave_bit_conf[type][1]+ave_bit_conf[type][0])/2, \"bit_width\":(ave_bit_conf[type][1]-ave_bit_conf[type][0])/2, \"mid_error\":(error_rate[type][1]+error_rate[type][0])/2, \"error_width\":(error_rate[type][1]-error_rate[type][0])/2,} for type in ave_bit_conf])\n",
    "\n",
    "fig = px.scatter(df, x=\"mid_bit\", y=\"mid_error\", text=\"type\")\n",
    "\n",
    "fig.update_layout(width=1280, height=1024,\n",
    "                  xaxis_title=\"Average Outline Complexity (bits)\",\n",
    "                  yaxis_title=\"Reconstruction Error (probability)\")\n",
    "fig.show()"
   ]
  },
  {
   "cell_type": "code",
   "execution_count": 70,
   "metadata": {},
   "outputs": [
    {
     "data": {
      "application/vnd.plotly.v1+json": {
       "config": {
        "plotlyServerURL": "https://plot.ly"
       },
       "data": [
        {
         "error_x": {
          "array": {
           "bdata": "YJBIJL9S6j8g/J6ZILPmP+A8r82byOQ/gCVeFePD6D8=",
           "dtype": "f8"
          }
         },
         "error_y": {
          "array": {
           "bdata": "NojPTueyjz8Eq91spTarP4uUfx973Zk/foueft90pz8=",
           "dtype": "f8"
          }
         },
         "hovertemplate": "mid_bit=%{x}<br>mid_error=%{y}<br>type=%{text}<extra></extra>",
         "legendgroup": "",
         "marker": {
          "color": "#636efa",
          "symbol": "circle"
         },
         "mode": "markers+text",
         "name": "",
         "orientation": "v",
         "showlegend": false,
         "text": [
          "full consonants<br>schwa suppressed vowels",
          "merged consonants<br>no vowels",
          "merged consonants<br>schwa suppressed vowels",
          "full consonants<br>no vowels"
         ],
         "type": "scatter",
         "x": {
          "bdata": "cLSaz68uM0Cqgb1jamAvQGIAeK+iFzFAOGRavYYJMkA=",
          "dtype": "f8"
         },
         "xaxis": "x",
         "y": {
          "bdata": "V/SWvhmvkz821WauvBDUPwIS4mruB7E/yL+8jDDlyD8=",
          "dtype": "f8"
         },
         "yaxis": "y"
        }
       ],
       "layout": {
        "height": 1024,
        "legend": {
         "tracegroupgap": 0
        },
        "margin": {
         "t": 60
        },
        "template": {
         "data": {
          "bar": [
           {
            "error_x": {
             "color": "#2a3f5f"
            },
            "error_y": {
             "color": "#2a3f5f"
            },
            "marker": {
             "line": {
              "color": "#E5ECF6",
              "width": 0.5
             },
             "pattern": {
              "fillmode": "overlay",
              "size": 10,
              "solidity": 0.2
             }
            },
            "type": "bar"
           }
          ],
          "barpolar": [
           {
            "marker": {
             "line": {
              "color": "#E5ECF6",
              "width": 0.5
             },
             "pattern": {
              "fillmode": "overlay",
              "size": 10,
              "solidity": 0.2
             }
            },
            "type": "barpolar"
           }
          ],
          "carpet": [
           {
            "aaxis": {
             "endlinecolor": "#2a3f5f",
             "gridcolor": "white",
             "linecolor": "white",
             "minorgridcolor": "white",
             "startlinecolor": "#2a3f5f"
            },
            "baxis": {
             "endlinecolor": "#2a3f5f",
             "gridcolor": "white",
             "linecolor": "white",
             "minorgridcolor": "white",
             "startlinecolor": "#2a3f5f"
            },
            "type": "carpet"
           }
          ],
          "choropleth": [
           {
            "colorbar": {
             "outlinewidth": 0,
             "ticks": ""
            },
            "type": "choropleth"
           }
          ],
          "contour": [
           {
            "colorbar": {
             "outlinewidth": 0,
             "ticks": ""
            },
            "colorscale": [
             [
              0,
              "#0d0887"
             ],
             [
              0.1111111111111111,
              "#46039f"
             ],
             [
              0.2222222222222222,
              "#7201a8"
             ],
             [
              0.3333333333333333,
              "#9c179e"
             ],
             [
              0.4444444444444444,
              "#bd3786"
             ],
             [
              0.5555555555555556,
              "#d8576b"
             ],
             [
              0.6666666666666666,
              "#ed7953"
             ],
             [
              0.7777777777777778,
              "#fb9f3a"
             ],
             [
              0.8888888888888888,
              "#fdca26"
             ],
             [
              1,
              "#f0f921"
             ]
            ],
            "type": "contour"
           }
          ],
          "contourcarpet": [
           {
            "colorbar": {
             "outlinewidth": 0,
             "ticks": ""
            },
            "type": "contourcarpet"
           }
          ],
          "heatmap": [
           {
            "colorbar": {
             "outlinewidth": 0,
             "ticks": ""
            },
            "colorscale": [
             [
              0,
              "#0d0887"
             ],
             [
              0.1111111111111111,
              "#46039f"
             ],
             [
              0.2222222222222222,
              "#7201a8"
             ],
             [
              0.3333333333333333,
              "#9c179e"
             ],
             [
              0.4444444444444444,
              "#bd3786"
             ],
             [
              0.5555555555555556,
              "#d8576b"
             ],
             [
              0.6666666666666666,
              "#ed7953"
             ],
             [
              0.7777777777777778,
              "#fb9f3a"
             ],
             [
              0.8888888888888888,
              "#fdca26"
             ],
             [
              1,
              "#f0f921"
             ]
            ],
            "type": "heatmap"
           }
          ],
          "histogram": [
           {
            "marker": {
             "pattern": {
              "fillmode": "overlay",
              "size": 10,
              "solidity": 0.2
             }
            },
            "type": "histogram"
           }
          ],
          "histogram2d": [
           {
            "colorbar": {
             "outlinewidth": 0,
             "ticks": ""
            },
            "colorscale": [
             [
              0,
              "#0d0887"
             ],
             [
              0.1111111111111111,
              "#46039f"
             ],
             [
              0.2222222222222222,
              "#7201a8"
             ],
             [
              0.3333333333333333,
              "#9c179e"
             ],
             [
              0.4444444444444444,
              "#bd3786"
             ],
             [
              0.5555555555555556,
              "#d8576b"
             ],
             [
              0.6666666666666666,
              "#ed7953"
             ],
             [
              0.7777777777777778,
              "#fb9f3a"
             ],
             [
              0.8888888888888888,
              "#fdca26"
             ],
             [
              1,
              "#f0f921"
             ]
            ],
            "type": "histogram2d"
           }
          ],
          "histogram2dcontour": [
           {
            "colorbar": {
             "outlinewidth": 0,
             "ticks": ""
            },
            "colorscale": [
             [
              0,
              "#0d0887"
             ],
             [
              0.1111111111111111,
              "#46039f"
             ],
             [
              0.2222222222222222,
              "#7201a8"
             ],
             [
              0.3333333333333333,
              "#9c179e"
             ],
             [
              0.4444444444444444,
              "#bd3786"
             ],
             [
              0.5555555555555556,
              "#d8576b"
             ],
             [
              0.6666666666666666,
              "#ed7953"
             ],
             [
              0.7777777777777778,
              "#fb9f3a"
             ],
             [
              0.8888888888888888,
              "#fdca26"
             ],
             [
              1,
              "#f0f921"
             ]
            ],
            "type": "histogram2dcontour"
           }
          ],
          "mesh3d": [
           {
            "colorbar": {
             "outlinewidth": 0,
             "ticks": ""
            },
            "type": "mesh3d"
           }
          ],
          "parcoords": [
           {
            "line": {
             "colorbar": {
              "outlinewidth": 0,
              "ticks": ""
             }
            },
            "type": "parcoords"
           }
          ],
          "pie": [
           {
            "automargin": true,
            "type": "pie"
           }
          ],
          "scatter": [
           {
            "fillpattern": {
             "fillmode": "overlay",
             "size": 10,
             "solidity": 0.2
            },
            "type": "scatter"
           }
          ],
          "scatter3d": [
           {
            "line": {
             "colorbar": {
              "outlinewidth": 0,
              "ticks": ""
             }
            },
            "marker": {
             "colorbar": {
              "outlinewidth": 0,
              "ticks": ""
             }
            },
            "type": "scatter3d"
           }
          ],
          "scattercarpet": [
           {
            "marker": {
             "colorbar": {
              "outlinewidth": 0,
              "ticks": ""
             }
            },
            "type": "scattercarpet"
           }
          ],
          "scattergeo": [
           {
            "marker": {
             "colorbar": {
              "outlinewidth": 0,
              "ticks": ""
             }
            },
            "type": "scattergeo"
           }
          ],
          "scattergl": [
           {
            "marker": {
             "colorbar": {
              "outlinewidth": 0,
              "ticks": ""
             }
            },
            "type": "scattergl"
           }
          ],
          "scattermap": [
           {
            "marker": {
             "colorbar": {
              "outlinewidth": 0,
              "ticks": ""
             }
            },
            "type": "scattermap"
           }
          ],
          "scattermapbox": [
           {
            "marker": {
             "colorbar": {
              "outlinewidth": 0,
              "ticks": ""
             }
            },
            "type": "scattermapbox"
           }
          ],
          "scatterpolar": [
           {
            "marker": {
             "colorbar": {
              "outlinewidth": 0,
              "ticks": ""
             }
            },
            "type": "scatterpolar"
           }
          ],
          "scatterpolargl": [
           {
            "marker": {
             "colorbar": {
              "outlinewidth": 0,
              "ticks": ""
             }
            },
            "type": "scatterpolargl"
           }
          ],
          "scatterternary": [
           {
            "marker": {
             "colorbar": {
              "outlinewidth": 0,
              "ticks": ""
             }
            },
            "type": "scatterternary"
           }
          ],
          "surface": [
           {
            "colorbar": {
             "outlinewidth": 0,
             "ticks": ""
            },
            "colorscale": [
             [
              0,
              "#0d0887"
             ],
             [
              0.1111111111111111,
              "#46039f"
             ],
             [
              0.2222222222222222,
              "#7201a8"
             ],
             [
              0.3333333333333333,
              "#9c179e"
             ],
             [
              0.4444444444444444,
              "#bd3786"
             ],
             [
              0.5555555555555556,
              "#d8576b"
             ],
             [
              0.6666666666666666,
              "#ed7953"
             ],
             [
              0.7777777777777778,
              "#fb9f3a"
             ],
             [
              0.8888888888888888,
              "#fdca26"
             ],
             [
              1,
              "#f0f921"
             ]
            ],
            "type": "surface"
           }
          ],
          "table": [
           {
            "cells": {
             "fill": {
              "color": "#EBF0F8"
             },
             "line": {
              "color": "white"
             }
            },
            "header": {
             "fill": {
              "color": "#C8D4E3"
             },
             "line": {
              "color": "white"
             }
            },
            "type": "table"
           }
          ]
         },
         "layout": {
          "annotationdefaults": {
           "arrowcolor": "#2a3f5f",
           "arrowhead": 0,
           "arrowwidth": 1
          },
          "autotypenumbers": "strict",
          "coloraxis": {
           "colorbar": {
            "outlinewidth": 0,
            "ticks": ""
           }
          },
          "colorscale": {
           "diverging": [
            [
             0,
             "#8e0152"
            ],
            [
             0.1,
             "#c51b7d"
            ],
            [
             0.2,
             "#de77ae"
            ],
            [
             0.3,
             "#f1b6da"
            ],
            [
             0.4,
             "#fde0ef"
            ],
            [
             0.5,
             "#f7f7f7"
            ],
            [
             0.6,
             "#e6f5d0"
            ],
            [
             0.7,
             "#b8e186"
            ],
            [
             0.8,
             "#7fbc41"
            ],
            [
             0.9,
             "#4d9221"
            ],
            [
             1,
             "#276419"
            ]
           ],
           "sequential": [
            [
             0,
             "#0d0887"
            ],
            [
             0.1111111111111111,
             "#46039f"
            ],
            [
             0.2222222222222222,
             "#7201a8"
            ],
            [
             0.3333333333333333,
             "#9c179e"
            ],
            [
             0.4444444444444444,
             "#bd3786"
            ],
            [
             0.5555555555555556,
             "#d8576b"
            ],
            [
             0.6666666666666666,
             "#ed7953"
            ],
            [
             0.7777777777777778,
             "#fb9f3a"
            ],
            [
             0.8888888888888888,
             "#fdca26"
            ],
            [
             1,
             "#f0f921"
            ]
           ],
           "sequentialminus": [
            [
             0,
             "#0d0887"
            ],
            [
             0.1111111111111111,
             "#46039f"
            ],
            [
             0.2222222222222222,
             "#7201a8"
            ],
            [
             0.3333333333333333,
             "#9c179e"
            ],
            [
             0.4444444444444444,
             "#bd3786"
            ],
            [
             0.5555555555555556,
             "#d8576b"
            ],
            [
             0.6666666666666666,
             "#ed7953"
            ],
            [
             0.7777777777777778,
             "#fb9f3a"
            ],
            [
             0.8888888888888888,
             "#fdca26"
            ],
            [
             1,
             "#f0f921"
            ]
           ]
          },
          "colorway": [
           "#636efa",
           "#EF553B",
           "#00cc96",
           "#ab63fa",
           "#FFA15A",
           "#19d3f3",
           "#FF6692",
           "#B6E880",
           "#FF97FF",
           "#FECB52"
          ],
          "font": {
           "color": "#2a3f5f"
          },
          "geo": {
           "bgcolor": "white",
           "lakecolor": "white",
           "landcolor": "#E5ECF6",
           "showlakes": true,
           "showland": true,
           "subunitcolor": "white"
          },
          "hoverlabel": {
           "align": "left"
          },
          "hovermode": "closest",
          "mapbox": {
           "style": "light"
          },
          "paper_bgcolor": "white",
          "plot_bgcolor": "#E5ECF6",
          "polar": {
           "angularaxis": {
            "gridcolor": "white",
            "linecolor": "white",
            "ticks": ""
           },
           "bgcolor": "#E5ECF6",
           "radialaxis": {
            "gridcolor": "white",
            "linecolor": "white",
            "ticks": ""
           }
          },
          "scene": {
           "xaxis": {
            "backgroundcolor": "#E5ECF6",
            "gridcolor": "white",
            "gridwidth": 2,
            "linecolor": "white",
            "showbackground": true,
            "ticks": "",
            "zerolinecolor": "white"
           },
           "yaxis": {
            "backgroundcolor": "#E5ECF6",
            "gridcolor": "white",
            "gridwidth": 2,
            "linecolor": "white",
            "showbackground": true,
            "ticks": "",
            "zerolinecolor": "white"
           },
           "zaxis": {
            "backgroundcolor": "#E5ECF6",
            "gridcolor": "white",
            "gridwidth": 2,
            "linecolor": "white",
            "showbackground": true,
            "ticks": "",
            "zerolinecolor": "white"
           }
          },
          "shapedefaults": {
           "line": {
            "color": "#2a3f5f"
           }
          },
          "ternary": {
           "aaxis": {
            "gridcolor": "white",
            "linecolor": "white",
            "ticks": ""
           },
           "baxis": {
            "gridcolor": "white",
            "linecolor": "white",
            "ticks": ""
           },
           "bgcolor": "#E5ECF6",
           "caxis": {
            "gridcolor": "white",
            "linecolor": "white",
            "ticks": ""
           }
          },
          "title": {
           "x": 0.05
          },
          "xaxis": {
           "automargin": true,
           "gridcolor": "white",
           "linecolor": "white",
           "ticks": "",
           "title": {
            "standoff": 15
           },
           "zerolinecolor": "white",
           "zerolinewidth": 2
          },
          "yaxis": {
           "automargin": true,
           "gridcolor": "white",
           "linecolor": "white",
           "ticks": "",
           "title": {
            "standoff": 15
           },
           "zerolinecolor": "white",
           "zerolinewidth": 2
          }
         }
        },
        "width": 1280,
        "xaxis": {
         "anchor": "y",
         "domain": [
          0,
          1
         ],
         "title": {
          "text": "Average Measured Outline Complexity (bits)"
         }
        },
        "yaxis": {
         "anchor": "x",
         "domain": [
          0,
          1
         ],
         "title": {
          "text": "Measured Human Contextual Reconstruction Error (probability)"
         }
        }
       }
      }
     },
     "metadata": {},
     "output_type": "display_data"
    }
   ],
   "source": [
    "sub_types = [('full consonants', 'schwa suppressed vowels'), ('merged consonants', 'no vowels'), ('merged consonants', 'schwa suppressed vowels'), ('full consonants', 'no vowels')]\n",
    "#sub_types = [('full consonants', 'schwa suppressed vowels'), ('full plosives, merged frictives', 'schwa suppressed vowels'), ('merged consonants', 'no vowels'), ('merged consonants', 'schwa suppressed vowels'), ('full consonants', 'no vowels'), ('full plosives, merged frictives', 'no vowels')]\n",
    "\n",
    "\n",
    "import plotly.express as px\n",
    "df = pd.DataFrame([{\"type\":type[0] + \"<br>\" + type[1], \"mid_bit\":(ave_bit_conf[type][1]+ave_bit_conf[type][0])/2, \"bit_width\":(ave_bit_conf[type][1]-ave_bit_conf[type][0])/2, \"mid_error\":(error_rate[type][1]+error_rate[type][0])/2, \"error_width\":(error_rate[type][1]-error_rate[type][0])/2,} for type in sub_types])\n",
    "\n",
    "fig = px.scatter(df, x=\"mid_bit\", y=\"mid_error\", text=\"type\",\n",
    "                 error_x=\"bit_width\", error_y=\"error_width\")\n",
    "\n",
    "fig.update_layout(width=1280, height=1024,\n",
    "                  xaxis_title=\"Average Measured Outline Complexity (bits)\",\n",
    "                  yaxis_title=\"Measured Human Contextual Reconstruction Error (probability)\")\n",
    "fig.show()"
   ]
  },
  {
   "cell_type": "code",
   "execution_count": 71,
   "metadata": {},
   "outputs": [],
   "source": [
    "fig.write_image(\"human_extremes.svg\")"
   ]
  },
  {
   "cell_type": "code",
   "execution_count": 72,
   "metadata": {},
   "outputs": [],
   "source": [
    "with open('folk_system_scores.json', 'r') as file:\n",
    "        computed_data = json.load(file)"
   ]
  },
  {
   "cell_type": "code",
   "execution_count": 73,
   "metadata": {},
   "outputs": [
    {
     "data": {
      "text/plain": [
       "[('FC,FV', 0.03285094362542118, 0.02575107296137339),\n",
       " ('FPMF,FV', 0.03711484616306682, 0.03968253968253968),\n",
       " ('MC,FV', 0.05103137885885156, 0.05829596412556054),\n",
       " ('FC,SSV', 0.025486654793430263, 0.0136986301369863),\n",
       " ('FPMF,SSV', 0.02965160691192459, 0.023054755043227664),\n",
       " ('MC,SSV', 0.04347157613251906, 0.06313131313131314),\n",
       " ('FC,ShSV', 0.06115825262531338, 0.06578947368421052),\n",
       " ('FPMF,ShSV', 0.0683186320679362, 0.056338028169014086),\n",
       " ('MC,ShSV', 0.09118930364096578, 0.09897610921501707),\n",
       " ('FC,LoV', 0.11686952963055652, 0.07886435331230283),\n",
       " ('FPMF,LoV', 0.1299224631398923, 0.11764705882352941),\n",
       " ('MC,LoV', 0.16594955358722174, 0.11304347826086956),\n",
       " ('FC,LV', 0.09893907275029679, 0.08363636363636363),\n",
       " ('FPMF,LV', 0.11178819725982148, 0.05339805825242718),\n",
       " ('MC,LV', 0.1440412259470797, 0.1722488038277512),\n",
       " ('FC,FLV', 0.17558104462061896, 0.07357859531772576),\n",
       " ('FPMF,FLV', 0.1929383807408963, 0.12023460410557185),\n",
       " ('MC,FLV', 0.22864838598536974, 0.17733990147783252),\n",
       " ('FC,NV', 0.2326170214317772, 0.19141914191419143),\n",
       " ('FPMF,NV', 0.25609698277538384, 0.1423728813559322),\n",
       " ('MC,NV', 0.3054790895300489, 0.3116883116883117)]"
      ]
     },
     "execution_count": 73,
     "metadata": {},
     "output_type": "execute_result"
    }
   ],
   "source": [
    "name_alignment = {\n",
    "    'FC,FV':('full consonants', 'full vowels'),\n",
    "    'FPMF,FV':('full plosives, merged frictives', 'full vowels'),\n",
    "    'MC,FV':('merged consonants', 'full vowels'),\n",
    "    'FC,SSV':('full consonants', 'schwa suppressed vowels'),\n",
    "    'FPMF,SSV':('full plosives, merged frictives', 'schwa suppressed vowels'),\n",
    "    'MC,SSV':('merged consonants', 'schwa suppressed vowels'),\n",
    "    'FC,ShSV':('full consonants', 'short suppressed vowels'),\n",
    "    'FPMF,ShSV':('full plosives, merged frictives', 'short suppressed vowels'),\n",
    "    'MC,ShSV':('merged consonants', 'short suppressed vowels'),\n",
    "    'FC,LoV':('full consonants', 'long vowels'),\n",
    "    'FPMF,LoV':('full plosives, merged frictives', 'long vowels'),\n",
    "    'MC,LoV':('merged consonants', 'long vowels'),\n",
    "    'FC,LV':('full consonants', 'lateral vowels'),\n",
    "    'FPMF,LV':('full plosives, merged frictives', 'lateral vowels'),\n",
    "    'MC,LV':('merged consonants', 'lateral vowels'),\n",
    "    'FC,FLV':('full consonants', 'flattened lateral vowels'),\n",
    "    'FPMF,FLV':('full plosives, merged frictives', 'flattened lateral vowels'),\n",
    "    'MC,FLV':('merged consonants', 'flattened lateral vowels'),\n",
    "    'FC,NV':('full consonants', 'no vowels'),\n",
    "    'FPMF,NV':('full plosives, merged frictives', 'no vowels'),\n",
    "    'MC,NV':('merged consonants', 'no vowels')}\n",
    "\n",
    "[(x[0],x[1]['reconstruction_error'],wrong[name_alignment[x[0]]]/(right[name_alignment[x[0]]]+wrong[name_alignment[x[0]]])) for x in computed_data]"
   ]
  },
  {
   "cell_type": "code",
   "execution_count": 74,
   "metadata": {},
   "outputs": [
    {
     "data": {
      "application/vnd.plotly.v1+json": {
       "config": {
        "plotlyServerURL": "https://plot.ly"
       },
       "data": [
        {
         "hovertemplate": "computed_error=%{x}<br>measured_error=%{y}<br>type=%{text}<extra></extra>",
         "legendgroup": "",
         "marker": {
          "color": "#636efa",
          "symbol": "circle"
         },
         "mode": "markers+text",
         "name": "",
         "orientation": "v",
         "showlegend": false,
         "text": [
          "FC,FV",
          "FPMF,FV",
          "MC,FV",
          "FC,SSV",
          "FPMF,SSV",
          "MC,SSV",
          "FC,ShSV",
          "FPMF,ShSV",
          "MC,ShSV",
          "FC,LoV",
          "FPMF,LoV",
          "MC,LoV",
          "FC,LV",
          "FPMF,LV",
          "MC,LV",
          "FC,FLV",
          "FPMF,FLV",
          "MC,FLV",
          "FC,NV",
          "FPMF,NV",
          "MC,NV"
         ],
         "type": "scatter",
         "x": {
          "bdata": "ACEHwdbRoD+g0e6UtwCjP9B/ie7IIKo/QPVJcywZmj8Anten/VyeP6DolgvoQaY/AP3PbSJQrz84cnByVH2xP8gJ4qQuWLc/OIKpVynrvT8gzhmdTKHAP4CxuMDVPcU/sFPCMRJUuT94Sk+7Jp68P0z2W2Hxb8I/sLY4jnB5xj+8cbZxNLLIP4SQC65ZRM0/1G3FAWXGzT+c+GeZ5GPQP7otySr4jNM/",
          "dtype": "f8"
         },
         "xaxis": "x",
         "y": {
          "bdata": "6vPSQH1emj8URVEURVGkP8ju0Pb32K0/4MCBAwcOjD+LObZrqpuXP3+lQK1fKbA/eQ3lNZTXsD8LmwOJVtisP0bwKZB/Vrk/Y+lLSnQwtD8eHh4eHh6+P88RKNpq8Lw/aRWTVjFptT9jaLqD/VarP1CPm7E/DMY/pEOT/AvWsj/IHnvssce+P3jDj+oSs8Y/ZccsJWyAyD8BaaFKRjnCP87KT4iz8tM/",
          "dtype": "f8"
         },
         "yaxis": "y"
        }
       ],
       "layout": {
        "height": 1024,
        "legend": {
         "tracegroupgap": 0
        },
        "margin": {
         "t": 60
        },
        "template": {
         "data": {
          "bar": [
           {
            "error_x": {
             "color": "#2a3f5f"
            },
            "error_y": {
             "color": "#2a3f5f"
            },
            "marker": {
             "line": {
              "color": "#E5ECF6",
              "width": 0.5
             },
             "pattern": {
              "fillmode": "overlay",
              "size": 10,
              "solidity": 0.2
             }
            },
            "type": "bar"
           }
          ],
          "barpolar": [
           {
            "marker": {
             "line": {
              "color": "#E5ECF6",
              "width": 0.5
             },
             "pattern": {
              "fillmode": "overlay",
              "size": 10,
              "solidity": 0.2
             }
            },
            "type": "barpolar"
           }
          ],
          "carpet": [
           {
            "aaxis": {
             "endlinecolor": "#2a3f5f",
             "gridcolor": "white",
             "linecolor": "white",
             "minorgridcolor": "white",
             "startlinecolor": "#2a3f5f"
            },
            "baxis": {
             "endlinecolor": "#2a3f5f",
             "gridcolor": "white",
             "linecolor": "white",
             "minorgridcolor": "white",
             "startlinecolor": "#2a3f5f"
            },
            "type": "carpet"
           }
          ],
          "choropleth": [
           {
            "colorbar": {
             "outlinewidth": 0,
             "ticks": ""
            },
            "type": "choropleth"
           }
          ],
          "contour": [
           {
            "colorbar": {
             "outlinewidth": 0,
             "ticks": ""
            },
            "colorscale": [
             [
              0,
              "#0d0887"
             ],
             [
              0.1111111111111111,
              "#46039f"
             ],
             [
              0.2222222222222222,
              "#7201a8"
             ],
             [
              0.3333333333333333,
              "#9c179e"
             ],
             [
              0.4444444444444444,
              "#bd3786"
             ],
             [
              0.5555555555555556,
              "#d8576b"
             ],
             [
              0.6666666666666666,
              "#ed7953"
             ],
             [
              0.7777777777777778,
              "#fb9f3a"
             ],
             [
              0.8888888888888888,
              "#fdca26"
             ],
             [
              1,
              "#f0f921"
             ]
            ],
            "type": "contour"
           }
          ],
          "contourcarpet": [
           {
            "colorbar": {
             "outlinewidth": 0,
             "ticks": ""
            },
            "type": "contourcarpet"
           }
          ],
          "heatmap": [
           {
            "colorbar": {
             "outlinewidth": 0,
             "ticks": ""
            },
            "colorscale": [
             [
              0,
              "#0d0887"
             ],
             [
              0.1111111111111111,
              "#46039f"
             ],
             [
              0.2222222222222222,
              "#7201a8"
             ],
             [
              0.3333333333333333,
              "#9c179e"
             ],
             [
              0.4444444444444444,
              "#bd3786"
             ],
             [
              0.5555555555555556,
              "#d8576b"
             ],
             [
              0.6666666666666666,
              "#ed7953"
             ],
             [
              0.7777777777777778,
              "#fb9f3a"
             ],
             [
              0.8888888888888888,
              "#fdca26"
             ],
             [
              1,
              "#f0f921"
             ]
            ],
            "type": "heatmap"
           }
          ],
          "histogram": [
           {
            "marker": {
             "pattern": {
              "fillmode": "overlay",
              "size": 10,
              "solidity": 0.2
             }
            },
            "type": "histogram"
           }
          ],
          "histogram2d": [
           {
            "colorbar": {
             "outlinewidth": 0,
             "ticks": ""
            },
            "colorscale": [
             [
              0,
              "#0d0887"
             ],
             [
              0.1111111111111111,
              "#46039f"
             ],
             [
              0.2222222222222222,
              "#7201a8"
             ],
             [
              0.3333333333333333,
              "#9c179e"
             ],
             [
              0.4444444444444444,
              "#bd3786"
             ],
             [
              0.5555555555555556,
              "#d8576b"
             ],
             [
              0.6666666666666666,
              "#ed7953"
             ],
             [
              0.7777777777777778,
              "#fb9f3a"
             ],
             [
              0.8888888888888888,
              "#fdca26"
             ],
             [
              1,
              "#f0f921"
             ]
            ],
            "type": "histogram2d"
           }
          ],
          "histogram2dcontour": [
           {
            "colorbar": {
             "outlinewidth": 0,
             "ticks": ""
            },
            "colorscale": [
             [
              0,
              "#0d0887"
             ],
             [
              0.1111111111111111,
              "#46039f"
             ],
             [
              0.2222222222222222,
              "#7201a8"
             ],
             [
              0.3333333333333333,
              "#9c179e"
             ],
             [
              0.4444444444444444,
              "#bd3786"
             ],
             [
              0.5555555555555556,
              "#d8576b"
             ],
             [
              0.6666666666666666,
              "#ed7953"
             ],
             [
              0.7777777777777778,
              "#fb9f3a"
             ],
             [
              0.8888888888888888,
              "#fdca26"
             ],
             [
              1,
              "#f0f921"
             ]
            ],
            "type": "histogram2dcontour"
           }
          ],
          "mesh3d": [
           {
            "colorbar": {
             "outlinewidth": 0,
             "ticks": ""
            },
            "type": "mesh3d"
           }
          ],
          "parcoords": [
           {
            "line": {
             "colorbar": {
              "outlinewidth": 0,
              "ticks": ""
             }
            },
            "type": "parcoords"
           }
          ],
          "pie": [
           {
            "automargin": true,
            "type": "pie"
           }
          ],
          "scatter": [
           {
            "fillpattern": {
             "fillmode": "overlay",
             "size": 10,
             "solidity": 0.2
            },
            "type": "scatter"
           }
          ],
          "scatter3d": [
           {
            "line": {
             "colorbar": {
              "outlinewidth": 0,
              "ticks": ""
             }
            },
            "marker": {
             "colorbar": {
              "outlinewidth": 0,
              "ticks": ""
             }
            },
            "type": "scatter3d"
           }
          ],
          "scattercarpet": [
           {
            "marker": {
             "colorbar": {
              "outlinewidth": 0,
              "ticks": ""
             }
            },
            "type": "scattercarpet"
           }
          ],
          "scattergeo": [
           {
            "marker": {
             "colorbar": {
              "outlinewidth": 0,
              "ticks": ""
             }
            },
            "type": "scattergeo"
           }
          ],
          "scattergl": [
           {
            "marker": {
             "colorbar": {
              "outlinewidth": 0,
              "ticks": ""
             }
            },
            "type": "scattergl"
           }
          ],
          "scattermap": [
           {
            "marker": {
             "colorbar": {
              "outlinewidth": 0,
              "ticks": ""
             }
            },
            "type": "scattermap"
           }
          ],
          "scattermapbox": [
           {
            "marker": {
             "colorbar": {
              "outlinewidth": 0,
              "ticks": ""
             }
            },
            "type": "scattermapbox"
           }
          ],
          "scatterpolar": [
           {
            "marker": {
             "colorbar": {
              "outlinewidth": 0,
              "ticks": ""
             }
            },
            "type": "scatterpolar"
           }
          ],
          "scatterpolargl": [
           {
            "marker": {
             "colorbar": {
              "outlinewidth": 0,
              "ticks": ""
             }
            },
            "type": "scatterpolargl"
           }
          ],
          "scatterternary": [
           {
            "marker": {
             "colorbar": {
              "outlinewidth": 0,
              "ticks": ""
             }
            },
            "type": "scatterternary"
           }
          ],
          "surface": [
           {
            "colorbar": {
             "outlinewidth": 0,
             "ticks": ""
            },
            "colorscale": [
             [
              0,
              "#0d0887"
             ],
             [
              0.1111111111111111,
              "#46039f"
             ],
             [
              0.2222222222222222,
              "#7201a8"
             ],
             [
              0.3333333333333333,
              "#9c179e"
             ],
             [
              0.4444444444444444,
              "#bd3786"
             ],
             [
              0.5555555555555556,
              "#d8576b"
             ],
             [
              0.6666666666666666,
              "#ed7953"
             ],
             [
              0.7777777777777778,
              "#fb9f3a"
             ],
             [
              0.8888888888888888,
              "#fdca26"
             ],
             [
              1,
              "#f0f921"
             ]
            ],
            "type": "surface"
           }
          ],
          "table": [
           {
            "cells": {
             "fill": {
              "color": "#EBF0F8"
             },
             "line": {
              "color": "white"
             }
            },
            "header": {
             "fill": {
              "color": "#C8D4E3"
             },
             "line": {
              "color": "white"
             }
            },
            "type": "table"
           }
          ]
         },
         "layout": {
          "annotationdefaults": {
           "arrowcolor": "#2a3f5f",
           "arrowhead": 0,
           "arrowwidth": 1
          },
          "autotypenumbers": "strict",
          "coloraxis": {
           "colorbar": {
            "outlinewidth": 0,
            "ticks": ""
           }
          },
          "colorscale": {
           "diverging": [
            [
             0,
             "#8e0152"
            ],
            [
             0.1,
             "#c51b7d"
            ],
            [
             0.2,
             "#de77ae"
            ],
            [
             0.3,
             "#f1b6da"
            ],
            [
             0.4,
             "#fde0ef"
            ],
            [
             0.5,
             "#f7f7f7"
            ],
            [
             0.6,
             "#e6f5d0"
            ],
            [
             0.7,
             "#b8e186"
            ],
            [
             0.8,
             "#7fbc41"
            ],
            [
             0.9,
             "#4d9221"
            ],
            [
             1,
             "#276419"
            ]
           ],
           "sequential": [
            [
             0,
             "#0d0887"
            ],
            [
             0.1111111111111111,
             "#46039f"
            ],
            [
             0.2222222222222222,
             "#7201a8"
            ],
            [
             0.3333333333333333,
             "#9c179e"
            ],
            [
             0.4444444444444444,
             "#bd3786"
            ],
            [
             0.5555555555555556,
             "#d8576b"
            ],
            [
             0.6666666666666666,
             "#ed7953"
            ],
            [
             0.7777777777777778,
             "#fb9f3a"
            ],
            [
             0.8888888888888888,
             "#fdca26"
            ],
            [
             1,
             "#f0f921"
            ]
           ],
           "sequentialminus": [
            [
             0,
             "#0d0887"
            ],
            [
             0.1111111111111111,
             "#46039f"
            ],
            [
             0.2222222222222222,
             "#7201a8"
            ],
            [
             0.3333333333333333,
             "#9c179e"
            ],
            [
             0.4444444444444444,
             "#bd3786"
            ],
            [
             0.5555555555555556,
             "#d8576b"
            ],
            [
             0.6666666666666666,
             "#ed7953"
            ],
            [
             0.7777777777777778,
             "#fb9f3a"
            ],
            [
             0.8888888888888888,
             "#fdca26"
            ],
            [
             1,
             "#f0f921"
            ]
           ]
          },
          "colorway": [
           "#636efa",
           "#EF553B",
           "#00cc96",
           "#ab63fa",
           "#FFA15A",
           "#19d3f3",
           "#FF6692",
           "#B6E880",
           "#FF97FF",
           "#FECB52"
          ],
          "font": {
           "color": "#2a3f5f"
          },
          "geo": {
           "bgcolor": "white",
           "lakecolor": "white",
           "landcolor": "#E5ECF6",
           "showlakes": true,
           "showland": true,
           "subunitcolor": "white"
          },
          "hoverlabel": {
           "align": "left"
          },
          "hovermode": "closest",
          "mapbox": {
           "style": "light"
          },
          "paper_bgcolor": "white",
          "plot_bgcolor": "#E5ECF6",
          "polar": {
           "angularaxis": {
            "gridcolor": "white",
            "linecolor": "white",
            "ticks": ""
           },
           "bgcolor": "#E5ECF6",
           "radialaxis": {
            "gridcolor": "white",
            "linecolor": "white",
            "ticks": ""
           }
          },
          "scene": {
           "xaxis": {
            "backgroundcolor": "#E5ECF6",
            "gridcolor": "white",
            "gridwidth": 2,
            "linecolor": "white",
            "showbackground": true,
            "ticks": "",
            "zerolinecolor": "white"
           },
           "yaxis": {
            "backgroundcolor": "#E5ECF6",
            "gridcolor": "white",
            "gridwidth": 2,
            "linecolor": "white",
            "showbackground": true,
            "ticks": "",
            "zerolinecolor": "white"
           },
           "zaxis": {
            "backgroundcolor": "#E5ECF6",
            "gridcolor": "white",
            "gridwidth": 2,
            "linecolor": "white",
            "showbackground": true,
            "ticks": "",
            "zerolinecolor": "white"
           }
          },
          "shapedefaults": {
           "line": {
            "color": "#2a3f5f"
           }
          },
          "ternary": {
           "aaxis": {
            "gridcolor": "white",
            "linecolor": "white",
            "ticks": ""
           },
           "baxis": {
            "gridcolor": "white",
            "linecolor": "white",
            "ticks": ""
           },
           "bgcolor": "#E5ECF6",
           "caxis": {
            "gridcolor": "white",
            "linecolor": "white",
            "ticks": ""
           }
          },
          "title": {
           "x": 0.05
          },
          "xaxis": {
           "automargin": true,
           "gridcolor": "white",
           "linecolor": "white",
           "ticks": "",
           "title": {
            "standoff": 15
           },
           "zerolinecolor": "white",
           "zerolinewidth": 2
          },
          "yaxis": {
           "automargin": true,
           "gridcolor": "white",
           "linecolor": "white",
           "ticks": "",
           "title": {
            "standoff": 15
           },
           "zerolinecolor": "white",
           "zerolinewidth": 2
          }
         }
        },
        "width": 1280,
        "xaxis": {
         "anchor": "y",
         "domain": [
          0,
          1
         ],
         "title": {
          "text": "Reconstruction Error (computed)"
         }
        },
        "yaxis": {
         "anchor": "x",
         "domain": [
          0,
          1
         ],
         "title": {
          "text": "Reconstruction Error (measured)"
         }
        }
       }
      }
     },
     "metadata": {},
     "output_type": "display_data"
    }
   ],
   "source": [
    "df_comp = pd.DataFrame([{\"type\":x[0], \"measured_error\":wrong[name_alignment[x[0]]]/(right[name_alignment[x[0]]]+wrong[name_alignment[x[0]]]), \"computed_error\":x[1]['reconstruction_error']} for x in computed_data])\n",
    "\n",
    "fig = px.scatter(df_comp, x=\"computed_error\", y=\"measured_error\", text=\"type\")\n",
    "\n",
    "fig.update_layout(width=1280, height=1024,\n",
    "                  xaxis_title=\"Reconstruction Error (computed)\",\n",
    "                  yaxis_title=\"Reconstruction Error (measured)\")\n",
    "\n",
    "fig.show()"
   ]
  },
  {
   "cell_type": "code",
   "execution_count": 75,
   "metadata": {},
   "outputs": [],
   "source": [
    "def logit(x):\n",
    "    return np.log(x/(1-x))\n",
    "\n",
    "def logistic(y):\n",
    "    return 1/(1+np.exp(-y))"
   ]
  },
  {
   "cell_type": "code",
   "execution_count": 76,
   "metadata": {},
   "outputs": [
    {
     "data": {
      "text/plain": [
       "LinregressResult(slope=np.float64(0.8802359497904008), intercept=np.float64(-0.5095902201294891), rvalue=np.float64(0.9099963481191335), pvalue=np.float64(1.0687851699298798e-08), stderr=np.float64(0.09200871931996098), intercept_stderr=np.float64(0.21715480378114485))"
      ]
     },
     "execution_count": 76,
     "metadata": {},
     "output_type": "execute_result"
    }
   ],
   "source": [
    "linregress(logit(df_comp['computed_error']), logit(df_comp['measured_error']))"
   ]
  },
  {
   "cell_type": "markdown",
   "metadata": {},
   "source": [
    "$$\n",
    "\\log(p_{human}) = 0.9\\log(p)-0.5\n",
    "$$\n",
    "implies\n",
    "$$\n",
    "p_{human} = 0.6p^{0.9}\n",
    "$$"
   ]
  },
  {
   "cell_type": "code",
   "execution_count": 77,
   "metadata": {},
   "outputs": [
    {
     "data": {
      "application/vnd.plotly.v1+json": {
       "config": {
        "plotlyServerURL": "https://plot.ly"
       },
       "data": [
        {
         "hovertemplate": "computed_error=%{x}<br>measured_error=%{y}<br>type=%{text}<extra></extra>",
         "legendgroup": "",
         "marker": {
          "color": "#636efa",
          "symbol": "circle"
         },
         "mode": "markers+text",
         "name": "",
         "orientation": "v",
         "showlegend": false,
         "text": [
          "FC,FV",
          "FPMF,FV",
          "MC,FV",
          "FC,SSV",
          "FPMF,SSV",
          "MC,SSV",
          "FC,ShSV",
          "FPMF,ShSV",
          "MC,ShSV",
          "FC,LoV",
          "FPMF,LoV",
          "MC,LoV",
          "FC,LV",
          "FPMF,LV",
          "MC,LV",
          "FC,FLV",
          "FPMF,FLV",
          "MC,FLV",
          "FC,NV",
          "FPMF,NV",
          "MC,NV"
         ],
         "type": "scatter",
         "x": {
          "bdata": "BGYlIhkPC8C5RmlCHgwKwBbwJ8ErYgfAQOi703cmDcCvPxZYtecLwOHupr7IugjAHcYiA3bZBcB/sF0QCOcEwHqDd47CZALAINUJy+ctAMBXCETHIm3+v54BRlZx1fm/zcZJLiysAcCsa/WIsZQAwHdx8A2Tg/y/cfbpsMi++L/jz4vTfuX2vz1HPVmRdPO/2JWhiPQY87/oMR2yyQ/xv/Yq+stsSOq/",
          "dtype": "f8"
         },
         "xaxis": "x",
         "y": {
          "bdata": "VRPHNMYQDcD+pwdzpn0JwHZ38yTcQQbAP1f0XE4bEcDK3IGy8/gNwKPcTccflAXA+eZS7NY5BcBjBdNiFIwGwCZmQ2hSqwHAke/T7bupA8CjuY55hR4AwCoD3pPtegDAPplxU8cmA8Alnf+sNgAHwBaqve7JHfm/TuCrbIhDBMDG/mTe5tf/v3Ydg4Y1jfi/rSg5PZQN978eXEXCRLv8v8g+QK4DWum/",
          "dtype": "f8"
         },
         "yaxis": "y"
        },
        {
         "hovertemplate": "<b>OLS trendline</b><br>measured_error = 0.880236 * computed_error + -0.50959<br>R<sup>2</sup>=0.828093<br><br>computed_error=%{x}<br>measured_error=%{y} <b>(trend)</b><extra></extra>",
         "legendgroup": "",
         "marker": {
          "color": "#636efa",
          "symbol": "circle"
         },
         "mode": "lines",
         "name": "",
         "showlegend": false,
         "type": "scatter",
         "x": {
          "bdata": "QOi703cmDcCvPxZYtecLwARmJSIZDwvAuUZpQh4MCsDh7qa+yLoIwBbwJ8ErYgfAHcYiA3bZBcB/sF0QCOcEwHqDd47CZALAzcZJLiysAcCsa/WIsZQAwCDVCcvnLQDAVwhExyJt/r93cfANk4P8v54BRlZx1fm/cfbpsMi++L/jz4vTfuX2vz1HPVmRdPO/2JWhiPQY87/oMR2yyQ/xv/Yq+stsSOq/",
          "dtype": "f8"
         },
         "xaxis": "x",
         "y": {
          "bdata": "kjIKml+8DcA9qJ8pyqMMwNWUGyIf5QvA/NceeygBC8CKY/J9OdgJwB/lcTTiqAjAS8xuyjRPB8Ajd/qhz3kGwHH1Nel1RATAXf0j6fqhA8C7yiD7+KsCwNLq7K1+UQLASv1Bi8d3AcAW9VaPUKAAwCSzieyr5P6/5M7712Lv/b+CyYrQx078v/bcLzlbR/m/6I5tNrf2+L+Z/bEn9yv3vxY5AxOVuPO/",
          "dtype": "f8"
         },
         "yaxis": "y"
        }
       ],
       "layout": {
        "height": 1024,
        "legend": {
         "tracegroupgap": 0
        },
        "margin": {
         "t": 60
        },
        "template": {
         "data": {
          "bar": [
           {
            "error_x": {
             "color": "#2a3f5f"
            },
            "error_y": {
             "color": "#2a3f5f"
            },
            "marker": {
             "line": {
              "color": "#E5ECF6",
              "width": 0.5
             },
             "pattern": {
              "fillmode": "overlay",
              "size": 10,
              "solidity": 0.2
             }
            },
            "type": "bar"
           }
          ],
          "barpolar": [
           {
            "marker": {
             "line": {
              "color": "#E5ECF6",
              "width": 0.5
             },
             "pattern": {
              "fillmode": "overlay",
              "size": 10,
              "solidity": 0.2
             }
            },
            "type": "barpolar"
           }
          ],
          "carpet": [
           {
            "aaxis": {
             "endlinecolor": "#2a3f5f",
             "gridcolor": "white",
             "linecolor": "white",
             "minorgridcolor": "white",
             "startlinecolor": "#2a3f5f"
            },
            "baxis": {
             "endlinecolor": "#2a3f5f",
             "gridcolor": "white",
             "linecolor": "white",
             "minorgridcolor": "white",
             "startlinecolor": "#2a3f5f"
            },
            "type": "carpet"
           }
          ],
          "choropleth": [
           {
            "colorbar": {
             "outlinewidth": 0,
             "ticks": ""
            },
            "type": "choropleth"
           }
          ],
          "contour": [
           {
            "colorbar": {
             "outlinewidth": 0,
             "ticks": ""
            },
            "colorscale": [
             [
              0,
              "#0d0887"
             ],
             [
              0.1111111111111111,
              "#46039f"
             ],
             [
              0.2222222222222222,
              "#7201a8"
             ],
             [
              0.3333333333333333,
              "#9c179e"
             ],
             [
              0.4444444444444444,
              "#bd3786"
             ],
             [
              0.5555555555555556,
              "#d8576b"
             ],
             [
              0.6666666666666666,
              "#ed7953"
             ],
             [
              0.7777777777777778,
              "#fb9f3a"
             ],
             [
              0.8888888888888888,
              "#fdca26"
             ],
             [
              1,
              "#f0f921"
             ]
            ],
            "type": "contour"
           }
          ],
          "contourcarpet": [
           {
            "colorbar": {
             "outlinewidth": 0,
             "ticks": ""
            },
            "type": "contourcarpet"
           }
          ],
          "heatmap": [
           {
            "colorbar": {
             "outlinewidth": 0,
             "ticks": ""
            },
            "colorscale": [
             [
              0,
              "#0d0887"
             ],
             [
              0.1111111111111111,
              "#46039f"
             ],
             [
              0.2222222222222222,
              "#7201a8"
             ],
             [
              0.3333333333333333,
              "#9c179e"
             ],
             [
              0.4444444444444444,
              "#bd3786"
             ],
             [
              0.5555555555555556,
              "#d8576b"
             ],
             [
              0.6666666666666666,
              "#ed7953"
             ],
             [
              0.7777777777777778,
              "#fb9f3a"
             ],
             [
              0.8888888888888888,
              "#fdca26"
             ],
             [
              1,
              "#f0f921"
             ]
            ],
            "type": "heatmap"
           }
          ],
          "histogram": [
           {
            "marker": {
             "pattern": {
              "fillmode": "overlay",
              "size": 10,
              "solidity": 0.2
             }
            },
            "type": "histogram"
           }
          ],
          "histogram2d": [
           {
            "colorbar": {
             "outlinewidth": 0,
             "ticks": ""
            },
            "colorscale": [
             [
              0,
              "#0d0887"
             ],
             [
              0.1111111111111111,
              "#46039f"
             ],
             [
              0.2222222222222222,
              "#7201a8"
             ],
             [
              0.3333333333333333,
              "#9c179e"
             ],
             [
              0.4444444444444444,
              "#bd3786"
             ],
             [
              0.5555555555555556,
              "#d8576b"
             ],
             [
              0.6666666666666666,
              "#ed7953"
             ],
             [
              0.7777777777777778,
              "#fb9f3a"
             ],
             [
              0.8888888888888888,
              "#fdca26"
             ],
             [
              1,
              "#f0f921"
             ]
            ],
            "type": "histogram2d"
           }
          ],
          "histogram2dcontour": [
           {
            "colorbar": {
             "outlinewidth": 0,
             "ticks": ""
            },
            "colorscale": [
             [
              0,
              "#0d0887"
             ],
             [
              0.1111111111111111,
              "#46039f"
             ],
             [
              0.2222222222222222,
              "#7201a8"
             ],
             [
              0.3333333333333333,
              "#9c179e"
             ],
             [
              0.4444444444444444,
              "#bd3786"
             ],
             [
              0.5555555555555556,
              "#d8576b"
             ],
             [
              0.6666666666666666,
              "#ed7953"
             ],
             [
              0.7777777777777778,
              "#fb9f3a"
             ],
             [
              0.8888888888888888,
              "#fdca26"
             ],
             [
              1,
              "#f0f921"
             ]
            ],
            "type": "histogram2dcontour"
           }
          ],
          "mesh3d": [
           {
            "colorbar": {
             "outlinewidth": 0,
             "ticks": ""
            },
            "type": "mesh3d"
           }
          ],
          "parcoords": [
           {
            "line": {
             "colorbar": {
              "outlinewidth": 0,
              "ticks": ""
             }
            },
            "type": "parcoords"
           }
          ],
          "pie": [
           {
            "automargin": true,
            "type": "pie"
           }
          ],
          "scatter": [
           {
            "fillpattern": {
             "fillmode": "overlay",
             "size": 10,
             "solidity": 0.2
            },
            "type": "scatter"
           }
          ],
          "scatter3d": [
           {
            "line": {
             "colorbar": {
              "outlinewidth": 0,
              "ticks": ""
             }
            },
            "marker": {
             "colorbar": {
              "outlinewidth": 0,
              "ticks": ""
             }
            },
            "type": "scatter3d"
           }
          ],
          "scattercarpet": [
           {
            "marker": {
             "colorbar": {
              "outlinewidth": 0,
              "ticks": ""
             }
            },
            "type": "scattercarpet"
           }
          ],
          "scattergeo": [
           {
            "marker": {
             "colorbar": {
              "outlinewidth": 0,
              "ticks": ""
             }
            },
            "type": "scattergeo"
           }
          ],
          "scattergl": [
           {
            "marker": {
             "colorbar": {
              "outlinewidth": 0,
              "ticks": ""
             }
            },
            "type": "scattergl"
           }
          ],
          "scattermap": [
           {
            "marker": {
             "colorbar": {
              "outlinewidth": 0,
              "ticks": ""
             }
            },
            "type": "scattermap"
           }
          ],
          "scattermapbox": [
           {
            "marker": {
             "colorbar": {
              "outlinewidth": 0,
              "ticks": ""
             }
            },
            "type": "scattermapbox"
           }
          ],
          "scatterpolar": [
           {
            "marker": {
             "colorbar": {
              "outlinewidth": 0,
              "ticks": ""
             }
            },
            "type": "scatterpolar"
           }
          ],
          "scatterpolargl": [
           {
            "marker": {
             "colorbar": {
              "outlinewidth": 0,
              "ticks": ""
             }
            },
            "type": "scatterpolargl"
           }
          ],
          "scatterternary": [
           {
            "marker": {
             "colorbar": {
              "outlinewidth": 0,
              "ticks": ""
             }
            },
            "type": "scatterternary"
           }
          ],
          "surface": [
           {
            "colorbar": {
             "outlinewidth": 0,
             "ticks": ""
            },
            "colorscale": [
             [
              0,
              "#0d0887"
             ],
             [
              0.1111111111111111,
              "#46039f"
             ],
             [
              0.2222222222222222,
              "#7201a8"
             ],
             [
              0.3333333333333333,
              "#9c179e"
             ],
             [
              0.4444444444444444,
              "#bd3786"
             ],
             [
              0.5555555555555556,
              "#d8576b"
             ],
             [
              0.6666666666666666,
              "#ed7953"
             ],
             [
              0.7777777777777778,
              "#fb9f3a"
             ],
             [
              0.8888888888888888,
              "#fdca26"
             ],
             [
              1,
              "#f0f921"
             ]
            ],
            "type": "surface"
           }
          ],
          "table": [
           {
            "cells": {
             "fill": {
              "color": "#EBF0F8"
             },
             "line": {
              "color": "white"
             }
            },
            "header": {
             "fill": {
              "color": "#C8D4E3"
             },
             "line": {
              "color": "white"
             }
            },
            "type": "table"
           }
          ]
         },
         "layout": {
          "annotationdefaults": {
           "arrowcolor": "#2a3f5f",
           "arrowhead": 0,
           "arrowwidth": 1
          },
          "autotypenumbers": "strict",
          "coloraxis": {
           "colorbar": {
            "outlinewidth": 0,
            "ticks": ""
           }
          },
          "colorscale": {
           "diverging": [
            [
             0,
             "#8e0152"
            ],
            [
             0.1,
             "#c51b7d"
            ],
            [
             0.2,
             "#de77ae"
            ],
            [
             0.3,
             "#f1b6da"
            ],
            [
             0.4,
             "#fde0ef"
            ],
            [
             0.5,
             "#f7f7f7"
            ],
            [
             0.6,
             "#e6f5d0"
            ],
            [
             0.7,
             "#b8e186"
            ],
            [
             0.8,
             "#7fbc41"
            ],
            [
             0.9,
             "#4d9221"
            ],
            [
             1,
             "#276419"
            ]
           ],
           "sequential": [
            [
             0,
             "#0d0887"
            ],
            [
             0.1111111111111111,
             "#46039f"
            ],
            [
             0.2222222222222222,
             "#7201a8"
            ],
            [
             0.3333333333333333,
             "#9c179e"
            ],
            [
             0.4444444444444444,
             "#bd3786"
            ],
            [
             0.5555555555555556,
             "#d8576b"
            ],
            [
             0.6666666666666666,
             "#ed7953"
            ],
            [
             0.7777777777777778,
             "#fb9f3a"
            ],
            [
             0.8888888888888888,
             "#fdca26"
            ],
            [
             1,
             "#f0f921"
            ]
           ],
           "sequentialminus": [
            [
             0,
             "#0d0887"
            ],
            [
             0.1111111111111111,
             "#46039f"
            ],
            [
             0.2222222222222222,
             "#7201a8"
            ],
            [
             0.3333333333333333,
             "#9c179e"
            ],
            [
             0.4444444444444444,
             "#bd3786"
            ],
            [
             0.5555555555555556,
             "#d8576b"
            ],
            [
             0.6666666666666666,
             "#ed7953"
            ],
            [
             0.7777777777777778,
             "#fb9f3a"
            ],
            [
             0.8888888888888888,
             "#fdca26"
            ],
            [
             1,
             "#f0f921"
            ]
           ]
          },
          "colorway": [
           "#636efa",
           "#EF553B",
           "#00cc96",
           "#ab63fa",
           "#FFA15A",
           "#19d3f3",
           "#FF6692",
           "#B6E880",
           "#FF97FF",
           "#FECB52"
          ],
          "font": {
           "color": "#2a3f5f"
          },
          "geo": {
           "bgcolor": "white",
           "lakecolor": "white",
           "landcolor": "#E5ECF6",
           "showlakes": true,
           "showland": true,
           "subunitcolor": "white"
          },
          "hoverlabel": {
           "align": "left"
          },
          "hovermode": "closest",
          "mapbox": {
           "style": "light"
          },
          "paper_bgcolor": "white",
          "plot_bgcolor": "#E5ECF6",
          "polar": {
           "angularaxis": {
            "gridcolor": "white",
            "linecolor": "white",
            "ticks": ""
           },
           "bgcolor": "#E5ECF6",
           "radialaxis": {
            "gridcolor": "white",
            "linecolor": "white",
            "ticks": ""
           }
          },
          "scene": {
           "xaxis": {
            "backgroundcolor": "#E5ECF6",
            "gridcolor": "white",
            "gridwidth": 2,
            "linecolor": "white",
            "showbackground": true,
            "ticks": "",
            "zerolinecolor": "white"
           },
           "yaxis": {
            "backgroundcolor": "#E5ECF6",
            "gridcolor": "white",
            "gridwidth": 2,
            "linecolor": "white",
            "showbackground": true,
            "ticks": "",
            "zerolinecolor": "white"
           },
           "zaxis": {
            "backgroundcolor": "#E5ECF6",
            "gridcolor": "white",
            "gridwidth": 2,
            "linecolor": "white",
            "showbackground": true,
            "ticks": "",
            "zerolinecolor": "white"
           }
          },
          "shapedefaults": {
           "line": {
            "color": "#2a3f5f"
           }
          },
          "ternary": {
           "aaxis": {
            "gridcolor": "white",
            "linecolor": "white",
            "ticks": ""
           },
           "baxis": {
            "gridcolor": "white",
            "linecolor": "white",
            "ticks": ""
           },
           "bgcolor": "#E5ECF6",
           "caxis": {
            "gridcolor": "white",
            "linecolor": "white",
            "ticks": ""
           }
          },
          "title": {
           "x": 0.05
          },
          "xaxis": {
           "automargin": true,
           "gridcolor": "white",
           "linecolor": "white",
           "ticks": "",
           "title": {
            "standoff": 15
           },
           "zerolinecolor": "white",
           "zerolinewidth": 2
          },
          "yaxis": {
           "automargin": true,
           "gridcolor": "white",
           "linecolor": "white",
           "ticks": "",
           "title": {
            "standoff": 15
           },
           "zerolinecolor": "white",
           "zerolinewidth": 2
          }
         }
        },
        "width": 1280,
        "xaxis": {
         "anchor": "y",
         "domain": [
          0,
          1
         ],
         "title": {
          "text": "Logit Reconstruction Error (computed)"
         }
        },
        "yaxis": {
         "anchor": "x",
         "domain": [
          0,
          1
         ],
         "title": {
          "text": "Logit Reconstruction Error (measured)"
         }
        }
       }
      }
     },
     "metadata": {},
     "output_type": "display_data"
    }
   ],
   "source": [
    "df_comp = pd.DataFrame([{\"type\":x[0], \"measured_error\":logit(wrong[name_alignment[x[0]]]/(right[name_alignment[x[0]]]+wrong[name_alignment[x[0]]])), \"computed_error\":logit(x[1]['reconstruction_error'])} for x in computed_data])\n",
    "\n",
    "fig = px.scatter(df_comp, x=\"computed_error\", y=\"measured_error\", text=\"type\", trendline='ols')\n",
    "\n",
    "# df_logit = pd.DataFrame([{\"x\":x,\"y\":logistic(0.9*logit(x)-0.5)} for x in np.linspace(0,0.4,100)])\n",
    "\n",
    "fig.update_layout(width=1280, height=1024,\n",
    "                  xaxis_title=\"Logit Reconstruction Error (computed)\",\n",
    "                  yaxis_title=\"Logit Reconstruction Error (measured)\")\n",
    "\n",
    "fig.show()"
   ]
  },
  {
   "cell_type": "code",
   "execution_count": 78,
   "metadata": {},
   "outputs": [],
   "source": [
    "fig.write_image(\"human_line_fit.svg\")"
   ]
  },
  {
   "cell_type": "code",
   "execution_count": 79,
   "metadata": {},
   "outputs": [
    {
     "name": "stderr",
     "output_type": "stream",
     "text": [
      "/var/folders/ng/pntt6yds68xb60yvl8c33wpm0000gq/T/ipykernel_40721/2823379121.py:2: RuntimeWarning:\n",
      "\n",
      "divide by zero encountered in log\n",
      "\n"
     ]
    },
    {
     "data": {
      "application/vnd.plotly.v1+json": {
       "config": {
        "plotlyServerURL": "https://plot.ly"
       },
       "data": [
        {
         "hovertemplate": "computed_error=%{x}<br>measured_error=%{y}<br>type=%{text}<extra></extra>",
         "legendgroup": "",
         "marker": {
          "color": "#636efa",
          "symbol": "circle"
         },
         "mode": "markers+text",
         "name": "",
         "orientation": "v",
         "showlegend": false,
         "text": [
          "FC,FV",
          "FPMF,FV",
          "MC,FV",
          "FC,SSV",
          "FPMF,SSV",
          "MC,SSV",
          "FC,ShSV",
          "FPMF,ShSV",
          "MC,ShSV",
          "FC,LoV",
          "FPMF,LoV",
          "MC,LoV",
          "FC,LV",
          "FPMF,LV",
          "MC,LV",
          "FC,FLV",
          "FPMF,FLV",
          "MC,FLV",
          "FC,NV",
          "FPMF,NV",
          "MC,NV"
         ],
         "type": "scatter",
         "x": {
          "bdata": "ACEHwdbRoD+g0e6UtwCjP9B/ie7IIKo/QPVJcywZmj8Anten/VyeP6DolgvoQaY/AP3PbSJQrz84cnByVH2xP8gJ4qQuWLc/OIKpVynrvT8gzhmdTKHAP4CxuMDVPcU/sFPCMRJUuT94Sk+7Jp68P0z2W2Hxb8I/sLY4jnB5xj+8cbZxNLLIP4SQC65ZRM0/1G3FAWXGzT+c+GeZ5GPQP7otySr4jNM/",
          "dtype": "f8"
         },
         "xaxis": "x",
         "y": {
          "bdata": "6vPSQH1emj8URVEURVGkP8ju0Pb32K0/4MCBAwcOjD+LObZrqpuXP3+lQK1fKbA/eQ3lNZTXsD8LmwOJVtisP0bwKZB/Vrk/Y+lLSnQwtD8eHh4eHh6+P88RKNpq8Lw/aRWTVjFptT9jaLqD/VarP1CPm7E/DMY/pEOT/AvWsj/IHnvssce+P3jDj+oSs8Y/ZccsJWyAyD8BaaFKRjnCP87KT4iz8tM/",
          "dtype": "f8"
         },
         "yaxis": "y"
        },
        {
         "mode": "lines",
         "name": "Best Fit",
         "type": "scatter",
         "x": {
          "bdata": "AAAAAAAAAADTGDCNAdNoP9MYMI0B03g/nhLkKUGegj/TGDCNAdOIPwgffPDBB48/nhLkKUGekj+5FYpbobiVP9MYMI0B05g/7RvWvmHtmz8IH3zwwQefPxEREREREaE/nhLkKUGeoj8rFLdCcSukP7kViluhuKU/RhdddNFFpz/TGDCNAdOoP2AaA6YxYKo/7RvWvmHtqz97HanXkXqtPwgffPDBB68/SpCnBHlKsD8RERERERGxP9iReh2p17E/nhLkKUGesj9lk0022WSzPysUt0JxK7Q/8pQgTwnytD+5FYpbobi1P3+W82c5f7Y/RhdddNFFtz8MmMaAaQy4P9MYMI0B07g/mpmZmZmZuT9gGgOmMWC6PyebbLLJJrs/7RvWvmHtuz+0nD/L+bO8P3sdqdeRer0/QZ4S5ClBvj8IH3zwwQe/P86f5fxZzr8/SpCnBHlKwD+uUNwKxa3APxEREREREcE/dNFFF110wT/YkXodqdfBPztSryP1OsI/nhLkKUGewj8C0xgwjQHDP2WTTTbZZMM/yFOCPCXIwz8rFLdCcSvEP4/U60i9jsQ/8pQgTwnyxD9VVVVVVVXFP7kViluhuMU/HNa+Ye0bxj9/lvNnOX/GP+NWKG6F4sY/RhdddNFFxz+p15F6HanHPwyYxoBpDMg/cFj7hrVvyD/TGDCNAdPIPzbZZJNNNsk/mpmZmZmZyT/9Wc6f5fzJP2AaA6YxYMo/w9o3rH3Dyj8nm2yyySbLP4pbobgViss/7RvWvmHtyz9R3ArFrVDMP7ScP8v5s8w/F1100UUXzT97HanXkXrNP97d3d3d3c0/QZ4S5ClBzj+kXkfqdaTOPwgffPDBB88/a9+w9g1rzz/On+X8Wc7PPxkwjQHTGNA/SpCnBHlK0D988MEHH3zQP65Q3ArFrdA/37D2DWvf0D8RERERERHRP0NxKxS3QtE/dNFFF1100T+mMWAaA6bRP9iReh2p19E/CfKUIE8J0j87Uq8j9TrSP22yySabbNI/nhLkKUGe0j/Qcv4s58/SPwLTGDCNAdM/MzMzMzMz0z8=",
          "dtype": "f8"
         },
         "y": {
          "bdata": "AAAAAAAAAADDHDDg2t9qPwSDHxZmEnk/PTMp4aoOgj9+KZcGgWWHP/xXChwMm4w/TlTib3vbkD/Az8BmHV+TP+jGOAQq2pU/NI1c4upNmD9S5r5RXbuaP5xR+P1JI50/pBe6vVOGnz8IDzOpgPKgP0vkbAriH6I/AzUtV35Loz9yqNJDf3WkP+/dnysJnqU/2L0yCTzFpj9VwI82NOunP0Qb4AMLEKk/S+ZlL9czqj8RUBxGrVarP2ICafKfeKw/Kw7WPMCZrT/qEMrBHbquP5a6e97G2a8/8NJra2R8sD9WP9b6lwuxP9bFE9SDmrE/yey5Si0psj/E0JFZmbeyP7BPdavMRbM/5zcLo8vTsz9S+Y5hmmG0P/pgyMw877Q/141RlLZ8tT/aNEQ2Cwq2PxMqYwM+l7Y/tMrRIlIktz9LJGiVSrG3Pw50sDgqPrg/pbmYyfPKuD8EjOHmqVe5PxQSUhNP5Lk/W+q3t+Vwuj/p4bgkcP26P+GTe5Twibs/hWIrLGkWvD9aqlv926K8P/mUTQdLL70/oIcbOLi7vT9zzsxtJUi+P4/WU3eU1L4/QwV5FQdhvz9U/7P7fu2/P+N/euj+PMA/L9gvmEKDwD9wZ/xUi8nAP6Pjo+HZD8E/Qqb2+y5WwT9v7xddi5zBP2yLv7nv4sE/WDt3wlwpwj/bONQj02/CPzckrYZTtsI/eKRMkN78wj9K+6DidEPDP7nHaBwXisM/Gi5d2cXQwz9CllmygRfEP2EtgT1LXsQ/j1RiDiOlxD/EIRi2CezEPxoWasP/MsU/0SjqwgV6xT+NRBE/HMHFP5ZRWsBDCMY/4OVbzXxPxj/aseDqx5bGP+a+/psl3sY/MJMtYpYlxz/uTFu9Gm3HP5nFACyztMc/5cw0K2D8xz+oib42IkTIPzAOJ8n5i8g/bSzKW+fTyD+OleZm6xvJP9tPrWEGZMk/w4xQwjisyT/T6BH+gvTJP9kdUInlPMo/+i+U12CFyj8RHZ5b9c3KP3kVcYejFss/a0VfzGtfyz/INBWbTqjLP5zDpGNM8cs/r8iPlWU6zD8=",
          "dtype": "f8"
         }
        }
       ],
       "layout": {
        "height": 1024,
        "legend": {
         "tracegroupgap": 0
        },
        "margin": {
         "t": 60
        },
        "template": {
         "data": {
          "bar": [
           {
            "error_x": {
             "color": "#2a3f5f"
            },
            "error_y": {
             "color": "#2a3f5f"
            },
            "marker": {
             "line": {
              "color": "#E5ECF6",
              "width": 0.5
             },
             "pattern": {
              "fillmode": "overlay",
              "size": 10,
              "solidity": 0.2
             }
            },
            "type": "bar"
           }
          ],
          "barpolar": [
           {
            "marker": {
             "line": {
              "color": "#E5ECF6",
              "width": 0.5
             },
             "pattern": {
              "fillmode": "overlay",
              "size": 10,
              "solidity": 0.2
             }
            },
            "type": "barpolar"
           }
          ],
          "carpet": [
           {
            "aaxis": {
             "endlinecolor": "#2a3f5f",
             "gridcolor": "white",
             "linecolor": "white",
             "minorgridcolor": "white",
             "startlinecolor": "#2a3f5f"
            },
            "baxis": {
             "endlinecolor": "#2a3f5f",
             "gridcolor": "white",
             "linecolor": "white",
             "minorgridcolor": "white",
             "startlinecolor": "#2a3f5f"
            },
            "type": "carpet"
           }
          ],
          "choropleth": [
           {
            "colorbar": {
             "outlinewidth": 0,
             "ticks": ""
            },
            "type": "choropleth"
           }
          ],
          "contour": [
           {
            "colorbar": {
             "outlinewidth": 0,
             "ticks": ""
            },
            "colorscale": [
             [
              0,
              "#0d0887"
             ],
             [
              0.1111111111111111,
              "#46039f"
             ],
             [
              0.2222222222222222,
              "#7201a8"
             ],
             [
              0.3333333333333333,
              "#9c179e"
             ],
             [
              0.4444444444444444,
              "#bd3786"
             ],
             [
              0.5555555555555556,
              "#d8576b"
             ],
             [
              0.6666666666666666,
              "#ed7953"
             ],
             [
              0.7777777777777778,
              "#fb9f3a"
             ],
             [
              0.8888888888888888,
              "#fdca26"
             ],
             [
              1,
              "#f0f921"
             ]
            ],
            "type": "contour"
           }
          ],
          "contourcarpet": [
           {
            "colorbar": {
             "outlinewidth": 0,
             "ticks": ""
            },
            "type": "contourcarpet"
           }
          ],
          "heatmap": [
           {
            "colorbar": {
             "outlinewidth": 0,
             "ticks": ""
            },
            "colorscale": [
             [
              0,
              "#0d0887"
             ],
             [
              0.1111111111111111,
              "#46039f"
             ],
             [
              0.2222222222222222,
              "#7201a8"
             ],
             [
              0.3333333333333333,
              "#9c179e"
             ],
             [
              0.4444444444444444,
              "#bd3786"
             ],
             [
              0.5555555555555556,
              "#d8576b"
             ],
             [
              0.6666666666666666,
              "#ed7953"
             ],
             [
              0.7777777777777778,
              "#fb9f3a"
             ],
             [
              0.8888888888888888,
              "#fdca26"
             ],
             [
              1,
              "#f0f921"
             ]
            ],
            "type": "heatmap"
           }
          ],
          "histogram": [
           {
            "marker": {
             "pattern": {
              "fillmode": "overlay",
              "size": 10,
              "solidity": 0.2
             }
            },
            "type": "histogram"
           }
          ],
          "histogram2d": [
           {
            "colorbar": {
             "outlinewidth": 0,
             "ticks": ""
            },
            "colorscale": [
             [
              0,
              "#0d0887"
             ],
             [
              0.1111111111111111,
              "#46039f"
             ],
             [
              0.2222222222222222,
              "#7201a8"
             ],
             [
              0.3333333333333333,
              "#9c179e"
             ],
             [
              0.4444444444444444,
              "#bd3786"
             ],
             [
              0.5555555555555556,
              "#d8576b"
             ],
             [
              0.6666666666666666,
              "#ed7953"
             ],
             [
              0.7777777777777778,
              "#fb9f3a"
             ],
             [
              0.8888888888888888,
              "#fdca26"
             ],
             [
              1,
              "#f0f921"
             ]
            ],
            "type": "histogram2d"
           }
          ],
          "histogram2dcontour": [
           {
            "colorbar": {
             "outlinewidth": 0,
             "ticks": ""
            },
            "colorscale": [
             [
              0,
              "#0d0887"
             ],
             [
              0.1111111111111111,
              "#46039f"
             ],
             [
              0.2222222222222222,
              "#7201a8"
             ],
             [
              0.3333333333333333,
              "#9c179e"
             ],
             [
              0.4444444444444444,
              "#bd3786"
             ],
             [
              0.5555555555555556,
              "#d8576b"
             ],
             [
              0.6666666666666666,
              "#ed7953"
             ],
             [
              0.7777777777777778,
              "#fb9f3a"
             ],
             [
              0.8888888888888888,
              "#fdca26"
             ],
             [
              1,
              "#f0f921"
             ]
            ],
            "type": "histogram2dcontour"
           }
          ],
          "mesh3d": [
           {
            "colorbar": {
             "outlinewidth": 0,
             "ticks": ""
            },
            "type": "mesh3d"
           }
          ],
          "parcoords": [
           {
            "line": {
             "colorbar": {
              "outlinewidth": 0,
              "ticks": ""
             }
            },
            "type": "parcoords"
           }
          ],
          "pie": [
           {
            "automargin": true,
            "type": "pie"
           }
          ],
          "scatter": [
           {
            "fillpattern": {
             "fillmode": "overlay",
             "size": 10,
             "solidity": 0.2
            },
            "type": "scatter"
           }
          ],
          "scatter3d": [
           {
            "line": {
             "colorbar": {
              "outlinewidth": 0,
              "ticks": ""
             }
            },
            "marker": {
             "colorbar": {
              "outlinewidth": 0,
              "ticks": ""
             }
            },
            "type": "scatter3d"
           }
          ],
          "scattercarpet": [
           {
            "marker": {
             "colorbar": {
              "outlinewidth": 0,
              "ticks": ""
             }
            },
            "type": "scattercarpet"
           }
          ],
          "scattergeo": [
           {
            "marker": {
             "colorbar": {
              "outlinewidth": 0,
              "ticks": ""
             }
            },
            "type": "scattergeo"
           }
          ],
          "scattergl": [
           {
            "marker": {
             "colorbar": {
              "outlinewidth": 0,
              "ticks": ""
             }
            },
            "type": "scattergl"
           }
          ],
          "scattermap": [
           {
            "marker": {
             "colorbar": {
              "outlinewidth": 0,
              "ticks": ""
             }
            },
            "type": "scattermap"
           }
          ],
          "scattermapbox": [
           {
            "marker": {
             "colorbar": {
              "outlinewidth": 0,
              "ticks": ""
             }
            },
            "type": "scattermapbox"
           }
          ],
          "scatterpolar": [
           {
            "marker": {
             "colorbar": {
              "outlinewidth": 0,
              "ticks": ""
             }
            },
            "type": "scatterpolar"
           }
          ],
          "scatterpolargl": [
           {
            "marker": {
             "colorbar": {
              "outlinewidth": 0,
              "ticks": ""
             }
            },
            "type": "scatterpolargl"
           }
          ],
          "scatterternary": [
           {
            "marker": {
             "colorbar": {
              "outlinewidth": 0,
              "ticks": ""
             }
            },
            "type": "scatterternary"
           }
          ],
          "surface": [
           {
            "colorbar": {
             "outlinewidth": 0,
             "ticks": ""
            },
            "colorscale": [
             [
              0,
              "#0d0887"
             ],
             [
              0.1111111111111111,
              "#46039f"
             ],
             [
              0.2222222222222222,
              "#7201a8"
             ],
             [
              0.3333333333333333,
              "#9c179e"
             ],
             [
              0.4444444444444444,
              "#bd3786"
             ],
             [
              0.5555555555555556,
              "#d8576b"
             ],
             [
              0.6666666666666666,
              "#ed7953"
             ],
             [
              0.7777777777777778,
              "#fb9f3a"
             ],
             [
              0.8888888888888888,
              "#fdca26"
             ],
             [
              1,
              "#f0f921"
             ]
            ],
            "type": "surface"
           }
          ],
          "table": [
           {
            "cells": {
             "fill": {
              "color": "#EBF0F8"
             },
             "line": {
              "color": "white"
             }
            },
            "header": {
             "fill": {
              "color": "#C8D4E3"
             },
             "line": {
              "color": "white"
             }
            },
            "type": "table"
           }
          ]
         },
         "layout": {
          "annotationdefaults": {
           "arrowcolor": "#2a3f5f",
           "arrowhead": 0,
           "arrowwidth": 1
          },
          "autotypenumbers": "strict",
          "coloraxis": {
           "colorbar": {
            "outlinewidth": 0,
            "ticks": ""
           }
          },
          "colorscale": {
           "diverging": [
            [
             0,
             "#8e0152"
            ],
            [
             0.1,
             "#c51b7d"
            ],
            [
             0.2,
             "#de77ae"
            ],
            [
             0.3,
             "#f1b6da"
            ],
            [
             0.4,
             "#fde0ef"
            ],
            [
             0.5,
             "#f7f7f7"
            ],
            [
             0.6,
             "#e6f5d0"
            ],
            [
             0.7,
             "#b8e186"
            ],
            [
             0.8,
             "#7fbc41"
            ],
            [
             0.9,
             "#4d9221"
            ],
            [
             1,
             "#276419"
            ]
           ],
           "sequential": [
            [
             0,
             "#0d0887"
            ],
            [
             0.1111111111111111,
             "#46039f"
            ],
            [
             0.2222222222222222,
             "#7201a8"
            ],
            [
             0.3333333333333333,
             "#9c179e"
            ],
            [
             0.4444444444444444,
             "#bd3786"
            ],
            [
             0.5555555555555556,
             "#d8576b"
            ],
            [
             0.6666666666666666,
             "#ed7953"
            ],
            [
             0.7777777777777778,
             "#fb9f3a"
            ],
            [
             0.8888888888888888,
             "#fdca26"
            ],
            [
             1,
             "#f0f921"
            ]
           ],
           "sequentialminus": [
            [
             0,
             "#0d0887"
            ],
            [
             0.1111111111111111,
             "#46039f"
            ],
            [
             0.2222222222222222,
             "#7201a8"
            ],
            [
             0.3333333333333333,
             "#9c179e"
            ],
            [
             0.4444444444444444,
             "#bd3786"
            ],
            [
             0.5555555555555556,
             "#d8576b"
            ],
            [
             0.6666666666666666,
             "#ed7953"
            ],
            [
             0.7777777777777778,
             "#fb9f3a"
            ],
            [
             0.8888888888888888,
             "#fdca26"
            ],
            [
             1,
             "#f0f921"
            ]
           ]
          },
          "colorway": [
           "#636efa",
           "#EF553B",
           "#00cc96",
           "#ab63fa",
           "#FFA15A",
           "#19d3f3",
           "#FF6692",
           "#B6E880",
           "#FF97FF",
           "#FECB52"
          ],
          "font": {
           "color": "#2a3f5f"
          },
          "geo": {
           "bgcolor": "white",
           "lakecolor": "white",
           "landcolor": "#E5ECF6",
           "showlakes": true,
           "showland": true,
           "subunitcolor": "white"
          },
          "hoverlabel": {
           "align": "left"
          },
          "hovermode": "closest",
          "mapbox": {
           "style": "light"
          },
          "paper_bgcolor": "white",
          "plot_bgcolor": "#E5ECF6",
          "polar": {
           "angularaxis": {
            "gridcolor": "white",
            "linecolor": "white",
            "ticks": ""
           },
           "bgcolor": "#E5ECF6",
           "radialaxis": {
            "gridcolor": "white",
            "linecolor": "white",
            "ticks": ""
           }
          },
          "scene": {
           "xaxis": {
            "backgroundcolor": "#E5ECF6",
            "gridcolor": "white",
            "gridwidth": 2,
            "linecolor": "white",
            "showbackground": true,
            "ticks": "",
            "zerolinecolor": "white"
           },
           "yaxis": {
            "backgroundcolor": "#E5ECF6",
            "gridcolor": "white",
            "gridwidth": 2,
            "linecolor": "white",
            "showbackground": true,
            "ticks": "",
            "zerolinecolor": "white"
           },
           "zaxis": {
            "backgroundcolor": "#E5ECF6",
            "gridcolor": "white",
            "gridwidth": 2,
            "linecolor": "white",
            "showbackground": true,
            "ticks": "",
            "zerolinecolor": "white"
           }
          },
          "shapedefaults": {
           "line": {
            "color": "#2a3f5f"
           }
          },
          "ternary": {
           "aaxis": {
            "gridcolor": "white",
            "linecolor": "white",
            "ticks": ""
           },
           "baxis": {
            "gridcolor": "white",
            "linecolor": "white",
            "ticks": ""
           },
           "bgcolor": "#E5ECF6",
           "caxis": {
            "gridcolor": "white",
            "linecolor": "white",
            "ticks": ""
           }
          },
          "title": {
           "x": 0.05
          },
          "xaxis": {
           "automargin": true,
           "gridcolor": "white",
           "linecolor": "white",
           "ticks": "",
           "title": {
            "standoff": 15
           },
           "zerolinecolor": "white",
           "zerolinewidth": 2
          },
          "yaxis": {
           "automargin": true,
           "gridcolor": "white",
           "linecolor": "white",
           "ticks": "",
           "title": {
            "standoff": 15
           },
           "zerolinecolor": "white",
           "zerolinewidth": 2
          }
         }
        },
        "width": 1280,
        "xaxis": {
         "anchor": "y",
         "domain": [
          0,
          1
         ],
         "title": {
          "text": "Reconstruction Error (computed)"
         }
        },
        "yaxis": {
         "anchor": "x",
         "domain": [
          0,
          1
         ],
         "title": {
          "text": "Reconstruction Error (measured)"
         }
        }
       }
      }
     },
     "metadata": {},
     "output_type": "display_data"
    }
   ],
   "source": [
    "df_comp = pd.DataFrame([{\"type\":x[0], \"measured_error\":wrong[name_alignment[x[0]]]/(right[name_alignment[x[0]]]+wrong[name_alignment[x[0]]]), \"computed_error\":x[1]['reconstruction_error']} for x in computed_data])\n",
    "\n",
    "fig = px.scatter(df_comp, x=\"computed_error\", y=\"measured_error\", text=\"type\")\n",
    "\n",
    "df_logit = pd.DataFrame([{\"x\":x,\"y\": logistic(0.9*logit(x)-0.5)} for x in np.linspace(0,0.3,100)])\n",
    "\n",
    "fig.add_scatter(x=df_logit[\"x\"], y=df_logit[\"y\"], mode='lines', name='Best Fit')\n",
    "\n",
    "fig.update_layout(width=1280, height=1024,\n",
    "                  xaxis_title=\"Reconstruction Error (computed)\",\n",
    "                  yaxis_title=\"Reconstruction Error (measured)\")\n",
    "\n",
    "fig.show()"
   ]
  },
  {
   "cell_type": "code",
   "execution_count": 80,
   "metadata": {},
   "outputs": [
    {
     "name": "stderr",
     "output_type": "stream",
     "text": [
      "/var/folders/ng/pntt6yds68xb60yvl8c33wpm0000gq/T/ipykernel_40721/2823379121.py:2: RuntimeWarning:\n",
      "\n",
      "divide by zero encountered in log\n",
      "\n",
      "/var/folders/ng/pntt6yds68xb60yvl8c33wpm0000gq/T/ipykernel_40721/2823379121.py:2: RuntimeWarning:\n",
      "\n",
      "divide by zero encountered in scalar divide\n",
      "\n"
     ]
    },
    {
     "data": {
      "application/vnd.plotly.v1+json": {
       "config": {
        "plotlyServerURL": "https://plot.ly"
       },
       "data": [
        {
         "error_y": {
          "array": {
           "bdata": "xnu73n1llz/aVTRLBuuaP36CXGb+86A/NojPTueyjz+dC211aeCRP4uUfx973Zk/t0o7zZijoT/8hsu10ValP8XYQtGRXqI/yhcXGDUCoD9nMmu0MuCjP2ZFPvBLB6Y/MsYPIkmwoT+OpS7VWQuhP/ph5mnkU6s/XCT2eXMGoD9rKdbyw2aiP0w32rTDC6w/foueft90pz/nX/XHAz2lPwSr3WylNqs/",
           "dtype": "f8"
          }
         },
         "hovertemplate": "computed_error=%{x}<br>mid_error=%{y}<extra></extra>",
         "legendgroup": "",
         "marker": {
          "color": "#636efa",
          "symbol": "circle"
         },
         "mode": "markers",
         "name": "",
         "orientation": "v",
         "showlegend": false,
         "type": "scatter",
         "x": {
          "bdata": "ACEHwdbRoD+g0e6UtwCjP9B/ie7IIKo/QPVJcywZmj8Anten/VyeP6DolgvoQaY/AP3PbSJQrz84cnByVH2xP8gJ4qQuWLc/OIKpVynrvT8gzhmdTKHAP4CxuMDVPcU/sFPCMRJUuT94Sk+7Jp68P0z2W2Hxb8I/sLY4jnB5xj+8cbZxNLLIP4SQC65ZRM0/1G3FAWXGzT+c+GeZ5GPQP7otySr4jNM/",
          "dtype": "f8"
         },
         "xaxis": "x",
         "y": {
          "bdata": "lVfcPeuQoD8P+LeJ3kinPyLMb0rzg7A/V/SWvhmvkz93NkffGB+cPwIS4mruB7E/rE97SWVdsj8g5Z0CzfmwP/ByMyteabo/NO3y81o8tT/cVv8Fxia/P+N6K7UVQ74/TxfjRyKbtj/qisH8StiuPxK5AGTTqMY/M8OmXKj2sz+U7Xsak6W/P0ra29DEUcc/yL+8jDDlyD94CWxH9rHCPzbVZq68ENQ/",
          "dtype": "f8"
         },
         "yaxis": "y"
        },
        {
         "mode": "lines",
         "name": "Best Fit",
         "type": "scatter",
         "x": {
          "bdata": "AAAAAAAAAABbv1Kg1q+EP1u/UqDWr5Q/CB988MEHnz9bv1Kg1q+kPzJvZ0jM26k/CB988MEHrz9wZ0jM2xmyP1u/UqDWr7Q/RhdddNFFtz8yb2dIzNu5Px3HcRzHcbw/CB988MEHvz96O0Ni3s7AP3BnSMzbGcI/ZZNNNtlkwz9bv1Kg1q/EP1HrVwrU+sU/RhdddNFFxz88Q2LezpDIPzJvZ0jM28k/J5tssskmyz8dx3Ecx3HMPxPzdobEvM0/CB988MEHzz9/pUCtXynQP3o7Q2LeztA/ddFFF1100T9wZ0jM2xnSP2r9SoFav9I/ZZNNNtlk0z9gKVDrVwrUP1u/UqDWr9Q/VlVVVVVV1T9R61cK1PrVP0yBWr9SoNY/RhdddNFF1z9BrV8pUOvXPzxDYt7OkNg/N9lkk0022T8yb2dIzNvZPy0Fav1Kgdo/J5tssskm2z8iMW9nSMzbPx3HcRzHcdw/GF100UUX3T8T83aGxLzdPw6JeTtDYt4/CB988MEH3z8DtX6lQK3fP3+lQK1fKeA/ffDBBx984D96O0Ni3s7gP3eGxLydIeE/ddFFF1104T9yHMdxHMfhP3BnSMzbGeI/bbLJJpts4j9q/UqBWr/iP2hIzNsZEuM/ZZNNNtlk4z9j3s6QmLfjP2ApUOtXCuQ/XnTRRRdd5D9bv1Kg1q/kP1gK1PqVAuU/VlVVVVVV5T9ToNavFKjlP1HrVwrU+uU/TjbZZJNN5j9MgVq/UqDmP0nM2xkS8+Y/RhdddNFF5z9EYt7OkJjnP0GtXylQ6+c/P/jggw8+6D88Q2LezpDoPzmO4ziO4+g/N9lkk0026T80JObtDInpPzJvZ0jM2+k/L7rooosu6j8tBWr9SoHqPypQ61cK1Oo/J5tssskm6z8l5u0MiXnrPyIxb2dIzOs/IHzwwQcf7D8dx3Ecx3HsPxsS83aGxOw/GF100UUX7T8VqPUrBWrtPxPzdobEvO0/ED744IMP7j8OiXk7Q2LuPwvU+pUCte4/CB988MEH7z8Gav1KgVrvPwO1fqVAre8/AAAAAAAA8D8=",
          "dtype": "f8"
         },
         "y": {
          "bdata": "AAAAAAAAAABNDKYxodqDP7ku3liZiZI/Uua+UV27mj87g3mgK1ehP0ULIiZYO6U/RBvgAwsQqT+c5gufFtmsP2yEoaeXTLA/yey5Si0psj+3aHK2FQO0P2Ymn+vy2rU/SyRolUqxtz8GwkFjjYa5P5n8txMcW7s/+ZRNB0svvT/qkhfbZAO/P7pICi3Wa8A/Qqb2+y5WwT9AE1N72EDCP96vBSfsK8M/QpZZsoEXxD/9xOxSrwPFP0CRHv6J8MU/5r7+myXexj/4L/sxlczHPxD8/gbru8g/xoxQwjisyT+ruzGGj53KPzg2DQcAkMs/o1fSn5qDzD90jQBkb3jNP6ygyi+Obs4/7AentgZmzz/xrklIdC/QP7GfIqOhrNA/t7g8LpMq0T82XEWvUKnRP2LpOfThKNI/9qIt2E6p0j8A7+FHnyrTP4LcPEbbrNM/V6mo8Aow1D+PFGaDNrTUP76U2l1mOdU/xgXjBqO/1T9dCTMx9UbWP5Ijyb9lz9Y/rY5/yv1Y1z8/1cGixuPXPzJ2b9jJb9g/Kyz0PhH92D/J6Z7ypovZP5c4QV6VG9o/x2shQees2j9DB0u1pz/bP1fbSTbi09s/1axdqKJp3D8t2jVg9QDdP/5QRivnmd0/vmPJWIU03j+CtITD3dDeP/iLatz+bt8/H1ca23sH4D/eFw0JbFjgP0KO4zZYquA/FpNhCUn94D/yH76TR1HhP8izGWFdpuE/PJ8Kf5T84T8EB2uJ91PiP7IKnbeRrOI/4jeE624G4z+934DCm2HjP/7YyqglvuM/q82e7xoc5D/Y7szminvkP3PkW/qF3OQ/qgAi1R0/5T9CXnWJZaPlP323Z8FxCeY/wmp1+Fhx5j9Nuy3BM9vmP29vORodR+c/6Ixk1zK15z97ayMlliXoP0z9xi9smOg/xfHG+94N6T81+SyDHobpPy+EDDdiAeo/L+x3Fut/6j+JIHCtBgLrP83Eo4wTiOs/zlG1SIgS7D/+v40k/6HsP57PDzJLN+0/Yp+uSaPT7T9uypZFCnnuP98Dx2epK+8/AAAAAAAA8D8=",
          "dtype": "f8"
         }
        }
       ],
       "layout": {
        "height": 1024,
        "legend": {
         "tracegroupgap": 0
        },
        "margin": {
         "t": 60
        },
        "template": {
         "data": {
          "bar": [
           {
            "error_x": {
             "color": "#2a3f5f"
            },
            "error_y": {
             "color": "#2a3f5f"
            },
            "marker": {
             "line": {
              "color": "#E5ECF6",
              "width": 0.5
             },
             "pattern": {
              "fillmode": "overlay",
              "size": 10,
              "solidity": 0.2
             }
            },
            "type": "bar"
           }
          ],
          "barpolar": [
           {
            "marker": {
             "line": {
              "color": "#E5ECF6",
              "width": 0.5
             },
             "pattern": {
              "fillmode": "overlay",
              "size": 10,
              "solidity": 0.2
             }
            },
            "type": "barpolar"
           }
          ],
          "carpet": [
           {
            "aaxis": {
             "endlinecolor": "#2a3f5f",
             "gridcolor": "white",
             "linecolor": "white",
             "minorgridcolor": "white",
             "startlinecolor": "#2a3f5f"
            },
            "baxis": {
             "endlinecolor": "#2a3f5f",
             "gridcolor": "white",
             "linecolor": "white",
             "minorgridcolor": "white",
             "startlinecolor": "#2a3f5f"
            },
            "type": "carpet"
           }
          ],
          "choropleth": [
           {
            "colorbar": {
             "outlinewidth": 0,
             "ticks": ""
            },
            "type": "choropleth"
           }
          ],
          "contour": [
           {
            "colorbar": {
             "outlinewidth": 0,
             "ticks": ""
            },
            "colorscale": [
             [
              0,
              "#0d0887"
             ],
             [
              0.1111111111111111,
              "#46039f"
             ],
             [
              0.2222222222222222,
              "#7201a8"
             ],
             [
              0.3333333333333333,
              "#9c179e"
             ],
             [
              0.4444444444444444,
              "#bd3786"
             ],
             [
              0.5555555555555556,
              "#d8576b"
             ],
             [
              0.6666666666666666,
              "#ed7953"
             ],
             [
              0.7777777777777778,
              "#fb9f3a"
             ],
             [
              0.8888888888888888,
              "#fdca26"
             ],
             [
              1,
              "#f0f921"
             ]
            ],
            "type": "contour"
           }
          ],
          "contourcarpet": [
           {
            "colorbar": {
             "outlinewidth": 0,
             "ticks": ""
            },
            "type": "contourcarpet"
           }
          ],
          "heatmap": [
           {
            "colorbar": {
             "outlinewidth": 0,
             "ticks": ""
            },
            "colorscale": [
             [
              0,
              "#0d0887"
             ],
             [
              0.1111111111111111,
              "#46039f"
             ],
             [
              0.2222222222222222,
              "#7201a8"
             ],
             [
              0.3333333333333333,
              "#9c179e"
             ],
             [
              0.4444444444444444,
              "#bd3786"
             ],
             [
              0.5555555555555556,
              "#d8576b"
             ],
             [
              0.6666666666666666,
              "#ed7953"
             ],
             [
              0.7777777777777778,
              "#fb9f3a"
             ],
             [
              0.8888888888888888,
              "#fdca26"
             ],
             [
              1,
              "#f0f921"
             ]
            ],
            "type": "heatmap"
           }
          ],
          "histogram": [
           {
            "marker": {
             "pattern": {
              "fillmode": "overlay",
              "size": 10,
              "solidity": 0.2
             }
            },
            "type": "histogram"
           }
          ],
          "histogram2d": [
           {
            "colorbar": {
             "outlinewidth": 0,
             "ticks": ""
            },
            "colorscale": [
             [
              0,
              "#0d0887"
             ],
             [
              0.1111111111111111,
              "#46039f"
             ],
             [
              0.2222222222222222,
              "#7201a8"
             ],
             [
              0.3333333333333333,
              "#9c179e"
             ],
             [
              0.4444444444444444,
              "#bd3786"
             ],
             [
              0.5555555555555556,
              "#d8576b"
             ],
             [
              0.6666666666666666,
              "#ed7953"
             ],
             [
              0.7777777777777778,
              "#fb9f3a"
             ],
             [
              0.8888888888888888,
              "#fdca26"
             ],
             [
              1,
              "#f0f921"
             ]
            ],
            "type": "histogram2d"
           }
          ],
          "histogram2dcontour": [
           {
            "colorbar": {
             "outlinewidth": 0,
             "ticks": ""
            },
            "colorscale": [
             [
              0,
              "#0d0887"
             ],
             [
              0.1111111111111111,
              "#46039f"
             ],
             [
              0.2222222222222222,
              "#7201a8"
             ],
             [
              0.3333333333333333,
              "#9c179e"
             ],
             [
              0.4444444444444444,
              "#bd3786"
             ],
             [
              0.5555555555555556,
              "#d8576b"
             ],
             [
              0.6666666666666666,
              "#ed7953"
             ],
             [
              0.7777777777777778,
              "#fb9f3a"
             ],
             [
              0.8888888888888888,
              "#fdca26"
             ],
             [
              1,
              "#f0f921"
             ]
            ],
            "type": "histogram2dcontour"
           }
          ],
          "mesh3d": [
           {
            "colorbar": {
             "outlinewidth": 0,
             "ticks": ""
            },
            "type": "mesh3d"
           }
          ],
          "parcoords": [
           {
            "line": {
             "colorbar": {
              "outlinewidth": 0,
              "ticks": ""
             }
            },
            "type": "parcoords"
           }
          ],
          "pie": [
           {
            "automargin": true,
            "type": "pie"
           }
          ],
          "scatter": [
           {
            "fillpattern": {
             "fillmode": "overlay",
             "size": 10,
             "solidity": 0.2
            },
            "type": "scatter"
           }
          ],
          "scatter3d": [
           {
            "line": {
             "colorbar": {
              "outlinewidth": 0,
              "ticks": ""
             }
            },
            "marker": {
             "colorbar": {
              "outlinewidth": 0,
              "ticks": ""
             }
            },
            "type": "scatter3d"
           }
          ],
          "scattercarpet": [
           {
            "marker": {
             "colorbar": {
              "outlinewidth": 0,
              "ticks": ""
             }
            },
            "type": "scattercarpet"
           }
          ],
          "scattergeo": [
           {
            "marker": {
             "colorbar": {
              "outlinewidth": 0,
              "ticks": ""
             }
            },
            "type": "scattergeo"
           }
          ],
          "scattergl": [
           {
            "marker": {
             "colorbar": {
              "outlinewidth": 0,
              "ticks": ""
             }
            },
            "type": "scattergl"
           }
          ],
          "scattermap": [
           {
            "marker": {
             "colorbar": {
              "outlinewidth": 0,
              "ticks": ""
             }
            },
            "type": "scattermap"
           }
          ],
          "scattermapbox": [
           {
            "marker": {
             "colorbar": {
              "outlinewidth": 0,
              "ticks": ""
             }
            },
            "type": "scattermapbox"
           }
          ],
          "scatterpolar": [
           {
            "marker": {
             "colorbar": {
              "outlinewidth": 0,
              "ticks": ""
             }
            },
            "type": "scatterpolar"
           }
          ],
          "scatterpolargl": [
           {
            "marker": {
             "colorbar": {
              "outlinewidth": 0,
              "ticks": ""
             }
            },
            "type": "scatterpolargl"
           }
          ],
          "scatterternary": [
           {
            "marker": {
             "colorbar": {
              "outlinewidth": 0,
              "ticks": ""
             }
            },
            "type": "scatterternary"
           }
          ],
          "surface": [
           {
            "colorbar": {
             "outlinewidth": 0,
             "ticks": ""
            },
            "colorscale": [
             [
              0,
              "#0d0887"
             ],
             [
              0.1111111111111111,
              "#46039f"
             ],
             [
              0.2222222222222222,
              "#7201a8"
             ],
             [
              0.3333333333333333,
              "#9c179e"
             ],
             [
              0.4444444444444444,
              "#bd3786"
             ],
             [
              0.5555555555555556,
              "#d8576b"
             ],
             [
              0.6666666666666666,
              "#ed7953"
             ],
             [
              0.7777777777777778,
              "#fb9f3a"
             ],
             [
              0.8888888888888888,
              "#fdca26"
             ],
             [
              1,
              "#f0f921"
             ]
            ],
            "type": "surface"
           }
          ],
          "table": [
           {
            "cells": {
             "fill": {
              "color": "#EBF0F8"
             },
             "line": {
              "color": "white"
             }
            },
            "header": {
             "fill": {
              "color": "#C8D4E3"
             },
             "line": {
              "color": "white"
             }
            },
            "type": "table"
           }
          ]
         },
         "layout": {
          "annotationdefaults": {
           "arrowcolor": "#2a3f5f",
           "arrowhead": 0,
           "arrowwidth": 1
          },
          "autotypenumbers": "strict",
          "coloraxis": {
           "colorbar": {
            "outlinewidth": 0,
            "ticks": ""
           }
          },
          "colorscale": {
           "diverging": [
            [
             0,
             "#8e0152"
            ],
            [
             0.1,
             "#c51b7d"
            ],
            [
             0.2,
             "#de77ae"
            ],
            [
             0.3,
             "#f1b6da"
            ],
            [
             0.4,
             "#fde0ef"
            ],
            [
             0.5,
             "#f7f7f7"
            ],
            [
             0.6,
             "#e6f5d0"
            ],
            [
             0.7,
             "#b8e186"
            ],
            [
             0.8,
             "#7fbc41"
            ],
            [
             0.9,
             "#4d9221"
            ],
            [
             1,
             "#276419"
            ]
           ],
           "sequential": [
            [
             0,
             "#0d0887"
            ],
            [
             0.1111111111111111,
             "#46039f"
            ],
            [
             0.2222222222222222,
             "#7201a8"
            ],
            [
             0.3333333333333333,
             "#9c179e"
            ],
            [
             0.4444444444444444,
             "#bd3786"
            ],
            [
             0.5555555555555556,
             "#d8576b"
            ],
            [
             0.6666666666666666,
             "#ed7953"
            ],
            [
             0.7777777777777778,
             "#fb9f3a"
            ],
            [
             0.8888888888888888,
             "#fdca26"
            ],
            [
             1,
             "#f0f921"
            ]
           ],
           "sequentialminus": [
            [
             0,
             "#0d0887"
            ],
            [
             0.1111111111111111,
             "#46039f"
            ],
            [
             0.2222222222222222,
             "#7201a8"
            ],
            [
             0.3333333333333333,
             "#9c179e"
            ],
            [
             0.4444444444444444,
             "#bd3786"
            ],
            [
             0.5555555555555556,
             "#d8576b"
            ],
            [
             0.6666666666666666,
             "#ed7953"
            ],
            [
             0.7777777777777778,
             "#fb9f3a"
            ],
            [
             0.8888888888888888,
             "#fdca26"
            ],
            [
             1,
             "#f0f921"
            ]
           ]
          },
          "colorway": [
           "#636efa",
           "#EF553B",
           "#00cc96",
           "#ab63fa",
           "#FFA15A",
           "#19d3f3",
           "#FF6692",
           "#B6E880",
           "#FF97FF",
           "#FECB52"
          ],
          "font": {
           "color": "#2a3f5f"
          },
          "geo": {
           "bgcolor": "white",
           "lakecolor": "white",
           "landcolor": "#E5ECF6",
           "showlakes": true,
           "showland": true,
           "subunitcolor": "white"
          },
          "hoverlabel": {
           "align": "left"
          },
          "hovermode": "closest",
          "mapbox": {
           "style": "light"
          },
          "paper_bgcolor": "white",
          "plot_bgcolor": "#E5ECF6",
          "polar": {
           "angularaxis": {
            "gridcolor": "white",
            "linecolor": "white",
            "ticks": ""
           },
           "bgcolor": "#E5ECF6",
           "radialaxis": {
            "gridcolor": "white",
            "linecolor": "white",
            "ticks": ""
           }
          },
          "scene": {
           "xaxis": {
            "backgroundcolor": "#E5ECF6",
            "gridcolor": "white",
            "gridwidth": 2,
            "linecolor": "white",
            "showbackground": true,
            "ticks": "",
            "zerolinecolor": "white"
           },
           "yaxis": {
            "backgroundcolor": "#E5ECF6",
            "gridcolor": "white",
            "gridwidth": 2,
            "linecolor": "white",
            "showbackground": true,
            "ticks": "",
            "zerolinecolor": "white"
           },
           "zaxis": {
            "backgroundcolor": "#E5ECF6",
            "gridcolor": "white",
            "gridwidth": 2,
            "linecolor": "white",
            "showbackground": true,
            "ticks": "",
            "zerolinecolor": "white"
           }
          },
          "shapedefaults": {
           "line": {
            "color": "#2a3f5f"
           }
          },
          "ternary": {
           "aaxis": {
            "gridcolor": "white",
            "linecolor": "white",
            "ticks": ""
           },
           "baxis": {
            "gridcolor": "white",
            "linecolor": "white",
            "ticks": ""
           },
           "bgcolor": "#E5ECF6",
           "caxis": {
            "gridcolor": "white",
            "linecolor": "white",
            "ticks": ""
           }
          },
          "title": {
           "x": 0.05
          },
          "xaxis": {
           "automargin": true,
           "gridcolor": "white",
           "linecolor": "white",
           "ticks": "",
           "title": {
            "standoff": 15
           },
           "zerolinecolor": "white",
           "zerolinewidth": 2
          },
          "yaxis": {
           "automargin": true,
           "gridcolor": "white",
           "linecolor": "white",
           "ticks": "",
           "title": {
            "standoff": 15
           },
           "zerolinecolor": "white",
           "zerolinewidth": 2
          }
         }
        },
        "width": 1280,
        "xaxis": {
         "anchor": "y",
         "domain": [
          0,
          1
         ],
         "title": {
          "text": "Reconstruction Error (computed)"
         }
        },
        "yaxis": {
         "anchor": "x",
         "domain": [
          0,
          1
         ],
         "title": {
          "text": "Reconstruction Error (measured)"
         }
        }
       }
      }
     },
     "metadata": {},
     "output_type": "display_data"
    }
   ],
   "source": [
    "df_comp = pd.DataFrame([{\"type\":x[0], \"measured_error\":wrong[name_alignment[x[0]]]/(right[name_alignment[x[0]]]+wrong[name_alignment[x[0]]]), \"computed_error\":x[1]['reconstruction_error'],\"mid_error\":(error_rate[name_alignment[x[0]]][1]+error_rate[name_alignment[x[0]]][0])/2, \"error_width\":(error_rate[name_alignment[x[0]]][1]-error_rate[name_alignment[x[0]]][0])/2} for x in computed_data])\n",
    "\n",
    "fig = px.scatter(df_comp, x=\"computed_error\", y=\"mid_error\", error_y=\"error_width\")\n",
    "\n",
    "df_logit = pd.DataFrame([{\"x\":x,\"y\": logistic(0.9*logit(x)-0.5)} for x in np.linspace(0,1.0,100)])\n",
    "\n",
    "fig.add_scatter(x=df_logit[\"x\"], y=df_logit[\"y\"], mode='lines', name='Best Fit')\n",
    "\n",
    "fig.update_layout(width=1280, height=1024,\n",
    "                  xaxis_title=\"Reconstruction Error (computed)\",\n",
    "                  yaxis_title=\"Reconstruction Error (measured)\")\n",
    "fig.show()"
   ]
  },
  {
   "cell_type": "code",
   "execution_count": 81,
   "metadata": {},
   "outputs": [],
   "source": [
    "fig.write_image(\"human_full_range.svg\")"
   ]
  }
 ],
 "metadata": {
  "kernelspec": {
   "display_name": "Python 3",
   "language": "python",
   "name": "python3"
  },
  "language_info": {
   "codemirror_mode": {
    "name": "ipython",
    "version": 3
   },
   "file_extension": ".py",
   "mimetype": "text/x-python",
   "name": "python",
   "nbconvert_exporter": "python",
   "pygments_lexer": "ipython3",
   "version": "3.12.6"
  }
 },
 "nbformat": 4,
 "nbformat_minor": 2
}
