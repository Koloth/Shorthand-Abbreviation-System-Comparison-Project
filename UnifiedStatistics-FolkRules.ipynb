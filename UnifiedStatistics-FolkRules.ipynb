{
 "cells": [
  {
   "cell_type": "code",
   "execution_count": 1,
   "id": "17cb1b50-9559-44a3-b621-3fc4a4815079",
   "metadata": {},
   "outputs": [],
   "source": [
    "# Imports\n",
    "import pandas as pd\n",
    "import re\n",
    "import random\n",
    "import copy\n",
    "import math\n",
    "import json\n",
    "import matplotlib.pyplot as plt\n",
    "import plotly.express as px\n",
    "import plotly.graph_objects as go\n",
    "import numpy as np\n",
    "from collections import Counter"
   ]
  },
  {
   "cell_type": "markdown",
   "id": "81e43089-c538-46ff-88e0-8236ca39a010",
   "metadata": {},
   "source": [
    "# Load Shared Datasets\n",
    "\n",
    "This section of code loads the [Google N-Grams Data](https://github.com/orgtre/google-books-ngram-frequency/blob/main/ngrams/1grams_english.csv), along with `ipadict` for [phonetic information](https://github.com/open-dict-data/ipa-dict/blob/master/data/en_US.txt)."
   ]
  },
  {
   "cell_type": "code",
   "execution_count": 2,
   "id": "ad8f5083-13f4-4175-a750-07d0499c0be1",
   "metadata": {},
   "outputs": [],
   "source": [
    "# Load in the one-gram information (word frequencies)\n",
    "one_grams = pd.read_csv(\"1grams_english.csv\")\n",
    "one_grams_dict = {row[1]['ngram'].lower(): row[1]['freq'] for row in one_grams.iterrows()}\n",
    "\n",
    "# Scoring methods designed to select one of the options from the IPA dictionary.\n",
    "# It selects the shortest words with the most schwas (laziest pronunciation).\n",
    "\n",
    "\n",
    "def score(word):\n",
    "    word.replace(\" \", \"\")\n",
    "    return (len(word), -word.count(\"ə\"))\n",
    "\n",
    "\n",
    "def get_laziest(ipa_list):\n",
    "    return list(sorted(ipa_list, key=score))[0]\n",
    "\n",
    "\n",
    "# Loading the dictionary and parsing out the best scoring pronunciation\n",
    "ipa = pd.read_csv(\"en_US.txt\", sep='\\t', names=[\"eng\", \"ipa\"])\n",
    "ipa_opt_dict = {row[1]['eng']: row[1]['ipa'].split(', ') for row in ipa.iterrows()}\n",
    "ipa_dict = {row[1]['eng']: get_laziest(row[1]['ipa'].split(', ')) for row in ipa.iterrows()}"
   ]
  },
  {
   "cell_type": "code",
   "execution_count": 3,
   "id": "e1c9f0ad",
   "metadata": {},
   "outputs": [
    {
     "data": {
      "text/plain": [
       "[('p', ''),\n",
       " ('ð', ''),\n",
       " ('ə', ''),\n",
       " ('ɡ', ''),\n",
       " ('θ', ''),\n",
       " ('ɛ', ''),\n",
       " ('ɑ', ''),\n",
       " ('ɫ', ''),\n",
       " ('n', ''),\n",
       " ('t', ''),\n",
       " ('ɹ', ''),\n",
       " ('ɪ', ''),\n",
       " ('h', ''),\n",
       " ('v', ''),\n",
       " ('a', ''),\n",
       " ('ˈ', ''),\n",
       " ('j', ''),\n",
       " ('/', ''),\n",
       " ('e', ''),\n",
       " ('ˌ', ''),\n",
       " ('i', ''),\n",
       " ('m', ''),\n",
       " ('k', ''),\n",
       " ('u', ''),\n",
       " ('f', ''),\n",
       " ('æ', ''),\n",
       " ('s', ''),\n",
       " ('ɔ', ''),\n",
       " ('w', ''),\n",
       " ('ʃ', ''),\n",
       " ('ʒ', ''),\n",
       " ('z', ''),\n",
       " ('ŋ', ''),\n",
       " ('ɝ', ''),\n",
       " ('o', ''),\n",
       " ('ʊ', ''),\n",
       " ('d', ''),\n",
       " ('b', '')]"
      ]
     },
     "execution_count": 3,
     "metadata": {},
     "output_type": "execute_result"
    }
   ],
   "source": [
    "# Print out all our letters\n",
    "[(x,'') for x in {y for word in ipa_dict.values() for y in word}]"
   ]
  },
  {
   "cell_type": "code",
   "execution_count": 48,
   "id": "b6fae22b",
   "metadata": {},
   "outputs": [],
   "source": [
    "# Code to do basic string transformations\n",
    "def translate_add(string, rules, verbose = False): \n",
    "    out = []\n",
    "    pos = 0\n",
    "    while pos < len(string):\n",
    "        matched = False\n",
    "        for rule_head, rule_tail in rules:\n",
    "            if string[pos:pos+len(rule_head)] == rule_head:\n",
    "                if rule_tail != None:\n",
    "                    out.append(rule_tail)\n",
    "                matched = True\n",
    "                pos += len(rule_head)\n",
    "                if verbose:\n",
    "                    print(f\"Matched: {rule_head} -> {rule_tail}\")\n",
    "                break\n",
    "        if not matched:\n",
    "            if verbose:\n",
    "                print(f\"Skipped: {string[pos]}\")\n",
    "            pos += 1\n",
    "    return out\n",
    "\n",
    "def translate(word, rules, verbose = False):\n",
    "    return_string = \"\".join(translate_add(\"~\" + ipa_dict[word].replace('/','').replace('ˈ','').replace('ˌ','') + \"~\",rules, verbose))\n",
    "    if len(return_string) == 0:\n",
    "        return 'e'\n",
    "    else:\n",
    "        return return_string"
   ]
  },
  {
   "cell_type": "code",
   "execution_count": 49,
   "id": "a689319d",
   "metadata": {},
   "outputs": [],
   "source": [
    "# Consonants without variable representation\n",
    "unpaired_consonants = [('ɫ', 'l'),\n",
    " ('ɹ', 'r'),\n",
    " ('m', 'm'),\n",
    " ('ŋ', 'ŋ'),\n",
    " ('n', 'n'),\n",
    " ('w', 'w'),\n",
    " ('h', 'h'),\n",
    " ('j', 'y')]\n",
    "\n",
    "# ch and j\n",
    "full_affrictives = [\n",
    " ('dʒ', 'j'),\n",
    " ('tʃ', 'C')]\n",
    "\n",
    "merged_affrictives = [\n",
    " ('dʒ', 'C'),\n",
    " ('tʃ', 'C')]\n",
    "\n",
    "# Frictives\n",
    "full_frictives = [\n",
    " ('s', 's'),\n",
    " ('ʒ', 'ʒ'),\n",
    " ('ʃ', 'ʃ'),\n",
    " ('v', 'v'),\n",
    " ('θ', 'θ'),\n",
    " ('f', 'f'),\n",
    " ('z', 'z'),\n",
    " ('ð', 'ð')]\n",
    "\n",
    "merged_frictives = [\n",
    " ('s', 's'),\n",
    " ('ʒ', 'ʃ'),\n",
    " ('ʃ', 'ʃ'),\n",
    " ('v', 'f'),\n",
    " ('θ', 'θ'),\n",
    " ('f', 'f'),\n",
    " ('z', 's'),\n",
    " ('ð', 'θ')]\n",
    "\n",
    "# Plosives\n",
    "full_plosives = [\n",
    " ('t', 't'),\n",
    " ('b', 'b'),\n",
    " ('ɡ', 'g'),\n",
    " ('p', 'p'),\n",
    " ('d', 'd'),\n",
    " ('k', 'k')]\n",
    "\n",
    "merged_plosives = [\n",
    " ('t', 't'),\n",
    " ('b', 'p'),\n",
    " ('ɡ', 'k'),\n",
    " ('p', 'p'),\n",
    " ('d', 't'),\n",
    " ('k', 'k')]\n",
    "\n",
    "consonant_types = {\n",
    "    'full consonants': full_affrictives + unpaired_consonants + full_frictives + full_plosives,\n",
    "    'full plosives, merged frictives': full_affrictives + unpaired_consonants + merged_frictives + full_plosives,\n",
    "    'merged consonants': merged_affrictives + unpaired_consonants + merged_frictives + merged_plosives,\n",
    "}\n",
    "\n",
    "short_consonant_names = {\n",
    "    'full consonants': 'FC',\n",
    "    'full plosives, merged frictives': 'FPMF',\n",
    "    'merged consonants': 'MC',\n",
    "}"
   ]
  },
  {
   "cell_type": "code",
   "execution_count": 50,
   "id": "285422e8",
   "metadata": {},
   "outputs": [],
   "source": [
    "# Schwa's Name\n",
    "schwa_name = 'e'\n",
    "\n",
    "# Stupid R\n",
    "r_with_vowels = [('ɝ', schwa_name + 'r')]\n",
    "r_with_lateral_vowels = [('~ɝ', schwa_name + 'r'),('ɝ', 'r')]\n",
    "r_with_flattened_lateral_vowels = [('~ɝ', 'er'),('ɝ', 'r')]\n",
    "r_without_vowels = [('ɝ', 'r')]"
   ]
  },
  {
   "cell_type": "code",
   "execution_count": 51,
   "id": "82c466fb",
   "metadata": {},
   "outputs": [],
   "source": [
    "# Long Vowels\n",
    "long_vowels = [\n",
    " ('i', 'e'),\n",
    " ('eɪ', 'a'),\n",
    " ('oʊ', 'o'),\n",
    " ('aɪ', 'i'),\n",
    " ('ju', 'u'),\n",
    "]\n",
    "\n",
    "lateral_long_vowels = [\n",
    " ('~i', 'e'),\n",
    " ('~eɪ', 'a'),\n",
    " ('~oʊ', 'o'),\n",
    " ('~aɪ', 'i'),\n",
    " ('~ju', 'u'),\n",
    " ('i~', 'e'),\n",
    " ('eɪ~', 'a'),\n",
    " ('oʊ~', 'o'),\n",
    " ('aɪ~', 'i'),\n",
    " ('ju~', 'u'),\n",
    "]\n",
    "\n",
    "flattened_lateral_long_vowels = [\n",
    " ('~i', 'e'),\n",
    " ('~eɪ', 'e'),\n",
    " ('~oʊ', 'e'),\n",
    " ('~aɪ', 'e'),\n",
    " ('~ju', 'e'),\n",
    " ('i~', 'e'),\n",
    " ('eɪ~', 'e'),\n",
    " ('oʊ~', 'e'),\n",
    " ('aɪ~', 'e'),\n",
    " ('ju~', 'e'),\n",
    "]\n",
    "\n",
    "# Schwa\n",
    "schwa = [\n",
    " ('ə', schwa_name),\n",
    "]\n",
    "\n",
    "lateral_schwa = [\n",
    " ('~ə', schwa_name),\n",
    " ('ə~', schwa_name),\n",
    "]\n",
    "\n",
    "flattened_lateral_schwa = [\n",
    " ('~ə', 'e'),\n",
    " ('ə~', 'e'),\n",
    "]\n",
    "\n",
    "# remaining vowels\n",
    "remaining_vowels = [\n",
    " ('ɑ', 'a'),\n",
    " ('æ', 'a'),\n",
    " ('e', 'e'),\n",
    " ('ʊ', 'u'),\n",
    " ('ɛ', 'e'),\n",
    " ('ɔ', 'o'),\n",
    " ('a', 'a'),\n",
    " ('o', 'o'),\n",
    " ('ɪ', 'i'),\n",
    " ('u', 'u'),\n",
    "]\n",
    "\n",
    "lateral_remaining_vowels = [\n",
    " ('~ɑ', 'a'),\n",
    " ('~æ', 'a'),\n",
    " ('~e', 'e'),\n",
    " ('~ʊ', 'u'),\n",
    " ('~ɛ', 'e'),\n",
    " ('~ɔ', 'o'),\n",
    " ('~a', 'a'),\n",
    " ('~o', 'o'),\n",
    " ('~ɪ', 'i'),\n",
    " ('~u', 'u'),\n",
    " ('ɑ~', 'a'),\n",
    " ('æ~', 'a'),\n",
    " ('e~', 'e'),\n",
    " ('ʊ~', 'u'),\n",
    " ('ɛ~', 'e'),\n",
    " ('ɔ~', 'o'),\n",
    " ('a~', 'a'),\n",
    " ('o~', 'o'),\n",
    " ('ɪ~', 'i'),\n",
    " ('u~', 'u'),\n",
    "]\n",
    "\n",
    "flattened_lateral_remaining_vowels = [\n",
    " ('~ɑ', 'e'),\n",
    " ('~æ', 'e'),\n",
    " ('~e', 'e'),\n",
    " ('~ʊ', 'e'),\n",
    " ('~ɛ', 'e'),\n",
    " ('~ɔ', 'e'),\n",
    " ('~a', 'e'),\n",
    " ('~o', 'e'),\n",
    " ('~ɪ', 'e'),\n",
    " ('~u', 'e'),\n",
    " ('ɑ~', 'e'),\n",
    " ('æ~', 'e'),\n",
    " ('e~', 'e'),\n",
    " ('ʊ~', 'e'),\n",
    " ('ɛ~', 'e'),\n",
    " ('ɔ~', 'e'),\n",
    " ('a~', 'e'),\n",
    " ('o~', 'e'),\n",
    " ('ɪ~', 'e'),\n",
    " ('u~', 'e'),\n",
    "]\n",
    "\n",
    "# kill 'y' as part of long vowels\n",
    "no_long_u = [('ju','')]\n",
    "\n",
    "vowel_types = {\n",
    "    'full vowels': r_with_vowels + long_vowels + schwa + remaining_vowels,\n",
    "    'schwa suppressed vowels': r_with_lateral_vowels + long_vowels + lateral_schwa + remaining_vowels,\n",
    "    'short suppressed vowels': r_with_lateral_vowels + long_vowels + lateral_schwa + lateral_remaining_vowels,\n",
    "    'long vowels': r_without_vowels + long_vowels,\n",
    "    'lateral vowels': r_with_lateral_vowels + lateral_long_vowels + lateral_schwa + lateral_remaining_vowels + no_long_u,\n",
    "    'flattened lateral vowels': r_with_flattened_lateral_vowels + flattened_lateral_long_vowels + lateral_schwa + flattened_lateral_remaining_vowels + no_long_u,\n",
    "    'no vowels': r_without_vowels + no_long_u \n",
    "}\n",
    "\n",
    "short_vowel_names = {\n",
    "    'full vowels': 'FV',\n",
    "    'schwa suppressed vowels': 'SSV',\n",
    "    'short suppressed vowels': 'ShSV',\n",
    "    'long vowels': 'LoV',\n",
    "    'lateral vowels': 'LV',\n",
    "    'flattened lateral vowels': 'FLV',\n",
    "    'no vowels': 'NV' \n",
    "}"
   ]
  },
  {
   "cell_type": "code",
   "execution_count": 52,
   "id": "9a232aac",
   "metadata": {},
   "outputs": [
    {
     "name": "stdout",
     "output_type": "stream",
     "text": [
      "rich -> ɹɪtʃ -> rC (full plosives, merged frictives, long vowels)\n"
     ]
    }
   ],
   "source": [
    "# quick test code\n",
    "word = random.choice(list(ipa_dict.keys()))\n",
    "consonant_type = random.choice(list(consonant_types.keys()))\n",
    "vowel_type = random.choice(list(vowel_types.keys()))\n",
    "print(f\"{word} -> {ipa_dict[word].replace('/','').replace('ˈ','').replace('ˌ','')} -> {translate(word,vowel_types[vowel_type] + consonant_types[consonant_type],verbose=False)} ({consonant_type}, {vowel_type})\")"
   ]
  },
  {
   "cell_type": "code",
   "execution_count": 116,
   "id": "3230ea8f",
   "metadata": {},
   "outputs": [
    {
     "name": "stdout",
     "output_type": "stream",
     "text": [
      "e robet ma nat injer e umen beiŋ er θru inakʃen elau e umen beiŋ te kem te harm (full consonants, full vowels)\n",
      "e robet ma nat injer e umen beiŋ er θru inakʃen elau e umen beiŋ te kem te harm (full plosives, merged frictives, full vowels)\n",
      "e ropet ma nat inCer e umen peiŋ er θru inakʃen elau e umen peiŋ te kem te harm (merged consonants, full vowels)\n",
      "e robt ma nat injr e umn beiŋ er θru inakʃn elau e umn beiŋ te km te harm (full consonants, schwa suppressed vowels)\n",
      "e robt ma nat injr e umn beiŋ er θru inakʃn elau e umn beiŋ te km te harm (full plosives, merged frictives, schwa suppressed vowels)\n",
      "e ropt ma nat inCr e umn peiŋ er θru inakʃn elau e umn peiŋ te km te harm (merged consonants, schwa suppressed vowels)\n",
      "e robt ma nt injr e umn beŋ er θru inkʃn elu e umn beŋ te km te hrm (full consonants, short suppressed vowels)\n",
      "e robt ma nt injr e umn beŋ er θru inkʃn elu e umn beŋ te km te hrm (full plosives, merged frictives, short suppressed vowels)\n",
      "e ropt ma nt inCr e umn peŋ er θru inkʃn elu e umn peŋ te km te hrm (merged consonants, short suppressed vowels)\n",
      "e robt ma nt njr e umn beŋ r θr nkʃn l e umn beŋ t km t hrm (full consonants, long vowels)\n",
      "e robt ma nt njr e umn beŋ r θr nkʃn l e umn beŋ t km t hrm (full plosives, merged frictives, long vowels)\n",
      "e ropt ma nt nCr e umn peŋ r θr nkʃn l e umn peŋ t km t hrm (merged consonants, long vowels)\n",
      "e rbt ma nt injr e umn bŋ er θru inkʃn elu e umn bŋ te km te hrm (full consonants, lateral vowels)\n",
      "e rbt ma nt injr e umn bŋ er θru inkʃn elu e umn bŋ te km te hrm (full plosives, merged frictives, lateral vowels)\n",
      "e rpt ma nt inCr e umn pŋ er θru inkʃn elu e umn pŋ te km te hrm (merged consonants, lateral vowels)\n",
      "e rbt me nt enjr e emn bŋ er θre enkʃn ele e emn bŋ te km te hrm (full consonants, flattened lateral vowels)\n",
      "e rbt me nt enjr e emn bŋ er θre enkʃn ele e emn bŋ te km te hrm (full plosives, merged frictives, flattened lateral vowels)\n",
      "e rpt me nt enCr e emn pŋ er θre enkʃn ele e emn pŋ te km te hrm (merged consonants, flattened lateral vowels)\n",
      "e rbt m nt njr e mn bŋ r θr nkʃn l e mn bŋ t km t hrm (full consonants, no vowels)\n",
      "e rbt m nt njr e mn bŋ r θr nkʃn l e mn bŋ t km t hrm (full plosives, merged frictives, no vowels)\n",
      "e rpt m nt nCr e mn pŋ r θr nkʃn l e mn pŋ t km t hrm (merged consonants, no vowels)\n"
     ]
    }
   ],
   "source": [
    "sentence = \"a robot may not injure a human being or through inaction allow a human being to come to harm\"\n",
    "for vowel_type in vowel_types:\n",
    "    for consonant_type in consonant_types:\n",
    "        print(\" \".join([translate(word,vowel_types[vowel_type] + consonant_types[consonant_type]) for word in sentence.split()])+f\" ({consonant_type}, {vowel_type})\")"
   ]
  },
  {
   "cell_type": "markdown",
   "id": "954376ff-bf9c-4941-928f-3e3054191e88",
   "metadata": {},
   "source": [
    "# Write Common Code\n",
    "\n",
    "This is code that takes in:\n",
    "\n",
    "1. A list of words,\n",
    "2. A dictionary of word transformations,\n",
    "3. An optional function that computes lengths of words (defaults to `len`),\n",
    "4. An optional function that transforms a transformed word into the constituent \"letters\".\n",
    "\n",
    "It then returns the various statistics of that model as a dictionary:\n",
    "1. The mean length normalized to assume a binary alphabet (multiplied by the $log_2$ of the alphabet size),\n",
    "2. The reconstruction entropy $H(X|f(X))$,\n",
    "3. The reconstruction error $\\mathbf{P}\\{X = \\mathrm{argmax}_{y : f(y) =  f(X)} p(y)\\}$"
   ]
  },
  {
   "cell_type": "code",
   "execution_count": 54,
   "id": "391393a0-76cb-410b-9848-b150e1b3a490",
   "metadata": {},
   "outputs": [],
   "source": [
    "import math\n",
    "from collections import Counter\n",
    "\n",
    "def entropy(counts):\n",
    "    total = sum(counts.values())\n",
    "    entropy_value = 0\n",
    "    for x in counts:\n",
    "        p_x = counts[x] / total\n",
    "        if p_x > 0:\n",
    "            entropy_value -= p_x * math.log2(p_x)\n",
    "    return entropy_value\n",
    "\n",
    "def transmission_cost(letters, suprisal):\n",
    "    total_suprisal = 0\n",
    "    for l in letters:\n",
    "        total_suprisal += suprisal[l]\n",
    "    return total_suprisal\n",
    "\n",
    "def entropy_wl(word_list, one_grams_dict):\n",
    "    countlist = {w: one_grams_dict[w] for w in word_list}\n",
    "    return entropy(countlist)\n",
    "\n",
    "def code_statistics(word_list, word_mapping,\n",
    "                    length_function=lambda x: len(x),\n",
    "                    letter_making=lambda x: x, delim=None):\n",
    "    # Data to track mean outline length\n",
    "    denom = 0\n",
    "    total_length = 0\n",
    "\n",
    "    # Data to track alphabet size\n",
    "    letter_counts = Counter()\n",
    "\n",
    "    # Data to track for computing reconstruction entropy and reconstruction probability\n",
    "    forward = {}\n",
    "    inverse = {}\n",
    "    most_probable = {}\n",
    "    totals = {}\n",
    "\n",
    "    # Iterate over word list keeping track of stats for mean length and the inverse mapping\n",
    "    for word in word_list:\n",
    "        count = one_grams_dict[word]\n",
    "\n",
    "        image = word_mapping[word]\n",
    "        if delim:\n",
    "            image += delim\n",
    "\n",
    "        word_length = length_function(image) * count\n",
    "        total_length += word_length\n",
    "        denom += count\n",
    "\n",
    "        forward[word] = image\n",
    "        if image not in inverse:\n",
    "            inverse[image] = {}\n",
    "            totals[image] = 0\n",
    "\n",
    "        inverse[image][word] = count\n",
    "        totals[image] += count\n",
    "\n",
    "        # Update most probable word for each image\n",
    "        if image not in most_probable or inverse[image][word] > inverse[image][most_probable[image]]:\n",
    "            most_probable[image] = word\n",
    "\n",
    "        current_letters = letter_making(image)\n",
    "        letter_counts.update({l:count for l in current_letters})\n",
    "\n",
    "    letter_total = sum(letter_counts.values())\n",
    "    suprisal = {letter: -math.log2(letter_counts[letter] / letter_total) for letter in letter_counts}\n",
    "\n",
    "    # Compute the reconstruction entropy and reconstruction probability\n",
    "    total_reconstruction_entropy = 0\n",
    "    total_reconstruction_probability = 0\n",
    "    total_transmission_cost = 0\n",
    "\n",
    "    for word in word_list:\n",
    "        count = one_grams_dict[word]\n",
    "        image = forward[word]\n",
    "        prob = inverse[image][word] / totals[image]\n",
    "        if prob > 0:\n",
    "            total_reconstruction_entropy -= count * math.log2(prob)\n",
    "        total_reconstruction_probability += count if word == most_probable[image] else 0\n",
    "        total_transmission_cost += count * transmission_cost(letter_making(image), suprisal)\n",
    "\n",
    "    # Compute running lengths (assuming words are sorted by frequency)\n",
    "    sorted_words = sorted(\n",
    "        [w for w in word_list],\n",
    "        key=lambda w: one_grams_dict[w],\n",
    "        reverse=True\n",
    "    )\n",
    "\n",
    "    running_lengths = 0\n",
    "    running_count = 1\n",
    "\n",
    "    for w in sorted_words:\n",
    "        prob = one_grams_dict[w] / denom\n",
    "        running_lengths += prob * math.log2(running_count)\n",
    "        running_count += 1\n",
    "\n",
    "    # Mean binary length based on fixed-length encoding of letters\n",
    "    mean_binary_length = (total_length / denom) * math.log2(len(letter_counts))\n",
    "\n",
    "    # Entropy of the word list\n",
    "    word_list_entropy = entropy_wl(word_list, one_grams_dict)\n",
    "\n",
    "    return {\n",
    "        \"mean_binary_length\": mean_binary_length,\n",
    "        \"mean_binary_excess\": mean_binary_length - running_lengths,\n",
    "        \"mean_entropy_shift\": mean_binary_length - word_list_entropy,\n",
    "        \"mean_transmission_cost\": total_transmission_cost / denom,\n",
    "        \"mean_transmission_excess\": (total_transmission_cost / denom) - running_lengths,\n",
    "        \"mean_transmission_shift\": (total_transmission_cost / denom) - word_list_entropy,\n",
    "        \"reconstruction_entropy\": total_reconstruction_entropy / denom,\n",
    "        \"reconstruction_error\": 1 - (total_reconstruction_probability / denom),\n",
    "        \"alphabet\": \" \".join([x for x, _ in letter_counts.most_common()])\n",
    "    }\n"
   ]
  },
  {
   "cell_type": "markdown",
   "id": "091ba4af-1b96-4f82-8a7b-f3a7bd2e08cd",
   "metadata": {},
   "source": [
    "# Plotting\n",
    "\n",
    "Now we plot!  I will also include an allowable region based upon using Fano's inequality to this problem. "
   ]
  },
  {
   "cell_type": "code",
   "execution_count": 55,
   "id": "a2036085-84d5-4bc3-b592-091e4310bb1c",
   "metadata": {},
   "outputs": [],
   "source": [
    "def word_list(dict):\n",
    "    return [x for x in one_grams_dict if x in dict]\n",
    "\n",
    "scores = []\n",
    "for vowel_type in vowel_types:\n",
    "    for consonant_type in consonant_types:\n",
    "        dictionary = {w:translate(w,vowel_types[vowel_type] + consonant_types[consonant_type],verbose=False) for w in ipa_dict}\n",
    "        scores.append((short_consonant_names[consonant_type] + \",\" + short_vowel_names[vowel_type],code_statistics(word_list(dictionary), dictionary),'top right'))"
   ]
  },
  {
   "cell_type": "code",
   "execution_count": 56,
   "id": "24dfb5a1-517a-4c80-bdf9-bf3a70c77acd",
   "metadata": {},
   "outputs": [
    {
     "data": {
      "application/vnd.plotly.v1+json": {
       "config": {
        "plotlyServerURL": "https://plot.ly"
       },
       "data": [
        {
         "fill": "tozeroy",
         "fillcolor": "#EF553B",
         "mode": "none",
         "name": "Excluded Region",
         "type": "scatter",
         "x": {
          "bdata": "AAAAAAAA+L8AAAAAAADwvwAAAAAAAOC/AAAAAAAAAAAAAAAAAADgPwAAAAAAAPA/AAAAAAAA+D8AAAAAAAAAQAAAAAAAAARAAAAAAAAACEAAAAAAAAAMQAAAAAAAABBAAAAAAAAAEkAAAAAAAAAUQAAAAAAAABZAAAAAAAAAGEAAAAAAAAAaQAAAAAAAABxAAAAAAAAAHkAAAAAAAAAgQAAAAAAAACFAAAAAAAAAIkAAAAAAAAAjQAAAAAAAACRA",
          "dtype": "f8"
         },
         "y": [
          0.375,
          0.25,
          0.125,
          0,
          0,
          0,
          0,
          0,
          0,
          0,
          0,
          0,
          0,
          0,
          0,
          0,
          0,
          0,
          0,
          0,
          0,
          0,
          0,
          0
         ]
        },
        {
         "fill": "tozeroy",
         "fillcolor": "#EF553B",
         "mode": "none",
         "showlegend": false,
         "type": "scatter",
         "x": {
          "bdata": "AAAAAAAA+L8AAAAAAADwvwAAAAAAAOC/AAAAAAAAAAAAAAAAAADgPwAAAAAAAPA/AAAAAAAA+D8AAAAAAAAAQAAAAAAAAARAAAAAAAAACEAAAAAAAAAMQAAAAAAAABBAAAAAAAAAEkAAAAAAAAAUQAAAAAAAABZAAAAAAAAAGEAAAAAAAAAaQAAAAAAAABxAAAAAAAAAHkAAAAAAAAAgQAAAAAAAACFAAAAAAAAAIkAAAAAAAAAjQAAAAAAAACRA",
          "dtype": "f8"
         },
         "y": [
          -1,
          -1,
          -1,
          -1,
          -1,
          -1,
          -1,
          -1,
          -1,
          -1,
          -1,
          -1,
          -1,
          -1,
          -1,
          -1,
          -1,
          -1,
          -1,
          -1,
          -1,
          -1,
          -1,
          -1
         ]
        },
        {
         "fill": "none",
         "line": {
          "color": "#EF553B"
         },
         "mode": "lines",
         "showlegend": false,
         "type": "scatter",
         "x": {
          "bdata": "AAAAAAAA+L8AAAAAAADwvwAAAAAAAOC/AAAAAAAAAAAAAAAAAADgPwAAAAAAAPA/AAAAAAAA+D8AAAAAAAAAQAAAAAAAAARAAAAAAAAACEAAAAAAAAAMQAAAAAAAABBAAAAAAAAAEkAAAAAAAAAUQAAAAAAAABZAAAAAAAAAGEAAAAAAAAAaQAAAAAAAABxAAAAAAAAAHkAAAAAAAAAgQAAAAAAAACFAAAAAAAAAIkAAAAAAAAAjQAAAAAAAACRA",
          "dtype": "f8"
         },
         "y": [
          0,
          0,
          0,
          0,
          0,
          0,
          0,
          0,
          0,
          0,
          0,
          0,
          0,
          0,
          0,
          0,
          0,
          0,
          0,
          0,
          0,
          0,
          0,
          0
         ]
        },
        {
         "line": {
          "color": "#636EFA"
         },
         "mode": "markers+text",
         "name": "Shorthand Systems",
         "text": [
          "FC,FV",
          "FPMF,FV",
          "MC,FV",
          "FC,SSV",
          "FPMF,SSV",
          "MC,SSV",
          "FC,ShSV",
          "FPMF,ShSV",
          "MC,ShSV",
          "FC,LoV",
          "FPMF,LoV",
          "MC,LoV",
          "FC,LV",
          "FPMF,LV",
          "MC,LV",
          "FC,FLV",
          "FPMF,FLV",
          "MC,FLV",
          "FC,NV",
          "FPMF,NV",
          "MC,NV"
         ],
         "textposition": [
          "top right",
          "top right",
          "top right",
          "top right",
          "top right",
          "top right",
          "top right",
          "top right",
          "top right",
          "top right",
          "top right",
          "top right",
          "top right",
          "top right",
          "top right",
          "top right",
          "top right",
          "top right",
          "top right",
          "top right",
          "top right"
         ],
         "type": "scatter",
         "x": [
          6.4235599471476235,
          5.913156854624866,
          5.206850748017176,
          5.46272074018883,
          4.953369763511537,
          4.249192760675465,
          3.68973599588198,
          3.1806016360919287,
          2.476816578043813,
          2.1014776205208356,
          1.592305546304365,
          0.8883777311644074,
          2.8437658869966302,
          2.334675761722627,
          1.6309532560451085,
          1.9649412478428037,
          1.455754708618933,
          0.7518326094247723,
          0.267051533777277,
          -0.24220181478615466,
          -0.9463624974560663
         ],
         "y": [
          0.03285094362542118,
          0.03711484616306682,
          0.05103137885885156,
          0.025486654793430263,
          0.02965160691192459,
          0.04347157613251906,
          0.06115825262531338,
          0.0683186320679362,
          0.09118930364096578,
          0.11686952963055652,
          0.1299224631398923,
          0.16594955358722174,
          0.09893907275029679,
          0.11178819725982148,
          0.1440412259470797,
          0.17558104462061896,
          0.1929383807408963,
          0.22864838598536974,
          0.2326170214317772,
          0.25609698277538384,
          0.3054790895300489
         ]
        }
       ],
       "layout": {
        "height": 1024,
        "template": {
         "data": {
          "bar": [
           {
            "error_x": {
             "color": "#2a3f5f"
            },
            "error_y": {
             "color": "#2a3f5f"
            },
            "marker": {
             "line": {
              "color": "#E5ECF6",
              "width": 0.5
             },
             "pattern": {
              "fillmode": "overlay",
              "size": 10,
              "solidity": 0.2
             }
            },
            "type": "bar"
           }
          ],
          "barpolar": [
           {
            "marker": {
             "line": {
              "color": "#E5ECF6",
              "width": 0.5
             },
             "pattern": {
              "fillmode": "overlay",
              "size": 10,
              "solidity": 0.2
             }
            },
            "type": "barpolar"
           }
          ],
          "carpet": [
           {
            "aaxis": {
             "endlinecolor": "#2a3f5f",
             "gridcolor": "white",
             "linecolor": "white",
             "minorgridcolor": "white",
             "startlinecolor": "#2a3f5f"
            },
            "baxis": {
             "endlinecolor": "#2a3f5f",
             "gridcolor": "white",
             "linecolor": "white",
             "minorgridcolor": "white",
             "startlinecolor": "#2a3f5f"
            },
            "type": "carpet"
           }
          ],
          "choropleth": [
           {
            "colorbar": {
             "outlinewidth": 0,
             "ticks": ""
            },
            "type": "choropleth"
           }
          ],
          "contour": [
           {
            "colorbar": {
             "outlinewidth": 0,
             "ticks": ""
            },
            "colorscale": [
             [
              0,
              "#0d0887"
             ],
             [
              0.1111111111111111,
              "#46039f"
             ],
             [
              0.2222222222222222,
              "#7201a8"
             ],
             [
              0.3333333333333333,
              "#9c179e"
             ],
             [
              0.4444444444444444,
              "#bd3786"
             ],
             [
              0.5555555555555556,
              "#d8576b"
             ],
             [
              0.6666666666666666,
              "#ed7953"
             ],
             [
              0.7777777777777778,
              "#fb9f3a"
             ],
             [
              0.8888888888888888,
              "#fdca26"
             ],
             [
              1,
              "#f0f921"
             ]
            ],
            "type": "contour"
           }
          ],
          "contourcarpet": [
           {
            "colorbar": {
             "outlinewidth": 0,
             "ticks": ""
            },
            "type": "contourcarpet"
           }
          ],
          "heatmap": [
           {
            "colorbar": {
             "outlinewidth": 0,
             "ticks": ""
            },
            "colorscale": [
             [
              0,
              "#0d0887"
             ],
             [
              0.1111111111111111,
              "#46039f"
             ],
             [
              0.2222222222222222,
              "#7201a8"
             ],
             [
              0.3333333333333333,
              "#9c179e"
             ],
             [
              0.4444444444444444,
              "#bd3786"
             ],
             [
              0.5555555555555556,
              "#d8576b"
             ],
             [
              0.6666666666666666,
              "#ed7953"
             ],
             [
              0.7777777777777778,
              "#fb9f3a"
             ],
             [
              0.8888888888888888,
              "#fdca26"
             ],
             [
              1,
              "#f0f921"
             ]
            ],
            "type": "heatmap"
           }
          ],
          "histogram": [
           {
            "marker": {
             "pattern": {
              "fillmode": "overlay",
              "size": 10,
              "solidity": 0.2
             }
            },
            "type": "histogram"
           }
          ],
          "histogram2d": [
           {
            "colorbar": {
             "outlinewidth": 0,
             "ticks": ""
            },
            "colorscale": [
             [
              0,
              "#0d0887"
             ],
             [
              0.1111111111111111,
              "#46039f"
             ],
             [
              0.2222222222222222,
              "#7201a8"
             ],
             [
              0.3333333333333333,
              "#9c179e"
             ],
             [
              0.4444444444444444,
              "#bd3786"
             ],
             [
              0.5555555555555556,
              "#d8576b"
             ],
             [
              0.6666666666666666,
              "#ed7953"
             ],
             [
              0.7777777777777778,
              "#fb9f3a"
             ],
             [
              0.8888888888888888,
              "#fdca26"
             ],
             [
              1,
              "#f0f921"
             ]
            ],
            "type": "histogram2d"
           }
          ],
          "histogram2dcontour": [
           {
            "colorbar": {
             "outlinewidth": 0,
             "ticks": ""
            },
            "colorscale": [
             [
              0,
              "#0d0887"
             ],
             [
              0.1111111111111111,
              "#46039f"
             ],
             [
              0.2222222222222222,
              "#7201a8"
             ],
             [
              0.3333333333333333,
              "#9c179e"
             ],
             [
              0.4444444444444444,
              "#bd3786"
             ],
             [
              0.5555555555555556,
              "#d8576b"
             ],
             [
              0.6666666666666666,
              "#ed7953"
             ],
             [
              0.7777777777777778,
              "#fb9f3a"
             ],
             [
              0.8888888888888888,
              "#fdca26"
             ],
             [
              1,
              "#f0f921"
             ]
            ],
            "type": "histogram2dcontour"
           }
          ],
          "mesh3d": [
           {
            "colorbar": {
             "outlinewidth": 0,
             "ticks": ""
            },
            "type": "mesh3d"
           }
          ],
          "parcoords": [
           {
            "line": {
             "colorbar": {
              "outlinewidth": 0,
              "ticks": ""
             }
            },
            "type": "parcoords"
           }
          ],
          "pie": [
           {
            "automargin": true,
            "type": "pie"
           }
          ],
          "scatter": [
           {
            "fillpattern": {
             "fillmode": "overlay",
             "size": 10,
             "solidity": 0.2
            },
            "type": "scatter"
           }
          ],
          "scatter3d": [
           {
            "line": {
             "colorbar": {
              "outlinewidth": 0,
              "ticks": ""
             }
            },
            "marker": {
             "colorbar": {
              "outlinewidth": 0,
              "ticks": ""
             }
            },
            "type": "scatter3d"
           }
          ],
          "scattercarpet": [
           {
            "marker": {
             "colorbar": {
              "outlinewidth": 0,
              "ticks": ""
             }
            },
            "type": "scattercarpet"
           }
          ],
          "scattergeo": [
           {
            "marker": {
             "colorbar": {
              "outlinewidth": 0,
              "ticks": ""
             }
            },
            "type": "scattergeo"
           }
          ],
          "scattergl": [
           {
            "marker": {
             "colorbar": {
              "outlinewidth": 0,
              "ticks": ""
             }
            },
            "type": "scattergl"
           }
          ],
          "scattermap": [
           {
            "marker": {
             "colorbar": {
              "outlinewidth": 0,
              "ticks": ""
             }
            },
            "type": "scattermap"
           }
          ],
          "scattermapbox": [
           {
            "marker": {
             "colorbar": {
              "outlinewidth": 0,
              "ticks": ""
             }
            },
            "type": "scattermapbox"
           }
          ],
          "scatterpolar": [
           {
            "marker": {
             "colorbar": {
              "outlinewidth": 0,
              "ticks": ""
             }
            },
            "type": "scatterpolar"
           }
          ],
          "scatterpolargl": [
           {
            "marker": {
             "colorbar": {
              "outlinewidth": 0,
              "ticks": ""
             }
            },
            "type": "scatterpolargl"
           }
          ],
          "scatterternary": [
           {
            "marker": {
             "colorbar": {
              "outlinewidth": 0,
              "ticks": ""
             }
            },
            "type": "scatterternary"
           }
          ],
          "surface": [
           {
            "colorbar": {
             "outlinewidth": 0,
             "ticks": ""
            },
            "colorscale": [
             [
              0,
              "#0d0887"
             ],
             [
              0.1111111111111111,
              "#46039f"
             ],
             [
              0.2222222222222222,
              "#7201a8"
             ],
             [
              0.3333333333333333,
              "#9c179e"
             ],
             [
              0.4444444444444444,
              "#bd3786"
             ],
             [
              0.5555555555555556,
              "#d8576b"
             ],
             [
              0.6666666666666666,
              "#ed7953"
             ],
             [
              0.7777777777777778,
              "#fb9f3a"
             ],
             [
              0.8888888888888888,
              "#fdca26"
             ],
             [
              1,
              "#f0f921"
             ]
            ],
            "type": "surface"
           }
          ],
          "table": [
           {
            "cells": {
             "fill": {
              "color": "#EBF0F8"
             },
             "line": {
              "color": "white"
             }
            },
            "header": {
             "fill": {
              "color": "#C8D4E3"
             },
             "line": {
              "color": "white"
             }
            },
            "type": "table"
           }
          ]
         },
         "layout": {
          "annotationdefaults": {
           "arrowcolor": "#2a3f5f",
           "arrowhead": 0,
           "arrowwidth": 1
          },
          "autotypenumbers": "strict",
          "coloraxis": {
           "colorbar": {
            "outlinewidth": 0,
            "ticks": ""
           }
          },
          "colorscale": {
           "diverging": [
            [
             0,
             "#8e0152"
            ],
            [
             0.1,
             "#c51b7d"
            ],
            [
             0.2,
             "#de77ae"
            ],
            [
             0.3,
             "#f1b6da"
            ],
            [
             0.4,
             "#fde0ef"
            ],
            [
             0.5,
             "#f7f7f7"
            ],
            [
             0.6,
             "#e6f5d0"
            ],
            [
             0.7,
             "#b8e186"
            ],
            [
             0.8,
             "#7fbc41"
            ],
            [
             0.9,
             "#4d9221"
            ],
            [
             1,
             "#276419"
            ]
           ],
           "sequential": [
            [
             0,
             "#0d0887"
            ],
            [
             0.1111111111111111,
             "#46039f"
            ],
            [
             0.2222222222222222,
             "#7201a8"
            ],
            [
             0.3333333333333333,
             "#9c179e"
            ],
            [
             0.4444444444444444,
             "#bd3786"
            ],
            [
             0.5555555555555556,
             "#d8576b"
            ],
            [
             0.6666666666666666,
             "#ed7953"
            ],
            [
             0.7777777777777778,
             "#fb9f3a"
            ],
            [
             0.8888888888888888,
             "#fdca26"
            ],
            [
             1,
             "#f0f921"
            ]
           ],
           "sequentialminus": [
            [
             0,
             "#0d0887"
            ],
            [
             0.1111111111111111,
             "#46039f"
            ],
            [
             0.2222222222222222,
             "#7201a8"
            ],
            [
             0.3333333333333333,
             "#9c179e"
            ],
            [
             0.4444444444444444,
             "#bd3786"
            ],
            [
             0.5555555555555556,
             "#d8576b"
            ],
            [
             0.6666666666666666,
             "#ed7953"
            ],
            [
             0.7777777777777778,
             "#fb9f3a"
            ],
            [
             0.8888888888888888,
             "#fdca26"
            ],
            [
             1,
             "#f0f921"
            ]
           ]
          },
          "colorway": [
           "#636efa",
           "#EF553B",
           "#00cc96",
           "#ab63fa",
           "#FFA15A",
           "#19d3f3",
           "#FF6692",
           "#B6E880",
           "#FF97FF",
           "#FECB52"
          ],
          "font": {
           "color": "#2a3f5f"
          },
          "geo": {
           "bgcolor": "white",
           "lakecolor": "white",
           "landcolor": "#E5ECF6",
           "showlakes": true,
           "showland": true,
           "subunitcolor": "white"
          },
          "hoverlabel": {
           "align": "left"
          },
          "hovermode": "closest",
          "mapbox": {
           "style": "light"
          },
          "paper_bgcolor": "white",
          "plot_bgcolor": "#E5ECF6",
          "polar": {
           "angularaxis": {
            "gridcolor": "white",
            "linecolor": "white",
            "ticks": ""
           },
           "bgcolor": "#E5ECF6",
           "radialaxis": {
            "gridcolor": "white",
            "linecolor": "white",
            "ticks": ""
           }
          },
          "scene": {
           "xaxis": {
            "backgroundcolor": "#E5ECF6",
            "gridcolor": "white",
            "gridwidth": 2,
            "linecolor": "white",
            "showbackground": true,
            "ticks": "",
            "zerolinecolor": "white"
           },
           "yaxis": {
            "backgroundcolor": "#E5ECF6",
            "gridcolor": "white",
            "gridwidth": 2,
            "linecolor": "white",
            "showbackground": true,
            "ticks": "",
            "zerolinecolor": "white"
           },
           "zaxis": {
            "backgroundcolor": "#E5ECF6",
            "gridcolor": "white",
            "gridwidth": 2,
            "linecolor": "white",
            "showbackground": true,
            "ticks": "",
            "zerolinecolor": "white"
           }
          },
          "shapedefaults": {
           "line": {
            "color": "#2a3f5f"
           }
          },
          "ternary": {
           "aaxis": {
            "gridcolor": "white",
            "linecolor": "white",
            "ticks": ""
           },
           "baxis": {
            "gridcolor": "white",
            "linecolor": "white",
            "ticks": ""
           },
           "bgcolor": "#E5ECF6",
           "caxis": {
            "gridcolor": "white",
            "linecolor": "white",
            "ticks": ""
           }
          },
          "title": {
           "x": 0.05
          },
          "xaxis": {
           "automargin": true,
           "gridcolor": "white",
           "linecolor": "white",
           "ticks": "",
           "title": {
            "standoff": 15
           },
           "zerolinecolor": "white",
           "zerolinewidth": 2
          },
          "yaxis": {
           "automargin": true,
           "gridcolor": "white",
           "linecolor": "white",
           "ticks": "",
           "title": {
            "standoff": 15
           },
           "zerolinecolor": "white",
           "zerolinewidth": 2
          }
         }
        },
        "width": 1280,
        "xaxis": {
         "range": [
          -1.5,
          10
         ],
         "title": {
          "text": "Average Outline Complexity Overhead (bits)"
         }
        },
        "yaxis": {
         "range": [
          -0.01,
          0.4
         ],
         "title": {
          "text": "Reconstruction Error (probability)"
         }
        }
       }
      }
     },
     "metadata": {},
     "output_type": "display_data"
    }
   ],
   "source": [
    "fig = go.Figure()\n",
    "\n",
    "#fig.add_trace(go.Scatter(x=np.linspace(-1.5,10,24), y=[max(0,(1-x)/4) for x in np.linspace(-1.5,10,24)], mode='none', fill='tozeroy', name = \"Hard Region\", fillcolor='rgba(255,0,0,0.5)'))\n",
    "fig.add_trace(go.Scatter(x=np.linspace(-1.5,10,24), y=[max(0,-x/4) for x in np.linspace(-1.5,10,24)], mode='none', fill='tozeroy', name = \"Excluded Region\", fillcolor='#EF553B'))\n",
    "fig.add_trace(go.Scatter(x=np.linspace(-1.5,10,24), y=[-1 for x in np.linspace(-1.5,10,24)], mode='none', fill='tozeroy', showlegend=False, fillcolor='#EF553B'))\n",
    "fig.add_trace(go.Scatter(x=np.linspace(-1.5,10,24), y=[0 for x in np.linspace(-1.5,10,24)], mode='lines', fill='none', showlegend=False,line=dict(color='#EF553B')))\n",
    "\n",
    "fig.add_trace(go.Scatter(x=[x[1]['mean_transmission_shift'] for x in scores],\n",
    "                         y=[x[1]['reconstruction_error'] for x in scores],\n",
    "                         text=[x[0] for x in scores], textposition=[x[2] for x in scores],\n",
    "                         mode='markers+text', name=\"Shorthand Systems\", line=dict(color='#636EFA')))\n",
    "# fig.update_layout(width=1280, height=1024, xaxis_range=[-1.5, 10], yaxis_range=[-0.01, 0.4],\n",
    "#                   xaxis_title=\"Average Outline Complexity Overhead (bits)\",\n",
    "#                   yaxis_title=\"Reconstruction Error (probability)\")\n",
    "fig.update_layout(width=1280, height=1024, xaxis_range=[-1.5, 10], yaxis_range=[-0.01, 0.4],\n",
    "                  xaxis_title=\"Average Outline Complexity Overhead (bits)\",\n",
    "                  yaxis_title=\"Reconstruction Error (probability)\")\n",
    "fig.show()"
   ]
  },
  {
   "cell_type": "code",
   "execution_count": 106,
   "id": "0eea7029",
   "metadata": {},
   "outputs": [
    {
     "data": {
      "application/vnd.plotly.v1+json": {
       "config": {
        "plotlyServerURL": "https://plot.ly"
       },
       "data": [
        {
         "fill": "tozeroy",
         "fillcolor": "#EF553B",
         "mode": "none",
         "name": "Excluded Region",
         "type": "scatter",
         "x": {
          "bdata": "AAAAAAAA+L8AAAAAAADwvwAAAAAAAOC/AAAAAAAAAAAAAAAAAADgPwAAAAAAAPA/AAAAAAAA+D8AAAAAAAAAQAAAAAAAAARAAAAAAAAACEAAAAAAAAAMQAAAAAAAABBAAAAAAAAAEkAAAAAAAAAUQAAAAAAAABZAAAAAAAAAGEAAAAAAAAAaQAAAAAAAABxAAAAAAAAAHkAAAAAAAAAgQAAAAAAAACFAAAAAAAAAIkAAAAAAAAAjQAAAAAAAACRA",
          "dtype": "f8"
         },
         "y": [
          0.375,
          0.25,
          0.125,
          0,
          0,
          0,
          0,
          0,
          0,
          0,
          0,
          0,
          0,
          0,
          0,
          0,
          0,
          0,
          0,
          0,
          0,
          0,
          0,
          0
         ]
        },
        {
         "fill": "tozeroy",
         "fillcolor": "#EF553B",
         "mode": "none",
         "showlegend": false,
         "type": "scatter",
         "x": {
          "bdata": "AAAAAAAA+L8AAAAAAADwvwAAAAAAAOC/AAAAAAAAAAAAAAAAAADgPwAAAAAAAPA/AAAAAAAA+D8AAAAAAAAAQAAAAAAAAARAAAAAAAAACEAAAAAAAAAMQAAAAAAAABBAAAAAAAAAEkAAAAAAAAAUQAAAAAAAABZAAAAAAAAAGEAAAAAAAAAaQAAAAAAAABxAAAAAAAAAHkAAAAAAAAAgQAAAAAAAACFAAAAAAAAAIkAAAAAAAAAjQAAAAAAAACRA",
          "dtype": "f8"
         },
         "y": [
          -1,
          -1,
          -1,
          -1,
          -1,
          -1,
          -1,
          -1,
          -1,
          -1,
          -1,
          -1,
          -1,
          -1,
          -1,
          -1,
          -1,
          -1,
          -1,
          -1,
          -1,
          -1,
          -1,
          -1
         ]
        },
        {
         "fill": "none",
         "line": {
          "color": "#EF553B"
         },
         "mode": "lines",
         "showlegend": false,
         "type": "scatter",
         "x": {
          "bdata": "AAAAAAAA+L8AAAAAAADwvwAAAAAAAOC/AAAAAAAAAAAAAAAAAADgPwAAAAAAAPA/AAAAAAAA+D8AAAAAAAAAQAAAAAAAAARAAAAAAAAACEAAAAAAAAAMQAAAAAAAABBAAAAAAAAAEkAAAAAAAAAUQAAAAAAAABZAAAAAAAAAGEAAAAAAAAAaQAAAAAAAABxAAAAAAAAAHkAAAAAAAAAgQAAAAAAAACFAAAAAAAAAIkAAAAAAAAAjQAAAAAAAACRA",
          "dtype": "f8"
         },
         "y": [
          0,
          0,
          0,
          0,
          0,
          0,
          0,
          0,
          0,
          0,
          0,
          0,
          0,
          0,
          0,
          0,
          0,
          0,
          0,
          0,
          0,
          0,
          0,
          0
         ]
        },
        {
         "line": {
          "color": "#636EFA"
         },
         "mode": "markers+lines+text",
         "showlegend": false,
         "text": [
          "full<br>vowels",
          "",
          ""
         ],
         "textposition": [
          "bottom center",
          "bottom center",
          "bottom center"
         ],
         "type": "scatter",
         "x": [
          6.4235599471476235,
          5.913156854624866,
          5.206850748017176
         ],
         "y": [
          0.03285094362542118,
          0.03711484616306682,
          0.05103137885885156
         ]
        },
        {
         "line": {
          "color": "#636EFA"
         },
         "mode": "markers+lines+text",
         "showlegend": false,
         "text": [
          "",
          "schwa<br>suppressed<br>vowels",
          ""
         ],
         "textposition": [
          "bottom left",
          "bottom left",
          "bottom left"
         ],
         "type": "scatter",
         "x": [
          5.46272074018883,
          4.953369763511537,
          4.249192760675465
         ],
         "y": [
          0.025486654793430263,
          0.02965160691192459,
          0.04347157613251906
         ]
        },
        {
         "line": {
          "color": "#636EFA"
         },
         "mode": "markers+lines+text",
         "showlegend": false,
         "text": [
          "",
          "short<br>suppressed<br>vowels",
          ""
         ],
         "textposition": [
          "bottom left",
          "bottom left",
          "bottom left"
         ],
         "type": "scatter",
         "x": [
          3.68973599588198,
          3.1806016360919287,
          2.476816578043813
         ],
         "y": [
          0.06115825262531338,
          0.0683186320679362,
          0.09118930364096578
         ]
        },
        {
         "line": {
          "color": "#636EFA"
         },
         "mode": "markers+lines+text",
         "showlegend": false,
         "text": [
          "",
          "long<br>vowels",
          ""
         ],
         "textposition": [
          "bottom left",
          "bottom left",
          "bottom left"
         ],
         "type": "scatter",
         "x": [
          2.1014776205208356,
          1.592305546304365,
          0.8883777311644074
         ],
         "y": [
          0.11686952963055652,
          0.1299224631398923,
          0.16594955358722174
         ]
        },
        {
         "line": {
          "color": "#636EFA"
         },
         "mode": "markers+lines+text",
         "showlegend": false,
         "text": [
          "",
          "lateral<br>vowels",
          ""
         ],
         "textposition": [
          "bottom left",
          "bottom left",
          "bottom left"
         ],
         "type": "scatter",
         "x": [
          2.8437658869966302,
          2.334675761722627,
          1.6309532560451085
         ],
         "y": [
          0.09893907275029679,
          0.11178819725982148,
          0.1440412259470797
         ]
        },
        {
         "line": {
          "color": "#636EFA"
         },
         "mode": "markers+lines+text",
         "showlegend": false,
         "text": [
          "",
          "flattened<br>lateral<br>vowels",
          ""
         ],
         "textposition": [
          "bottom left",
          "bottom left",
          "bottom left"
         ],
         "type": "scatter",
         "x": [
          1.9649412478428037,
          1.455754708618933,
          0.7518326094247723
         ],
         "y": [
          0.17558104462061896,
          0.1929383807408963,
          0.22864838598536974
         ]
        },
        {
         "line": {
          "color": "#636EFA"
         },
         "mode": "markers+lines+text",
         "showlegend": false,
         "text": [
          "",
          "no<br>vowels",
          ""
         ],
         "textposition": [
          "bottom left",
          "bottom left",
          "bottom left"
         ],
         "type": "scatter",
         "x": [
          0.267051533777277,
          -0.24220181478615466,
          -0.9463624974560663
         ],
         "y": [
          0.2326170214317772,
          0.25609698277538384,
          0.3054790895300489
         ]
        },
        {
         "line": {
          "color": "#636EFA"
         },
         "mode": "markers+lines",
         "name": "Consonant Representation",
         "text": [
          "full<br>consonants<br>",
          "full<br>plosives,<br>merged<br>frictives<br>",
          "merged<br>consonants<br>"
         ],
         "textposition": [
          "top right",
          "top center",
          "top left"
         ],
         "type": "scatter",
         "x": [
          6.4235599471476235,
          5.913156854624866,
          5.206850748017176
         ],
         "y": [
          0.03285094362542118,
          0.03711484616306682,
          0.05103137885885156
         ]
        }
       ],
       "layout": {
        "annotations": [
         {
          "arrowhead": 2,
          "ax": 30,
          "ay": -50,
          "showarrow": true,
          "text": "full<br>consonants<br>",
          "x": 6.4235599471476235,
          "y": 0.03485094362542118
         },
         {
          "arrowhead": 2,
          "ax": 10,
          "ay": -50,
          "showarrow": true,
          "text": "full<br>plosives,<br>merged<br>frictives<br>",
          "x": 5.913156854624866,
          "y": 0.03911484616306682
         },
         {
          "arrowhead": 2,
          "ax": -10,
          "ay": -50,
          "showarrow": true,
          "text": "merged<br>consonants<br>",
          "x": 5.206850748017176,
          "y": 0.05303137885885156
         }
        ],
        "height": 1024,
        "template": {
         "data": {
          "bar": [
           {
            "error_x": {
             "color": "#2a3f5f"
            },
            "error_y": {
             "color": "#2a3f5f"
            },
            "marker": {
             "line": {
              "color": "#E5ECF6",
              "width": 0.5
             },
             "pattern": {
              "fillmode": "overlay",
              "size": 10,
              "solidity": 0.2
             }
            },
            "type": "bar"
           }
          ],
          "barpolar": [
           {
            "marker": {
             "line": {
              "color": "#E5ECF6",
              "width": 0.5
             },
             "pattern": {
              "fillmode": "overlay",
              "size": 10,
              "solidity": 0.2
             }
            },
            "type": "barpolar"
           }
          ],
          "carpet": [
           {
            "aaxis": {
             "endlinecolor": "#2a3f5f",
             "gridcolor": "white",
             "linecolor": "white",
             "minorgridcolor": "white",
             "startlinecolor": "#2a3f5f"
            },
            "baxis": {
             "endlinecolor": "#2a3f5f",
             "gridcolor": "white",
             "linecolor": "white",
             "minorgridcolor": "white",
             "startlinecolor": "#2a3f5f"
            },
            "type": "carpet"
           }
          ],
          "choropleth": [
           {
            "colorbar": {
             "outlinewidth": 0,
             "ticks": ""
            },
            "type": "choropleth"
           }
          ],
          "contour": [
           {
            "colorbar": {
             "outlinewidth": 0,
             "ticks": ""
            },
            "colorscale": [
             [
              0,
              "#0d0887"
             ],
             [
              0.1111111111111111,
              "#46039f"
             ],
             [
              0.2222222222222222,
              "#7201a8"
             ],
             [
              0.3333333333333333,
              "#9c179e"
             ],
             [
              0.4444444444444444,
              "#bd3786"
             ],
             [
              0.5555555555555556,
              "#d8576b"
             ],
             [
              0.6666666666666666,
              "#ed7953"
             ],
             [
              0.7777777777777778,
              "#fb9f3a"
             ],
             [
              0.8888888888888888,
              "#fdca26"
             ],
             [
              1,
              "#f0f921"
             ]
            ],
            "type": "contour"
           }
          ],
          "contourcarpet": [
           {
            "colorbar": {
             "outlinewidth": 0,
             "ticks": ""
            },
            "type": "contourcarpet"
           }
          ],
          "heatmap": [
           {
            "colorbar": {
             "outlinewidth": 0,
             "ticks": ""
            },
            "colorscale": [
             [
              0,
              "#0d0887"
             ],
             [
              0.1111111111111111,
              "#46039f"
             ],
             [
              0.2222222222222222,
              "#7201a8"
             ],
             [
              0.3333333333333333,
              "#9c179e"
             ],
             [
              0.4444444444444444,
              "#bd3786"
             ],
             [
              0.5555555555555556,
              "#d8576b"
             ],
             [
              0.6666666666666666,
              "#ed7953"
             ],
             [
              0.7777777777777778,
              "#fb9f3a"
             ],
             [
              0.8888888888888888,
              "#fdca26"
             ],
             [
              1,
              "#f0f921"
             ]
            ],
            "type": "heatmap"
           }
          ],
          "histogram": [
           {
            "marker": {
             "pattern": {
              "fillmode": "overlay",
              "size": 10,
              "solidity": 0.2
             }
            },
            "type": "histogram"
           }
          ],
          "histogram2d": [
           {
            "colorbar": {
             "outlinewidth": 0,
             "ticks": ""
            },
            "colorscale": [
             [
              0,
              "#0d0887"
             ],
             [
              0.1111111111111111,
              "#46039f"
             ],
             [
              0.2222222222222222,
              "#7201a8"
             ],
             [
              0.3333333333333333,
              "#9c179e"
             ],
             [
              0.4444444444444444,
              "#bd3786"
             ],
             [
              0.5555555555555556,
              "#d8576b"
             ],
             [
              0.6666666666666666,
              "#ed7953"
             ],
             [
              0.7777777777777778,
              "#fb9f3a"
             ],
             [
              0.8888888888888888,
              "#fdca26"
             ],
             [
              1,
              "#f0f921"
             ]
            ],
            "type": "histogram2d"
           }
          ],
          "histogram2dcontour": [
           {
            "colorbar": {
             "outlinewidth": 0,
             "ticks": ""
            },
            "colorscale": [
             [
              0,
              "#0d0887"
             ],
             [
              0.1111111111111111,
              "#46039f"
             ],
             [
              0.2222222222222222,
              "#7201a8"
             ],
             [
              0.3333333333333333,
              "#9c179e"
             ],
             [
              0.4444444444444444,
              "#bd3786"
             ],
             [
              0.5555555555555556,
              "#d8576b"
             ],
             [
              0.6666666666666666,
              "#ed7953"
             ],
             [
              0.7777777777777778,
              "#fb9f3a"
             ],
             [
              0.8888888888888888,
              "#fdca26"
             ],
             [
              1,
              "#f0f921"
             ]
            ],
            "type": "histogram2dcontour"
           }
          ],
          "mesh3d": [
           {
            "colorbar": {
             "outlinewidth": 0,
             "ticks": ""
            },
            "type": "mesh3d"
           }
          ],
          "parcoords": [
           {
            "line": {
             "colorbar": {
              "outlinewidth": 0,
              "ticks": ""
             }
            },
            "type": "parcoords"
           }
          ],
          "pie": [
           {
            "automargin": true,
            "type": "pie"
           }
          ],
          "scatter": [
           {
            "fillpattern": {
             "fillmode": "overlay",
             "size": 10,
             "solidity": 0.2
            },
            "type": "scatter"
           }
          ],
          "scatter3d": [
           {
            "line": {
             "colorbar": {
              "outlinewidth": 0,
              "ticks": ""
             }
            },
            "marker": {
             "colorbar": {
              "outlinewidth": 0,
              "ticks": ""
             }
            },
            "type": "scatter3d"
           }
          ],
          "scattercarpet": [
           {
            "marker": {
             "colorbar": {
              "outlinewidth": 0,
              "ticks": ""
             }
            },
            "type": "scattercarpet"
           }
          ],
          "scattergeo": [
           {
            "marker": {
             "colorbar": {
              "outlinewidth": 0,
              "ticks": ""
             }
            },
            "type": "scattergeo"
           }
          ],
          "scattergl": [
           {
            "marker": {
             "colorbar": {
              "outlinewidth": 0,
              "ticks": ""
             }
            },
            "type": "scattergl"
           }
          ],
          "scattermap": [
           {
            "marker": {
             "colorbar": {
              "outlinewidth": 0,
              "ticks": ""
             }
            },
            "type": "scattermap"
           }
          ],
          "scattermapbox": [
           {
            "marker": {
             "colorbar": {
              "outlinewidth": 0,
              "ticks": ""
             }
            },
            "type": "scattermapbox"
           }
          ],
          "scatterpolar": [
           {
            "marker": {
             "colorbar": {
              "outlinewidth": 0,
              "ticks": ""
             }
            },
            "type": "scatterpolar"
           }
          ],
          "scatterpolargl": [
           {
            "marker": {
             "colorbar": {
              "outlinewidth": 0,
              "ticks": ""
             }
            },
            "type": "scatterpolargl"
           }
          ],
          "scatterternary": [
           {
            "marker": {
             "colorbar": {
              "outlinewidth": 0,
              "ticks": ""
             }
            },
            "type": "scatterternary"
           }
          ],
          "surface": [
           {
            "colorbar": {
             "outlinewidth": 0,
             "ticks": ""
            },
            "colorscale": [
             [
              0,
              "#0d0887"
             ],
             [
              0.1111111111111111,
              "#46039f"
             ],
             [
              0.2222222222222222,
              "#7201a8"
             ],
             [
              0.3333333333333333,
              "#9c179e"
             ],
             [
              0.4444444444444444,
              "#bd3786"
             ],
             [
              0.5555555555555556,
              "#d8576b"
             ],
             [
              0.6666666666666666,
              "#ed7953"
             ],
             [
              0.7777777777777778,
              "#fb9f3a"
             ],
             [
              0.8888888888888888,
              "#fdca26"
             ],
             [
              1,
              "#f0f921"
             ]
            ],
            "type": "surface"
           }
          ],
          "table": [
           {
            "cells": {
             "fill": {
              "color": "#EBF0F8"
             },
             "line": {
              "color": "white"
             }
            },
            "header": {
             "fill": {
              "color": "#C8D4E3"
             },
             "line": {
              "color": "white"
             }
            },
            "type": "table"
           }
          ]
         },
         "layout": {
          "annotationdefaults": {
           "arrowcolor": "#2a3f5f",
           "arrowhead": 0,
           "arrowwidth": 1
          },
          "autotypenumbers": "strict",
          "coloraxis": {
           "colorbar": {
            "outlinewidth": 0,
            "ticks": ""
           }
          },
          "colorscale": {
           "diverging": [
            [
             0,
             "#8e0152"
            ],
            [
             0.1,
             "#c51b7d"
            ],
            [
             0.2,
             "#de77ae"
            ],
            [
             0.3,
             "#f1b6da"
            ],
            [
             0.4,
             "#fde0ef"
            ],
            [
             0.5,
             "#f7f7f7"
            ],
            [
             0.6,
             "#e6f5d0"
            ],
            [
             0.7,
             "#b8e186"
            ],
            [
             0.8,
             "#7fbc41"
            ],
            [
             0.9,
             "#4d9221"
            ],
            [
             1,
             "#276419"
            ]
           ],
           "sequential": [
            [
             0,
             "#0d0887"
            ],
            [
             0.1111111111111111,
             "#46039f"
            ],
            [
             0.2222222222222222,
             "#7201a8"
            ],
            [
             0.3333333333333333,
             "#9c179e"
            ],
            [
             0.4444444444444444,
             "#bd3786"
            ],
            [
             0.5555555555555556,
             "#d8576b"
            ],
            [
             0.6666666666666666,
             "#ed7953"
            ],
            [
             0.7777777777777778,
             "#fb9f3a"
            ],
            [
             0.8888888888888888,
             "#fdca26"
            ],
            [
             1,
             "#f0f921"
            ]
           ],
           "sequentialminus": [
            [
             0,
             "#0d0887"
            ],
            [
             0.1111111111111111,
             "#46039f"
            ],
            [
             0.2222222222222222,
             "#7201a8"
            ],
            [
             0.3333333333333333,
             "#9c179e"
            ],
            [
             0.4444444444444444,
             "#bd3786"
            ],
            [
             0.5555555555555556,
             "#d8576b"
            ],
            [
             0.6666666666666666,
             "#ed7953"
            ],
            [
             0.7777777777777778,
             "#fb9f3a"
            ],
            [
             0.8888888888888888,
             "#fdca26"
            ],
            [
             1,
             "#f0f921"
            ]
           ]
          },
          "colorway": [
           "#636efa",
           "#EF553B",
           "#00cc96",
           "#ab63fa",
           "#FFA15A",
           "#19d3f3",
           "#FF6692",
           "#B6E880",
           "#FF97FF",
           "#FECB52"
          ],
          "font": {
           "color": "#2a3f5f"
          },
          "geo": {
           "bgcolor": "white",
           "lakecolor": "white",
           "landcolor": "#E5ECF6",
           "showlakes": true,
           "showland": true,
           "subunitcolor": "white"
          },
          "hoverlabel": {
           "align": "left"
          },
          "hovermode": "closest",
          "mapbox": {
           "style": "light"
          },
          "paper_bgcolor": "white",
          "plot_bgcolor": "#E5ECF6",
          "polar": {
           "angularaxis": {
            "gridcolor": "white",
            "linecolor": "white",
            "ticks": ""
           },
           "bgcolor": "#E5ECF6",
           "radialaxis": {
            "gridcolor": "white",
            "linecolor": "white",
            "ticks": ""
           }
          },
          "scene": {
           "xaxis": {
            "backgroundcolor": "#E5ECF6",
            "gridcolor": "white",
            "gridwidth": 2,
            "linecolor": "white",
            "showbackground": true,
            "ticks": "",
            "zerolinecolor": "white"
           },
           "yaxis": {
            "backgroundcolor": "#E5ECF6",
            "gridcolor": "white",
            "gridwidth": 2,
            "linecolor": "white",
            "showbackground": true,
            "ticks": "",
            "zerolinecolor": "white"
           },
           "zaxis": {
            "backgroundcolor": "#E5ECF6",
            "gridcolor": "white",
            "gridwidth": 2,
            "linecolor": "white",
            "showbackground": true,
            "ticks": "",
            "zerolinecolor": "white"
           }
          },
          "shapedefaults": {
           "line": {
            "color": "#2a3f5f"
           }
          },
          "ternary": {
           "aaxis": {
            "gridcolor": "white",
            "linecolor": "white",
            "ticks": ""
           },
           "baxis": {
            "gridcolor": "white",
            "linecolor": "white",
            "ticks": ""
           },
           "bgcolor": "#E5ECF6",
           "caxis": {
            "gridcolor": "white",
            "linecolor": "white",
            "ticks": ""
           }
          },
          "title": {
           "x": 0.05
          },
          "xaxis": {
           "automargin": true,
           "gridcolor": "white",
           "linecolor": "white",
           "ticks": "",
           "title": {
            "standoff": 15
           },
           "zerolinecolor": "white",
           "zerolinewidth": 2
          },
          "yaxis": {
           "automargin": true,
           "gridcolor": "white",
           "linecolor": "white",
           "ticks": "",
           "title": {
            "standoff": 15
           },
           "zerolinecolor": "white",
           "zerolinewidth": 2
          }
         }
        },
        "width": 1280,
        "xaxis": {
         "range": [
          -1.5,
          10
         ],
         "title": {
          "text": "Average Outline Complexity Overhead (bits)"
         }
        },
        "yaxis": {
         "range": [
          -0.01,
          0.4
         ],
         "title": {
          "text": "Reconstruction Error (probability)"
         }
        }
       }
      }
     },
     "metadata": {},
     "output_type": "display_data"
    }
   ],
   "source": [
    "fig = go.Figure()\n",
    "\n",
    "fig.add_trace(go.Scatter(x=np.linspace(-1.5,10,24), y=[max(0,-x/4) for x in np.linspace(-1.5,10,24)], mode='none', fill='tozeroy', name = \"Excluded Region\", fillcolor='#EF553B'))\n",
    "fig.add_trace(go.Scatter(x=np.linspace(-1.5,10,24), y=[-1 for x in np.linspace(-1.5,10,24)], mode='none', fill='tozeroy', showlegend=False, fillcolor='#EF553B'))\n",
    "fig.add_trace(go.Scatter(x=np.linspace(-1.5,10,24), y=[0 for x in np.linspace(-1.5,10,24)], mode='lines', fill='none', showlegend=False,line=dict(color='#EF553B')))\n",
    "\n",
    "for i in range(0,len(scores),3):\n",
    "    fig.add_trace(go.Scatter(x=[x[1]['mean_transmission_shift'] for x in scores[i:i+3]],\n",
    "                         y=[x[1]['reconstruction_error'] for x in scores[i:i+3]],\n",
    "                         text=['',list(short_vowel_names)[i//3].replace(' ','<br>'),''] if i!=0 else [list(short_vowel_names)[i//3].replace(' ','<br>'),'',''], textposition=['bottom left' for x in scores[i:i+3]] if i!=0 else ['bottom center' for x in scores[i:i+3]],\n",
    "                         mode='markers+lines+text', line=dict(color='#636EFA'), showlegend=False))\n",
    "    \n",
    "fig.add_trace(go.Scatter(x=[x[1]['mean_transmission_shift'] for x in scores[:3]],\n",
    "                    y=[x[1]['reconstruction_error'] for x in scores[:3]],\n",
    "                    text=[x.replace(' ','<br>')+\"<br>\" for x in list(short_consonant_names)], textposition=['top right', 'top center', 'top left'],\n",
    "                    mode='markers+lines', line=dict(color='#636EFA'), name=\"Consonant Representation\"))\n",
    "for i in range(3):\n",
    "    fig.add_annotation(x=scores[i][1]['mean_transmission_shift'], y=scores[i][1]['reconstruction_error']+0.002,\n",
    "                text=list(short_consonant_names)[i].replace(' ','<br>')+\"<br>\",\n",
    "                showarrow=True,\n",
    "                arrowhead=2,ay=-50, ax=20*(2-i)-10)\n",
    "\n",
    "fig.update_layout(width=1280, height=1024, xaxis_range=[-1.5, 10], yaxis_range=[-0.01, 0.4],\n",
    "                  xaxis_title=\"Average Outline Complexity Overhead (bits)\",\n",
    "                  yaxis_title=\"Reconstruction Error (probability)\")\n",
    "fig.show()"
   ]
  },
  {
   "cell_type": "code",
   "execution_count": 107,
   "id": "54cfa505",
   "metadata": {},
   "outputs": [],
   "source": [
    "fig.write_image(\"principle_comparison_graph.svg\")"
   ]
  },
  {
   "cell_type": "code",
   "execution_count": 98,
   "id": "f8e4ff3b",
   "metadata": {},
   "outputs": [],
   "source": [
    "with open('system_scores_clean.json', 'r') as file:\n",
    "        comparison_data = json.load(file)"
   ]
  },
  {
   "cell_type": "code",
   "execution_count": 109,
   "id": "ce905c67",
   "metadata": {},
   "outputs": [
    {
     "data": {
      "application/vnd.plotly.v1+json": {
       "config": {
        "plotlyServerURL": "https://plot.ly"
       },
       "data": [
        {
         "fill": "tozeroy",
         "fillcolor": "#EF553B",
         "mode": "none",
         "name": "Excluded Region",
         "type": "scatter",
         "x": {
          "bdata": "AAAAAAAA+L8AAAAAAADwvwAAAAAAAOC/AAAAAAAAAAAAAAAAAADgPwAAAAAAAPA/AAAAAAAA+D8AAAAAAAAAQAAAAAAAAARAAAAAAAAACEAAAAAAAAAMQAAAAAAAABBAAAAAAAAAEkAAAAAAAAAUQAAAAAAAABZAAAAAAAAAGEAAAAAAAAAaQAAAAAAAABxAAAAAAAAAHkAAAAAAAAAgQAAAAAAAACFAAAAAAAAAIkAAAAAAAAAjQAAAAAAAACRA",
          "dtype": "f8"
         },
         "y": [
          0.375,
          0.25,
          0.125,
          0,
          0,
          0,
          0,
          0,
          0,
          0,
          0,
          0,
          0,
          0,
          0,
          0,
          0,
          0,
          0,
          0,
          0,
          0,
          0,
          0
         ]
        },
        {
         "fill": "tozeroy",
         "fillcolor": "#EF553B",
         "mode": "none",
         "showlegend": false,
         "type": "scatter",
         "x": {
          "bdata": "AAAAAAAA+L8AAAAAAADwvwAAAAAAAOC/AAAAAAAAAAAAAAAAAADgPwAAAAAAAPA/AAAAAAAA+D8AAAAAAAAAQAAAAAAAAARAAAAAAAAACEAAAAAAAAAMQAAAAAAAABBAAAAAAAAAEkAAAAAAAAAUQAAAAAAAABZAAAAAAAAAGEAAAAAAAAAaQAAAAAAAABxAAAAAAAAAHkAAAAAAAAAgQAAAAAAAACFAAAAAAAAAIkAAAAAAAAAjQAAAAAAAACRA",
          "dtype": "f8"
         },
         "y": [
          -1,
          -1,
          -1,
          -1,
          -1,
          -1,
          -1,
          -1,
          -1,
          -1,
          -1,
          -1,
          -1,
          -1,
          -1,
          -1,
          -1,
          -1,
          -1,
          -1,
          -1,
          -1,
          -1,
          -1
         ]
        },
        {
         "fill": "none",
         "line": {
          "color": "#EF553B"
         },
         "mode": "lines",
         "showlegend": false,
         "type": "scatter",
         "x": {
          "bdata": "AAAAAAAA+L8AAAAAAADwvwAAAAAAAOC/AAAAAAAAAAAAAAAAAADgPwAAAAAAAPA/AAAAAAAA+D8AAAAAAAAAQAAAAAAAAARAAAAAAAAACEAAAAAAAAAMQAAAAAAAABBAAAAAAAAAEkAAAAAAAAAUQAAAAAAAABZAAAAAAAAAGEAAAAAAAAAaQAAAAAAAABxAAAAAAAAAHkAAAAAAAAAgQAAAAAAAACFAAAAAAAAAIkAAAAAAAAAjQAAAAAAAACRA",
          "dtype": "f8"
         },
         "y": [
          0,
          0,
          0,
          0,
          0,
          0,
          0,
          0,
          0,
          0,
          0,
          0,
          0,
          0,
          0,
          0,
          0,
          0,
          0,
          0,
          0,
          0,
          0,
          0
         ]
        },
        {
         "line": {
          "color": "#636EFA"
         },
         "mode": "lines",
         "showlegend": false,
         "text": [
          "",
          "full<br>vowels",
          ""
         ],
         "textposition": [
          "bottom left",
          "bottom left",
          "bottom left"
         ],
         "type": "scatter",
         "x": [
          6.4235599471476235,
          5.913156854624866,
          5.206850748017176
         ],
         "y": [
          0.03285094362542118,
          0.03711484616306682,
          0.05103137885885156
         ]
        },
        {
         "line": {
          "color": "#636EFA"
         },
         "mode": "lines",
         "showlegend": false,
         "text": [
          "",
          "schwa<br>suppressed<br>vowels",
          ""
         ],
         "textposition": [
          "bottom left",
          "bottom left",
          "bottom left"
         ],
         "type": "scatter",
         "x": [
          5.46272074018883,
          4.953369763511537,
          4.249192760675465
         ],
         "y": [
          0.025486654793430263,
          0.02965160691192459,
          0.04347157613251906
         ]
        },
        {
         "line": {
          "color": "#636EFA"
         },
         "mode": "lines",
         "showlegend": false,
         "text": [
          "",
          "short<br>suppressed<br>vowels",
          ""
         ],
         "textposition": [
          "bottom left",
          "bottom left",
          "bottom left"
         ],
         "type": "scatter",
         "x": [
          3.68973599588198,
          3.1806016360919287,
          2.476816578043813
         ],
         "y": [
          0.06115825262531338,
          0.0683186320679362,
          0.09118930364096578
         ]
        },
        {
         "line": {
          "color": "#636EFA"
         },
         "mode": "lines",
         "showlegend": false,
         "text": [
          "",
          "long<br>vowels",
          ""
         ],
         "textposition": [
          "bottom left",
          "bottom left",
          "bottom left"
         ],
         "type": "scatter",
         "x": [
          2.1014776205208356,
          1.592305546304365,
          0.8883777311644074
         ],
         "y": [
          0.11686952963055652,
          0.1299224631398923,
          0.16594955358722174
         ]
        },
        {
         "line": {
          "color": "#636EFA"
         },
         "mode": "lines",
         "showlegend": false,
         "text": [
          "",
          "lateral<br>vowels",
          ""
         ],
         "textposition": [
          "bottom left",
          "bottom left",
          "bottom left"
         ],
         "type": "scatter",
         "x": [
          2.8437658869966302,
          2.334675761722627,
          1.6309532560451085
         ],
         "y": [
          0.09893907275029679,
          0.11178819725982148,
          0.1440412259470797
         ]
        },
        {
         "line": {
          "color": "#636EFA"
         },
         "mode": "lines",
         "showlegend": false,
         "text": [
          "",
          "flattened<br>lateral<br>vowels",
          ""
         ],
         "textposition": [
          "bottom left",
          "bottom left",
          "bottom left"
         ],
         "type": "scatter",
         "x": [
          1.9649412478428037,
          1.455754708618933,
          0.7518326094247723
         ],
         "y": [
          0.17558104462061896,
          0.1929383807408963,
          0.22864838598536974
         ]
        },
        {
         "line": {
          "color": "#636EFA"
         },
         "mode": "lines",
         "showlegend": false,
         "text": [
          "",
          "no<br>vowels",
          ""
         ],
         "textposition": [
          "bottom left",
          "bottom left",
          "bottom left"
         ],
         "type": "scatter",
         "x": [
          0.267051533777277,
          -0.24220181478615466,
          -0.9463624974560663
         ],
         "y": [
          0.2326170214317772,
          0.25609698277538384,
          0.3054790895300489
         ]
        },
        {
         "line": {
          "color": "#636EFA"
         },
         "mode": "lines",
         "name": "Basic Systems",
         "type": "scatter",
         "x": [
          6.4235599471476235,
          5.913156854624866,
          5.206850748017176
         ],
         "y": [
          0.03285094362542118,
          0.03711484616306682,
          0.05103137885885156
         ]
        },
        {
         "line": {
          "color": "#636EFA"
         },
         "mode": "markers+text",
         "name": "Shorthand Systems",
         "text": [
          "Spelling",
          "IPA",
          "Carter</br></br>Briefhand",
          "Dutton</br></br>Speedwords",
          "Gregg</br></br>Anniversary",
          "Gregg</br></br>Notehand",
          "Gregg</br></br>Simplified",
          "bref",
          "Yublin",
          "Cut Spelng",
          "Taylor",
          "Taylor+",
          "Characterie",
          "Teeline",
          "Keyscript",
          "Dearborn</br></br>Speedwriting",
          "QC-line",
          "Yash",
          "Jeake</br></br>Ph. Tr. 487",
          "Polyphonic</br></br>Cipher",
          "Pitman</br></br>2000",
          "Pitman 2000</br></br>(No Vowel)",
          "Superwrite",
          "Swiftograph</br></br>Curtailed",
          "Swiftograph</br></br>Full"
         ],
         "textposition": [
          "top center",
          "top center",
          "top center",
          "bottom center",
          "top center",
          "bottom left",
          "bottom center",
          "top center",
          "top center",
          "top center",
          "top center",
          "top center",
          "top center",
          "bottom center",
          "top right",
          "top center",
          "middle right",
          "bottom center",
          "top right",
          "top right",
          "bottom left",
          "top right",
          "top left",
          "top center",
          "middle right"
         ],
         "type": "scatter",
         "x": [
          9.044670183693249,
          8.96273721754915,
          -0.33954856149895285,
          0.5049503017514247,
          2.0166565012047535,
          3.3749748411997835,
          2.5759041557736273,
          1.8022412414811342,
          4.9592392117732516,
          7.58406177197482,
          0.15978726103725904,
          0.7255543568691749,
          4.719004036762003,
          3.5581401234285943,
          -1.0415375600023538,
          -0.2549992577294562,
          3.750323110027381,
          0.48435528249922477,
          -1.3262096557038827,
          4.545783354962097,
          4.367758884427073,
          1.1198537272248492,
          1.071160037439717,
          3.1290279198346997,
          5.6473181065343
         ],
         "y": [
          0,
          0.014930232236564533,
          0.3048400643277738,
          0.11017558339765876,
          0.07505138574335446,
          0.033954582356027774,
          0.06600137338137413,
          0,
          0,
          0.005325956756667138,
          0.2218609124591735,
          0.1900756428174497,
          0.0662984787750377,
          0.054781492737337456,
          0.27275805499274164,
          0.18216280866243562,
          0.0647610299624436,
          0.18388474099533814,
          0.35139657535538305,
          0.023091815341297117,
          0.0188530058822729,
          0.12174817795441739,
          0.12144321942914205,
          0.10909772718267308,
          0.02466666732051115
         ]
        }
       ],
       "layout": {
        "height": 1024,
        "template": {
         "data": {
          "bar": [
           {
            "error_x": {
             "color": "#2a3f5f"
            },
            "error_y": {
             "color": "#2a3f5f"
            },
            "marker": {
             "line": {
              "color": "#E5ECF6",
              "width": 0.5
             },
             "pattern": {
              "fillmode": "overlay",
              "size": 10,
              "solidity": 0.2
             }
            },
            "type": "bar"
           }
          ],
          "barpolar": [
           {
            "marker": {
             "line": {
              "color": "#E5ECF6",
              "width": 0.5
             },
             "pattern": {
              "fillmode": "overlay",
              "size": 10,
              "solidity": 0.2
             }
            },
            "type": "barpolar"
           }
          ],
          "carpet": [
           {
            "aaxis": {
             "endlinecolor": "#2a3f5f",
             "gridcolor": "white",
             "linecolor": "white",
             "minorgridcolor": "white",
             "startlinecolor": "#2a3f5f"
            },
            "baxis": {
             "endlinecolor": "#2a3f5f",
             "gridcolor": "white",
             "linecolor": "white",
             "minorgridcolor": "white",
             "startlinecolor": "#2a3f5f"
            },
            "type": "carpet"
           }
          ],
          "choropleth": [
           {
            "colorbar": {
             "outlinewidth": 0,
             "ticks": ""
            },
            "type": "choropleth"
           }
          ],
          "contour": [
           {
            "colorbar": {
             "outlinewidth": 0,
             "ticks": ""
            },
            "colorscale": [
             [
              0,
              "#0d0887"
             ],
             [
              0.1111111111111111,
              "#46039f"
             ],
             [
              0.2222222222222222,
              "#7201a8"
             ],
             [
              0.3333333333333333,
              "#9c179e"
             ],
             [
              0.4444444444444444,
              "#bd3786"
             ],
             [
              0.5555555555555556,
              "#d8576b"
             ],
             [
              0.6666666666666666,
              "#ed7953"
             ],
             [
              0.7777777777777778,
              "#fb9f3a"
             ],
             [
              0.8888888888888888,
              "#fdca26"
             ],
             [
              1,
              "#f0f921"
             ]
            ],
            "type": "contour"
           }
          ],
          "contourcarpet": [
           {
            "colorbar": {
             "outlinewidth": 0,
             "ticks": ""
            },
            "type": "contourcarpet"
           }
          ],
          "heatmap": [
           {
            "colorbar": {
             "outlinewidth": 0,
             "ticks": ""
            },
            "colorscale": [
             [
              0,
              "#0d0887"
             ],
             [
              0.1111111111111111,
              "#46039f"
             ],
             [
              0.2222222222222222,
              "#7201a8"
             ],
             [
              0.3333333333333333,
              "#9c179e"
             ],
             [
              0.4444444444444444,
              "#bd3786"
             ],
             [
              0.5555555555555556,
              "#d8576b"
             ],
             [
              0.6666666666666666,
              "#ed7953"
             ],
             [
              0.7777777777777778,
              "#fb9f3a"
             ],
             [
              0.8888888888888888,
              "#fdca26"
             ],
             [
              1,
              "#f0f921"
             ]
            ],
            "type": "heatmap"
           }
          ],
          "histogram": [
           {
            "marker": {
             "pattern": {
              "fillmode": "overlay",
              "size": 10,
              "solidity": 0.2
             }
            },
            "type": "histogram"
           }
          ],
          "histogram2d": [
           {
            "colorbar": {
             "outlinewidth": 0,
             "ticks": ""
            },
            "colorscale": [
             [
              0,
              "#0d0887"
             ],
             [
              0.1111111111111111,
              "#46039f"
             ],
             [
              0.2222222222222222,
              "#7201a8"
             ],
             [
              0.3333333333333333,
              "#9c179e"
             ],
             [
              0.4444444444444444,
              "#bd3786"
             ],
             [
              0.5555555555555556,
              "#d8576b"
             ],
             [
              0.6666666666666666,
              "#ed7953"
             ],
             [
              0.7777777777777778,
              "#fb9f3a"
             ],
             [
              0.8888888888888888,
              "#fdca26"
             ],
             [
              1,
              "#f0f921"
             ]
            ],
            "type": "histogram2d"
           }
          ],
          "histogram2dcontour": [
           {
            "colorbar": {
             "outlinewidth": 0,
             "ticks": ""
            },
            "colorscale": [
             [
              0,
              "#0d0887"
             ],
             [
              0.1111111111111111,
              "#46039f"
             ],
             [
              0.2222222222222222,
              "#7201a8"
             ],
             [
              0.3333333333333333,
              "#9c179e"
             ],
             [
              0.4444444444444444,
              "#bd3786"
             ],
             [
              0.5555555555555556,
              "#d8576b"
             ],
             [
              0.6666666666666666,
              "#ed7953"
             ],
             [
              0.7777777777777778,
              "#fb9f3a"
             ],
             [
              0.8888888888888888,
              "#fdca26"
             ],
             [
              1,
              "#f0f921"
             ]
            ],
            "type": "histogram2dcontour"
           }
          ],
          "mesh3d": [
           {
            "colorbar": {
             "outlinewidth": 0,
             "ticks": ""
            },
            "type": "mesh3d"
           }
          ],
          "parcoords": [
           {
            "line": {
             "colorbar": {
              "outlinewidth": 0,
              "ticks": ""
             }
            },
            "type": "parcoords"
           }
          ],
          "pie": [
           {
            "automargin": true,
            "type": "pie"
           }
          ],
          "scatter": [
           {
            "fillpattern": {
             "fillmode": "overlay",
             "size": 10,
             "solidity": 0.2
            },
            "type": "scatter"
           }
          ],
          "scatter3d": [
           {
            "line": {
             "colorbar": {
              "outlinewidth": 0,
              "ticks": ""
             }
            },
            "marker": {
             "colorbar": {
              "outlinewidth": 0,
              "ticks": ""
             }
            },
            "type": "scatter3d"
           }
          ],
          "scattercarpet": [
           {
            "marker": {
             "colorbar": {
              "outlinewidth": 0,
              "ticks": ""
             }
            },
            "type": "scattercarpet"
           }
          ],
          "scattergeo": [
           {
            "marker": {
             "colorbar": {
              "outlinewidth": 0,
              "ticks": ""
             }
            },
            "type": "scattergeo"
           }
          ],
          "scattergl": [
           {
            "marker": {
             "colorbar": {
              "outlinewidth": 0,
              "ticks": ""
             }
            },
            "type": "scattergl"
           }
          ],
          "scattermap": [
           {
            "marker": {
             "colorbar": {
              "outlinewidth": 0,
              "ticks": ""
             }
            },
            "type": "scattermap"
           }
          ],
          "scattermapbox": [
           {
            "marker": {
             "colorbar": {
              "outlinewidth": 0,
              "ticks": ""
             }
            },
            "type": "scattermapbox"
           }
          ],
          "scatterpolar": [
           {
            "marker": {
             "colorbar": {
              "outlinewidth": 0,
              "ticks": ""
             }
            },
            "type": "scatterpolar"
           }
          ],
          "scatterpolargl": [
           {
            "marker": {
             "colorbar": {
              "outlinewidth": 0,
              "ticks": ""
             }
            },
            "type": "scatterpolargl"
           }
          ],
          "scatterternary": [
           {
            "marker": {
             "colorbar": {
              "outlinewidth": 0,
              "ticks": ""
             }
            },
            "type": "scatterternary"
           }
          ],
          "surface": [
           {
            "colorbar": {
             "outlinewidth": 0,
             "ticks": ""
            },
            "colorscale": [
             [
              0,
              "#0d0887"
             ],
             [
              0.1111111111111111,
              "#46039f"
             ],
             [
              0.2222222222222222,
              "#7201a8"
             ],
             [
              0.3333333333333333,
              "#9c179e"
             ],
             [
              0.4444444444444444,
              "#bd3786"
             ],
             [
              0.5555555555555556,
              "#d8576b"
             ],
             [
              0.6666666666666666,
              "#ed7953"
             ],
             [
              0.7777777777777778,
              "#fb9f3a"
             ],
             [
              0.8888888888888888,
              "#fdca26"
             ],
             [
              1,
              "#f0f921"
             ]
            ],
            "type": "surface"
           }
          ],
          "table": [
           {
            "cells": {
             "fill": {
              "color": "#EBF0F8"
             },
             "line": {
              "color": "white"
             }
            },
            "header": {
             "fill": {
              "color": "#C8D4E3"
             },
             "line": {
              "color": "white"
             }
            },
            "type": "table"
           }
          ]
         },
         "layout": {
          "annotationdefaults": {
           "arrowcolor": "#2a3f5f",
           "arrowhead": 0,
           "arrowwidth": 1
          },
          "autotypenumbers": "strict",
          "coloraxis": {
           "colorbar": {
            "outlinewidth": 0,
            "ticks": ""
           }
          },
          "colorscale": {
           "diverging": [
            [
             0,
             "#8e0152"
            ],
            [
             0.1,
             "#c51b7d"
            ],
            [
             0.2,
             "#de77ae"
            ],
            [
             0.3,
             "#f1b6da"
            ],
            [
             0.4,
             "#fde0ef"
            ],
            [
             0.5,
             "#f7f7f7"
            ],
            [
             0.6,
             "#e6f5d0"
            ],
            [
             0.7,
             "#b8e186"
            ],
            [
             0.8,
             "#7fbc41"
            ],
            [
             0.9,
             "#4d9221"
            ],
            [
             1,
             "#276419"
            ]
           ],
           "sequential": [
            [
             0,
             "#0d0887"
            ],
            [
             0.1111111111111111,
             "#46039f"
            ],
            [
             0.2222222222222222,
             "#7201a8"
            ],
            [
             0.3333333333333333,
             "#9c179e"
            ],
            [
             0.4444444444444444,
             "#bd3786"
            ],
            [
             0.5555555555555556,
             "#d8576b"
            ],
            [
             0.6666666666666666,
             "#ed7953"
            ],
            [
             0.7777777777777778,
             "#fb9f3a"
            ],
            [
             0.8888888888888888,
             "#fdca26"
            ],
            [
             1,
             "#f0f921"
            ]
           ],
           "sequentialminus": [
            [
             0,
             "#0d0887"
            ],
            [
             0.1111111111111111,
             "#46039f"
            ],
            [
             0.2222222222222222,
             "#7201a8"
            ],
            [
             0.3333333333333333,
             "#9c179e"
            ],
            [
             0.4444444444444444,
             "#bd3786"
            ],
            [
             0.5555555555555556,
             "#d8576b"
            ],
            [
             0.6666666666666666,
             "#ed7953"
            ],
            [
             0.7777777777777778,
             "#fb9f3a"
            ],
            [
             0.8888888888888888,
             "#fdca26"
            ],
            [
             1,
             "#f0f921"
            ]
           ]
          },
          "colorway": [
           "#636efa",
           "#EF553B",
           "#00cc96",
           "#ab63fa",
           "#FFA15A",
           "#19d3f3",
           "#FF6692",
           "#B6E880",
           "#FF97FF",
           "#FECB52"
          ],
          "font": {
           "color": "#2a3f5f"
          },
          "geo": {
           "bgcolor": "white",
           "lakecolor": "white",
           "landcolor": "#E5ECF6",
           "showlakes": true,
           "showland": true,
           "subunitcolor": "white"
          },
          "hoverlabel": {
           "align": "left"
          },
          "hovermode": "closest",
          "mapbox": {
           "style": "light"
          },
          "paper_bgcolor": "white",
          "plot_bgcolor": "#E5ECF6",
          "polar": {
           "angularaxis": {
            "gridcolor": "white",
            "linecolor": "white",
            "ticks": ""
           },
           "bgcolor": "#E5ECF6",
           "radialaxis": {
            "gridcolor": "white",
            "linecolor": "white",
            "ticks": ""
           }
          },
          "scene": {
           "xaxis": {
            "backgroundcolor": "#E5ECF6",
            "gridcolor": "white",
            "gridwidth": 2,
            "linecolor": "white",
            "showbackground": true,
            "ticks": "",
            "zerolinecolor": "white"
           },
           "yaxis": {
            "backgroundcolor": "#E5ECF6",
            "gridcolor": "white",
            "gridwidth": 2,
            "linecolor": "white",
            "showbackground": true,
            "ticks": "",
            "zerolinecolor": "white"
           },
           "zaxis": {
            "backgroundcolor": "#E5ECF6",
            "gridcolor": "white",
            "gridwidth": 2,
            "linecolor": "white",
            "showbackground": true,
            "ticks": "",
            "zerolinecolor": "white"
           }
          },
          "shapedefaults": {
           "line": {
            "color": "#2a3f5f"
           }
          },
          "ternary": {
           "aaxis": {
            "gridcolor": "white",
            "linecolor": "white",
            "ticks": ""
           },
           "baxis": {
            "gridcolor": "white",
            "linecolor": "white",
            "ticks": ""
           },
           "bgcolor": "#E5ECF6",
           "caxis": {
            "gridcolor": "white",
            "linecolor": "white",
            "ticks": ""
           }
          },
          "title": {
           "x": 0.05
          },
          "xaxis": {
           "automargin": true,
           "gridcolor": "white",
           "linecolor": "white",
           "ticks": "",
           "title": {
            "standoff": 15
           },
           "zerolinecolor": "white",
           "zerolinewidth": 2
          },
          "yaxis": {
           "automargin": true,
           "gridcolor": "white",
           "linecolor": "white",
           "ticks": "",
           "title": {
            "standoff": 15
           },
           "zerolinecolor": "white",
           "zerolinewidth": 2
          }
         }
        },
        "width": 1280,
        "xaxis": {
         "range": [
          -1.5,
          10
         ],
         "title": {
          "text": "Average Outline Complexity Overhead (bits)"
         }
        },
        "yaxis": {
         "range": [
          -0.01,
          0.4
         ],
         "title": {
          "text": "Reconstruction Error (probability)"
         }
        }
       }
      }
     },
     "metadata": {},
     "output_type": "display_data"
    }
   ],
   "source": [
    "fig = go.Figure()\n",
    "\n",
    "fig.add_trace(go.Scatter(x=np.linspace(-1.5,10,24), y=[max(0,-x/4) for x in np.linspace(-1.5,10,24)], mode='none', fill='tozeroy', name = \"Excluded Region\", fillcolor='#EF553B'))\n",
    "fig.add_trace(go.Scatter(x=np.linspace(-1.5,10,24), y=[-1 for x in np.linspace(-1.5,10,24)], mode='none', fill='tozeroy', showlegend=False, fillcolor='#EF553B'))\n",
    "fig.add_trace(go.Scatter(x=np.linspace(-1.5,10,24), y=[0 for x in np.linspace(-1.5,10,24)], mode='lines', fill='none', showlegend=False,line=dict(color='#EF553B')))\n",
    "\n",
    "for i in range(0,len(scores),3):\n",
    "    fig.add_trace(go.Scatter(x=[x[1]['mean_transmission_shift'] for x in scores[i:i+3]],\n",
    "                         y=[x[1]['reconstruction_error'] for x in scores[i:i+3]],\n",
    "                         text=['',list(short_vowel_names)[i//3].replace(' ','<br>'),''], textposition=['bottom left' for x in scores[i:i+3]],\n",
    "                         mode='lines', line=dict(color='#636EFA'), showlegend=False))\n",
    "    \n",
    "fig.add_trace(go.Scatter(x=[x[1]['mean_transmission_shift'] for x in scores[:3]],\n",
    "                         y=[x[1]['reconstruction_error'] for x in scores[:3]],\n",
    "                         mode='lines', line=dict(color='#636EFA'), name = \"Basic Systems\"))\n",
    "    \n",
    "fig.add_trace(go.Scatter(x=[x[1]['mean_transmission_shift'] for x in comparison_data],\n",
    "                         y=[x[1]['reconstruction_error'] for x in comparison_data],\n",
    "                         text=[x[0] for x in comparison_data], textposition=[x[2] for x in comparison_data],\n",
    "                         mode='markers+text', name=\"Shorthand Systems\", line=dict(color='#636EFA')))\n",
    "\n",
    "fig.update_layout(width=1280, height=1024, xaxis_range=[-1.5, 10], yaxis_range=[-0.01, 0.4],\n",
    "                  xaxis_title=\"Average Outline Complexity Overhead (bits)\",\n",
    "                  yaxis_title=\"Reconstruction Error (probability)\")\n",
    "fig.show()"
   ]
  },
  {
   "cell_type": "markdown",
   "id": "970d5dc9",
   "metadata": {},
   "source": [
    "# Analysis of Curtailment\n",
    "\n",
    "Now, we will add simple one-sided trimming, and try to extract the front."
   ]
  },
  {
   "cell_type": "code",
   "execution_count": 60,
   "id": "0c0d6763",
   "metadata": {},
   "outputs": [],
   "source": [
    "def curtail(word,l):\n",
    "    return word[:l]\n",
    "\n",
    "curtailed_scores = []\n",
    "for l in ([100] + [x for x in range(1,10)]):\n",
    "    for vowel_type in vowel_types:\n",
    "        for consonant_type in consonant_types:\n",
    "            dictionary = {w:curtail(translate(w,vowel_types[vowel_type] + consonant_types[consonant_type],verbose=False),l) for w in ipa_dict}\n",
    "            curtailed_scores.append((short_consonant_names[consonant_type] + \",\" + short_vowel_names[vowel_type] + \",\" + str(l),code_statistics(word_list(dictionary), dictionary),'top right'))\n",
    "\n",
    "null_dict = {w:'.' for w in ipa_dict}\n",
    "curtailed_scores.append(('Null',code_statistics(word_list(null_dict), null_dict),'top right'))\n",
    "\n",
    "full_ipa_dict = {w:ipa_dict[w].replace('/','').replace('ˈ','').replace('ˌ','') for w in ipa_dict}\n",
    "curtailed_scores.append(('IPA',code_statistics(word_list(full_ipa_dict), full_ipa_dict),'top right'))"
   ]
  },
  {
   "cell_type": "code",
   "execution_count": null,
   "id": "18d04a2f",
   "metadata": {},
   "outputs": [
    {
     "data": {
      "application/vnd.plotly.v1+json": {
       "config": {
        "plotlyServerURL": "https://plot.ly"
       },
       "data": [
        {
         "fill": "tozeroy",
         "fillcolor": "#EF553B",
         "mode": "none",
         "name": "Excluded Region",
         "type": "scatter",
         "x": {
          "bdata": "AAAAAAAA+L8AAAAAAADwvwAAAAAAAOC/AAAAAAAAAAAAAAAAAADgPwAAAAAAAPA/AAAAAAAA+D8AAAAAAAAAQAAAAAAAAARAAAAAAAAACEAAAAAAAAAMQAAAAAAAABBAAAAAAAAAEkAAAAAAAAAUQAAAAAAAABZAAAAAAAAAGEAAAAAAAAAaQAAAAAAAABxAAAAAAAAAHkAAAAAAAAAgQAAAAAAAACFAAAAAAAAAIkAAAAAAAAAjQAAAAAAAACRA",
          "dtype": "f8"
         },
         "y": [
          0.375,
          0.25,
          0.125,
          0,
          0,
          0,
          0,
          0,
          0,
          0,
          0,
          0,
          0,
          0,
          0,
          0,
          0,
          0,
          0,
          0,
          0,
          0,
          0,
          0
         ]
        },
        {
         "fill": "tozeroy",
         "fillcolor": "#EF553B",
         "mode": "none",
         "showlegend": false,
         "type": "scatter",
         "x": {
          "bdata": "AAAAAAAA+L8AAAAAAADwvwAAAAAAAOC/AAAAAAAAAAAAAAAAAADgPwAAAAAAAPA/AAAAAAAA+D8AAAAAAAAAQAAAAAAAAARAAAAAAAAACEAAAAAAAAAMQAAAAAAAABBAAAAAAAAAEkAAAAAAAAAUQAAAAAAAABZAAAAAAAAAGEAAAAAAAAAaQAAAAAAAABxAAAAAAAAAHkAAAAAAAAAgQAAAAAAAACFAAAAAAAAAIkAAAAAAAAAjQAAAAAAAACRA",
          "dtype": "f8"
         },
         "y": [
          -1,
          -1,
          -1,
          -1,
          -1,
          -1,
          -1,
          -1,
          -1,
          -1,
          -1,
          -1,
          -1,
          -1,
          -1,
          -1,
          -1,
          -1,
          -1,
          -1,
          -1,
          -1,
          -1,
          -1
         ]
        },
        {
         "fill": "none",
         "line": {
          "color": "#EF553B"
         },
         "mode": "lines",
         "showlegend": false,
         "type": "scatter",
         "x": {
          "bdata": "AAAAAAAA+L8AAAAAAADwvwAAAAAAAOC/AAAAAAAAAAAAAAAAAADgPwAAAAAAAPA/AAAAAAAA+D8AAAAAAAAAQAAAAAAAAARAAAAAAAAACEAAAAAAAAAMQAAAAAAAABBAAAAAAAAAEkAAAAAAAAAUQAAAAAAAABZAAAAAAAAAGEAAAAAAAAAaQAAAAAAAABxAAAAAAAAAHkAAAAAAAAAgQAAAAAAAACFAAAAAAAAAIkAAAAAAAAAjQAAAAAAAACRA",
          "dtype": "f8"
         },
         "y": [
          0,
          0,
          0,
          0,
          0,
          0,
          0,
          0,
          0,
          0,
          0,
          0,
          0,
          0,
          0,
          0,
          0,
          0,
          0,
          0,
          0,
          0,
          0,
          0
         ]
        },
        {
         "line": {
          "color": "#FFAA50"
         },
         "mode": "markers",
         "name": "Curtailed Systems",
         "text": [
          "FC,FV,100",
          "FPMF,FV,100",
          "MC,FV,100",
          "FC,SSV,100",
          "FPMF,SSV,100",
          "MC,SSV,100",
          "FC,ShSV,100",
          "FPMF,ShSV,100",
          "MC,ShSV,100",
          "FC,LoV,100",
          "FPMF,LoV,100",
          "MC,LoV,100",
          "FC,LV,100",
          "FPMF,LV,100",
          "MC,LV,100",
          "FC,FLV,100",
          "FPMF,FLV,100",
          "MC,FLV,100",
          "FC,NV,100",
          "FPMF,NV,100",
          "MC,NV,100",
          "FC,FV,1",
          "FPMF,FV,1",
          "MC,FV,1",
          "FC,SSV,1",
          "FPMF,SSV,1",
          "MC,SSV,1",
          "FC,ShSV,1",
          "FPMF,ShSV,1",
          "MC,ShSV,1",
          "FC,LoV,1",
          "FPMF,LoV,1",
          "MC,LoV,1",
          "FC,LV,1",
          "FPMF,LV,1",
          "MC,LV,1",
          "FC,FLV,1",
          "FPMF,FLV,1",
          "MC,FLV,1",
          "FC,NV,1",
          "FPMF,NV,1",
          "MC,NV,1",
          "FC,FV,2",
          "FPMF,FV,2",
          "MC,FV,2",
          "FC,SSV,2",
          "FPMF,SSV,2",
          "MC,SSV,2",
          "FC,ShSV,2",
          "FPMF,ShSV,2",
          "MC,ShSV,2",
          "FC,LoV,2",
          "FPMF,LoV,2",
          "MC,LoV,2",
          "FC,LV,2",
          "FPMF,LV,2",
          "MC,LV,2",
          "FC,FLV,2",
          "FPMF,FLV,2",
          "MC,FLV,2",
          "FC,NV,2",
          "FPMF,NV,2",
          "MC,NV,2",
          "FC,FV,3",
          "FPMF,FV,3",
          "MC,FV,3",
          "FC,SSV,3",
          "FPMF,SSV,3",
          "MC,SSV,3",
          "FC,ShSV,3",
          "FPMF,ShSV,3",
          "MC,ShSV,3",
          "FC,LoV,3",
          "FPMF,LoV,3",
          "MC,LoV,3",
          "FC,LV,3",
          "FPMF,LV,3",
          "MC,LV,3",
          "FC,FLV,3",
          "FPMF,FLV,3",
          "MC,FLV,3",
          "FC,NV,3",
          "FPMF,NV,3",
          "MC,NV,3",
          "FC,FV,4",
          "FPMF,FV,4",
          "MC,FV,4",
          "FC,SSV,4",
          "FPMF,SSV,4",
          "MC,SSV,4",
          "FC,ShSV,4",
          "FPMF,ShSV,4",
          "MC,ShSV,4",
          "FC,LoV,4",
          "FPMF,LoV,4",
          "MC,LoV,4",
          "FC,LV,4",
          "FPMF,LV,4",
          "MC,LV,4",
          "FC,FLV,4",
          "FPMF,FLV,4",
          "MC,FLV,4",
          "FC,NV,4",
          "FPMF,NV,4",
          "MC,NV,4",
          "FC,FV,5",
          "FPMF,FV,5",
          "MC,FV,5",
          "FC,SSV,5",
          "FPMF,SSV,5",
          "MC,SSV,5",
          "FC,ShSV,5",
          "FPMF,ShSV,5",
          "MC,ShSV,5",
          "FC,LoV,5",
          "FPMF,LoV,5",
          "MC,LoV,5",
          "FC,LV,5",
          "FPMF,LV,5",
          "MC,LV,5",
          "FC,FLV,5",
          "FPMF,FLV,5",
          "MC,FLV,5",
          "FC,NV,5",
          "FPMF,NV,5",
          "MC,NV,5",
          "FC,FV,6",
          "FPMF,FV,6",
          "MC,FV,6",
          "FC,SSV,6",
          "FPMF,SSV,6",
          "MC,SSV,6",
          "FC,ShSV,6",
          "FPMF,ShSV,6",
          "MC,ShSV,6",
          "FC,LoV,6",
          "FPMF,LoV,6",
          "MC,LoV,6",
          "FC,LV,6",
          "FPMF,LV,6",
          "MC,LV,6",
          "FC,FLV,6",
          "FPMF,FLV,6",
          "MC,FLV,6",
          "FC,NV,6",
          "FPMF,NV,6",
          "MC,NV,6",
          "FC,FV,7",
          "FPMF,FV,7",
          "MC,FV,7",
          "FC,SSV,7",
          "FPMF,SSV,7",
          "MC,SSV,7",
          "FC,ShSV,7",
          "FPMF,ShSV,7",
          "MC,ShSV,7",
          "FC,LoV,7",
          "FPMF,LoV,7",
          "MC,LoV,7",
          "FC,LV,7",
          "FPMF,LV,7",
          "MC,LV,7",
          "FC,FLV,7",
          "FPMF,FLV,7",
          "MC,FLV,7",
          "FC,NV,7",
          "FPMF,NV,7",
          "MC,NV,7",
          "FC,FV,8",
          "FPMF,FV,8",
          "MC,FV,8",
          "FC,SSV,8",
          "FPMF,SSV,8",
          "MC,SSV,8",
          "FC,ShSV,8",
          "FPMF,ShSV,8",
          "MC,ShSV,8",
          "FC,LoV,8",
          "FPMF,LoV,8",
          "MC,LoV,8",
          "FC,LV,8",
          "FPMF,LV,8",
          "MC,LV,8",
          "FC,FLV,8",
          "FPMF,FLV,8",
          "MC,FLV,8",
          "FC,NV,8",
          "FPMF,NV,8",
          "MC,NV,8",
          "FC,FV,9",
          "FPMF,FV,9",
          "MC,FV,9",
          "FC,SSV,9",
          "FPMF,SSV,9",
          "MC,SSV,9",
          "FC,ShSV,9",
          "FPMF,ShSV,9",
          "MC,ShSV,9",
          "FC,LoV,9",
          "FPMF,LoV,9",
          "MC,LoV,9",
          "FC,LV,9",
          "FPMF,LV,9",
          "MC,LV,9",
          "FC,FLV,9",
          "FPMF,FLV,9",
          "MC,FLV,9",
          "FC,NV,9",
          "FPMF,NV,9",
          "MC,NV,9",
          "Null",
          "IPA"
         ],
         "textposition": [
          "top right",
          "top right",
          "top right",
          "top right",
          "top right",
          "top right",
          "top right",
          "top right",
          "top right",
          "top right",
          "top right",
          "top right",
          "top right",
          "top right",
          "top right",
          "top right",
          "top right",
          "top right",
          "top right",
          "top right",
          "top right",
          "top right",
          "top right",
          "top right",
          "top right",
          "top right",
          "top right",
          "top right",
          "top right",
          "top right",
          "top right",
          "top right",
          "top right",
          "top right",
          "top right",
          "top right",
          "top right",
          "top right",
          "top right",
          "top right",
          "top right",
          "top right",
          "top right",
          "top right",
          "top right",
          "top right",
          "top right",
          "top right",
          "top right",
          "top right",
          "top right",
          "top right",
          "top right",
          "top right",
          "top right",
          "top right",
          "top right",
          "top right",
          "top right",
          "top right",
          "top right",
          "top right",
          "top right",
          "top right",
          "top right",
          "top right",
          "top right",
          "top right",
          "top right",
          "top right",
          "top right",
          "top right",
          "top right",
          "top right",
          "top right",
          "top right",
          "top right",
          "top right",
          "top right",
          "top right",
          "top right",
          "top right",
          "top right",
          "top right",
          "top right",
          "top right",
          "top right",
          "top right",
          "top right",
          "top right",
          "top right",
          "top right",
          "top right",
          "top right",
          "top right",
          "top right",
          "top right",
          "top right",
          "top right",
          "top right",
          "top right",
          "top right",
          "top right",
          "top right",
          "top right",
          "top right",
          "top right",
          "top right",
          "top right",
          "top right",
          "top right",
          "top right",
          "top right",
          "top right",
          "top right",
          "top right",
          "top right",
          "top right",
          "top right",
          "top right",
          "top right",
          "top right",
          "top right",
          "top right",
          "top right",
          "top right",
          "top right",
          "top right",
          "top right",
          "top right",
          "top right",
          "top right",
          "top right",
          "top right",
          "top right",
          "top right",
          "top right",
          "top right",
          "top right",
          "top right",
          "top right",
          "top right",
          "top right",
          "top right",
          "top right",
          "top right",
          "top right",
          "top right",
          "top right",
          "top right",
          "top right",
          "top right",
          "top right",
          "top right",
          "top right",
          "top right",
          "top right",
          "top right",
          "top right",
          "top right",
          "top right",
          "top right",
          "top right",
          "top right",
          "top right",
          "top right",
          "top right",
          "top right",
          "top right",
          "top right",
          "top right",
          "top right",
          "top right",
          "top right",
          "top right",
          "top right",
          "top right",
          "top right",
          "top right",
          "top right",
          "top right",
          "top right",
          "top right",
          "top right",
          "top right",
          "top right",
          "top right",
          "top right",
          "top right",
          "top right",
          "top right",
          "top right",
          "top right",
          "top right",
          "top right",
          "top right",
          "top right",
          "top right",
          "top right",
          "top right",
          "top right",
          "top right",
          "top right",
          "top right",
          "top right",
          "top right",
          "top right",
          "top right",
          "top right",
          "top right",
          "top right",
          "top right"
         ],
         "type": "scatter",
         "x": [
          6.4235599471476235,
          5.913156854624866,
          5.206850748017176,
          5.46272074018883,
          4.953369763511537,
          4.249192760675465,
          3.68973599588198,
          3.1806016360919287,
          2.476816578043813,
          2.1014776205208356,
          1.592305546304365,
          0.8883777311644074,
          2.8437658869966302,
          2.334675761722627,
          1.6309532560451085,
          1.9649412478428037,
          1.455754708618933,
          0.7518326094247723,
          0.267051533777277,
          -0.24220181478615466,
          -0.9463624974560663,
          -5.5586447430080845,
          -5.623362019868506,
          -5.83653206905045,
          -5.5586447430080845,
          -5.623362019868506,
          -5.83653206905045,
          -5.552019880960415,
          -5.616737157820839,
          -5.829907207002783,
          -5.467201887306248,
          -5.667158495258374,
          -5.919726919391833,
          -5.5586447430080845,
          -5.623362019868506,
          -5.83653206905045,
          -6.118752497121181,
          -6.1834697739815985,
          -6.39663982316355,
          -5.575062109965406,
          -5.787028962139569,
          -6.044939374016067,
          -1.882648731476671,
          -2.0946642302637253,
          -2.3611746560640157,
          -1.5524386753077177,
          -1.7913459004465988,
          -2.077578683886461,
          -1.2893370429545374,
          -1.5864436314183354,
          -1.9474215301928073,
          -2.2133146712652954,
          -2.527605553252849,
          -2.968355094825891,
          -1.2861712514652108,
          -1.6075067255297117,
          -1.9984699759550182,
          -2.0887267598899157,
          -2.4100622339543882,
          -2.801025484379702,
          -2.828777956222549,
          -3.1725652496241183,
          -3.646936939349513,
          1.2146915252149117,
          0.8819136693286751,
          0.41685722214807974,
          1.2391970623763164,
          0.8877987888379462,
          0.3997365312558916,
          0.9520469400663369,
          0.565118988182153,
          0.013464695272753957,
          -0.29600806891909315,
          -0.6921826013235997,
          -1.2582909765973653,
          0.738651748885502,
          0.3287284209540111,
          -0.24871619761960062,
          -0.09848120670968363,
          -0.5084085285625566,
          -1.0858663143117706,
          -1.3015167449321812,
          -1.7218428272101072,
          -2.319454637840698,
          2.9110568164280064,
          2.5196366794327183,
          1.9628430562100583,
          2.931222515075179,
          2.5232864551489538,
          1.944047568658858,
          2.2652798846040554,
          1.8282746622194725,
          1.2047538931998876,
          0.9069490567727367,
          0.4601794261186498,
          -0.17816466255600005,
          1.8237166419026298,
          1.3689971207797438,
          0.7261245101953175,
          0.9624126677079161,
          0.5076627952887112,
          -0.13528711094109802,
          -0.43785610038585965,
          -0.903171222164751,
          -1.5597027718681744,
          4.149596768515677,
          3.7222809778476424,
          3.11653050046967,
          4.048307356326864,
          3.5972691543117037,
          2.9652634621788145,
          3.0239537271140957,
          2.54894621282598,
          1.8811696402167435,
          1.5808467721385746,
          1.100733989831486,
          0.4249437374181042,
          2.410759901433048,
          1.9245040622029777,
          1.2458678823083886,
          1.5402817711871268,
          1.053974934225316,
          0.37521753998125895,
          0.0033090361886518593,
          -0.4874282387047373,
          -1.1741987383094141,
          5.036488489446427,
          4.579422042882669,
          3.9326582901336966,
          4.738738976797393,
          4.260933432257593,
          3.5922326505265243,
          3.414724149276223,
          2.920726364705148,
          2.230991707616072,
          1.9083039615818453,
          1.410980828232411,
          0.7170353942197707,
          2.686447452731251,
          2.1865402468279527,
          1.4909484379415705,
          1.8112569691429155,
          1.3112791704286302,
          0.6155320777211575,
          0.18525033555067516,
          -0.31768149524592637,
          -1.0168924461041602,
          5.623321379434039,
          5.143574101808108,
          4.470627604953414,
          5.132781446803316,
          4.638276938079182,
          3.9497013234902614,
          3.5937040631447186,
          3.0901940787583797,
          2.3911229330994015,
          2.0389090822257074,
          1.5336722033447518,
          0.8322209450519953,
          2.797308167372826,
          2.291511118004099,
          1.5901542450127106,
          1.9197648584348244,
          1.4138806791122,
          0.7123354279735157,
          0.24620038103059905,
          -0.2609274767788925,
          -0.964301248437959,
          6.004520197171328,
          5.512245213543688,
          4.823044104833446,
          5.328062384585053,
          4.825433122650292,
          4.127826179104641,
          3.6611892776612187,
          3.154325889904822,
          2.4514261108549213,
          2.0855316515487363,
          1.5778539285739281,
          0.8742981158759928,
          2.8325052897745238,
          2.324322644803315,
          1.6207716971730743,
          1.9542339957393153,
          1.4459587971969228,
          0.742212074736587,
          0.2641743674692236,
          -0.2446048658434723,
          -0.9487126029479924,
          6.217836163980165,
          5.716651995491617,
          5.017605825204498,
          5.412558696815552,
          4.905986519395146,
          4.203689107282427,
          3.684625840104422,
          3.1759614353001595,
          2.47223462475573,
          2.0989393684158895,
          1.5900068248054673,
          0.8861119604822729,
          2.842910423010716,
          2.3338933478946213,
          1.630188179800614,
          1.9641365815895746,
          1.4550238631544268,
          0.7511202948874836,
          0.26692573902781724,
          -0.24231077169874382,
          -0.9464709624070888,
          -9.765103091540468,
          8.96273721754915
         ],
         "y": [
          0.03285094362542118,
          0.03711484616306682,
          0.05103137885885156,
          0.025486654793430263,
          0.02965160691192459,
          0.04347157613251906,
          0.06115825262531338,
          0.0683186320679362,
          0.09118930364096578,
          0.11686952963055652,
          0.1299224631398923,
          0.16594955358722174,
          0.09893907275029679,
          0.11178819725982148,
          0.1440412259470797,
          0.17558104462061896,
          0.1929383807408963,
          0.22864838598536974,
          0.2326170214317772,
          0.25609698277538384,
          0.3054790895300489,
          0.7577832036280568,
          0.759921561257615,
          0.7648781589416674,
          0.7577832036280568,
          0.759921561257615,
          0.7648781589416674,
          0.7564536607716894,
          0.7585920184012476,
          0.7635486160853,
          0.7139482819679214,
          0.7274153324899262,
          0.7333435316134195,
          0.7577832036280568,
          0.759921561257615,
          0.7648781589416674,
          0.798368679055085,
          0.8005070366846432,
          0.8054636343686956,
          0.731501385539727,
          0.745159678713577,
          0.7514383535326901,
          0.5243051809851977,
          0.5306804871579672,
          0.5462865233787098,
          0.4671121025959981,
          0.47337400241519667,
          0.49016091157036035,
          0.4311991037476648,
          0.44308639171166575,
          0.4665841052381753,
          0.458680088090339,
          0.47479911735311797,
          0.506425929795804,
          0.4295129749305481,
          0.44379618444626445,
          0.4680554824067318,
          0.529422947980774,
          0.5447105361616416,
          0.5694307861894987,
          0.5146821588053152,
          0.5348551057372501,
          0.5688669653961306,
          0.30464072159904454,
          0.31534665382552984,
          0.3392023690845972,
          0.26823710939617795,
          0.27752279354599163,
          0.2997185867884353,
          0.2515455849856858,
          0.26142151668855196,
          0.2905559397317298,
          0.2939896508953911,
          0.31045356971941285,
          0.35193702936878635,
          0.2637003285392989,
          0.2792386985588343,
          0.3143355011250397,
          0.3471203213625349,
          0.36687980097785733,
          0.40565263278869135,
          0.37481774447767036,
          0.4009331878097553,
          0.45055664234781423,
          0.1826607802495288,
          0.19160100068950714,
          0.21364829723734635,
          0.15043254551801488,
          0.157054538694126,
          0.17564152159392432,
          0.15393274883869368,
          0.16213925587333333,
          0.1875857050789379,
          0.19988347393958883,
          0.21377967348337135,
          0.25218064633481296,
          0.1740875673164638,
          0.18810806941381775,
          0.22226470967531464,
          0.2527833607663521,
          0.27167993071243945,
          0.30941263389733864,
          0.2935589780078627,
          0.31787655059960085,
          0.3684359078777788,
          0.12073981997782302,
          0.1264158480062606,
          0.14295971438797217,
          0.08949271842595741,
          0.09418754365217763,
          0.10870773416733515,
          0.10208346123123857,
          0.1095114709417071,
          0.1328167607047731,
          0.15073706029827594,
          0.1639903646243437,
          0.20053741735714337,
          0.12899942837139344,
          0.14233547398459312,
          0.1752142565521937,
          0.20636040641519882,
          0.22425435650519665,
          0.26101205196191146,
          0.25466453405122746,
          0.2785136921908139,
          0.3283529602884392,
          0.08711000290863014,
          0.09191351811545467,
          0.10627990363470874,
          0.05903154951151324,
          0.06328657501993606,
          0.07720882063880208,
          0.07851403425440251,
          0.08578870224316415,
          0.10867484368109337,
          0.13025893529107535,
          0.14341649043583315,
          0.1794440013686991,
          0.1100554160739251,
          0.1229504125445009,
          0.15521345500664463,
          0.18701750556588626,
          0.2044586002504314,
          0.24035557885057113,
          0.24012601972720427,
          0.26367797908796964,
          0.3130823181761846,
          0.062457533343475036,
          0.06687310821822323,
          0.0809737716649056,
          0.03983618176770909,
          0.04410209870891768,
          0.05802997940320731,
          0.06736283332385429,
          0.07453236698674615,
          0.09736453368468823,
          0.12124421599246904,
          0.13430630372207375,
          0.1703219153530634,
          0.10290393382134444,
          0.11576221255113817,
          0.14806964075592977,
          0.17964079102635,
          0.19700728136689627,
          0.23276936271073378,
          0.2350215067263206,
          0.25851062229019606,
          0.3079350320049984,
          0.049131991633488026,
          0.05345020784341259,
          0.0673628142802718,
          0.03143055841675646,
          0.03566551478487101,
          0.049540993864459204,
          0.06341681662838794,
          0.0705863502912798,
          0.09345702186430938,
          0.11796109754088413,
          0.13102318527048884,
          0.16705027571781828,
          0.09982094858405566,
          0.11267922731384927,
          0.14495240456634906,
          0.17647547701009025,
          0.19384196735063652,
          0.22957212116035153,
          0.23287138634551174,
          0.2563605019093873,
          0.30574260866405234,
          0.040146688643802886,
          0.04444050790132148,
          0.05832769112018932,
          0.0279878276472445,
          0.03216193398600775,
          0.04602420616673941,
          0.0614417756398411,
          0.06860215508246403,
          0.0914728266554935,
          0.11703461012588967,
          0.13008754363522546,
          0.1661146340825549,
          0.09897938044145016,
          0.11182850495097485,
          0.14408153363823306,
          0.17563390886748476,
          0.1929912449877621,
          0.22870125023223553,
          0.23262960451302117,
          0.2561095658566277,
          0.30549167261129284,
          0.931164129364203,
          0.014930232236564533
         ]
        },
        {
         "line": {
          "color": "#636EFA"
         },
         "mode": "lines",
         "showlegend": false,
         "text": [
          "",
          "full<br>vowels",
          ""
         ],
         "textposition": [
          "bottom left",
          "bottom left",
          "bottom left"
         ],
         "type": "scatter",
         "x": [
          6.4235599471476235,
          5.913156854624866,
          5.206850748017176
         ],
         "y": [
          0.03285094362542118,
          0.03711484616306682,
          0.05103137885885156
         ]
        },
        {
         "line": {
          "color": "#636EFA"
         },
         "mode": "lines",
         "showlegend": false,
         "text": [
          "",
          "schwa<br>suppressed<br>vowels",
          ""
         ],
         "textposition": [
          "bottom left",
          "bottom left",
          "bottom left"
         ],
         "type": "scatter",
         "x": [
          5.46272074018883,
          4.953369763511537,
          4.249192760675465
         ],
         "y": [
          0.025486654793430263,
          0.02965160691192459,
          0.04347157613251906
         ]
        },
        {
         "line": {
          "color": "#636EFA"
         },
         "mode": "lines",
         "showlegend": false,
         "text": [
          "",
          "short<br>suppressed<br>vowels",
          ""
         ],
         "textposition": [
          "bottom left",
          "bottom left",
          "bottom left"
         ],
         "type": "scatter",
         "x": [
          3.68973599588198,
          3.1806016360919287,
          2.476816578043813
         ],
         "y": [
          0.06115825262531338,
          0.0683186320679362,
          0.09118930364096578
         ]
        },
        {
         "line": {
          "color": "#636EFA"
         },
         "mode": "lines",
         "showlegend": false,
         "text": [
          "",
          "long<br>vowels",
          ""
         ],
         "textposition": [
          "bottom left",
          "bottom left",
          "bottom left"
         ],
         "type": "scatter",
         "x": [
          2.1014776205208356,
          1.592305546304365,
          0.8883777311644074
         ],
         "y": [
          0.11686952963055652,
          0.1299224631398923,
          0.16594955358722174
         ]
        },
        {
         "line": {
          "color": "#636EFA"
         },
         "mode": "lines",
         "showlegend": false,
         "text": [
          "",
          "lateral<br>vowels",
          ""
         ],
         "textposition": [
          "bottom left",
          "bottom left",
          "bottom left"
         ],
         "type": "scatter",
         "x": [
          2.8437658869966302,
          2.334675761722627,
          1.6309532560451085
         ],
         "y": [
          0.09893907275029679,
          0.11178819725982148,
          0.1440412259470797
         ]
        },
        {
         "line": {
          "color": "#636EFA"
         },
         "mode": "lines",
         "showlegend": false,
         "text": [
          "",
          "flattened<br>lateral<br>vowels",
          ""
         ],
         "textposition": [
          "bottom left",
          "bottom left",
          "bottom left"
         ],
         "type": "scatter",
         "x": [
          1.9649412478428037,
          1.455754708618933,
          0.7518326094247723
         ],
         "y": [
          0.17558104462061896,
          0.1929383807408963,
          0.22864838598536974
         ]
        },
        {
         "line": {
          "color": "#636EFA"
         },
         "mode": "lines",
         "showlegend": false,
         "text": [
          "",
          "no<br>vowels",
          ""
         ],
         "textposition": [
          "bottom left",
          "bottom left",
          "bottom left"
         ],
         "type": "scatter",
         "x": [
          0.267051533777277,
          -0.24220181478615466,
          -0.9463624974560663
         ],
         "y": [
          0.2326170214317772,
          0.25609698277538384,
          0.3054790895300489
         ]
        },
        {
         "line": {
          "color": "#636EFA"
         },
         "mode": "lines",
         "name": "Basic Systems",
         "type": "scatter",
         "x": [
          6.4235599471476235,
          5.913156854624866,
          5.206850748017176
         ],
         "y": [
          0.03285094362542118,
          0.03711484616306682,
          0.05103137885885156
         ]
        }
       ],
       "layout": {
        "height": 1024,
        "template": {
         "data": {
          "bar": [
           {
            "error_x": {
             "color": "#2a3f5f"
            },
            "error_y": {
             "color": "#2a3f5f"
            },
            "marker": {
             "line": {
              "color": "#E5ECF6",
              "width": 0.5
             },
             "pattern": {
              "fillmode": "overlay",
              "size": 10,
              "solidity": 0.2
             }
            },
            "type": "bar"
           }
          ],
          "barpolar": [
           {
            "marker": {
             "line": {
              "color": "#E5ECF6",
              "width": 0.5
             },
             "pattern": {
              "fillmode": "overlay",
              "size": 10,
              "solidity": 0.2
             }
            },
            "type": "barpolar"
           }
          ],
          "carpet": [
           {
            "aaxis": {
             "endlinecolor": "#2a3f5f",
             "gridcolor": "white",
             "linecolor": "white",
             "minorgridcolor": "white",
             "startlinecolor": "#2a3f5f"
            },
            "baxis": {
             "endlinecolor": "#2a3f5f",
             "gridcolor": "white",
             "linecolor": "white",
             "minorgridcolor": "white",
             "startlinecolor": "#2a3f5f"
            },
            "type": "carpet"
           }
          ],
          "choropleth": [
           {
            "colorbar": {
             "outlinewidth": 0,
             "ticks": ""
            },
            "type": "choropleth"
           }
          ],
          "contour": [
           {
            "colorbar": {
             "outlinewidth": 0,
             "ticks": ""
            },
            "colorscale": [
             [
              0,
              "#0d0887"
             ],
             [
              0.1111111111111111,
              "#46039f"
             ],
             [
              0.2222222222222222,
              "#7201a8"
             ],
             [
              0.3333333333333333,
              "#9c179e"
             ],
             [
              0.4444444444444444,
              "#bd3786"
             ],
             [
              0.5555555555555556,
              "#d8576b"
             ],
             [
              0.6666666666666666,
              "#ed7953"
             ],
             [
              0.7777777777777778,
              "#fb9f3a"
             ],
             [
              0.8888888888888888,
              "#fdca26"
             ],
             [
              1,
              "#f0f921"
             ]
            ],
            "type": "contour"
           }
          ],
          "contourcarpet": [
           {
            "colorbar": {
             "outlinewidth": 0,
             "ticks": ""
            },
            "type": "contourcarpet"
           }
          ],
          "heatmap": [
           {
            "colorbar": {
             "outlinewidth": 0,
             "ticks": ""
            },
            "colorscale": [
             [
              0,
              "#0d0887"
             ],
             [
              0.1111111111111111,
              "#46039f"
             ],
             [
              0.2222222222222222,
              "#7201a8"
             ],
             [
              0.3333333333333333,
              "#9c179e"
             ],
             [
              0.4444444444444444,
              "#bd3786"
             ],
             [
              0.5555555555555556,
              "#d8576b"
             ],
             [
              0.6666666666666666,
              "#ed7953"
             ],
             [
              0.7777777777777778,
              "#fb9f3a"
             ],
             [
              0.8888888888888888,
              "#fdca26"
             ],
             [
              1,
              "#f0f921"
             ]
            ],
            "type": "heatmap"
           }
          ],
          "histogram": [
           {
            "marker": {
             "pattern": {
              "fillmode": "overlay",
              "size": 10,
              "solidity": 0.2
             }
            },
            "type": "histogram"
           }
          ],
          "histogram2d": [
           {
            "colorbar": {
             "outlinewidth": 0,
             "ticks": ""
            },
            "colorscale": [
             [
              0,
              "#0d0887"
             ],
             [
              0.1111111111111111,
              "#46039f"
             ],
             [
              0.2222222222222222,
              "#7201a8"
             ],
             [
              0.3333333333333333,
              "#9c179e"
             ],
             [
              0.4444444444444444,
              "#bd3786"
             ],
             [
              0.5555555555555556,
              "#d8576b"
             ],
             [
              0.6666666666666666,
              "#ed7953"
             ],
             [
              0.7777777777777778,
              "#fb9f3a"
             ],
             [
              0.8888888888888888,
              "#fdca26"
             ],
             [
              1,
              "#f0f921"
             ]
            ],
            "type": "histogram2d"
           }
          ],
          "histogram2dcontour": [
           {
            "colorbar": {
             "outlinewidth": 0,
             "ticks": ""
            },
            "colorscale": [
             [
              0,
              "#0d0887"
             ],
             [
              0.1111111111111111,
              "#46039f"
             ],
             [
              0.2222222222222222,
              "#7201a8"
             ],
             [
              0.3333333333333333,
              "#9c179e"
             ],
             [
              0.4444444444444444,
              "#bd3786"
             ],
             [
              0.5555555555555556,
              "#d8576b"
             ],
             [
              0.6666666666666666,
              "#ed7953"
             ],
             [
              0.7777777777777778,
              "#fb9f3a"
             ],
             [
              0.8888888888888888,
              "#fdca26"
             ],
             [
              1,
              "#f0f921"
             ]
            ],
            "type": "histogram2dcontour"
           }
          ],
          "mesh3d": [
           {
            "colorbar": {
             "outlinewidth": 0,
             "ticks": ""
            },
            "type": "mesh3d"
           }
          ],
          "parcoords": [
           {
            "line": {
             "colorbar": {
              "outlinewidth": 0,
              "ticks": ""
             }
            },
            "type": "parcoords"
           }
          ],
          "pie": [
           {
            "automargin": true,
            "type": "pie"
           }
          ],
          "scatter": [
           {
            "fillpattern": {
             "fillmode": "overlay",
             "size": 10,
             "solidity": 0.2
            },
            "type": "scatter"
           }
          ],
          "scatter3d": [
           {
            "line": {
             "colorbar": {
              "outlinewidth": 0,
              "ticks": ""
             }
            },
            "marker": {
             "colorbar": {
              "outlinewidth": 0,
              "ticks": ""
             }
            },
            "type": "scatter3d"
           }
          ],
          "scattercarpet": [
           {
            "marker": {
             "colorbar": {
              "outlinewidth": 0,
              "ticks": ""
             }
            },
            "type": "scattercarpet"
           }
          ],
          "scattergeo": [
           {
            "marker": {
             "colorbar": {
              "outlinewidth": 0,
              "ticks": ""
             }
            },
            "type": "scattergeo"
           }
          ],
          "scattergl": [
           {
            "marker": {
             "colorbar": {
              "outlinewidth": 0,
              "ticks": ""
             }
            },
            "type": "scattergl"
           }
          ],
          "scattermap": [
           {
            "marker": {
             "colorbar": {
              "outlinewidth": 0,
              "ticks": ""
             }
            },
            "type": "scattermap"
           }
          ],
          "scattermapbox": [
           {
            "marker": {
             "colorbar": {
              "outlinewidth": 0,
              "ticks": ""
             }
            },
            "type": "scattermapbox"
           }
          ],
          "scatterpolar": [
           {
            "marker": {
             "colorbar": {
              "outlinewidth": 0,
              "ticks": ""
             }
            },
            "type": "scatterpolar"
           }
          ],
          "scatterpolargl": [
           {
            "marker": {
             "colorbar": {
              "outlinewidth": 0,
              "ticks": ""
             }
            },
            "type": "scatterpolargl"
           }
          ],
          "scatterternary": [
           {
            "marker": {
             "colorbar": {
              "outlinewidth": 0,
              "ticks": ""
             }
            },
            "type": "scatterternary"
           }
          ],
          "surface": [
           {
            "colorbar": {
             "outlinewidth": 0,
             "ticks": ""
            },
            "colorscale": [
             [
              0,
              "#0d0887"
             ],
             [
              0.1111111111111111,
              "#46039f"
             ],
             [
              0.2222222222222222,
              "#7201a8"
             ],
             [
              0.3333333333333333,
              "#9c179e"
             ],
             [
              0.4444444444444444,
              "#bd3786"
             ],
             [
              0.5555555555555556,
              "#d8576b"
             ],
             [
              0.6666666666666666,
              "#ed7953"
             ],
             [
              0.7777777777777778,
              "#fb9f3a"
             ],
             [
              0.8888888888888888,
              "#fdca26"
             ],
             [
              1,
              "#f0f921"
             ]
            ],
            "type": "surface"
           }
          ],
          "table": [
           {
            "cells": {
             "fill": {
              "color": "#EBF0F8"
             },
             "line": {
              "color": "white"
             }
            },
            "header": {
             "fill": {
              "color": "#C8D4E3"
             },
             "line": {
              "color": "white"
             }
            },
            "type": "table"
           }
          ]
         },
         "layout": {
          "annotationdefaults": {
           "arrowcolor": "#2a3f5f",
           "arrowhead": 0,
           "arrowwidth": 1
          },
          "autotypenumbers": "strict",
          "coloraxis": {
           "colorbar": {
            "outlinewidth": 0,
            "ticks": ""
           }
          },
          "colorscale": {
           "diverging": [
            [
             0,
             "#8e0152"
            ],
            [
             0.1,
             "#c51b7d"
            ],
            [
             0.2,
             "#de77ae"
            ],
            [
             0.3,
             "#f1b6da"
            ],
            [
             0.4,
             "#fde0ef"
            ],
            [
             0.5,
             "#f7f7f7"
            ],
            [
             0.6,
             "#e6f5d0"
            ],
            [
             0.7,
             "#b8e186"
            ],
            [
             0.8,
             "#7fbc41"
            ],
            [
             0.9,
             "#4d9221"
            ],
            [
             1,
             "#276419"
            ]
           ],
           "sequential": [
            [
             0,
             "#0d0887"
            ],
            [
             0.1111111111111111,
             "#46039f"
            ],
            [
             0.2222222222222222,
             "#7201a8"
            ],
            [
             0.3333333333333333,
             "#9c179e"
            ],
            [
             0.4444444444444444,
             "#bd3786"
            ],
            [
             0.5555555555555556,
             "#d8576b"
            ],
            [
             0.6666666666666666,
             "#ed7953"
            ],
            [
             0.7777777777777778,
             "#fb9f3a"
            ],
            [
             0.8888888888888888,
             "#fdca26"
            ],
            [
             1,
             "#f0f921"
            ]
           ],
           "sequentialminus": [
            [
             0,
             "#0d0887"
            ],
            [
             0.1111111111111111,
             "#46039f"
            ],
            [
             0.2222222222222222,
             "#7201a8"
            ],
            [
             0.3333333333333333,
             "#9c179e"
            ],
            [
             0.4444444444444444,
             "#bd3786"
            ],
            [
             0.5555555555555556,
             "#d8576b"
            ],
            [
             0.6666666666666666,
             "#ed7953"
            ],
            [
             0.7777777777777778,
             "#fb9f3a"
            ],
            [
             0.8888888888888888,
             "#fdca26"
            ],
            [
             1,
             "#f0f921"
            ]
           ]
          },
          "colorway": [
           "#636efa",
           "#EF553B",
           "#00cc96",
           "#ab63fa",
           "#FFA15A",
           "#19d3f3",
           "#FF6692",
           "#B6E880",
           "#FF97FF",
           "#FECB52"
          ],
          "font": {
           "color": "#2a3f5f"
          },
          "geo": {
           "bgcolor": "white",
           "lakecolor": "white",
           "landcolor": "#E5ECF6",
           "showlakes": true,
           "showland": true,
           "subunitcolor": "white"
          },
          "hoverlabel": {
           "align": "left"
          },
          "hovermode": "closest",
          "mapbox": {
           "style": "light"
          },
          "paper_bgcolor": "white",
          "plot_bgcolor": "#E5ECF6",
          "polar": {
           "angularaxis": {
            "gridcolor": "white",
            "linecolor": "white",
            "ticks": ""
           },
           "bgcolor": "#E5ECF6",
           "radialaxis": {
            "gridcolor": "white",
            "linecolor": "white",
            "ticks": ""
           }
          },
          "scene": {
           "xaxis": {
            "backgroundcolor": "#E5ECF6",
            "gridcolor": "white",
            "gridwidth": 2,
            "linecolor": "white",
            "showbackground": true,
            "ticks": "",
            "zerolinecolor": "white"
           },
           "yaxis": {
            "backgroundcolor": "#E5ECF6",
            "gridcolor": "white",
            "gridwidth": 2,
            "linecolor": "white",
            "showbackground": true,
            "ticks": "",
            "zerolinecolor": "white"
           },
           "zaxis": {
            "backgroundcolor": "#E5ECF6",
            "gridcolor": "white",
            "gridwidth": 2,
            "linecolor": "white",
            "showbackground": true,
            "ticks": "",
            "zerolinecolor": "white"
           }
          },
          "shapedefaults": {
           "line": {
            "color": "#2a3f5f"
           }
          },
          "ternary": {
           "aaxis": {
            "gridcolor": "white",
            "linecolor": "white",
            "ticks": ""
           },
           "baxis": {
            "gridcolor": "white",
            "linecolor": "white",
            "ticks": ""
           },
           "bgcolor": "#E5ECF6",
           "caxis": {
            "gridcolor": "white",
            "linecolor": "white",
            "ticks": ""
           }
          },
          "title": {
           "x": 0.05
          },
          "xaxis": {
           "automargin": true,
           "gridcolor": "white",
           "linecolor": "white",
           "ticks": "",
           "title": {
            "standoff": 15
           },
           "zerolinecolor": "white",
           "zerolinewidth": 2
          },
          "yaxis": {
           "automargin": true,
           "gridcolor": "white",
           "linecolor": "white",
           "ticks": "",
           "title": {
            "standoff": 15
           },
           "zerolinecolor": "white",
           "zerolinewidth": 2
          }
         }
        },
        "width": 1280,
        "xaxis": {
         "range": [
          -1.5,
          10
         ],
         "title": {
          "text": "Average Outline Complexity Overhead (bits)"
         }
        },
        "yaxis": {
         "range": [
          -0.01,
          0.4
         ],
         "title": {
          "text": "Reconstruction Error (probability)"
         }
        }
       }
      }
     },
     "metadata": {},
     "output_type": "display_data"
    }
   ],
   "source": [
    "fig = go.Figure()\n",
    "\n",
    "fig.add_trace(go.Scatter(x=np.linspace(-1.5,10,24), y=[max(0,-x/4) for x in np.linspace(-1.5,10,24)], mode='none', fill='tozeroy', name = \"Excluded Region\", fillcolor='#EF553B'))\n",
    "fig.add_trace(go.Scatter(x=np.linspace(-1.5,10,24), y=[-1 for x in np.linspace(-1.5,10,24)], mode='none', fill='tozeroy', showlegend=False, fillcolor='#EF553B'))\n",
    "fig.add_trace(go.Scatter(x=np.linspace(-1.5,10,24), y=[0 for x in np.linspace(-1.5,10,24)], mode='lines', fill='none', showlegend=False,line=dict(color='#EF553B')))\n",
    "\n",
    "fig.add_trace(go.Scatter(x=[x[1]['mean_transmission_shift'] for x in curtailed_scores],\n",
    "                         y=[x[1]['reconstruction_error'] for x in curtailed_scores],\n",
    "                         text=[x[0] for x in curtailed_scores], textposition=[x[2] for x in curtailed_scores],\n",
    "                         mode='markers', name=\"Curtailed Systems\", line=dict(color='#FFAA50')))\n",
    "\n",
    "for i in range(0,len(scores),3):\n",
    "    fig.add_trace(go.Scatter(x=[x[1]['mean_transmission_shift'] for x in scores[i:i+3]],\n",
    "                         y=[x[1]['reconstruction_error'] for x in scores[i:i+3]],\n",
    "                         text=['',list(short_vowel_names)[i//3].replace(' ','<br>'),''], textposition=['bottom left' for x in scores[i:i+3]],\n",
    "                         mode='lines', line=dict(color='#636EFA'), showlegend=False))\n",
    "\n",
    "fig.add_trace(go.Scatter(x=[x[1]['mean_transmission_shift'] for x in scores[:3]],\n",
    "                         y=[x[1]['reconstruction_error'] for x in scores[:3]],\n",
    "                         mode='lines', line=dict(color='#636EFA'), name = \"Basic Systems\"))\n",
    "\n",
    "# fig.add_trace(go.Scatter(x=[x[1]['mean_transmission_shift'] for x in comparison_data],\n",
    "#                          y=[x[1]['reconstruction_error'] for x in comparison_data],\n",
    "#                          text=[x[0] for x in comparison_data], textposition=[x[2] for x in comparison_data],\n",
    "#                          mode='markers+text', name=\"Shorthand Systems\", line=dict(color='#636EFA')))\n",
    "\n",
    "fig.update_layout(width=1280, height=1024, xaxis_range=[-1.5, 10], yaxis_range=[-0.01, 0.4],\n",
    "                  xaxis_title=\"Average Outline Complexity Overhead (bits)\",\n",
    "                  yaxis_title=\"Reconstruction Error (probability)\")\n",
    "fig.show()"
   ]
  },
  {
   "cell_type": "code",
   "execution_count": 62,
   "id": "fe8d3995",
   "metadata": {},
   "outputs": [],
   "source": [
    "# ChatGPT implementation of the extraction of supported points\n",
    "\n",
    "from collections import namedtuple\n",
    "\n",
    "Point = namedtuple(\"Point\", [\"x\", \"y\", \"metadata\"])  # Extendable metadata\n",
    "\n",
    "class SupportedParetoFront:\n",
    "    def __init__(self, points):\n",
    "        \"\"\"Initialize with a list of Point(x, y, metadata).\"\"\"\n",
    "        self.points = sorted(points, key=lambda p: (p.x, p.y))  # Sort by x\n",
    "        self.supported_points = self.compute_lower_hull()\n",
    "\n",
    "    def cross_product(self, o, a, b):\n",
    "        \"\"\"Cross product of vector OA and OB (O is origin).\n",
    "        Returns positive if counter-clockwise turn, negative if clockwise, 0 if collinear.\"\"\"\n",
    "        return (a.x - o.x) * (b.y - o.y) - (a.y - o.y) * (b.x - o.x)\n",
    "\n",
    "    def compute_lower_hull(self):\n",
    "        \"\"\"Finds the lower convex hull of the points (supported Pareto front).\"\"\"\n",
    "        lower_hull = []\n",
    "        for p in self.points:\n",
    "            while len(lower_hull) >= 2 and self.cross_product(lower_hull[-2], lower_hull[-1], p) <= 0:\n",
    "                lower_hull.pop()\n",
    "            lower_hull.append(p)\n",
    "        return lower_hull\n",
    "\n",
    "    def get_supported_points(self):\n",
    "        \"\"\"Return the supported points with metadata.\"\"\"\n",
    "        return self.supported_points"
   ]
  },
  {
   "cell_type": "code",
   "execution_count": 63,
   "id": "58cffe9b",
   "metadata": {},
   "outputs": [
    {
     "name": "stdout",
     "output_type": "stream",
     "text": [
      "Point(-9.765103091540468, 0.931164129364203), Metadata: Null\n",
      "Point(0.8883777311644074, 0.16594955358722174), Metadata: MC,LoV,100\n",
      "Point(1.592305546304365, 0.1299224631398923), Metadata: FPMF,LoV,100\n",
      "Point(2.476816578043813, 0.09118930364096578), Metadata: MC,ShSV,100\n",
      "Point(3.1806016360919287, 0.0683186320679362), Metadata: FPMF,ShSV,100\n",
      "Point(4.249192760675465, 0.04347157613251906), Metadata: MC,SSV,100\n",
      "Point(4.953369763511537, 0.02965160691192459), Metadata: FPMF,SSV,100\n",
      "Point(5.46272074018883, 0.025486654793430263), Metadata: FC,SSV,100\n",
      "Point(8.96273721754915, 0.014930232236564533), Metadata: IPA\n"
     ]
    }
   ],
   "source": [
    "# Sample points with metadata\n",
    "points = [Point(x[1]['mean_transmission_shift'], x[1]['reconstruction_error'], x[0]) for x in curtailed_scores]\n",
    "\n",
    "pareto = SupportedParetoFront(points)\n",
    "result = pareto.get_supported_points()\n",
    "\n",
    "# Print the supported points\n",
    "for p in result:\n",
    "    print(f\"Point({p.x}, {p.y}), Metadata: {p.metadata}\")"
   ]
  },
  {
   "cell_type": "code",
   "execution_count": 64,
   "id": "2f0e26d2",
   "metadata": {},
   "outputs": [
    {
     "data": {
      "application/vnd.plotly.v1+json": {
       "config": {
        "plotlyServerURL": "https://plot.ly"
       },
       "data": [
        {
         "fill": "tozeroy",
         "fillcolor": "#EF553B",
         "mode": "none",
         "name": "Excluded Region",
         "type": "scatter",
         "x": {
          "bdata": "AAAAAAAA+L8AAAAAAADwvwAAAAAAAOC/AAAAAAAAAAAAAAAAAADgPwAAAAAAAPA/AAAAAAAA+D8AAAAAAAAAQAAAAAAAAARAAAAAAAAACEAAAAAAAAAMQAAAAAAAABBAAAAAAAAAEkAAAAAAAAAUQAAAAAAAABZAAAAAAAAAGEAAAAAAAAAaQAAAAAAAABxAAAAAAAAAHkAAAAAAAAAgQAAAAAAAACFAAAAAAAAAIkAAAAAAAAAjQAAAAAAAACRA",
          "dtype": "f8"
         },
         "y": [
          0.375,
          0.25,
          0.125,
          0,
          0,
          0,
          0,
          0,
          0,
          0,
          0,
          0,
          0,
          0,
          0,
          0,
          0,
          0,
          0,
          0,
          0,
          0,
          0,
          0
         ]
        },
        {
         "fill": "tozeroy",
         "fillcolor": "#EF553B",
         "mode": "none",
         "showlegend": false,
         "type": "scatter",
         "x": {
          "bdata": "AAAAAAAA+L8AAAAAAADwvwAAAAAAAOC/AAAAAAAAAAAAAAAAAADgPwAAAAAAAPA/AAAAAAAA+D8AAAAAAAAAQAAAAAAAAARAAAAAAAAACEAAAAAAAAAMQAAAAAAAABBAAAAAAAAAEkAAAAAAAAAUQAAAAAAAABZAAAAAAAAAGEAAAAAAAAAaQAAAAAAAABxAAAAAAAAAHkAAAAAAAAAgQAAAAAAAACFAAAAAAAAAIkAAAAAAAAAjQAAAAAAAACRA",
          "dtype": "f8"
         },
         "y": [
          -1,
          -1,
          -1,
          -1,
          -1,
          -1,
          -1,
          -1,
          -1,
          -1,
          -1,
          -1,
          -1,
          -1,
          -1,
          -1,
          -1,
          -1,
          -1,
          -1,
          -1,
          -1,
          -1,
          -1
         ]
        },
        {
         "fill": "none",
         "line": {
          "color": "#EF553B"
         },
         "mode": "lines",
         "showlegend": false,
         "type": "scatter",
         "x": {
          "bdata": "AAAAAAAA+L8AAAAAAADwvwAAAAAAAOC/AAAAAAAAAAAAAAAAAADgPwAAAAAAAPA/AAAAAAAA+D8AAAAAAAAAQAAAAAAAAARAAAAAAAAACEAAAAAAAAAMQAAAAAAAABBAAAAAAAAAEkAAAAAAAAAUQAAAAAAAABZAAAAAAAAAGEAAAAAAAAAaQAAAAAAAABxAAAAAAAAAHkAAAAAAAAAgQAAAAAAAACFAAAAAAAAAIkAAAAAAAAAjQAAAAAAAACRA",
          "dtype": "f8"
         },
         "y": [
          0,
          0,
          0,
          0,
          0,
          0,
          0,
          0,
          0,
          0,
          0,
          0,
          0,
          0,
          0,
          0,
          0,
          0,
          0,
          0,
          0,
          0,
          0,
          0
         ]
        },
        {
         "line": {
          "color": "#636EFA"
         },
         "mode": "lines",
         "showlegend": false,
         "text": [
          "Null",
          "MC,LoV,100",
          "FPMF,LoV,100",
          "MC,ShSV,100",
          "FPMF,ShSV,100",
          "MC,SSV,100",
          "FPMF,SSV,100",
          "FC,SSV,100",
          "IPA"
         ],
         "type": "scatter",
         "x": [
          -9.765103091540468,
          0.8883777311644074,
          1.592305546304365,
          2.476816578043813,
          3.1806016360919287,
          4.249192760675465,
          4.953369763511537,
          5.46272074018883,
          8.96273721754915
         ],
         "y": [
          0.931164129364203,
          0.16594955358722174,
          0.1299224631398923,
          0.09118930364096578,
          0.0683186320679362,
          0.04347157613251906,
          0.02965160691192459,
          0.025486654793430263,
          0.014930232236564533
         ]
        },
        {
         "line": {
          "color": "#636EFA"
         },
         "mode": "markers+text",
         "name": "Shorthand Systems",
         "text": [
          "Spelling",
          "IPA",
          "Carter</br></br>Briefhand",
          "Dutton</br></br>Speedwords",
          "Gregg</br></br>Anniversary",
          "Gregg</br></br>Notehand",
          "Gregg</br></br>Simplified",
          "bref",
          "Yublin",
          "Cut Spelng",
          "Taylor",
          "Taylor+",
          "Characterie",
          "Teeline",
          "Keyscript",
          "Dearborn</br></br>Speedwriting",
          "QC-line",
          "Yash",
          "Jeake</br></br>Ph. Tr. 487",
          "Polyphonic</br></br>Cipher",
          "Pitman</br></br>2000",
          "Pitman 2000</br></br>(No Vowel)",
          "Superwrite",
          "Swiftograph</br></br>Curtailed",
          "Swiftograph</br></br>Full"
         ],
         "textposition": [
          "top center",
          "top center",
          "top center",
          "bottom center",
          "top center",
          "bottom left",
          "bottom center",
          "top center",
          "top center",
          "top center",
          "top center",
          "top center",
          "top center",
          "bottom center",
          "top right",
          "top center",
          "middle right",
          "bottom center",
          "top right",
          "top right",
          "bottom left",
          "top right",
          "top left",
          "top center",
          "middle right"
         ],
         "type": "scatter",
         "x": [
          9.044670183693249,
          8.96273721754915,
          -0.33954856149895285,
          0.5049503017514247,
          2.0166565012047535,
          3.3749748411997835,
          2.5759041557736273,
          1.8022412414811342,
          4.9592392117732516,
          7.58406177197482,
          0.15978726103725904,
          0.7255543568691749,
          4.719004036762003,
          3.5581401234285943,
          -1.0415375600023538,
          -0.2549992577294562,
          3.750323110027381,
          0.48435528249922477,
          -1.3262096557038827,
          4.545783354962097,
          4.367758884427073,
          1.1198537272248492,
          1.071160037439717,
          3.1290279198346997,
          5.6473181065343
         ],
         "y": [
          0,
          0.014930232236564533,
          0.3048400643277738,
          0.11017558339765876,
          0.07505138574335446,
          0.033954582356027774,
          0.06600137338137413,
          0,
          0,
          0.005325956756667138,
          0.2218609124591735,
          0.1900756428174497,
          0.0662984787750377,
          0.054781492737337456,
          0.27275805499274164,
          0.18216280866243562,
          0.0647610299624436,
          0.18388474099533814,
          0.35139657535538305,
          0.023091815341297117,
          0.0188530058822729,
          0.12174817795441739,
          0.12144321942914205,
          0.10909772718267308,
          0.02466666732051115
         ]
        }
       ],
       "layout": {
        "height": 1024,
        "template": {
         "data": {
          "bar": [
           {
            "error_x": {
             "color": "#2a3f5f"
            },
            "error_y": {
             "color": "#2a3f5f"
            },
            "marker": {
             "line": {
              "color": "#E5ECF6",
              "width": 0.5
             },
             "pattern": {
              "fillmode": "overlay",
              "size": 10,
              "solidity": 0.2
             }
            },
            "type": "bar"
           }
          ],
          "barpolar": [
           {
            "marker": {
             "line": {
              "color": "#E5ECF6",
              "width": 0.5
             },
             "pattern": {
              "fillmode": "overlay",
              "size": 10,
              "solidity": 0.2
             }
            },
            "type": "barpolar"
           }
          ],
          "carpet": [
           {
            "aaxis": {
             "endlinecolor": "#2a3f5f",
             "gridcolor": "white",
             "linecolor": "white",
             "minorgridcolor": "white",
             "startlinecolor": "#2a3f5f"
            },
            "baxis": {
             "endlinecolor": "#2a3f5f",
             "gridcolor": "white",
             "linecolor": "white",
             "minorgridcolor": "white",
             "startlinecolor": "#2a3f5f"
            },
            "type": "carpet"
           }
          ],
          "choropleth": [
           {
            "colorbar": {
             "outlinewidth": 0,
             "ticks": ""
            },
            "type": "choropleth"
           }
          ],
          "contour": [
           {
            "colorbar": {
             "outlinewidth": 0,
             "ticks": ""
            },
            "colorscale": [
             [
              0,
              "#0d0887"
             ],
             [
              0.1111111111111111,
              "#46039f"
             ],
             [
              0.2222222222222222,
              "#7201a8"
             ],
             [
              0.3333333333333333,
              "#9c179e"
             ],
             [
              0.4444444444444444,
              "#bd3786"
             ],
             [
              0.5555555555555556,
              "#d8576b"
             ],
             [
              0.6666666666666666,
              "#ed7953"
             ],
             [
              0.7777777777777778,
              "#fb9f3a"
             ],
             [
              0.8888888888888888,
              "#fdca26"
             ],
             [
              1,
              "#f0f921"
             ]
            ],
            "type": "contour"
           }
          ],
          "contourcarpet": [
           {
            "colorbar": {
             "outlinewidth": 0,
             "ticks": ""
            },
            "type": "contourcarpet"
           }
          ],
          "heatmap": [
           {
            "colorbar": {
             "outlinewidth": 0,
             "ticks": ""
            },
            "colorscale": [
             [
              0,
              "#0d0887"
             ],
             [
              0.1111111111111111,
              "#46039f"
             ],
             [
              0.2222222222222222,
              "#7201a8"
             ],
             [
              0.3333333333333333,
              "#9c179e"
             ],
             [
              0.4444444444444444,
              "#bd3786"
             ],
             [
              0.5555555555555556,
              "#d8576b"
             ],
             [
              0.6666666666666666,
              "#ed7953"
             ],
             [
              0.7777777777777778,
              "#fb9f3a"
             ],
             [
              0.8888888888888888,
              "#fdca26"
             ],
             [
              1,
              "#f0f921"
             ]
            ],
            "type": "heatmap"
           }
          ],
          "histogram": [
           {
            "marker": {
             "pattern": {
              "fillmode": "overlay",
              "size": 10,
              "solidity": 0.2
             }
            },
            "type": "histogram"
           }
          ],
          "histogram2d": [
           {
            "colorbar": {
             "outlinewidth": 0,
             "ticks": ""
            },
            "colorscale": [
             [
              0,
              "#0d0887"
             ],
             [
              0.1111111111111111,
              "#46039f"
             ],
             [
              0.2222222222222222,
              "#7201a8"
             ],
             [
              0.3333333333333333,
              "#9c179e"
             ],
             [
              0.4444444444444444,
              "#bd3786"
             ],
             [
              0.5555555555555556,
              "#d8576b"
             ],
             [
              0.6666666666666666,
              "#ed7953"
             ],
             [
              0.7777777777777778,
              "#fb9f3a"
             ],
             [
              0.8888888888888888,
              "#fdca26"
             ],
             [
              1,
              "#f0f921"
             ]
            ],
            "type": "histogram2d"
           }
          ],
          "histogram2dcontour": [
           {
            "colorbar": {
             "outlinewidth": 0,
             "ticks": ""
            },
            "colorscale": [
             [
              0,
              "#0d0887"
             ],
             [
              0.1111111111111111,
              "#46039f"
             ],
             [
              0.2222222222222222,
              "#7201a8"
             ],
             [
              0.3333333333333333,
              "#9c179e"
             ],
             [
              0.4444444444444444,
              "#bd3786"
             ],
             [
              0.5555555555555556,
              "#d8576b"
             ],
             [
              0.6666666666666666,
              "#ed7953"
             ],
             [
              0.7777777777777778,
              "#fb9f3a"
             ],
             [
              0.8888888888888888,
              "#fdca26"
             ],
             [
              1,
              "#f0f921"
             ]
            ],
            "type": "histogram2dcontour"
           }
          ],
          "mesh3d": [
           {
            "colorbar": {
             "outlinewidth": 0,
             "ticks": ""
            },
            "type": "mesh3d"
           }
          ],
          "parcoords": [
           {
            "line": {
             "colorbar": {
              "outlinewidth": 0,
              "ticks": ""
             }
            },
            "type": "parcoords"
           }
          ],
          "pie": [
           {
            "automargin": true,
            "type": "pie"
           }
          ],
          "scatter": [
           {
            "fillpattern": {
             "fillmode": "overlay",
             "size": 10,
             "solidity": 0.2
            },
            "type": "scatter"
           }
          ],
          "scatter3d": [
           {
            "line": {
             "colorbar": {
              "outlinewidth": 0,
              "ticks": ""
             }
            },
            "marker": {
             "colorbar": {
              "outlinewidth": 0,
              "ticks": ""
             }
            },
            "type": "scatter3d"
           }
          ],
          "scattercarpet": [
           {
            "marker": {
             "colorbar": {
              "outlinewidth": 0,
              "ticks": ""
             }
            },
            "type": "scattercarpet"
           }
          ],
          "scattergeo": [
           {
            "marker": {
             "colorbar": {
              "outlinewidth": 0,
              "ticks": ""
             }
            },
            "type": "scattergeo"
           }
          ],
          "scattergl": [
           {
            "marker": {
             "colorbar": {
              "outlinewidth": 0,
              "ticks": ""
             }
            },
            "type": "scattergl"
           }
          ],
          "scattermap": [
           {
            "marker": {
             "colorbar": {
              "outlinewidth": 0,
              "ticks": ""
             }
            },
            "type": "scattermap"
           }
          ],
          "scattermapbox": [
           {
            "marker": {
             "colorbar": {
              "outlinewidth": 0,
              "ticks": ""
             }
            },
            "type": "scattermapbox"
           }
          ],
          "scatterpolar": [
           {
            "marker": {
             "colorbar": {
              "outlinewidth": 0,
              "ticks": ""
             }
            },
            "type": "scatterpolar"
           }
          ],
          "scatterpolargl": [
           {
            "marker": {
             "colorbar": {
              "outlinewidth": 0,
              "ticks": ""
             }
            },
            "type": "scatterpolargl"
           }
          ],
          "scatterternary": [
           {
            "marker": {
             "colorbar": {
              "outlinewidth": 0,
              "ticks": ""
             }
            },
            "type": "scatterternary"
           }
          ],
          "surface": [
           {
            "colorbar": {
             "outlinewidth": 0,
             "ticks": ""
            },
            "colorscale": [
             [
              0,
              "#0d0887"
             ],
             [
              0.1111111111111111,
              "#46039f"
             ],
             [
              0.2222222222222222,
              "#7201a8"
             ],
             [
              0.3333333333333333,
              "#9c179e"
             ],
             [
              0.4444444444444444,
              "#bd3786"
             ],
             [
              0.5555555555555556,
              "#d8576b"
             ],
             [
              0.6666666666666666,
              "#ed7953"
             ],
             [
              0.7777777777777778,
              "#fb9f3a"
             ],
             [
              0.8888888888888888,
              "#fdca26"
             ],
             [
              1,
              "#f0f921"
             ]
            ],
            "type": "surface"
           }
          ],
          "table": [
           {
            "cells": {
             "fill": {
              "color": "#EBF0F8"
             },
             "line": {
              "color": "white"
             }
            },
            "header": {
             "fill": {
              "color": "#C8D4E3"
             },
             "line": {
              "color": "white"
             }
            },
            "type": "table"
           }
          ]
         },
         "layout": {
          "annotationdefaults": {
           "arrowcolor": "#2a3f5f",
           "arrowhead": 0,
           "arrowwidth": 1
          },
          "autotypenumbers": "strict",
          "coloraxis": {
           "colorbar": {
            "outlinewidth": 0,
            "ticks": ""
           }
          },
          "colorscale": {
           "diverging": [
            [
             0,
             "#8e0152"
            ],
            [
             0.1,
             "#c51b7d"
            ],
            [
             0.2,
             "#de77ae"
            ],
            [
             0.3,
             "#f1b6da"
            ],
            [
             0.4,
             "#fde0ef"
            ],
            [
             0.5,
             "#f7f7f7"
            ],
            [
             0.6,
             "#e6f5d0"
            ],
            [
             0.7,
             "#b8e186"
            ],
            [
             0.8,
             "#7fbc41"
            ],
            [
             0.9,
             "#4d9221"
            ],
            [
             1,
             "#276419"
            ]
           ],
           "sequential": [
            [
             0,
             "#0d0887"
            ],
            [
             0.1111111111111111,
             "#46039f"
            ],
            [
             0.2222222222222222,
             "#7201a8"
            ],
            [
             0.3333333333333333,
             "#9c179e"
            ],
            [
             0.4444444444444444,
             "#bd3786"
            ],
            [
             0.5555555555555556,
             "#d8576b"
            ],
            [
             0.6666666666666666,
             "#ed7953"
            ],
            [
             0.7777777777777778,
             "#fb9f3a"
            ],
            [
             0.8888888888888888,
             "#fdca26"
            ],
            [
             1,
             "#f0f921"
            ]
           ],
           "sequentialminus": [
            [
             0,
             "#0d0887"
            ],
            [
             0.1111111111111111,
             "#46039f"
            ],
            [
             0.2222222222222222,
             "#7201a8"
            ],
            [
             0.3333333333333333,
             "#9c179e"
            ],
            [
             0.4444444444444444,
             "#bd3786"
            ],
            [
             0.5555555555555556,
             "#d8576b"
            ],
            [
             0.6666666666666666,
             "#ed7953"
            ],
            [
             0.7777777777777778,
             "#fb9f3a"
            ],
            [
             0.8888888888888888,
             "#fdca26"
            ],
            [
             1,
             "#f0f921"
            ]
           ]
          },
          "colorway": [
           "#636efa",
           "#EF553B",
           "#00cc96",
           "#ab63fa",
           "#FFA15A",
           "#19d3f3",
           "#FF6692",
           "#B6E880",
           "#FF97FF",
           "#FECB52"
          ],
          "font": {
           "color": "#2a3f5f"
          },
          "geo": {
           "bgcolor": "white",
           "lakecolor": "white",
           "landcolor": "#E5ECF6",
           "showlakes": true,
           "showland": true,
           "subunitcolor": "white"
          },
          "hoverlabel": {
           "align": "left"
          },
          "hovermode": "closest",
          "mapbox": {
           "style": "light"
          },
          "paper_bgcolor": "white",
          "plot_bgcolor": "#E5ECF6",
          "polar": {
           "angularaxis": {
            "gridcolor": "white",
            "linecolor": "white",
            "ticks": ""
           },
           "bgcolor": "#E5ECF6",
           "radialaxis": {
            "gridcolor": "white",
            "linecolor": "white",
            "ticks": ""
           }
          },
          "scene": {
           "xaxis": {
            "backgroundcolor": "#E5ECF6",
            "gridcolor": "white",
            "gridwidth": 2,
            "linecolor": "white",
            "showbackground": true,
            "ticks": "",
            "zerolinecolor": "white"
           },
           "yaxis": {
            "backgroundcolor": "#E5ECF6",
            "gridcolor": "white",
            "gridwidth": 2,
            "linecolor": "white",
            "showbackground": true,
            "ticks": "",
            "zerolinecolor": "white"
           },
           "zaxis": {
            "backgroundcolor": "#E5ECF6",
            "gridcolor": "white",
            "gridwidth": 2,
            "linecolor": "white",
            "showbackground": true,
            "ticks": "",
            "zerolinecolor": "white"
           }
          },
          "shapedefaults": {
           "line": {
            "color": "#2a3f5f"
           }
          },
          "ternary": {
           "aaxis": {
            "gridcolor": "white",
            "linecolor": "white",
            "ticks": ""
           },
           "baxis": {
            "gridcolor": "white",
            "linecolor": "white",
            "ticks": ""
           },
           "bgcolor": "#E5ECF6",
           "caxis": {
            "gridcolor": "white",
            "linecolor": "white",
            "ticks": ""
           }
          },
          "title": {
           "x": 0.05
          },
          "xaxis": {
           "automargin": true,
           "gridcolor": "white",
           "linecolor": "white",
           "ticks": "",
           "title": {
            "standoff": 15
           },
           "zerolinecolor": "white",
           "zerolinewidth": 2
          },
          "yaxis": {
           "automargin": true,
           "gridcolor": "white",
           "linecolor": "white",
           "ticks": "",
           "title": {
            "standoff": 15
           },
           "zerolinecolor": "white",
           "zerolinewidth": 2
          }
         }
        },
        "width": 1280,
        "xaxis": {
         "range": [
          -1.5,
          10
         ],
         "title": {
          "text": "Average Outline Complexity Overhead (bits)"
         }
        },
        "yaxis": {
         "range": [
          -0.01,
          0.4
         ],
         "title": {
          "text": "Reconstruction Error (probability)"
         }
        }
       }
      }
     },
     "metadata": {},
     "output_type": "display_data"
    }
   ],
   "source": [
    "fig = go.Figure()\n",
    "\n",
    "fig.add_trace(go.Scatter(x=np.linspace(-1.5,10,24), y=[max(0,-x/4) for x in np.linspace(-1.5,10,24)], mode='none', fill='tozeroy', name = \"Excluded Region\", fillcolor='#EF553B'))\n",
    "fig.add_trace(go.Scatter(x=np.linspace(-1.5,10,24), y=[-1 for x in np.linspace(-1.5,10,24)], mode='none', fill='tozeroy', showlegend=False, fillcolor='#EF553B'))\n",
    "fig.add_trace(go.Scatter(x=np.linspace(-1.5,10,24), y=[0 for x in np.linspace(-1.5,10,24)], mode='lines', fill='none', showlegend=False,line=dict(color='#EF553B')))\n",
    "\n",
    "fig.add_trace(go.Scatter(x=[p.x for p in result],\n",
    "                        y=[p.y for p in result],\n",
    "                        text=[p.metadata for p in result],\n",
    "                        mode='lines', line=dict(color='#636EFA'), showlegend=False))\n",
    "    \n",
    "fig.add_trace(go.Scatter(x=[x[1]['mean_transmission_shift'] for x in comparison_data],\n",
    "                         y=[x[1]['reconstruction_error'] for x in comparison_data],\n",
    "                         text=[x[0] for x in comparison_data], textposition=[x[2] for x in comparison_data],\n",
    "                         mode='markers+text', name=\"Shorthand Systems\", line=dict(color='#636EFA')))\n",
    "\n",
    "fig.update_layout(width=1280, height=1024, xaxis_range=[-1.5, 10], yaxis_range=[-0.01, 0.4],\n",
    "                  xaxis_title=\"Average Outline Complexity Overhead (bits)\",\n",
    "                  yaxis_title=\"Reconstruction Error (probability)\")\n",
    "fig.show()"
   ]
  },
  {
   "cell_type": "code",
   "execution_count": 65,
   "id": "2d13cf49",
   "metadata": {},
   "outputs": [
    {
     "data": {
      "text/plain": [
       "[Point(x=-9.765103091540468, y=0.931164129364203, metadata='Null'),\n",
       " Point(x=0.8883777311644074, y=0.16594955358722174, metadata='MC,LoV,100'),\n",
       " Point(x=1.592305546304365, y=0.1299224631398923, metadata='FPMF,LoV,100'),\n",
       " Point(x=2.476816578043813, y=0.09118930364096578, metadata='MC,ShSV,100'),\n",
       " Point(x=3.1806016360919287, y=0.0683186320679362, metadata='FPMF,ShSV,100'),\n",
       " Point(x=4.249192760675465, y=0.04347157613251906, metadata='MC,SSV,100'),\n",
       " Point(x=4.953369763511537, y=0.02965160691192459, metadata='FPMF,SSV,100'),\n",
       " Point(x=5.46272074018883, y=0.025486654793430263, metadata='FC,SSV,100'),\n",
       " Point(x=8.96273721754915, y=0.014930232236564533, metadata='IPA')]"
      ]
     },
     "execution_count": 65,
     "metadata": {},
     "output_type": "execute_result"
    }
   ],
   "source": [
    "result"
   ]
  },
  {
   "cell_type": "code",
   "execution_count": null,
   "id": "0d8e3d47",
   "metadata": {},
   "outputs": [],
   "source": []
  },
  {
   "cell_type": "code",
   "execution_count": null,
   "id": "970fc529",
   "metadata": {},
   "outputs": [],
   "source": []
  },
  {
   "cell_type": "code",
   "execution_count": null,
   "id": "d5fe5631",
   "metadata": {},
   "outputs": [],
   "source": []
  }
 ],
 "metadata": {
  "kernelspec": {
   "display_name": "Python 3",
   "language": "python",
   "name": "python3"
  },
  "language_info": {
   "codemirror_mode": {
    "name": "ipython",
    "version": 3
   },
   "file_extension": ".py",
   "mimetype": "text/x-python",
   "name": "python",
   "nbconvert_exporter": "python",
   "pygments_lexer": "ipython3",
   "version": "3.12.6"
  }
 },
 "nbformat": 4,
 "nbformat_minor": 5
}
