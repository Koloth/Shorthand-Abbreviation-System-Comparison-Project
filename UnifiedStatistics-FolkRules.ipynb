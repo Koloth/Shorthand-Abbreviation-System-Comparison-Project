{
 "cells": [
  {
   "cell_type": "code",
   "execution_count": 4,
   "id": "17cb1b50-9559-44a3-b621-3fc4a4815079",
   "metadata": {},
   "outputs": [],
   "source": [
    "# Imports\n",
    "import pandas as pd\n",
    "import re\n",
    "import random\n",
    "import copy\n",
    "import math\n",
    "import json\n",
    "import matplotlib.pyplot as plt\n",
    "import plotly.express as px\n",
    "import plotly.graph_objects as go\n",
    "import numpy as np\n",
    "from collections import Counter"
   ]
  },
  {
   "cell_type": "markdown",
   "id": "81e43089-c538-46ff-88e0-8236ca39a010",
   "metadata": {},
   "source": [
    "# Load Shared Datasets\n",
    "\n",
    "This section of code loads the [Google N-Grams Data](https://github.com/orgtre/google-books-ngram-frequency/blob/main/ngrams/1grams_english.csv), along with `ipadict` for [phonetic information](https://github.com/open-dict-data/ipa-dict/blob/master/data/en_US.txt)."
   ]
  },
  {
   "cell_type": "code",
   "execution_count": 5,
   "id": "ad8f5083-13f4-4175-a750-07d0499c0be1",
   "metadata": {},
   "outputs": [],
   "source": [
    "# Load in the one-gram information (word frequencies)\n",
    "one_grams = pd.read_csv(\"1grams_english.csv\")\n",
    "one_grams_dict = {row[1]['ngram'].lower(): row[1]['freq'] for row in one_grams.iterrows()}\n",
    "\n",
    "# Scoring methods designed to select one of the options from the IPA dictionary.\n",
    "# It selects the shortest words with the most schwas (laziest pronunciation).\n",
    "\n",
    "\n",
    "def score(word):\n",
    "    word.replace(\" \", \"\")\n",
    "    return (len(word), -word.count(\"ə\"))\n",
    "\n",
    "\n",
    "def get_laziest(ipa_list):\n",
    "    return list(sorted(ipa_list, key=score))[0]\n",
    "\n",
    "\n",
    "# Loading the dictionary and parsing out the best scoring pronunciation\n",
    "ipa = pd.read_csv(\"en_US.txt\", sep='\\t', names=[\"eng\", \"ipa\"])\n",
    "ipa_opt_dict = {row[1]['eng']: row[1]['ipa'].split(', ') for row in ipa.iterrows()}\n",
    "ipa_dict = {row[1]['eng']: get_laziest(row[1]['ipa'].split(', ')) for row in ipa.iterrows()}"
   ]
  },
  {
   "cell_type": "code",
   "execution_count": 6,
   "id": "e1c9f0ad",
   "metadata": {},
   "outputs": [
    {
     "data": {
      "text/plain": [
       "[('m', ''),\n",
       " ('h', ''),\n",
       " ('n', ''),\n",
       " ('ɑ', ''),\n",
       " ('ɡ', ''),\n",
       " ('ʊ', ''),\n",
       " ('ɔ', ''),\n",
       " ('ɫ', ''),\n",
       " ('u', ''),\n",
       " ('d', ''),\n",
       " ('s', ''),\n",
       " ('θ', ''),\n",
       " ('o', ''),\n",
       " ('ˌ', ''),\n",
       " ('ɪ', ''),\n",
       " ('w', ''),\n",
       " ('ɝ', ''),\n",
       " ('a', ''),\n",
       " ('e', ''),\n",
       " ('/', ''),\n",
       " ('ʃ', ''),\n",
       " ('b', ''),\n",
       " ('ʒ', ''),\n",
       " ('ɛ', ''),\n",
       " ('k', ''),\n",
       " ('p', ''),\n",
       " ('z', ''),\n",
       " ('ŋ', ''),\n",
       " ('i', ''),\n",
       " ('ð', ''),\n",
       " ('j', ''),\n",
       " ('ˈ', ''),\n",
       " ('ə', ''),\n",
       " ('ɹ', ''),\n",
       " ('æ', ''),\n",
       " ('f', ''),\n",
       " ('v', ''),\n",
       " ('t', '')]"
      ]
     },
     "execution_count": 6,
     "metadata": {},
     "output_type": "execute_result"
    }
   ],
   "source": [
    "# Print out all our letters\n",
    "[(x,'') for x in {y for word in ipa_dict.values() for y in word}]"
   ]
  },
  {
   "cell_type": "code",
   "execution_count": 7,
   "id": "b6fae22b",
   "metadata": {},
   "outputs": [],
   "source": [
    "# Code to do basic string transformations\n",
    "def translate_add(string, rules, verbose = False): \n",
    "    out = []\n",
    "    pos = 0\n",
    "    while pos < len(string):\n",
    "        matched = False\n",
    "        for rule_head, rule_tail in rules:\n",
    "            if string[pos:pos+len(rule_head)] == rule_head:\n",
    "                if rule_tail != None:\n",
    "                    out.append(rule_tail)\n",
    "                matched = True\n",
    "                pos += len(rule_head)\n",
    "                if verbose:\n",
    "                    print(f\"Matched: {rule_head} -> {rule_tail}\")\n",
    "                break\n",
    "        if not matched:\n",
    "            if verbose:\n",
    "                print(f\"Skipped: {string[pos]}\")\n",
    "            pos += 1\n",
    "    return out\n",
    "\n",
    "def translate(word, rules, verbose = False):\n",
    "    return_string = \"\".join(translate_add(\"~\" + ipa_dict[word].replace('/','').replace('ˈ','').replace('ˌ','') + \"~\",rules, verbose))\n",
    "    if len(return_string) == 0:\n",
    "        return 'e'\n",
    "    else:\n",
    "        return return_string"
   ]
  },
  {
   "cell_type": "code",
   "execution_count": 8,
   "id": "a689319d",
   "metadata": {},
   "outputs": [],
   "source": [
    "# Consonants without variable representation\n",
    "unpaired_consonants = [('ɫ', 'l'),\n",
    " ('ɹ', 'r'),\n",
    " ('m', 'm'),\n",
    " ('ŋ', 'ŋ'),\n",
    " ('n', 'n'),\n",
    " ('w', 'w'),\n",
    " ('h', 'h'),\n",
    " ('j', 'y')]\n",
    "\n",
    "# ch and j\n",
    "full_affrictives = [\n",
    " ('dʒ', 'j'),\n",
    " ('tʃ', 'C')]\n",
    "\n",
    "merged_affrictives = [\n",
    " ('dʒ', 'C'),\n",
    " ('tʃ', 'C')]\n",
    "\n",
    "# Frictives\n",
    "full_frictives = [\n",
    " ('s', 's'),\n",
    " ('ʒ', 'ʒ'),\n",
    " ('ʃ', 'ʃ'),\n",
    " ('v', 'v'),\n",
    " ('θ', 'θ'),\n",
    " ('f', 'f'),\n",
    " ('z', 'z'),\n",
    " ('ð', 'ð')]\n",
    "\n",
    "merged_frictives = [\n",
    " ('s', 's'),\n",
    " ('ʒ', 'ʃ'),\n",
    " ('ʃ', 'ʃ'),\n",
    " ('v', 'f'),\n",
    " ('θ', 'θ'),\n",
    " ('f', 'f'),\n",
    " ('z', 's'),\n",
    " ('ð', 'θ')]\n",
    "\n",
    "# Plosives\n",
    "full_plosives = [\n",
    " ('t', 't'),\n",
    " ('b', 'b'),\n",
    " ('ɡ', 'g'),\n",
    " ('p', 'p'),\n",
    " ('d', 'd'),\n",
    " ('k', 'k')]\n",
    "\n",
    "merged_plosives = [\n",
    " ('t', 't'),\n",
    " ('b', 'p'),\n",
    " ('ɡ', 'k'),\n",
    " ('p', 'p'),\n",
    " ('d', 't'),\n",
    " ('k', 'k')]\n",
    "\n",
    "consonant_types = {\n",
    "    'full consonants': full_affrictives + unpaired_consonants + full_frictives + full_plosives,\n",
    "    'full plosives, merged frictives': full_affrictives + unpaired_consonants + merged_frictives + full_plosives,\n",
    "    'merged consonants': merged_affrictives + unpaired_consonants + merged_frictives + merged_plosives,\n",
    "}\n",
    "\n",
    "short_consonant_names = {\n",
    "    'full consonants': 'FC',\n",
    "    'full plosives, merged frictives': 'FPMF',\n",
    "    'merged consonants': 'MC',\n",
    "}"
   ]
  },
  {
   "cell_type": "code",
   "execution_count": 9,
   "id": "285422e8",
   "metadata": {},
   "outputs": [],
   "source": [
    "# Schwa's Name\n",
    "schwa_name = 'e'\n",
    "\n",
    "# Stupid R\n",
    "r_with_vowels = [('ɝ', schwa_name + 'r')]\n",
    "r_with_lateral_vowels = [('~ɝ', schwa_name + 'r'),('ɝ', 'r')]\n",
    "r_with_flattened_lateral_vowels = [('~ɝ', 'er'),('ɝ', 'r')]\n",
    "r_without_vowels = [('ɝ', 'r')]"
   ]
  },
  {
   "cell_type": "code",
   "execution_count": 10,
   "id": "82c466fb",
   "metadata": {},
   "outputs": [],
   "source": [
    "# Long Vowels\n",
    "long_vowels = [\n",
    " ('i', 'e'),\n",
    " ('eɪ', 'a'),\n",
    " ('oʊ', 'o'),\n",
    " ('aɪ', 'i'),\n",
    " ('ju', 'u'),\n",
    "]\n",
    "\n",
    "lateral_long_vowels = [\n",
    " ('~i', 'e'),\n",
    " ('~eɪ', 'a'),\n",
    " ('~oʊ', 'o'),\n",
    " ('~aɪ', 'i'),\n",
    " ('~ju', 'u'),\n",
    " ('i~', 'e'),\n",
    " ('eɪ~', 'a'),\n",
    " ('oʊ~', 'o'),\n",
    " ('aɪ~', 'i'),\n",
    " ('ju~', 'u'),\n",
    "]\n",
    "\n",
    "flattened_lateral_long_vowels = [\n",
    " ('~i', 'e'),\n",
    " ('~eɪ', 'e'),\n",
    " ('~oʊ', 'e'),\n",
    " ('~aɪ', 'e'),\n",
    " ('~ju', 'e'),\n",
    " ('i~', 'e'),\n",
    " ('eɪ~', 'e'),\n",
    " ('oʊ~', 'e'),\n",
    " ('aɪ~', 'e'),\n",
    " ('ju~', 'e'),\n",
    "]\n",
    "\n",
    "# Schwa\n",
    "schwa = [\n",
    " ('ə', schwa_name),\n",
    "]\n",
    "\n",
    "lateral_schwa = [\n",
    " ('~ə', schwa_name),\n",
    " ('ə~', schwa_name),\n",
    "]\n",
    "\n",
    "flattened_lateral_schwa = [\n",
    " ('~ə', 'e'),\n",
    " ('ə~', 'e'),\n",
    "]\n",
    "\n",
    "# remaining vowels\n",
    "remaining_vowels = [\n",
    " ('ɑ', 'a'),\n",
    " ('æ', 'a'),\n",
    " ('e', 'e'),\n",
    " ('ʊ', 'u'),\n",
    " ('ɛ', 'e'),\n",
    " ('ɔ', 'o'),\n",
    " ('a', 'a'),\n",
    " ('o', 'o'),\n",
    " ('ɪ', 'i'),\n",
    " ('u', 'u'),\n",
    "]\n",
    "\n",
    "lateral_remaining_vowels = [\n",
    " ('~ɑ', 'a'),\n",
    " ('~æ', 'a'),\n",
    " ('~e', 'e'),\n",
    " ('~ʊ', 'u'),\n",
    " ('~ɛ', 'e'),\n",
    " ('~ɔ', 'o'),\n",
    " ('~a', 'a'),\n",
    " ('~o', 'o'),\n",
    " ('~ɪ', 'i'),\n",
    " ('~u', 'u'),\n",
    " ('ɑ~', 'a'),\n",
    " ('æ~', 'a'),\n",
    " ('e~', 'e'),\n",
    " ('ʊ~', 'u'),\n",
    " ('ɛ~', 'e'),\n",
    " ('ɔ~', 'o'),\n",
    " ('a~', 'a'),\n",
    " ('o~', 'o'),\n",
    " ('ɪ~', 'i'),\n",
    " ('u~', 'u'),\n",
    "]\n",
    "\n",
    "flattened_lateral_remaining_vowels = [\n",
    " ('~ɑ', 'e'),\n",
    " ('~æ', 'e'),\n",
    " ('~e', 'e'),\n",
    " ('~ʊ', 'e'),\n",
    " ('~ɛ', 'e'),\n",
    " ('~ɔ', 'e'),\n",
    " ('~a', 'e'),\n",
    " ('~o', 'e'),\n",
    " ('~ɪ', 'e'),\n",
    " ('~u', 'e'),\n",
    " ('ɑ~', 'e'),\n",
    " ('æ~', 'e'),\n",
    " ('e~', 'e'),\n",
    " ('ʊ~', 'e'),\n",
    " ('ɛ~', 'e'),\n",
    " ('ɔ~', 'e'),\n",
    " ('a~', 'e'),\n",
    " ('o~', 'e'),\n",
    " ('ɪ~', 'e'),\n",
    " ('u~', 'e'),\n",
    "]\n",
    "\n",
    "# kill 'y' as part of long vowels\n",
    "no_long_u = [('ju','')]\n",
    "\n",
    "vowel_types = {\n",
    "    'full vowels': r_with_vowels + long_vowels + schwa + remaining_vowels,\n",
    "    'schwa suppressed vowels': r_with_lateral_vowels + long_vowels + lateral_schwa + remaining_vowels,\n",
    "    'short suppressed vowels': r_with_lateral_vowels + long_vowels + lateral_schwa + lateral_remaining_vowels,\n",
    "    'long vowels': r_without_vowels + long_vowels,\n",
    "    'lateral vowels': r_with_lateral_vowels + lateral_long_vowels + lateral_schwa + lateral_remaining_vowels + no_long_u,\n",
    "    'flattened lateral vowels': r_with_flattened_lateral_vowels + flattened_lateral_long_vowels + lateral_schwa + flattened_lateral_remaining_vowels + no_long_u,\n",
    "    'no vowels': r_without_vowels + no_long_u \n",
    "}\n",
    "\n",
    "short_vowel_names = {\n",
    "    'full vowels': 'FV',\n",
    "    'schwa suppressed vowels': 'SSV',\n",
    "    'short suppressed vowels': 'ShSV',\n",
    "    'long vowels': 'LoV',\n",
    "    'lateral vowels': 'LV',\n",
    "    'flattened lateral vowels': 'FLV',\n",
    "    'no vowels': 'NV' \n",
    "}"
   ]
  },
  {
   "cell_type": "code",
   "execution_count": 11,
   "id": "9a232aac",
   "metadata": {},
   "outputs": [
    {
     "name": "stdout",
     "output_type": "stream",
     "text": [
      "ville's -> vɪɫz -> fls (merged consonants, lateral vowels)\n"
     ]
    }
   ],
   "source": [
    "# quick test code\n",
    "word = random.choice(list(ipa_dict.keys()))\n",
    "consonant_type = random.choice(list(consonant_types.keys()))\n",
    "vowel_type = random.choice(list(vowel_types.keys()))\n",
    "print(f\"{word} -> {ipa_dict[word].replace('/','').replace('ˈ','').replace('ˌ','')} -> {translate(word,vowel_types[vowel_type] + consonant_types[consonant_type],verbose=False)} ({consonant_type}, {vowel_type})\")"
   ]
  },
  {
   "cell_type": "code",
   "execution_count": 12,
   "id": "3230ea8f",
   "metadata": {},
   "outputs": [
    {
     "name": "stdout",
     "output_type": "stream",
     "text": [
      "e robet ma nat injer e umen beiŋ er θru inakʃen elau e umen beiŋ te kem te harm (full consonants, full vowels)\n",
      "e robet ma nat injer e umen beiŋ er θru inakʃen elau e umen beiŋ te kem te harm (full plosives, merged frictives, full vowels)\n",
      "e ropet ma nat inCer e umen peiŋ er θru inakʃen elau e umen peiŋ te kem te harm (merged consonants, full vowels)\n",
      "e robt ma nat injr e umn beiŋ er θru inakʃn elau e umn beiŋ te km te harm (full consonants, schwa suppressed vowels)\n",
      "e robt ma nat injr e umn beiŋ er θru inakʃn elau e umn beiŋ te km te harm (full plosives, merged frictives, schwa suppressed vowels)\n",
      "e ropt ma nat inCr e umn peiŋ er θru inakʃn elau e umn peiŋ te km te harm (merged consonants, schwa suppressed vowels)\n",
      "e robt ma nt injr e umn beŋ er θru inkʃn elu e umn beŋ te km te hrm (full consonants, short suppressed vowels)\n",
      "e robt ma nt injr e umn beŋ er θru inkʃn elu e umn beŋ te km te hrm (full plosives, merged frictives, short suppressed vowels)\n",
      "e ropt ma nt inCr e umn peŋ er θru inkʃn elu e umn peŋ te km te hrm (merged consonants, short suppressed vowels)\n",
      "e robt ma nt njr e umn beŋ r θr nkʃn l e umn beŋ t km t hrm (full consonants, long vowels)\n",
      "e robt ma nt njr e umn beŋ r θr nkʃn l e umn beŋ t km t hrm (full plosives, merged frictives, long vowels)\n",
      "e ropt ma nt nCr e umn peŋ r θr nkʃn l e umn peŋ t km t hrm (merged consonants, long vowels)\n",
      "e rbt ma nt injr e umn bŋ er θru inkʃn elu e umn bŋ te km te hrm (full consonants, lateral vowels)\n",
      "e rbt ma nt injr e umn bŋ er θru inkʃn elu e umn bŋ te km te hrm (full plosives, merged frictives, lateral vowels)\n",
      "e rpt ma nt inCr e umn pŋ er θru inkʃn elu e umn pŋ te km te hrm (merged consonants, lateral vowels)\n",
      "e rbt me nt enjr e emn bŋ er θre enkʃn ele e emn bŋ te km te hrm (full consonants, flattened lateral vowels)\n",
      "e rbt me nt enjr e emn bŋ er θre enkʃn ele e emn bŋ te km te hrm (full plosives, merged frictives, flattened lateral vowels)\n",
      "e rpt me nt enCr e emn pŋ er θre enkʃn ele e emn pŋ te km te hrm (merged consonants, flattened lateral vowels)\n",
      "e rbt m nt njr e mn bŋ r θr nkʃn l e mn bŋ t km t hrm (full consonants, no vowels)\n",
      "e rbt m nt njr e mn bŋ r θr nkʃn l e mn bŋ t km t hrm (full plosives, merged frictives, no vowels)\n",
      "e rpt m nt nCr e mn pŋ r θr nkʃn l e mn pŋ t km t hrm (merged consonants, no vowels)\n"
     ]
    }
   ],
   "source": [
    "sentence = \"a robot may not injure a human being or through inaction allow a human being to come to harm\"\n",
    "for vowel_type in vowel_types:\n",
    "    for consonant_type in consonant_types:\n",
    "        print(\" \".join([translate(word,vowel_types[vowel_type] + consonant_types[consonant_type]) for word in sentence.split()])+f\" ({consonant_type}, {vowel_type})\")"
   ]
  },
  {
   "cell_type": "markdown",
   "id": "954376ff-bf9c-4941-928f-3e3054191e88",
   "metadata": {},
   "source": [
    "# Write Common Code\n",
    "\n",
    "This is code that takes in:\n",
    "\n",
    "1. A list of words,\n",
    "2. A dictionary of word transformations,\n",
    "3. An optional function that computes lengths of words (defaults to `len`),\n",
    "4. An optional function that transforms a transformed word into the constituent \"letters\".\n",
    "\n",
    "It then returns the various statistics of that model as a dictionary:\n",
    "1. The mean length normalized to assume a binary alphabet (multiplied by the $log_2$ of the alphabet size),\n",
    "2. The reconstruction entropy $H(X|f(X))$,\n",
    "3. The reconstruction error $\\mathbf{P}\\{X = \\mathrm{argmax}_{y : f(y) =  f(X)} p(y)\\}$"
   ]
  },
  {
   "cell_type": "code",
   "execution_count": 13,
   "id": "391393a0-76cb-410b-9848-b150e1b3a490",
   "metadata": {},
   "outputs": [],
   "source": [
    "import math\n",
    "from collections import Counter\n",
    "\n",
    "def entropy(counts):\n",
    "    total = sum(counts.values())\n",
    "    entropy_value = 0\n",
    "    for x in counts:\n",
    "        p_x = counts[x] / total\n",
    "        if p_x > 0:\n",
    "            entropy_value -= p_x * math.log2(p_x)\n",
    "    return entropy_value\n",
    "\n",
    "def transmission_cost(letters, suprisal):\n",
    "    total_suprisal = 0\n",
    "    for l in letters:\n",
    "        total_suprisal += suprisal[l]\n",
    "    return total_suprisal\n",
    "\n",
    "def entropy_wl(word_list, one_grams_dict):\n",
    "    countlist = {w: one_grams_dict[w] for w in word_list}\n",
    "    return entropy(countlist)\n",
    "\n",
    "def code_statistics(word_list, word_mapping,\n",
    "                    length_function=lambda x: len(x),\n",
    "                    letter_making=lambda x: x, delim=None):\n",
    "    # Data to track mean outline length\n",
    "    denom = 0\n",
    "    total_length = 0\n",
    "\n",
    "    # Data to track alphabet size\n",
    "    letter_counts = Counter()\n",
    "\n",
    "    # Data to track for computing reconstruction entropy and reconstruction probability\n",
    "    forward = {}\n",
    "    inverse = {}\n",
    "    most_probable = {}\n",
    "    totals = {}\n",
    "\n",
    "    # Iterate over word list keeping track of stats for mean length and the inverse mapping\n",
    "    for word in word_list:\n",
    "        count = one_grams_dict[word]\n",
    "\n",
    "        image = word_mapping[word]\n",
    "        if delim:\n",
    "            image += delim\n",
    "\n",
    "        word_length = length_function(image) * count\n",
    "        total_length += word_length\n",
    "        denom += count\n",
    "\n",
    "        forward[word] = image\n",
    "        if image not in inverse:\n",
    "            inverse[image] = {}\n",
    "            totals[image] = 0\n",
    "\n",
    "        inverse[image][word] = count\n",
    "        totals[image] += count\n",
    "\n",
    "        # Update most probable word for each image\n",
    "        if image not in most_probable or inverse[image][word] > inverse[image][most_probable[image]]:\n",
    "            most_probable[image] = word\n",
    "\n",
    "        current_letters = letter_making(image)\n",
    "        for l in current_letters:\n",
    "            letter_counts[l]+= count\n",
    "\n",
    "    letter_total = sum(letter_counts.values())\n",
    "    suprisal = {letter: -math.log2(letter_counts[letter] / letter_total) for letter in letter_counts}\n",
    "\n",
    "    # Compute the reconstruction entropy and reconstruction probability\n",
    "    total_reconstruction_entropy = 0\n",
    "    total_reconstruction_probability = 0\n",
    "    total_transmission_cost = 0\n",
    "\n",
    "    for word in word_list:\n",
    "        count = one_grams_dict[word]\n",
    "        image = forward[word]\n",
    "        prob = inverse[image][word] / totals[image]\n",
    "        if prob > 0:\n",
    "            total_reconstruction_entropy -= count * math.log2(prob)\n",
    "        total_reconstruction_probability += count if word == most_probable[image] else 0\n",
    "        total_transmission_cost += count * transmission_cost(letter_making(image), suprisal)\n",
    "\n",
    "    # Compute running lengths (assuming words are sorted by frequency)\n",
    "    sorted_words = sorted(\n",
    "        [w for w in word_list],\n",
    "        key=lambda w: one_grams_dict[w],\n",
    "        reverse=True\n",
    "    )\n",
    "\n",
    "    running_lengths = 0\n",
    "    running_count = 1\n",
    "\n",
    "    for w in sorted_words:\n",
    "        prob = one_grams_dict[w] / denom\n",
    "        running_lengths += prob * math.log2(running_count)\n",
    "        running_count += 1\n",
    "\n",
    "    # Mean binary length based on fixed-length encoding of letters\n",
    "    mean_binary_length = (total_length / denom) * math.log2(len(letter_counts))\n",
    "\n",
    "    # Entropy of the word list\n",
    "    word_list_entropy = entropy_wl(word_list, one_grams_dict)\n",
    "\n",
    "    return {\n",
    "        \"mean_binary_length\": mean_binary_length,\n",
    "        \"mean_binary_excess\": mean_binary_length - running_lengths,\n",
    "        \"mean_entropy_shift\": mean_binary_length - word_list_entropy,\n",
    "        \"mean_transmission_cost\": total_transmission_cost / denom,\n",
    "        \"mean_transmission_excess\": (total_transmission_cost / denom) - running_lengths,\n",
    "        \"mean_transmission_shift\": (total_transmission_cost / denom) - word_list_entropy,\n",
    "        \"reconstruction_entropy\": total_reconstruction_entropy / denom,\n",
    "        \"reconstruction_error\": 1 - (total_reconstruction_probability / denom),\n",
    "        \"alphabet\": \" \".join([x for x, _ in letter_counts.most_common()])\n",
    "    }\n"
   ]
  },
  {
   "cell_type": "markdown",
   "id": "091ba4af-1b96-4f82-8a7b-f3a7bd2e08cd",
   "metadata": {},
   "source": [
    "# Plotting\n",
    "\n",
    "Now we plot!  I will also include an allowable region based upon using Fano's inequality to this problem. "
   ]
  },
  {
   "cell_type": "code",
   "execution_count": 14,
   "id": "a2036085-84d5-4bc3-b592-091e4310bb1c",
   "metadata": {},
   "outputs": [],
   "source": [
    "def word_list(dict):\n",
    "    return [x for x in one_grams_dict if x in dict]\n",
    "\n",
    "scores = []\n",
    "for vowel_type in vowel_types:\n",
    "    for consonant_type in consonant_types:\n",
    "        dictionary = {w:translate(w,vowel_types[vowel_type] + consonant_types[consonant_type],verbose=False) for w in ipa_dict}\n",
    "        scores.append((short_consonant_names[consonant_type] + \",\" + short_vowel_names[vowel_type],code_statistics(word_list(dictionary), dictionary),'top right'))"
   ]
  },
  {
   "cell_type": "code",
   "execution_count": 15,
   "id": "ae6adecc",
   "metadata": {},
   "outputs": [],
   "source": [
    "with open(f\"folk_system_scores.json\", \"w\") as f:\n",
    "            f.write(json.dumps(scores))"
   ]
  },
  {
   "cell_type": "code",
   "execution_count": 16,
   "id": "24dfb5a1-517a-4c80-bdf9-bf3a70c77acd",
   "metadata": {},
   "outputs": [
    {
     "data": {
      "application/vnd.plotly.v1+json": {
       "config": {
        "plotlyServerURL": "https://plot.ly"
       },
       "data": [
        {
         "fill": "tozeroy",
         "fillcolor": "#EF553B",
         "mode": "none",
         "name": "Excluded Region",
         "type": "scatter",
         "x": {
          "bdata": "AAAAAAAA+L8AAAAAAADwvwAAAAAAAOC/AAAAAAAAAAAAAAAAAADgPwAAAAAAAPA/AAAAAAAA+D8AAAAAAAAAQAAAAAAAAARAAAAAAAAACEAAAAAAAAAMQAAAAAAAABBAAAAAAAAAEkAAAAAAAAAUQAAAAAAAABZAAAAAAAAAGEAAAAAAAAAaQAAAAAAAABxAAAAAAAAAHkAAAAAAAAAgQAAAAAAAACFAAAAAAAAAIkAAAAAAAAAjQAAAAAAAACRA",
          "dtype": "f8"
         },
         "y": [
          0.375,
          0.25,
          0.125,
          0,
          0,
          0,
          0,
          0,
          0,
          0,
          0,
          0,
          0,
          0,
          0,
          0,
          0,
          0,
          0,
          0,
          0,
          0,
          0,
          0
         ]
        },
        {
         "fill": "tozeroy",
         "fillcolor": "#EF553B",
         "mode": "none",
         "showlegend": false,
         "type": "scatter",
         "x": {
          "bdata": "AAAAAAAA+L8AAAAAAADwvwAAAAAAAOC/AAAAAAAAAAAAAAAAAADgPwAAAAAAAPA/AAAAAAAA+D8AAAAAAAAAQAAAAAAAAARAAAAAAAAACEAAAAAAAAAMQAAAAAAAABBAAAAAAAAAEkAAAAAAAAAUQAAAAAAAABZAAAAAAAAAGEAAAAAAAAAaQAAAAAAAABxAAAAAAAAAHkAAAAAAAAAgQAAAAAAAACFAAAAAAAAAIkAAAAAAAAAjQAAAAAAAACRA",
          "dtype": "f8"
         },
         "y": [
          -1,
          -1,
          -1,
          -1,
          -1,
          -1,
          -1,
          -1,
          -1,
          -1,
          -1,
          -1,
          -1,
          -1,
          -1,
          -1,
          -1,
          -1,
          -1,
          -1,
          -1,
          -1,
          -1,
          -1
         ]
        },
        {
         "fill": "none",
         "line": {
          "color": "#EF553B"
         },
         "mode": "lines",
         "showlegend": false,
         "type": "scatter",
         "x": {
          "bdata": "AAAAAAAA+L8AAAAAAADwvwAAAAAAAOC/AAAAAAAAAAAAAAAAAADgPwAAAAAAAPA/AAAAAAAA+D8AAAAAAAAAQAAAAAAAAARAAAAAAAAACEAAAAAAAAAMQAAAAAAAABBAAAAAAAAAEkAAAAAAAAAUQAAAAAAAABZAAAAAAAAAGEAAAAAAAAAaQAAAAAAAABxAAAAAAAAAHkAAAAAAAAAgQAAAAAAAACFAAAAAAAAAIkAAAAAAAAAjQAAAAAAAACRA",
          "dtype": "f8"
         },
         "y": [
          0,
          0,
          0,
          0,
          0,
          0,
          0,
          0,
          0,
          0,
          0,
          0,
          0,
          0,
          0,
          0,
          0,
          0,
          0,
          0,
          0,
          0,
          0,
          0
         ]
        },
        {
         "line": {
          "color": "#636EFA"
         },
         "mode": "markers+text",
         "name": "Shorthand Systems",
         "text": [
          "FC,FV",
          "FPMF,FV",
          "MC,FV",
          "FC,SSV",
          "FPMF,SSV",
          "MC,SSV",
          "FC,ShSV",
          "FPMF,ShSV",
          "MC,ShSV",
          "FC,LoV",
          "FPMF,LoV",
          "MC,LoV",
          "FC,LV",
          "FPMF,LV",
          "MC,LV",
          "FC,FLV",
          "FPMF,FLV",
          "MC,FLV",
          "FC,NV",
          "FPMF,NV",
          "MC,NV"
         ],
         "textposition": [
          "top right",
          "top right",
          "top right",
          "top right",
          "top right",
          "top right",
          "top right",
          "top right",
          "top right",
          "top right",
          "top right",
          "top right",
          "top right",
          "top right",
          "top right",
          "top right",
          "top right",
          "top right",
          "top right",
          "top right",
          "top right"
         ],
         "type": "scatter",
         "x": [
          6.399511575092063,
          5.889403359793546,
          5.183970924492758,
          5.459962071197701,
          4.9498538558990735,
          4.244421420598194,
          3.6874529829856275,
          3.177344767687007,
          2.471912332386225,
          2.0992213065523746,
          1.589113091253747,
          0.8836806559529258,
          2.8412774124203217,
          2.3311691971216,
          1.6257367618208018,
          1.9628722362047064,
          1.4527640209060806,
          0.7473315856051528,
          0.2649831566096683,
          -0.24512505868895573,
          -0.9505574939898569
         ],
         "y": [
          0.03285094362542118,
          0.03711484616306682,
          0.05103137885885156,
          0.025486654793430263,
          0.02965160691192459,
          0.04347157613251906,
          0.06115825262531338,
          0.0683186320679362,
          0.09118930364096578,
          0.11686952963055652,
          0.1299224631398923,
          0.16594955358722174,
          0.09893907275029679,
          0.11178819725982148,
          0.1440412259470797,
          0.17558104462061896,
          0.1929383807408963,
          0.22864838598536974,
          0.2326170214317772,
          0.25609698277538384,
          0.3054790895300489
         ]
        }
       ],
       "layout": {
        "height": 1024,
        "template": {
         "data": {
          "bar": [
           {
            "error_x": {
             "color": "#2a3f5f"
            },
            "error_y": {
             "color": "#2a3f5f"
            },
            "marker": {
             "line": {
              "color": "#E5ECF6",
              "width": 0.5
             },
             "pattern": {
              "fillmode": "overlay",
              "size": 10,
              "solidity": 0.2
             }
            },
            "type": "bar"
           }
          ],
          "barpolar": [
           {
            "marker": {
             "line": {
              "color": "#E5ECF6",
              "width": 0.5
             },
             "pattern": {
              "fillmode": "overlay",
              "size": 10,
              "solidity": 0.2
             }
            },
            "type": "barpolar"
           }
          ],
          "carpet": [
           {
            "aaxis": {
             "endlinecolor": "#2a3f5f",
             "gridcolor": "white",
             "linecolor": "white",
             "minorgridcolor": "white",
             "startlinecolor": "#2a3f5f"
            },
            "baxis": {
             "endlinecolor": "#2a3f5f",
             "gridcolor": "white",
             "linecolor": "white",
             "minorgridcolor": "white",
             "startlinecolor": "#2a3f5f"
            },
            "type": "carpet"
           }
          ],
          "choropleth": [
           {
            "colorbar": {
             "outlinewidth": 0,
             "ticks": ""
            },
            "type": "choropleth"
           }
          ],
          "contour": [
           {
            "colorbar": {
             "outlinewidth": 0,
             "ticks": ""
            },
            "colorscale": [
             [
              0,
              "#0d0887"
             ],
             [
              0.1111111111111111,
              "#46039f"
             ],
             [
              0.2222222222222222,
              "#7201a8"
             ],
             [
              0.3333333333333333,
              "#9c179e"
             ],
             [
              0.4444444444444444,
              "#bd3786"
             ],
             [
              0.5555555555555556,
              "#d8576b"
             ],
             [
              0.6666666666666666,
              "#ed7953"
             ],
             [
              0.7777777777777778,
              "#fb9f3a"
             ],
             [
              0.8888888888888888,
              "#fdca26"
             ],
             [
              1,
              "#f0f921"
             ]
            ],
            "type": "contour"
           }
          ],
          "contourcarpet": [
           {
            "colorbar": {
             "outlinewidth": 0,
             "ticks": ""
            },
            "type": "contourcarpet"
           }
          ],
          "heatmap": [
           {
            "colorbar": {
             "outlinewidth": 0,
             "ticks": ""
            },
            "colorscale": [
             [
              0,
              "#0d0887"
             ],
             [
              0.1111111111111111,
              "#46039f"
             ],
             [
              0.2222222222222222,
              "#7201a8"
             ],
             [
              0.3333333333333333,
              "#9c179e"
             ],
             [
              0.4444444444444444,
              "#bd3786"
             ],
             [
              0.5555555555555556,
              "#d8576b"
             ],
             [
              0.6666666666666666,
              "#ed7953"
             ],
             [
              0.7777777777777778,
              "#fb9f3a"
             ],
             [
              0.8888888888888888,
              "#fdca26"
             ],
             [
              1,
              "#f0f921"
             ]
            ],
            "type": "heatmap"
           }
          ],
          "histogram": [
           {
            "marker": {
             "pattern": {
              "fillmode": "overlay",
              "size": 10,
              "solidity": 0.2
             }
            },
            "type": "histogram"
           }
          ],
          "histogram2d": [
           {
            "colorbar": {
             "outlinewidth": 0,
             "ticks": ""
            },
            "colorscale": [
             [
              0,
              "#0d0887"
             ],
             [
              0.1111111111111111,
              "#46039f"
             ],
             [
              0.2222222222222222,
              "#7201a8"
             ],
             [
              0.3333333333333333,
              "#9c179e"
             ],
             [
              0.4444444444444444,
              "#bd3786"
             ],
             [
              0.5555555555555556,
              "#d8576b"
             ],
             [
              0.6666666666666666,
              "#ed7953"
             ],
             [
              0.7777777777777778,
              "#fb9f3a"
             ],
             [
              0.8888888888888888,
              "#fdca26"
             ],
             [
              1,
              "#f0f921"
             ]
            ],
            "type": "histogram2d"
           }
          ],
          "histogram2dcontour": [
           {
            "colorbar": {
             "outlinewidth": 0,
             "ticks": ""
            },
            "colorscale": [
             [
              0,
              "#0d0887"
             ],
             [
              0.1111111111111111,
              "#46039f"
             ],
             [
              0.2222222222222222,
              "#7201a8"
             ],
             [
              0.3333333333333333,
              "#9c179e"
             ],
             [
              0.4444444444444444,
              "#bd3786"
             ],
             [
              0.5555555555555556,
              "#d8576b"
             ],
             [
              0.6666666666666666,
              "#ed7953"
             ],
             [
              0.7777777777777778,
              "#fb9f3a"
             ],
             [
              0.8888888888888888,
              "#fdca26"
             ],
             [
              1,
              "#f0f921"
             ]
            ],
            "type": "histogram2dcontour"
           }
          ],
          "mesh3d": [
           {
            "colorbar": {
             "outlinewidth": 0,
             "ticks": ""
            },
            "type": "mesh3d"
           }
          ],
          "parcoords": [
           {
            "line": {
             "colorbar": {
              "outlinewidth": 0,
              "ticks": ""
             }
            },
            "type": "parcoords"
           }
          ],
          "pie": [
           {
            "automargin": true,
            "type": "pie"
           }
          ],
          "scatter": [
           {
            "fillpattern": {
             "fillmode": "overlay",
             "size": 10,
             "solidity": 0.2
            },
            "type": "scatter"
           }
          ],
          "scatter3d": [
           {
            "line": {
             "colorbar": {
              "outlinewidth": 0,
              "ticks": ""
             }
            },
            "marker": {
             "colorbar": {
              "outlinewidth": 0,
              "ticks": ""
             }
            },
            "type": "scatter3d"
           }
          ],
          "scattercarpet": [
           {
            "marker": {
             "colorbar": {
              "outlinewidth": 0,
              "ticks": ""
             }
            },
            "type": "scattercarpet"
           }
          ],
          "scattergeo": [
           {
            "marker": {
             "colorbar": {
              "outlinewidth": 0,
              "ticks": ""
             }
            },
            "type": "scattergeo"
           }
          ],
          "scattergl": [
           {
            "marker": {
             "colorbar": {
              "outlinewidth": 0,
              "ticks": ""
             }
            },
            "type": "scattergl"
           }
          ],
          "scattermap": [
           {
            "marker": {
             "colorbar": {
              "outlinewidth": 0,
              "ticks": ""
             }
            },
            "type": "scattermap"
           }
          ],
          "scattermapbox": [
           {
            "marker": {
             "colorbar": {
              "outlinewidth": 0,
              "ticks": ""
             }
            },
            "type": "scattermapbox"
           }
          ],
          "scatterpolar": [
           {
            "marker": {
             "colorbar": {
              "outlinewidth": 0,
              "ticks": ""
             }
            },
            "type": "scatterpolar"
           }
          ],
          "scatterpolargl": [
           {
            "marker": {
             "colorbar": {
              "outlinewidth": 0,
              "ticks": ""
             }
            },
            "type": "scatterpolargl"
           }
          ],
          "scatterternary": [
           {
            "marker": {
             "colorbar": {
              "outlinewidth": 0,
              "ticks": ""
             }
            },
            "type": "scatterternary"
           }
          ],
          "surface": [
           {
            "colorbar": {
             "outlinewidth": 0,
             "ticks": ""
            },
            "colorscale": [
             [
              0,
              "#0d0887"
             ],
             [
              0.1111111111111111,
              "#46039f"
             ],
             [
              0.2222222222222222,
              "#7201a8"
             ],
             [
              0.3333333333333333,
              "#9c179e"
             ],
             [
              0.4444444444444444,
              "#bd3786"
             ],
             [
              0.5555555555555556,
              "#d8576b"
             ],
             [
              0.6666666666666666,
              "#ed7953"
             ],
             [
              0.7777777777777778,
              "#fb9f3a"
             ],
             [
              0.8888888888888888,
              "#fdca26"
             ],
             [
              1,
              "#f0f921"
             ]
            ],
            "type": "surface"
           }
          ],
          "table": [
           {
            "cells": {
             "fill": {
              "color": "#EBF0F8"
             },
             "line": {
              "color": "white"
             }
            },
            "header": {
             "fill": {
              "color": "#C8D4E3"
             },
             "line": {
              "color": "white"
             }
            },
            "type": "table"
           }
          ]
         },
         "layout": {
          "annotationdefaults": {
           "arrowcolor": "#2a3f5f",
           "arrowhead": 0,
           "arrowwidth": 1
          },
          "autotypenumbers": "strict",
          "coloraxis": {
           "colorbar": {
            "outlinewidth": 0,
            "ticks": ""
           }
          },
          "colorscale": {
           "diverging": [
            [
             0,
             "#8e0152"
            ],
            [
             0.1,
             "#c51b7d"
            ],
            [
             0.2,
             "#de77ae"
            ],
            [
             0.3,
             "#f1b6da"
            ],
            [
             0.4,
             "#fde0ef"
            ],
            [
             0.5,
             "#f7f7f7"
            ],
            [
             0.6,
             "#e6f5d0"
            ],
            [
             0.7,
             "#b8e186"
            ],
            [
             0.8,
             "#7fbc41"
            ],
            [
             0.9,
             "#4d9221"
            ],
            [
             1,
             "#276419"
            ]
           ],
           "sequential": [
            [
             0,
             "#0d0887"
            ],
            [
             0.1111111111111111,
             "#46039f"
            ],
            [
             0.2222222222222222,
             "#7201a8"
            ],
            [
             0.3333333333333333,
             "#9c179e"
            ],
            [
             0.4444444444444444,
             "#bd3786"
            ],
            [
             0.5555555555555556,
             "#d8576b"
            ],
            [
             0.6666666666666666,
             "#ed7953"
            ],
            [
             0.7777777777777778,
             "#fb9f3a"
            ],
            [
             0.8888888888888888,
             "#fdca26"
            ],
            [
             1,
             "#f0f921"
            ]
           ],
           "sequentialminus": [
            [
             0,
             "#0d0887"
            ],
            [
             0.1111111111111111,
             "#46039f"
            ],
            [
             0.2222222222222222,
             "#7201a8"
            ],
            [
             0.3333333333333333,
             "#9c179e"
            ],
            [
             0.4444444444444444,
             "#bd3786"
            ],
            [
             0.5555555555555556,
             "#d8576b"
            ],
            [
             0.6666666666666666,
             "#ed7953"
            ],
            [
             0.7777777777777778,
             "#fb9f3a"
            ],
            [
             0.8888888888888888,
             "#fdca26"
            ],
            [
             1,
             "#f0f921"
            ]
           ]
          },
          "colorway": [
           "#636efa",
           "#EF553B",
           "#00cc96",
           "#ab63fa",
           "#FFA15A",
           "#19d3f3",
           "#FF6692",
           "#B6E880",
           "#FF97FF",
           "#FECB52"
          ],
          "font": {
           "color": "#2a3f5f"
          },
          "geo": {
           "bgcolor": "white",
           "lakecolor": "white",
           "landcolor": "#E5ECF6",
           "showlakes": true,
           "showland": true,
           "subunitcolor": "white"
          },
          "hoverlabel": {
           "align": "left"
          },
          "hovermode": "closest",
          "mapbox": {
           "style": "light"
          },
          "paper_bgcolor": "white",
          "plot_bgcolor": "#E5ECF6",
          "polar": {
           "angularaxis": {
            "gridcolor": "white",
            "linecolor": "white",
            "ticks": ""
           },
           "bgcolor": "#E5ECF6",
           "radialaxis": {
            "gridcolor": "white",
            "linecolor": "white",
            "ticks": ""
           }
          },
          "scene": {
           "xaxis": {
            "backgroundcolor": "#E5ECF6",
            "gridcolor": "white",
            "gridwidth": 2,
            "linecolor": "white",
            "showbackground": true,
            "ticks": "",
            "zerolinecolor": "white"
           },
           "yaxis": {
            "backgroundcolor": "#E5ECF6",
            "gridcolor": "white",
            "gridwidth": 2,
            "linecolor": "white",
            "showbackground": true,
            "ticks": "",
            "zerolinecolor": "white"
           },
           "zaxis": {
            "backgroundcolor": "#E5ECF6",
            "gridcolor": "white",
            "gridwidth": 2,
            "linecolor": "white",
            "showbackground": true,
            "ticks": "",
            "zerolinecolor": "white"
           }
          },
          "shapedefaults": {
           "line": {
            "color": "#2a3f5f"
           }
          },
          "ternary": {
           "aaxis": {
            "gridcolor": "white",
            "linecolor": "white",
            "ticks": ""
           },
           "baxis": {
            "gridcolor": "white",
            "linecolor": "white",
            "ticks": ""
           },
           "bgcolor": "#E5ECF6",
           "caxis": {
            "gridcolor": "white",
            "linecolor": "white",
            "ticks": ""
           }
          },
          "title": {
           "x": 0.05
          },
          "xaxis": {
           "automargin": true,
           "gridcolor": "white",
           "linecolor": "white",
           "ticks": "",
           "title": {
            "standoff": 15
           },
           "zerolinecolor": "white",
           "zerolinewidth": 2
          },
          "yaxis": {
           "automargin": true,
           "gridcolor": "white",
           "linecolor": "white",
           "ticks": "",
           "title": {
            "standoff": 15
           },
           "zerolinecolor": "white",
           "zerolinewidth": 2
          }
         }
        },
        "width": 1280,
        "xaxis": {
         "range": [
          -1.5,
          10
         ],
         "title": {
          "text": "Average Outline Complexity Overhead (bits)"
         }
        },
        "yaxis": {
         "range": [
          -0.01,
          0.4
         ],
         "title": {
          "text": "Reconstruction Error (probability)"
         }
        }
       }
      }
     },
     "metadata": {},
     "output_type": "display_data"
    }
   ],
   "source": [
    "fig = go.Figure()\n",
    "\n",
    "#fig.add_trace(go.Scatter(x=np.linspace(-1.5,10,24), y=[max(0,(1-x)/4) for x in np.linspace(-1.5,10,24)], mode='none', fill='tozeroy', name = \"Hard Region\", fillcolor='rgba(255,0,0,0.5)'))\n",
    "fig.add_trace(go.Scatter(x=np.linspace(-1.5,10,24), y=[max(0,-x/4) for x in np.linspace(-1.5,10,24)], mode='none', fill='tozeroy', name = \"Excluded Region\", fillcolor='#EF553B'))\n",
    "fig.add_trace(go.Scatter(x=np.linspace(-1.5,10,24), y=[-1 for x in np.linspace(-1.5,10,24)], mode='none', fill='tozeroy', showlegend=False, fillcolor='#EF553B'))\n",
    "fig.add_trace(go.Scatter(x=np.linspace(-1.5,10,24), y=[0 for x in np.linspace(-1.5,10,24)], mode='lines', fill='none', showlegend=False,line=dict(color='#EF553B')))\n",
    "\n",
    "fig.add_trace(go.Scatter(x=[x[1]['mean_transmission_shift'] for x in scores],\n",
    "                         y=[x[1]['reconstruction_error'] for x in scores],\n",
    "                         text=[x[0] for x in scores], textposition=[x[2] for x in scores],\n",
    "                         mode='markers+text', name=\"Shorthand Systems\", line=dict(color='#636EFA')))\n",
    "# fig.update_layout(width=1280, height=1024, xaxis_range=[-1.5, 10], yaxis_range=[-0.01, 0.4],\n",
    "#                   xaxis_title=\"Average Outline Complexity Overhead (bits)\",\n",
    "#                   yaxis_title=\"Reconstruction Error (probability)\")\n",
    "fig.update_layout(width=1280, height=1024, xaxis_range=[-1.5, 10], yaxis_range=[-0.01, 0.4],\n",
    "                  xaxis_title=\"Average Outline Complexity Overhead (bits)\",\n",
    "                  yaxis_title=\"Reconstruction Error (probability)\")\n",
    "fig.show()"
   ]
  },
  {
   "cell_type": "code",
   "execution_count": 17,
   "id": "0eea7029",
   "metadata": {},
   "outputs": [
    {
     "data": {
      "application/vnd.plotly.v1+json": {
       "config": {
        "plotlyServerURL": "https://plot.ly"
       },
       "data": [
        {
         "fill": "tozeroy",
         "fillcolor": "#EF553B",
         "mode": "none",
         "name": "Excluded Region",
         "type": "scatter",
         "x": {
          "bdata": "AAAAAAAA+L8AAAAAAADwvwAAAAAAAOC/AAAAAAAAAAAAAAAAAADgPwAAAAAAAPA/AAAAAAAA+D8AAAAAAAAAQAAAAAAAAARAAAAAAAAACEAAAAAAAAAMQAAAAAAAABBAAAAAAAAAEkAAAAAAAAAUQAAAAAAAABZAAAAAAAAAGEAAAAAAAAAaQAAAAAAAABxAAAAAAAAAHkAAAAAAAAAgQAAAAAAAACFAAAAAAAAAIkAAAAAAAAAjQAAAAAAAACRA",
          "dtype": "f8"
         },
         "y": [
          0.375,
          0.25,
          0.125,
          0,
          0,
          0,
          0,
          0,
          0,
          0,
          0,
          0,
          0,
          0,
          0,
          0,
          0,
          0,
          0,
          0,
          0,
          0,
          0,
          0
         ]
        },
        {
         "fill": "tozeroy",
         "fillcolor": "#EF553B",
         "mode": "none",
         "showlegend": false,
         "type": "scatter",
         "x": {
          "bdata": "AAAAAAAA+L8AAAAAAADwvwAAAAAAAOC/AAAAAAAAAAAAAAAAAADgPwAAAAAAAPA/AAAAAAAA+D8AAAAAAAAAQAAAAAAAAARAAAAAAAAACEAAAAAAAAAMQAAAAAAAABBAAAAAAAAAEkAAAAAAAAAUQAAAAAAAABZAAAAAAAAAGEAAAAAAAAAaQAAAAAAAABxAAAAAAAAAHkAAAAAAAAAgQAAAAAAAACFAAAAAAAAAIkAAAAAAAAAjQAAAAAAAACRA",
          "dtype": "f8"
         },
         "y": [
          -1,
          -1,
          -1,
          -1,
          -1,
          -1,
          -1,
          -1,
          -1,
          -1,
          -1,
          -1,
          -1,
          -1,
          -1,
          -1,
          -1,
          -1,
          -1,
          -1,
          -1,
          -1,
          -1,
          -1
         ]
        },
        {
         "fill": "none",
         "line": {
          "color": "#EF553B"
         },
         "mode": "lines",
         "showlegend": false,
         "type": "scatter",
         "x": {
          "bdata": "AAAAAAAA+L8AAAAAAADwvwAAAAAAAOC/AAAAAAAAAAAAAAAAAADgPwAAAAAAAPA/AAAAAAAA+D8AAAAAAAAAQAAAAAAAAARAAAAAAAAACEAAAAAAAAAMQAAAAAAAABBAAAAAAAAAEkAAAAAAAAAUQAAAAAAAABZAAAAAAAAAGEAAAAAAAAAaQAAAAAAAABxAAAAAAAAAHkAAAAAAAAAgQAAAAAAAACFAAAAAAAAAIkAAAAAAAAAjQAAAAAAAACRA",
          "dtype": "f8"
         },
         "y": [
          0,
          0,
          0,
          0,
          0,
          0,
          0,
          0,
          0,
          0,
          0,
          0,
          0,
          0,
          0,
          0,
          0,
          0,
          0,
          0,
          0,
          0,
          0,
          0
         ]
        },
        {
         "line": {
          "color": "#636EFA"
         },
         "mode": "markers+lines+text",
         "showlegend": false,
         "text": [
          "full<br>vowels",
          "",
          ""
         ],
         "textposition": [
          "bottom center",
          "bottom center",
          "bottom center"
         ],
         "type": "scatter",
         "x": [
          6.399511575092063,
          5.889403359793546,
          5.183970924492758
         ],
         "y": [
          0.03285094362542118,
          0.03711484616306682,
          0.05103137885885156
         ]
        },
        {
         "line": {
          "color": "#636EFA"
         },
         "mode": "markers+lines+text",
         "showlegend": false,
         "text": [
          "",
          "schwa<br>suppressed<br>vowels",
          ""
         ],
         "textposition": [
          "bottom left",
          "bottom left",
          "bottom left"
         ],
         "type": "scatter",
         "x": [
          5.459962071197701,
          4.9498538558990735,
          4.244421420598194
         ],
         "y": [
          0.025486654793430263,
          0.02965160691192459,
          0.04347157613251906
         ]
        },
        {
         "line": {
          "color": "#636EFA"
         },
         "mode": "markers+lines+text",
         "showlegend": false,
         "text": [
          "",
          "short<br>suppressed<br>vowels",
          ""
         ],
         "textposition": [
          "bottom left",
          "bottom left",
          "bottom left"
         ],
         "type": "scatter",
         "x": [
          3.6874529829856275,
          3.177344767687007,
          2.471912332386225
         ],
         "y": [
          0.06115825262531338,
          0.0683186320679362,
          0.09118930364096578
         ]
        },
        {
         "line": {
          "color": "#636EFA"
         },
         "mode": "markers+lines+text",
         "showlegend": false,
         "text": [
          "",
          "long<br>vowels",
          ""
         ],
         "textposition": [
          "bottom left",
          "bottom left",
          "bottom left"
         ],
         "type": "scatter",
         "x": [
          2.0992213065523746,
          1.589113091253747,
          0.8836806559529258
         ],
         "y": [
          0.11686952963055652,
          0.1299224631398923,
          0.16594955358722174
         ]
        },
        {
         "line": {
          "color": "#636EFA"
         },
         "mode": "markers+lines+text",
         "showlegend": false,
         "text": [
          "",
          "lateral<br>vowels",
          ""
         ],
         "textposition": [
          "bottom left",
          "bottom left",
          "bottom left"
         ],
         "type": "scatter",
         "x": [
          2.8412774124203217,
          2.3311691971216,
          1.6257367618208018
         ],
         "y": [
          0.09893907275029679,
          0.11178819725982148,
          0.1440412259470797
         ]
        },
        {
         "line": {
          "color": "#636EFA"
         },
         "mode": "markers+lines+text",
         "showlegend": false,
         "text": [
          "",
          "flattened<br>lateral<br>vowels",
          ""
         ],
         "textposition": [
          "bottom left",
          "bottom left",
          "bottom left"
         ],
         "type": "scatter",
         "x": [
          1.9628722362047064,
          1.4527640209060806,
          0.7473315856051528
         ],
         "y": [
          0.17558104462061896,
          0.1929383807408963,
          0.22864838598536974
         ]
        },
        {
         "line": {
          "color": "#636EFA"
         },
         "mode": "markers+lines+text",
         "showlegend": false,
         "text": [
          "",
          "no<br>vowels",
          ""
         ],
         "textposition": [
          "bottom left",
          "bottom left",
          "bottom left"
         ],
         "type": "scatter",
         "x": [
          0.2649831566096683,
          -0.24512505868895573,
          -0.9505574939898569
         ],
         "y": [
          0.2326170214317772,
          0.25609698277538384,
          0.3054790895300489
         ]
        },
        {
         "line": {
          "color": "#636EFA"
         },
         "mode": "markers+lines",
         "name": "Consonant Representation",
         "text": [
          "full<br>consonants<br>",
          "full<br>plosives,<br>merged<br>frictives<br>",
          "merged<br>consonants<br>"
         ],
         "textposition": [
          "top right",
          "top center",
          "top left"
         ],
         "type": "scatter",
         "x": [
          6.399511575092063,
          5.889403359793546,
          5.183970924492758
         ],
         "y": [
          0.03285094362542118,
          0.03711484616306682,
          0.05103137885885156
         ]
        }
       ],
       "layout": {
        "annotations": [
         {
          "arrowhead": 2,
          "ax": 30,
          "ay": -50,
          "showarrow": true,
          "text": "full<br>consonants<br>",
          "x": 6.399511575092063,
          "y": 0.03485094362542118
         },
         {
          "arrowhead": 2,
          "ax": 10,
          "ay": -50,
          "showarrow": true,
          "text": "full<br>plosives,<br>merged<br>frictives<br>",
          "x": 5.889403359793546,
          "y": 0.03911484616306682
         },
         {
          "arrowhead": 2,
          "ax": -10,
          "ay": -50,
          "showarrow": true,
          "text": "merged<br>consonants<br>",
          "x": 5.183970924492758,
          "y": 0.05303137885885156
         }
        ],
        "height": 1024,
        "template": {
         "data": {
          "bar": [
           {
            "error_x": {
             "color": "#2a3f5f"
            },
            "error_y": {
             "color": "#2a3f5f"
            },
            "marker": {
             "line": {
              "color": "#E5ECF6",
              "width": 0.5
             },
             "pattern": {
              "fillmode": "overlay",
              "size": 10,
              "solidity": 0.2
             }
            },
            "type": "bar"
           }
          ],
          "barpolar": [
           {
            "marker": {
             "line": {
              "color": "#E5ECF6",
              "width": 0.5
             },
             "pattern": {
              "fillmode": "overlay",
              "size": 10,
              "solidity": 0.2
             }
            },
            "type": "barpolar"
           }
          ],
          "carpet": [
           {
            "aaxis": {
             "endlinecolor": "#2a3f5f",
             "gridcolor": "white",
             "linecolor": "white",
             "minorgridcolor": "white",
             "startlinecolor": "#2a3f5f"
            },
            "baxis": {
             "endlinecolor": "#2a3f5f",
             "gridcolor": "white",
             "linecolor": "white",
             "minorgridcolor": "white",
             "startlinecolor": "#2a3f5f"
            },
            "type": "carpet"
           }
          ],
          "choropleth": [
           {
            "colorbar": {
             "outlinewidth": 0,
             "ticks": ""
            },
            "type": "choropleth"
           }
          ],
          "contour": [
           {
            "colorbar": {
             "outlinewidth": 0,
             "ticks": ""
            },
            "colorscale": [
             [
              0,
              "#0d0887"
             ],
             [
              0.1111111111111111,
              "#46039f"
             ],
             [
              0.2222222222222222,
              "#7201a8"
             ],
             [
              0.3333333333333333,
              "#9c179e"
             ],
             [
              0.4444444444444444,
              "#bd3786"
             ],
             [
              0.5555555555555556,
              "#d8576b"
             ],
             [
              0.6666666666666666,
              "#ed7953"
             ],
             [
              0.7777777777777778,
              "#fb9f3a"
             ],
             [
              0.8888888888888888,
              "#fdca26"
             ],
             [
              1,
              "#f0f921"
             ]
            ],
            "type": "contour"
           }
          ],
          "contourcarpet": [
           {
            "colorbar": {
             "outlinewidth": 0,
             "ticks": ""
            },
            "type": "contourcarpet"
           }
          ],
          "heatmap": [
           {
            "colorbar": {
             "outlinewidth": 0,
             "ticks": ""
            },
            "colorscale": [
             [
              0,
              "#0d0887"
             ],
             [
              0.1111111111111111,
              "#46039f"
             ],
             [
              0.2222222222222222,
              "#7201a8"
             ],
             [
              0.3333333333333333,
              "#9c179e"
             ],
             [
              0.4444444444444444,
              "#bd3786"
             ],
             [
              0.5555555555555556,
              "#d8576b"
             ],
             [
              0.6666666666666666,
              "#ed7953"
             ],
             [
              0.7777777777777778,
              "#fb9f3a"
             ],
             [
              0.8888888888888888,
              "#fdca26"
             ],
             [
              1,
              "#f0f921"
             ]
            ],
            "type": "heatmap"
           }
          ],
          "histogram": [
           {
            "marker": {
             "pattern": {
              "fillmode": "overlay",
              "size": 10,
              "solidity": 0.2
             }
            },
            "type": "histogram"
           }
          ],
          "histogram2d": [
           {
            "colorbar": {
             "outlinewidth": 0,
             "ticks": ""
            },
            "colorscale": [
             [
              0,
              "#0d0887"
             ],
             [
              0.1111111111111111,
              "#46039f"
             ],
             [
              0.2222222222222222,
              "#7201a8"
             ],
             [
              0.3333333333333333,
              "#9c179e"
             ],
             [
              0.4444444444444444,
              "#bd3786"
             ],
             [
              0.5555555555555556,
              "#d8576b"
             ],
             [
              0.6666666666666666,
              "#ed7953"
             ],
             [
              0.7777777777777778,
              "#fb9f3a"
             ],
             [
              0.8888888888888888,
              "#fdca26"
             ],
             [
              1,
              "#f0f921"
             ]
            ],
            "type": "histogram2d"
           }
          ],
          "histogram2dcontour": [
           {
            "colorbar": {
             "outlinewidth": 0,
             "ticks": ""
            },
            "colorscale": [
             [
              0,
              "#0d0887"
             ],
             [
              0.1111111111111111,
              "#46039f"
             ],
             [
              0.2222222222222222,
              "#7201a8"
             ],
             [
              0.3333333333333333,
              "#9c179e"
             ],
             [
              0.4444444444444444,
              "#bd3786"
             ],
             [
              0.5555555555555556,
              "#d8576b"
             ],
             [
              0.6666666666666666,
              "#ed7953"
             ],
             [
              0.7777777777777778,
              "#fb9f3a"
             ],
             [
              0.8888888888888888,
              "#fdca26"
             ],
             [
              1,
              "#f0f921"
             ]
            ],
            "type": "histogram2dcontour"
           }
          ],
          "mesh3d": [
           {
            "colorbar": {
             "outlinewidth": 0,
             "ticks": ""
            },
            "type": "mesh3d"
           }
          ],
          "parcoords": [
           {
            "line": {
             "colorbar": {
              "outlinewidth": 0,
              "ticks": ""
             }
            },
            "type": "parcoords"
           }
          ],
          "pie": [
           {
            "automargin": true,
            "type": "pie"
           }
          ],
          "scatter": [
           {
            "fillpattern": {
             "fillmode": "overlay",
             "size": 10,
             "solidity": 0.2
            },
            "type": "scatter"
           }
          ],
          "scatter3d": [
           {
            "line": {
             "colorbar": {
              "outlinewidth": 0,
              "ticks": ""
             }
            },
            "marker": {
             "colorbar": {
              "outlinewidth": 0,
              "ticks": ""
             }
            },
            "type": "scatter3d"
           }
          ],
          "scattercarpet": [
           {
            "marker": {
             "colorbar": {
              "outlinewidth": 0,
              "ticks": ""
             }
            },
            "type": "scattercarpet"
           }
          ],
          "scattergeo": [
           {
            "marker": {
             "colorbar": {
              "outlinewidth": 0,
              "ticks": ""
             }
            },
            "type": "scattergeo"
           }
          ],
          "scattergl": [
           {
            "marker": {
             "colorbar": {
              "outlinewidth": 0,
              "ticks": ""
             }
            },
            "type": "scattergl"
           }
          ],
          "scattermap": [
           {
            "marker": {
             "colorbar": {
              "outlinewidth": 0,
              "ticks": ""
             }
            },
            "type": "scattermap"
           }
          ],
          "scattermapbox": [
           {
            "marker": {
             "colorbar": {
              "outlinewidth": 0,
              "ticks": ""
             }
            },
            "type": "scattermapbox"
           }
          ],
          "scatterpolar": [
           {
            "marker": {
             "colorbar": {
              "outlinewidth": 0,
              "ticks": ""
             }
            },
            "type": "scatterpolar"
           }
          ],
          "scatterpolargl": [
           {
            "marker": {
             "colorbar": {
              "outlinewidth": 0,
              "ticks": ""
             }
            },
            "type": "scatterpolargl"
           }
          ],
          "scatterternary": [
           {
            "marker": {
             "colorbar": {
              "outlinewidth": 0,
              "ticks": ""
             }
            },
            "type": "scatterternary"
           }
          ],
          "surface": [
           {
            "colorbar": {
             "outlinewidth": 0,
             "ticks": ""
            },
            "colorscale": [
             [
              0,
              "#0d0887"
             ],
             [
              0.1111111111111111,
              "#46039f"
             ],
             [
              0.2222222222222222,
              "#7201a8"
             ],
             [
              0.3333333333333333,
              "#9c179e"
             ],
             [
              0.4444444444444444,
              "#bd3786"
             ],
             [
              0.5555555555555556,
              "#d8576b"
             ],
             [
              0.6666666666666666,
              "#ed7953"
             ],
             [
              0.7777777777777778,
              "#fb9f3a"
             ],
             [
              0.8888888888888888,
              "#fdca26"
             ],
             [
              1,
              "#f0f921"
             ]
            ],
            "type": "surface"
           }
          ],
          "table": [
           {
            "cells": {
             "fill": {
              "color": "#EBF0F8"
             },
             "line": {
              "color": "white"
             }
            },
            "header": {
             "fill": {
              "color": "#C8D4E3"
             },
             "line": {
              "color": "white"
             }
            },
            "type": "table"
           }
          ]
         },
         "layout": {
          "annotationdefaults": {
           "arrowcolor": "#2a3f5f",
           "arrowhead": 0,
           "arrowwidth": 1
          },
          "autotypenumbers": "strict",
          "coloraxis": {
           "colorbar": {
            "outlinewidth": 0,
            "ticks": ""
           }
          },
          "colorscale": {
           "diverging": [
            [
             0,
             "#8e0152"
            ],
            [
             0.1,
             "#c51b7d"
            ],
            [
             0.2,
             "#de77ae"
            ],
            [
             0.3,
             "#f1b6da"
            ],
            [
             0.4,
             "#fde0ef"
            ],
            [
             0.5,
             "#f7f7f7"
            ],
            [
             0.6,
             "#e6f5d0"
            ],
            [
             0.7,
             "#b8e186"
            ],
            [
             0.8,
             "#7fbc41"
            ],
            [
             0.9,
             "#4d9221"
            ],
            [
             1,
             "#276419"
            ]
           ],
           "sequential": [
            [
             0,
             "#0d0887"
            ],
            [
             0.1111111111111111,
             "#46039f"
            ],
            [
             0.2222222222222222,
             "#7201a8"
            ],
            [
             0.3333333333333333,
             "#9c179e"
            ],
            [
             0.4444444444444444,
             "#bd3786"
            ],
            [
             0.5555555555555556,
             "#d8576b"
            ],
            [
             0.6666666666666666,
             "#ed7953"
            ],
            [
             0.7777777777777778,
             "#fb9f3a"
            ],
            [
             0.8888888888888888,
             "#fdca26"
            ],
            [
             1,
             "#f0f921"
            ]
           ],
           "sequentialminus": [
            [
             0,
             "#0d0887"
            ],
            [
             0.1111111111111111,
             "#46039f"
            ],
            [
             0.2222222222222222,
             "#7201a8"
            ],
            [
             0.3333333333333333,
             "#9c179e"
            ],
            [
             0.4444444444444444,
             "#bd3786"
            ],
            [
             0.5555555555555556,
             "#d8576b"
            ],
            [
             0.6666666666666666,
             "#ed7953"
            ],
            [
             0.7777777777777778,
             "#fb9f3a"
            ],
            [
             0.8888888888888888,
             "#fdca26"
            ],
            [
             1,
             "#f0f921"
            ]
           ]
          },
          "colorway": [
           "#636efa",
           "#EF553B",
           "#00cc96",
           "#ab63fa",
           "#FFA15A",
           "#19d3f3",
           "#FF6692",
           "#B6E880",
           "#FF97FF",
           "#FECB52"
          ],
          "font": {
           "color": "#2a3f5f"
          },
          "geo": {
           "bgcolor": "white",
           "lakecolor": "white",
           "landcolor": "#E5ECF6",
           "showlakes": true,
           "showland": true,
           "subunitcolor": "white"
          },
          "hoverlabel": {
           "align": "left"
          },
          "hovermode": "closest",
          "mapbox": {
           "style": "light"
          },
          "paper_bgcolor": "white",
          "plot_bgcolor": "#E5ECF6",
          "polar": {
           "angularaxis": {
            "gridcolor": "white",
            "linecolor": "white",
            "ticks": ""
           },
           "bgcolor": "#E5ECF6",
           "radialaxis": {
            "gridcolor": "white",
            "linecolor": "white",
            "ticks": ""
           }
          },
          "scene": {
           "xaxis": {
            "backgroundcolor": "#E5ECF6",
            "gridcolor": "white",
            "gridwidth": 2,
            "linecolor": "white",
            "showbackground": true,
            "ticks": "",
            "zerolinecolor": "white"
           },
           "yaxis": {
            "backgroundcolor": "#E5ECF6",
            "gridcolor": "white",
            "gridwidth": 2,
            "linecolor": "white",
            "showbackground": true,
            "ticks": "",
            "zerolinecolor": "white"
           },
           "zaxis": {
            "backgroundcolor": "#E5ECF6",
            "gridcolor": "white",
            "gridwidth": 2,
            "linecolor": "white",
            "showbackground": true,
            "ticks": "",
            "zerolinecolor": "white"
           }
          },
          "shapedefaults": {
           "line": {
            "color": "#2a3f5f"
           }
          },
          "ternary": {
           "aaxis": {
            "gridcolor": "white",
            "linecolor": "white",
            "ticks": ""
           },
           "baxis": {
            "gridcolor": "white",
            "linecolor": "white",
            "ticks": ""
           },
           "bgcolor": "#E5ECF6",
           "caxis": {
            "gridcolor": "white",
            "linecolor": "white",
            "ticks": ""
           }
          },
          "title": {
           "x": 0.05
          },
          "xaxis": {
           "automargin": true,
           "gridcolor": "white",
           "linecolor": "white",
           "ticks": "",
           "title": {
            "standoff": 15
           },
           "zerolinecolor": "white",
           "zerolinewidth": 2
          },
          "yaxis": {
           "automargin": true,
           "gridcolor": "white",
           "linecolor": "white",
           "ticks": "",
           "title": {
            "standoff": 15
           },
           "zerolinecolor": "white",
           "zerolinewidth": 2
          }
         }
        },
        "width": 1280,
        "xaxis": {
         "range": [
          -1.5,
          10
         ],
         "title": {
          "text": "Average Outline Complexity Overhead (bits)"
         }
        },
        "yaxis": {
         "range": [
          -0.01,
          0.4
         ],
         "title": {
          "text": "Reconstruction Error (probability)"
         }
        }
       }
      }
     },
     "metadata": {},
     "output_type": "display_data"
    }
   ],
   "source": [
    "fig = go.Figure()\n",
    "\n",
    "fig.add_trace(go.Scatter(x=np.linspace(-1.5,10,24), y=[max(0,-x/4) for x in np.linspace(-1.5,10,24)], mode='none', fill='tozeroy', name = \"Excluded Region\", fillcolor='#EF553B'))\n",
    "fig.add_trace(go.Scatter(x=np.linspace(-1.5,10,24), y=[-1 for x in np.linspace(-1.5,10,24)], mode='none', fill='tozeroy', showlegend=False, fillcolor='#EF553B'))\n",
    "fig.add_trace(go.Scatter(x=np.linspace(-1.5,10,24), y=[0 for x in np.linspace(-1.5,10,24)], mode='lines', fill='none', showlegend=False,line=dict(color='#EF553B')))\n",
    "\n",
    "for i in range(0,len(scores),3):\n",
    "    fig.add_trace(go.Scatter(x=[x[1]['mean_transmission_shift'] for x in scores[i:i+3]],\n",
    "                         y=[x[1]['reconstruction_error'] for x in scores[i:i+3]],\n",
    "                         text=['',list(short_vowel_names)[i//3].replace(' ','<br>'),''] if i!=0 else [list(short_vowel_names)[i//3].replace(' ','<br>'),'',''], textposition=['bottom left' for x in scores[i:i+3]] if i!=0 else ['bottom center' for x in scores[i:i+3]],\n",
    "                         mode='markers+lines+text', line=dict(color='#636EFA'), showlegend=False))\n",
    "    \n",
    "fig.add_trace(go.Scatter(x=[x[1]['mean_transmission_shift'] for x in scores[:3]],\n",
    "                    y=[x[1]['reconstruction_error'] for x in scores[:3]],\n",
    "                    text=[x.replace(' ','<br>')+\"<br>\" for x in list(short_consonant_names)], textposition=['top right', 'top center', 'top left'],\n",
    "                    mode='markers+lines', line=dict(color='#636EFA'), name=\"Consonant Representation\"))\n",
    "for i in range(3):\n",
    "    fig.add_annotation(x=scores[i][1]['mean_transmission_shift'], y=scores[i][1]['reconstruction_error']+0.002,\n",
    "                text=list(short_consonant_names)[i].replace(' ','<br>')+\"<br>\",\n",
    "                showarrow=True,\n",
    "                arrowhead=2,ay=-50, ax=20*(2-i)-10)\n",
    "\n",
    "fig.update_layout(width=1280, height=1024, xaxis_range=[-1.5, 10], yaxis_range=[-0.01, 0.4],\n",
    "                  xaxis_title=\"Average Outline Complexity Overhead (bits)\",\n",
    "                  yaxis_title=\"Reconstruction Error (probability)\")\n",
    "fig.show()"
   ]
  },
  {
   "cell_type": "code",
   "execution_count": 18,
   "id": "54cfa505",
   "metadata": {},
   "outputs": [],
   "source": [
    "fig.write_image(\"principle_comparison_graph.svg\")"
   ]
  },
  {
   "cell_type": "code",
   "execution_count": 19,
   "id": "f8e4ff3b",
   "metadata": {},
   "outputs": [],
   "source": [
    "with open('system_scores_clean.json', 'r') as file:\n",
    "        comparison_data = json.load(file)"
   ]
  },
  {
   "cell_type": "code",
   "execution_count": 20,
   "id": "ce905c67",
   "metadata": {},
   "outputs": [
    {
     "data": {
      "application/vnd.plotly.v1+json": {
       "config": {
        "plotlyServerURL": "https://plot.ly"
       },
       "data": [
        {
         "fill": "tozeroy",
         "fillcolor": "#EF553B",
         "mode": "none",
         "name": "Excluded Region",
         "type": "scatter",
         "x": {
          "bdata": "AAAAAAAA+L8AAAAAAADwvwAAAAAAAOC/AAAAAAAAAAAAAAAAAADgPwAAAAAAAPA/AAAAAAAA+D8AAAAAAAAAQAAAAAAAAARAAAAAAAAACEAAAAAAAAAMQAAAAAAAABBAAAAAAAAAEkAAAAAAAAAUQAAAAAAAABZAAAAAAAAAGEAAAAAAAAAaQAAAAAAAABxAAAAAAAAAHkAAAAAAAAAgQAAAAAAAACFAAAAAAAAAIkAAAAAAAAAjQAAAAAAAACRA",
          "dtype": "f8"
         },
         "y": [
          0.375,
          0.25,
          0.125,
          0,
          0,
          0,
          0,
          0,
          0,
          0,
          0,
          0,
          0,
          0,
          0,
          0,
          0,
          0,
          0,
          0,
          0,
          0,
          0,
          0
         ]
        },
        {
         "fill": "tozeroy",
         "fillcolor": "#EF553B",
         "mode": "none",
         "showlegend": false,
         "type": "scatter",
         "x": {
          "bdata": "AAAAAAAA+L8AAAAAAADwvwAAAAAAAOC/AAAAAAAAAAAAAAAAAADgPwAAAAAAAPA/AAAAAAAA+D8AAAAAAAAAQAAAAAAAAARAAAAAAAAACEAAAAAAAAAMQAAAAAAAABBAAAAAAAAAEkAAAAAAAAAUQAAAAAAAABZAAAAAAAAAGEAAAAAAAAAaQAAAAAAAABxAAAAAAAAAHkAAAAAAAAAgQAAAAAAAACFAAAAAAAAAIkAAAAAAAAAjQAAAAAAAACRA",
          "dtype": "f8"
         },
         "y": [
          -1,
          -1,
          -1,
          -1,
          -1,
          -1,
          -1,
          -1,
          -1,
          -1,
          -1,
          -1,
          -1,
          -1,
          -1,
          -1,
          -1,
          -1,
          -1,
          -1,
          -1,
          -1,
          -1,
          -1
         ]
        },
        {
         "fill": "none",
         "line": {
          "color": "#EF553B"
         },
         "mode": "lines",
         "showlegend": false,
         "type": "scatter",
         "x": {
          "bdata": "AAAAAAAA+L8AAAAAAADwvwAAAAAAAOC/AAAAAAAAAAAAAAAAAADgPwAAAAAAAPA/AAAAAAAA+D8AAAAAAAAAQAAAAAAAAARAAAAAAAAACEAAAAAAAAAMQAAAAAAAABBAAAAAAAAAEkAAAAAAAAAUQAAAAAAAABZAAAAAAAAAGEAAAAAAAAAaQAAAAAAAABxAAAAAAAAAHkAAAAAAAAAgQAAAAAAAACFAAAAAAAAAIkAAAAAAAAAjQAAAAAAAACRA",
          "dtype": "f8"
         },
         "y": [
          0,
          0,
          0,
          0,
          0,
          0,
          0,
          0,
          0,
          0,
          0,
          0,
          0,
          0,
          0,
          0,
          0,
          0,
          0,
          0,
          0,
          0,
          0,
          0
         ]
        },
        {
         "line": {
          "color": "#636EFA"
         },
         "mode": "lines",
         "showlegend": false,
         "text": [
          "",
          "full<br>vowels",
          ""
         ],
         "textposition": [
          "bottom left",
          "bottom left",
          "bottom left"
         ],
         "type": "scatter",
         "x": [
          6.399511575092063,
          5.889403359793546,
          5.183970924492758
         ],
         "y": [
          0.03285094362542118,
          0.03711484616306682,
          0.05103137885885156
         ]
        },
        {
         "line": {
          "color": "#636EFA"
         },
         "mode": "lines",
         "showlegend": false,
         "text": [
          "",
          "schwa<br>suppressed<br>vowels",
          ""
         ],
         "textposition": [
          "bottom left",
          "bottom left",
          "bottom left"
         ],
         "type": "scatter",
         "x": [
          5.459962071197701,
          4.9498538558990735,
          4.244421420598194
         ],
         "y": [
          0.025486654793430263,
          0.02965160691192459,
          0.04347157613251906
         ]
        },
        {
         "line": {
          "color": "#636EFA"
         },
         "mode": "lines",
         "showlegend": false,
         "text": [
          "",
          "short<br>suppressed<br>vowels",
          ""
         ],
         "textposition": [
          "bottom left",
          "bottom left",
          "bottom left"
         ],
         "type": "scatter",
         "x": [
          3.6874529829856275,
          3.177344767687007,
          2.471912332386225
         ],
         "y": [
          0.06115825262531338,
          0.0683186320679362,
          0.09118930364096578
         ]
        },
        {
         "line": {
          "color": "#636EFA"
         },
         "mode": "lines",
         "showlegend": false,
         "text": [
          "",
          "long<br>vowels",
          ""
         ],
         "textposition": [
          "bottom left",
          "bottom left",
          "bottom left"
         ],
         "type": "scatter",
         "x": [
          2.0992213065523746,
          1.589113091253747,
          0.8836806559529258
         ],
         "y": [
          0.11686952963055652,
          0.1299224631398923,
          0.16594955358722174
         ]
        },
        {
         "line": {
          "color": "#636EFA"
         },
         "mode": "lines",
         "showlegend": false,
         "text": [
          "",
          "lateral<br>vowels",
          ""
         ],
         "textposition": [
          "bottom left",
          "bottom left",
          "bottom left"
         ],
         "type": "scatter",
         "x": [
          2.8412774124203217,
          2.3311691971216,
          1.6257367618208018
         ],
         "y": [
          0.09893907275029679,
          0.11178819725982148,
          0.1440412259470797
         ]
        },
        {
         "line": {
          "color": "#636EFA"
         },
         "mode": "lines",
         "showlegend": false,
         "text": [
          "",
          "flattened<br>lateral<br>vowels",
          ""
         ],
         "textposition": [
          "bottom left",
          "bottom left",
          "bottom left"
         ],
         "type": "scatter",
         "x": [
          1.9628722362047064,
          1.4527640209060806,
          0.7473315856051528
         ],
         "y": [
          0.17558104462061896,
          0.1929383807408963,
          0.22864838598536974
         ]
        },
        {
         "line": {
          "color": "#636EFA"
         },
         "mode": "lines",
         "showlegend": false,
         "text": [
          "",
          "no<br>vowels",
          ""
         ],
         "textposition": [
          "bottom left",
          "bottom left",
          "bottom left"
         ],
         "type": "scatter",
         "x": [
          0.2649831566096683,
          -0.24512505868895573,
          -0.9505574939898569
         ],
         "y": [
          0.2326170214317772,
          0.25609698277538384,
          0.3054790895300489
         ]
        },
        {
         "line": {
          "color": "#636EFA"
         },
         "mode": "lines",
         "name": "Basic Systems",
         "type": "scatter",
         "x": [
          6.399511575092063,
          5.889403359793546,
          5.183970924492758
         ],
         "y": [
          0.03285094362542118,
          0.03711484616306682,
          0.05103137885885156
         ]
        },
        {
         "line": {
          "color": "#636EFA"
         },
         "mode": "markers+text",
         "name": "Shorthand Systems",
         "text": [
          "Spelling",
          "IPA",
          "Carter</br></br>Briefhand",
          "Dutton</br></br>Speedwords",
          "Gregg</br></br>Anniversary",
          "Gregg</br></br>Notehand",
          "Gregg</br></br>Simplified",
          "bref",
          "Yublin",
          "Cut Spelng",
          "Taylor",
          "Taylor+",
          "Characterie",
          "Teeline",
          "Keyscript",
          "Dearborn</br></br>Speedwriting",
          "QC-line",
          "Yash",
          "Jeake</br></br>Ph. Tr. 487",
          "Polyphonic</br></br>Cipher",
          "Pitman</br></br>2000",
          "Pitman 2000</br></br>(No Vowel)",
          "Superwrite",
          "Swiftograph</br></br>Curtailed",
          "Swiftograph</br></br>Full"
         ],
         "textposition": [
          "top center",
          "top center",
          "top center",
          "bottom center",
          "top center",
          "bottom left",
          "bottom center",
          "top center",
          "top center",
          "top center",
          "top center",
          "top center",
          "top center",
          "bottom center",
          "top right",
          "top center",
          "middle right",
          "bottom center",
          "top right",
          "top right",
          "bottom left",
          "top right",
          "top left",
          "top center",
          "middle right"
         ],
         "type": "scatter",
         "x": [
          9.032685167501281,
          8.957894660731132,
          -0.3404847284724646,
          0.5043864856355338,
          2.0157196431571123,
          3.3728810587563522,
          2.5752095048045787,
          1.7994265664138087,
          4.948696388815664,
          7.57562594835035,
          0.15749139398657874,
          0.722894506196381,
          4.7156301805954435,
          3.556719332211011,
          -1.0418072141740753,
          -0.2553155309816777,
          3.7459244643134006,
          0.4818343735785042,
          -1.3284811196546489,
          4.5354578197439,
          4.367288823841984,
          1.1197254169674045,
          1.070541564317419,
          3.1266400217544223,
          5.64367541984743
         ],
         "y": [
          0,
          0.014930232236564533,
          0.3048400643277738,
          0.11017558339765876,
          0.07505138574335446,
          0.033954582356027774,
          0.06600137338137413,
          0,
          0,
          0.005325956756667138,
          0.2218609124591735,
          0.1900756428174497,
          0.0662984787750377,
          0.054781492737337456,
          0.27275805499274164,
          0.18216280866243562,
          0.0647610299624436,
          0.18388474099533814,
          0.35139657535538305,
          0.023091815341297117,
          0.0188530058822729,
          0.12174817795441739,
          0.12144321942914205,
          0.10909772718267308,
          0.02466666732051115
         ]
        }
       ],
       "layout": {
        "height": 1024,
        "template": {
         "data": {
          "bar": [
           {
            "error_x": {
             "color": "#2a3f5f"
            },
            "error_y": {
             "color": "#2a3f5f"
            },
            "marker": {
             "line": {
              "color": "#E5ECF6",
              "width": 0.5
             },
             "pattern": {
              "fillmode": "overlay",
              "size": 10,
              "solidity": 0.2
             }
            },
            "type": "bar"
           }
          ],
          "barpolar": [
           {
            "marker": {
             "line": {
              "color": "#E5ECF6",
              "width": 0.5
             },
             "pattern": {
              "fillmode": "overlay",
              "size": 10,
              "solidity": 0.2
             }
            },
            "type": "barpolar"
           }
          ],
          "carpet": [
           {
            "aaxis": {
             "endlinecolor": "#2a3f5f",
             "gridcolor": "white",
             "linecolor": "white",
             "minorgridcolor": "white",
             "startlinecolor": "#2a3f5f"
            },
            "baxis": {
             "endlinecolor": "#2a3f5f",
             "gridcolor": "white",
             "linecolor": "white",
             "minorgridcolor": "white",
             "startlinecolor": "#2a3f5f"
            },
            "type": "carpet"
           }
          ],
          "choropleth": [
           {
            "colorbar": {
             "outlinewidth": 0,
             "ticks": ""
            },
            "type": "choropleth"
           }
          ],
          "contour": [
           {
            "colorbar": {
             "outlinewidth": 0,
             "ticks": ""
            },
            "colorscale": [
             [
              0,
              "#0d0887"
             ],
             [
              0.1111111111111111,
              "#46039f"
             ],
             [
              0.2222222222222222,
              "#7201a8"
             ],
             [
              0.3333333333333333,
              "#9c179e"
             ],
             [
              0.4444444444444444,
              "#bd3786"
             ],
             [
              0.5555555555555556,
              "#d8576b"
             ],
             [
              0.6666666666666666,
              "#ed7953"
             ],
             [
              0.7777777777777778,
              "#fb9f3a"
             ],
             [
              0.8888888888888888,
              "#fdca26"
             ],
             [
              1,
              "#f0f921"
             ]
            ],
            "type": "contour"
           }
          ],
          "contourcarpet": [
           {
            "colorbar": {
             "outlinewidth": 0,
             "ticks": ""
            },
            "type": "contourcarpet"
           }
          ],
          "heatmap": [
           {
            "colorbar": {
             "outlinewidth": 0,
             "ticks": ""
            },
            "colorscale": [
             [
              0,
              "#0d0887"
             ],
             [
              0.1111111111111111,
              "#46039f"
             ],
             [
              0.2222222222222222,
              "#7201a8"
             ],
             [
              0.3333333333333333,
              "#9c179e"
             ],
             [
              0.4444444444444444,
              "#bd3786"
             ],
             [
              0.5555555555555556,
              "#d8576b"
             ],
             [
              0.6666666666666666,
              "#ed7953"
             ],
             [
              0.7777777777777778,
              "#fb9f3a"
             ],
             [
              0.8888888888888888,
              "#fdca26"
             ],
             [
              1,
              "#f0f921"
             ]
            ],
            "type": "heatmap"
           }
          ],
          "histogram": [
           {
            "marker": {
             "pattern": {
              "fillmode": "overlay",
              "size": 10,
              "solidity": 0.2
             }
            },
            "type": "histogram"
           }
          ],
          "histogram2d": [
           {
            "colorbar": {
             "outlinewidth": 0,
             "ticks": ""
            },
            "colorscale": [
             [
              0,
              "#0d0887"
             ],
             [
              0.1111111111111111,
              "#46039f"
             ],
             [
              0.2222222222222222,
              "#7201a8"
             ],
             [
              0.3333333333333333,
              "#9c179e"
             ],
             [
              0.4444444444444444,
              "#bd3786"
             ],
             [
              0.5555555555555556,
              "#d8576b"
             ],
             [
              0.6666666666666666,
              "#ed7953"
             ],
             [
              0.7777777777777778,
              "#fb9f3a"
             ],
             [
              0.8888888888888888,
              "#fdca26"
             ],
             [
              1,
              "#f0f921"
             ]
            ],
            "type": "histogram2d"
           }
          ],
          "histogram2dcontour": [
           {
            "colorbar": {
             "outlinewidth": 0,
             "ticks": ""
            },
            "colorscale": [
             [
              0,
              "#0d0887"
             ],
             [
              0.1111111111111111,
              "#46039f"
             ],
             [
              0.2222222222222222,
              "#7201a8"
             ],
             [
              0.3333333333333333,
              "#9c179e"
             ],
             [
              0.4444444444444444,
              "#bd3786"
             ],
             [
              0.5555555555555556,
              "#d8576b"
             ],
             [
              0.6666666666666666,
              "#ed7953"
             ],
             [
              0.7777777777777778,
              "#fb9f3a"
             ],
             [
              0.8888888888888888,
              "#fdca26"
             ],
             [
              1,
              "#f0f921"
             ]
            ],
            "type": "histogram2dcontour"
           }
          ],
          "mesh3d": [
           {
            "colorbar": {
             "outlinewidth": 0,
             "ticks": ""
            },
            "type": "mesh3d"
           }
          ],
          "parcoords": [
           {
            "line": {
             "colorbar": {
              "outlinewidth": 0,
              "ticks": ""
             }
            },
            "type": "parcoords"
           }
          ],
          "pie": [
           {
            "automargin": true,
            "type": "pie"
           }
          ],
          "scatter": [
           {
            "fillpattern": {
             "fillmode": "overlay",
             "size": 10,
             "solidity": 0.2
            },
            "type": "scatter"
           }
          ],
          "scatter3d": [
           {
            "line": {
             "colorbar": {
              "outlinewidth": 0,
              "ticks": ""
             }
            },
            "marker": {
             "colorbar": {
              "outlinewidth": 0,
              "ticks": ""
             }
            },
            "type": "scatter3d"
           }
          ],
          "scattercarpet": [
           {
            "marker": {
             "colorbar": {
              "outlinewidth": 0,
              "ticks": ""
             }
            },
            "type": "scattercarpet"
           }
          ],
          "scattergeo": [
           {
            "marker": {
             "colorbar": {
              "outlinewidth": 0,
              "ticks": ""
             }
            },
            "type": "scattergeo"
           }
          ],
          "scattergl": [
           {
            "marker": {
             "colorbar": {
              "outlinewidth": 0,
              "ticks": ""
             }
            },
            "type": "scattergl"
           }
          ],
          "scattermap": [
           {
            "marker": {
             "colorbar": {
              "outlinewidth": 0,
              "ticks": ""
             }
            },
            "type": "scattermap"
           }
          ],
          "scattermapbox": [
           {
            "marker": {
             "colorbar": {
              "outlinewidth": 0,
              "ticks": ""
             }
            },
            "type": "scattermapbox"
           }
          ],
          "scatterpolar": [
           {
            "marker": {
             "colorbar": {
              "outlinewidth": 0,
              "ticks": ""
             }
            },
            "type": "scatterpolar"
           }
          ],
          "scatterpolargl": [
           {
            "marker": {
             "colorbar": {
              "outlinewidth": 0,
              "ticks": ""
             }
            },
            "type": "scatterpolargl"
           }
          ],
          "scatterternary": [
           {
            "marker": {
             "colorbar": {
              "outlinewidth": 0,
              "ticks": ""
             }
            },
            "type": "scatterternary"
           }
          ],
          "surface": [
           {
            "colorbar": {
             "outlinewidth": 0,
             "ticks": ""
            },
            "colorscale": [
             [
              0,
              "#0d0887"
             ],
             [
              0.1111111111111111,
              "#46039f"
             ],
             [
              0.2222222222222222,
              "#7201a8"
             ],
             [
              0.3333333333333333,
              "#9c179e"
             ],
             [
              0.4444444444444444,
              "#bd3786"
             ],
             [
              0.5555555555555556,
              "#d8576b"
             ],
             [
              0.6666666666666666,
              "#ed7953"
             ],
             [
              0.7777777777777778,
              "#fb9f3a"
             ],
             [
              0.8888888888888888,
              "#fdca26"
             ],
             [
              1,
              "#f0f921"
             ]
            ],
            "type": "surface"
           }
          ],
          "table": [
           {
            "cells": {
             "fill": {
              "color": "#EBF0F8"
             },
             "line": {
              "color": "white"
             }
            },
            "header": {
             "fill": {
              "color": "#C8D4E3"
             },
             "line": {
              "color": "white"
             }
            },
            "type": "table"
           }
          ]
         },
         "layout": {
          "annotationdefaults": {
           "arrowcolor": "#2a3f5f",
           "arrowhead": 0,
           "arrowwidth": 1
          },
          "autotypenumbers": "strict",
          "coloraxis": {
           "colorbar": {
            "outlinewidth": 0,
            "ticks": ""
           }
          },
          "colorscale": {
           "diverging": [
            [
             0,
             "#8e0152"
            ],
            [
             0.1,
             "#c51b7d"
            ],
            [
             0.2,
             "#de77ae"
            ],
            [
             0.3,
             "#f1b6da"
            ],
            [
             0.4,
             "#fde0ef"
            ],
            [
             0.5,
             "#f7f7f7"
            ],
            [
             0.6,
             "#e6f5d0"
            ],
            [
             0.7,
             "#b8e186"
            ],
            [
             0.8,
             "#7fbc41"
            ],
            [
             0.9,
             "#4d9221"
            ],
            [
             1,
             "#276419"
            ]
           ],
           "sequential": [
            [
             0,
             "#0d0887"
            ],
            [
             0.1111111111111111,
             "#46039f"
            ],
            [
             0.2222222222222222,
             "#7201a8"
            ],
            [
             0.3333333333333333,
             "#9c179e"
            ],
            [
             0.4444444444444444,
             "#bd3786"
            ],
            [
             0.5555555555555556,
             "#d8576b"
            ],
            [
             0.6666666666666666,
             "#ed7953"
            ],
            [
             0.7777777777777778,
             "#fb9f3a"
            ],
            [
             0.8888888888888888,
             "#fdca26"
            ],
            [
             1,
             "#f0f921"
            ]
           ],
           "sequentialminus": [
            [
             0,
             "#0d0887"
            ],
            [
             0.1111111111111111,
             "#46039f"
            ],
            [
             0.2222222222222222,
             "#7201a8"
            ],
            [
             0.3333333333333333,
             "#9c179e"
            ],
            [
             0.4444444444444444,
             "#bd3786"
            ],
            [
             0.5555555555555556,
             "#d8576b"
            ],
            [
             0.6666666666666666,
             "#ed7953"
            ],
            [
             0.7777777777777778,
             "#fb9f3a"
            ],
            [
             0.8888888888888888,
             "#fdca26"
            ],
            [
             1,
             "#f0f921"
            ]
           ]
          },
          "colorway": [
           "#636efa",
           "#EF553B",
           "#00cc96",
           "#ab63fa",
           "#FFA15A",
           "#19d3f3",
           "#FF6692",
           "#B6E880",
           "#FF97FF",
           "#FECB52"
          ],
          "font": {
           "color": "#2a3f5f"
          },
          "geo": {
           "bgcolor": "white",
           "lakecolor": "white",
           "landcolor": "#E5ECF6",
           "showlakes": true,
           "showland": true,
           "subunitcolor": "white"
          },
          "hoverlabel": {
           "align": "left"
          },
          "hovermode": "closest",
          "mapbox": {
           "style": "light"
          },
          "paper_bgcolor": "white",
          "plot_bgcolor": "#E5ECF6",
          "polar": {
           "angularaxis": {
            "gridcolor": "white",
            "linecolor": "white",
            "ticks": ""
           },
           "bgcolor": "#E5ECF6",
           "radialaxis": {
            "gridcolor": "white",
            "linecolor": "white",
            "ticks": ""
           }
          },
          "scene": {
           "xaxis": {
            "backgroundcolor": "#E5ECF6",
            "gridcolor": "white",
            "gridwidth": 2,
            "linecolor": "white",
            "showbackground": true,
            "ticks": "",
            "zerolinecolor": "white"
           },
           "yaxis": {
            "backgroundcolor": "#E5ECF6",
            "gridcolor": "white",
            "gridwidth": 2,
            "linecolor": "white",
            "showbackground": true,
            "ticks": "",
            "zerolinecolor": "white"
           },
           "zaxis": {
            "backgroundcolor": "#E5ECF6",
            "gridcolor": "white",
            "gridwidth": 2,
            "linecolor": "white",
            "showbackground": true,
            "ticks": "",
            "zerolinecolor": "white"
           }
          },
          "shapedefaults": {
           "line": {
            "color": "#2a3f5f"
           }
          },
          "ternary": {
           "aaxis": {
            "gridcolor": "white",
            "linecolor": "white",
            "ticks": ""
           },
           "baxis": {
            "gridcolor": "white",
            "linecolor": "white",
            "ticks": ""
           },
           "bgcolor": "#E5ECF6",
           "caxis": {
            "gridcolor": "white",
            "linecolor": "white",
            "ticks": ""
           }
          },
          "title": {
           "x": 0.05
          },
          "xaxis": {
           "automargin": true,
           "gridcolor": "white",
           "linecolor": "white",
           "ticks": "",
           "title": {
            "standoff": 15
           },
           "zerolinecolor": "white",
           "zerolinewidth": 2
          },
          "yaxis": {
           "automargin": true,
           "gridcolor": "white",
           "linecolor": "white",
           "ticks": "",
           "title": {
            "standoff": 15
           },
           "zerolinecolor": "white",
           "zerolinewidth": 2
          }
         }
        },
        "width": 1280,
        "xaxis": {
         "range": [
          -1.5,
          10
         ],
         "title": {
          "text": "Average Outline Complexity Overhead (bits)"
         }
        },
        "yaxis": {
         "range": [
          -0.01,
          0.4
         ],
         "title": {
          "text": "Reconstruction Error (probability)"
         }
        }
       }
      }
     },
     "metadata": {},
     "output_type": "display_data"
    }
   ],
   "source": [
    "fig = go.Figure()\n",
    "\n",
    "fig.add_trace(go.Scatter(x=np.linspace(-1.5,10,24), y=[max(0,-x/4) for x in np.linspace(-1.5,10,24)], mode='none', fill='tozeroy', name = \"Excluded Region\", fillcolor='#EF553B'))\n",
    "fig.add_trace(go.Scatter(x=np.linspace(-1.5,10,24), y=[-1 for x in np.linspace(-1.5,10,24)], mode='none', fill='tozeroy', showlegend=False, fillcolor='#EF553B'))\n",
    "fig.add_trace(go.Scatter(x=np.linspace(-1.5,10,24), y=[0 for x in np.linspace(-1.5,10,24)], mode='lines', fill='none', showlegend=False,line=dict(color='#EF553B')))\n",
    "\n",
    "for i in range(0,len(scores),3):\n",
    "    fig.add_trace(go.Scatter(x=[x[1]['mean_transmission_shift'] for x in scores[i:i+3]],\n",
    "                         y=[x[1]['reconstruction_error'] for x in scores[i:i+3]],\n",
    "                         text=['',list(short_vowel_names)[i//3].replace(' ','<br>'),''], textposition=['bottom left' for x in scores[i:i+3]],\n",
    "                         mode='lines', line=dict(color='#636EFA'), showlegend=False))\n",
    "    \n",
    "fig.add_trace(go.Scatter(x=[x[1]['mean_transmission_shift'] for x in scores[:3]],\n",
    "                         y=[x[1]['reconstruction_error'] for x in scores[:3]],\n",
    "                         mode='lines', line=dict(color='#636EFA'), name = \"Basic Systems\"))\n",
    "    \n",
    "fig.add_trace(go.Scatter(x=[x[1]['mean_transmission_shift'] for x in comparison_data],\n",
    "                         y=[x[1]['reconstruction_error'] for x in comparison_data],\n",
    "                         text=[x[0] for x in comparison_data], textposition=[x[2] for x in comparison_data],\n",
    "                         mode='markers+text', name=\"Shorthand Systems\", line=dict(color='#636EFA')))\n",
    "\n",
    "fig.update_layout(width=1280, height=1024, xaxis_range=[-1.5, 10], yaxis_range=[-0.01, 0.4],\n",
    "                  xaxis_title=\"Average Outline Complexity Overhead (bits)\",\n",
    "                  yaxis_title=\"Reconstruction Error (probability)\")\n",
    "fig.show()"
   ]
  },
  {
   "cell_type": "code",
   "execution_count": 21,
   "id": "0d65de2b",
   "metadata": {},
   "outputs": [],
   "source": [
    "fig.write_image(\"principle_system_comparison_graph.svg\")"
   ]
  },
  {
   "cell_type": "markdown",
   "id": "970d5dc9",
   "metadata": {},
   "source": [
    "# Analysis of Curtailment\n",
    "\n",
    "Now, we will add simple one-sided trimming, and try to extract the front."
   ]
  },
  {
   "cell_type": "code",
   "execution_count": 22,
   "id": "0c0d6763",
   "metadata": {},
   "outputs": [],
   "source": [
    "def curtail(word,l):\n",
    "    return word[:l]\n",
    "\n",
    "curtailed_scores = []\n",
    "for l in ([100] + [x for x in range(1,10)]):\n",
    "    for vowel_type in vowel_types:\n",
    "        for consonant_type in consonant_types:\n",
    "            dictionary = {w:curtail(translate(w,vowel_types[vowel_type] + consonant_types[consonant_type],verbose=False),l) for w in ipa_dict}\n",
    "            curtailed_scores.append((short_consonant_names[consonant_type] + \",\" + short_vowel_names[vowel_type] + \",\" + str(l),code_statistics(word_list(dictionary), dictionary),'top right'))\n",
    "\n",
    "null_dict = {w:'.' for w in ipa_dict}\n",
    "curtailed_scores.append(('Null',code_statistics(word_list(null_dict), null_dict),'top right'))\n",
    "\n",
    "full_ipa_dict = {w:ipa_dict[w].replace('/','').replace('ˈ','').replace('ˌ','') for w in ipa_dict}\n",
    "curtailed_scores.append(('IPA',code_statistics(word_list(full_ipa_dict), full_ipa_dict),'top right'))"
   ]
  },
  {
   "cell_type": "code",
   "execution_count": 23,
   "id": "18d04a2f",
   "metadata": {},
   "outputs": [
    {
     "data": {
      "application/vnd.plotly.v1+json": {
       "config": {
        "plotlyServerURL": "https://plot.ly"
       },
       "data": [
        {
         "fill": "tozeroy",
         "fillcolor": "#EF553B",
         "mode": "none",
         "name": "Excluded Region",
         "type": "scatter",
         "x": {
          "bdata": "AAAAAAAA+L8AAAAAAADwvwAAAAAAAOC/AAAAAAAAAAAAAAAAAADgPwAAAAAAAPA/AAAAAAAA+D8AAAAAAAAAQAAAAAAAAARAAAAAAAAACEAAAAAAAAAMQAAAAAAAABBAAAAAAAAAEkAAAAAAAAAUQAAAAAAAABZAAAAAAAAAGEAAAAAAAAAaQAAAAAAAABxAAAAAAAAAHkAAAAAAAAAgQAAAAAAAACFAAAAAAAAAIkAAAAAAAAAjQAAAAAAAACRA",
          "dtype": "f8"
         },
         "y": [
          0.375,
          0.25,
          0.125,
          0,
          0,
          0,
          0,
          0,
          0,
          0,
          0,
          0,
          0,
          0,
          0,
          0,
          0,
          0,
          0,
          0,
          0,
          0,
          0,
          0
         ]
        },
        {
         "fill": "tozeroy",
         "fillcolor": "#EF553B",
         "mode": "none",
         "showlegend": false,
         "type": "scatter",
         "x": {
          "bdata": "AAAAAAAA+L8AAAAAAADwvwAAAAAAAOC/AAAAAAAAAAAAAAAAAADgPwAAAAAAAPA/AAAAAAAA+D8AAAAAAAAAQAAAAAAAAARAAAAAAAAACEAAAAAAAAAMQAAAAAAAABBAAAAAAAAAEkAAAAAAAAAUQAAAAAAAABZAAAAAAAAAGEAAAAAAAAAaQAAAAAAAABxAAAAAAAAAHkAAAAAAAAAgQAAAAAAAACFAAAAAAAAAIkAAAAAAAAAjQAAAAAAAACRA",
          "dtype": "f8"
         },
         "y": [
          -1,
          -1,
          -1,
          -1,
          -1,
          -1,
          -1,
          -1,
          -1,
          -1,
          -1,
          -1,
          -1,
          -1,
          -1,
          -1,
          -1,
          -1,
          -1,
          -1,
          -1,
          -1,
          -1,
          -1
         ]
        },
        {
         "fill": "none",
         "line": {
          "color": "#EF553B"
         },
         "mode": "lines",
         "showlegend": false,
         "type": "scatter",
         "x": {
          "bdata": "AAAAAAAA+L8AAAAAAADwvwAAAAAAAOC/AAAAAAAAAAAAAAAAAADgPwAAAAAAAPA/AAAAAAAA+D8AAAAAAAAAQAAAAAAAAARAAAAAAAAACEAAAAAAAAAMQAAAAAAAABBAAAAAAAAAEkAAAAAAAAAUQAAAAAAAABZAAAAAAAAAGEAAAAAAAAAaQAAAAAAAABxAAAAAAAAAHkAAAAAAAAAgQAAAAAAAACFAAAAAAAAAIkAAAAAAAAAjQAAAAAAAACRA",
          "dtype": "f8"
         },
         "y": [
          0,
          0,
          0,
          0,
          0,
          0,
          0,
          0,
          0,
          0,
          0,
          0,
          0,
          0,
          0,
          0,
          0,
          0,
          0,
          0,
          0,
          0,
          0,
          0
         ]
        },
        {
         "line": {
          "color": "#FFAA50"
         },
         "mode": "markers",
         "name": "Curtailed Systems",
         "text": [
          "FC,FV,100",
          "FPMF,FV,100",
          "MC,FV,100",
          "FC,SSV,100",
          "FPMF,SSV,100",
          "MC,SSV,100",
          "FC,ShSV,100",
          "FPMF,ShSV,100",
          "MC,ShSV,100",
          "FC,LoV,100",
          "FPMF,LoV,100",
          "MC,LoV,100",
          "FC,LV,100",
          "FPMF,LV,100",
          "MC,LV,100",
          "FC,FLV,100",
          "FPMF,FLV,100",
          "MC,FLV,100",
          "FC,NV,100",
          "FPMF,NV,100",
          "MC,NV,100",
          "FC,FV,1",
          "FPMF,FV,1",
          "MC,FV,1",
          "FC,SSV,1",
          "FPMF,SSV,1",
          "MC,SSV,1",
          "FC,ShSV,1",
          "FPMF,ShSV,1",
          "MC,ShSV,1",
          "FC,LoV,1",
          "FPMF,LoV,1",
          "MC,LoV,1",
          "FC,LV,1",
          "FPMF,LV,1",
          "MC,LV,1",
          "FC,FLV,1",
          "FPMF,FLV,1",
          "MC,FLV,1",
          "FC,NV,1",
          "FPMF,NV,1",
          "MC,NV,1",
          "FC,FV,2",
          "FPMF,FV,2",
          "MC,FV,2",
          "FC,SSV,2",
          "FPMF,SSV,2",
          "MC,SSV,2",
          "FC,ShSV,2",
          "FPMF,ShSV,2",
          "MC,ShSV,2",
          "FC,LoV,2",
          "FPMF,LoV,2",
          "MC,LoV,2",
          "FC,LV,2",
          "FPMF,LV,2",
          "MC,LV,2",
          "FC,FLV,2",
          "FPMF,FLV,2",
          "MC,FLV,2",
          "FC,NV,2",
          "FPMF,NV,2",
          "MC,NV,2",
          "FC,FV,3",
          "FPMF,FV,3",
          "MC,FV,3",
          "FC,SSV,3",
          "FPMF,SSV,3",
          "MC,SSV,3",
          "FC,ShSV,3",
          "FPMF,ShSV,3",
          "MC,ShSV,3",
          "FC,LoV,3",
          "FPMF,LoV,3",
          "MC,LoV,3",
          "FC,LV,3",
          "FPMF,LV,3",
          "MC,LV,3",
          "FC,FLV,3",
          "FPMF,FLV,3",
          "MC,FLV,3",
          "FC,NV,3",
          "FPMF,NV,3",
          "MC,NV,3",
          "FC,FV,4",
          "FPMF,FV,4",
          "MC,FV,4",
          "FC,SSV,4",
          "FPMF,SSV,4",
          "MC,SSV,4",
          "FC,ShSV,4",
          "FPMF,ShSV,4",
          "MC,ShSV,4",
          "FC,LoV,4",
          "FPMF,LoV,4",
          "MC,LoV,4",
          "FC,LV,4",
          "FPMF,LV,4",
          "MC,LV,4",
          "FC,FLV,4",
          "FPMF,FLV,4",
          "MC,FLV,4",
          "FC,NV,4",
          "FPMF,NV,4",
          "MC,NV,4",
          "FC,FV,5",
          "FPMF,FV,5",
          "MC,FV,5",
          "FC,SSV,5",
          "FPMF,SSV,5",
          "MC,SSV,5",
          "FC,ShSV,5",
          "FPMF,ShSV,5",
          "MC,ShSV,5",
          "FC,LoV,5",
          "FPMF,LoV,5",
          "MC,LoV,5",
          "FC,LV,5",
          "FPMF,LV,5",
          "MC,LV,5",
          "FC,FLV,5",
          "FPMF,FLV,5",
          "MC,FLV,5",
          "FC,NV,5",
          "FPMF,NV,5",
          "MC,NV,5",
          "FC,FV,6",
          "FPMF,FV,6",
          "MC,FV,6",
          "FC,SSV,6",
          "FPMF,SSV,6",
          "MC,SSV,6",
          "FC,ShSV,6",
          "FPMF,ShSV,6",
          "MC,ShSV,6",
          "FC,LoV,6",
          "FPMF,LoV,6",
          "MC,LoV,6",
          "FC,LV,6",
          "FPMF,LV,6",
          "MC,LV,6",
          "FC,FLV,6",
          "FPMF,FLV,6",
          "MC,FLV,6",
          "FC,NV,6",
          "FPMF,NV,6",
          "MC,NV,6",
          "FC,FV,7",
          "FPMF,FV,7",
          "MC,FV,7",
          "FC,SSV,7",
          "FPMF,SSV,7",
          "MC,SSV,7",
          "FC,ShSV,7",
          "FPMF,ShSV,7",
          "MC,ShSV,7",
          "FC,LoV,7",
          "FPMF,LoV,7",
          "MC,LoV,7",
          "FC,LV,7",
          "FPMF,LV,7",
          "MC,LV,7",
          "FC,FLV,7",
          "FPMF,FLV,7",
          "MC,FLV,7",
          "FC,NV,7",
          "FPMF,NV,7",
          "MC,NV,7",
          "FC,FV,8",
          "FPMF,FV,8",
          "MC,FV,8",
          "FC,SSV,8",
          "FPMF,SSV,8",
          "MC,SSV,8",
          "FC,ShSV,8",
          "FPMF,ShSV,8",
          "MC,ShSV,8",
          "FC,LoV,8",
          "FPMF,LoV,8",
          "MC,LoV,8",
          "FC,LV,8",
          "FPMF,LV,8",
          "MC,LV,8",
          "FC,FLV,8",
          "FPMF,FLV,8",
          "MC,FLV,8",
          "FC,NV,8",
          "FPMF,NV,8",
          "MC,NV,8",
          "FC,FV,9",
          "FPMF,FV,9",
          "MC,FV,9",
          "FC,SSV,9",
          "FPMF,SSV,9",
          "MC,SSV,9",
          "FC,ShSV,9",
          "FPMF,ShSV,9",
          "MC,ShSV,9",
          "FC,LoV,9",
          "FPMF,LoV,9",
          "MC,LoV,9",
          "FC,LV,9",
          "FPMF,LV,9",
          "MC,LV,9",
          "FC,FLV,9",
          "FPMF,FLV,9",
          "MC,FLV,9",
          "FC,NV,9",
          "FPMF,NV,9",
          "MC,NV,9",
          "Null",
          "IPA"
         ],
         "textposition": [
          "top right",
          "top right",
          "top right",
          "top right",
          "top right",
          "top right",
          "top right",
          "top right",
          "top right",
          "top right",
          "top right",
          "top right",
          "top right",
          "top right",
          "top right",
          "top right",
          "top right",
          "top right",
          "top right",
          "top right",
          "top right",
          "top right",
          "top right",
          "top right",
          "top right",
          "top right",
          "top right",
          "top right",
          "top right",
          "top right",
          "top right",
          "top right",
          "top right",
          "top right",
          "top right",
          "top right",
          "top right",
          "top right",
          "top right",
          "top right",
          "top right",
          "top right",
          "top right",
          "top right",
          "top right",
          "top right",
          "top right",
          "top right",
          "top right",
          "top right",
          "top right",
          "top right",
          "top right",
          "top right",
          "top right",
          "top right",
          "top right",
          "top right",
          "top right",
          "top right",
          "top right",
          "top right",
          "top right",
          "top right",
          "top right",
          "top right",
          "top right",
          "top right",
          "top right",
          "top right",
          "top right",
          "top right",
          "top right",
          "top right",
          "top right",
          "top right",
          "top right",
          "top right",
          "top right",
          "top right",
          "top right",
          "top right",
          "top right",
          "top right",
          "top right",
          "top right",
          "top right",
          "top right",
          "top right",
          "top right",
          "top right",
          "top right",
          "top right",
          "top right",
          "top right",
          "top right",
          "top right",
          "top right",
          "top right",
          "top right",
          "top right",
          "top right",
          "top right",
          "top right",
          "top right",
          "top right",
          "top right",
          "top right",
          "top right",
          "top right",
          "top right",
          "top right",
          "top right",
          "top right",
          "top right",
          "top right",
          "top right",
          "top right",
          "top right",
          "top right",
          "top right",
          "top right",
          "top right",
          "top right",
          "top right",
          "top right",
          "top right",
          "top right",
          "top right",
          "top right",
          "top right",
          "top right",
          "top right",
          "top right",
          "top right",
          "top right",
          "top right",
          "top right",
          "top right",
          "top right",
          "top right",
          "top right",
          "top right",
          "top right",
          "top right",
          "top right",
          "top right",
          "top right",
          "top right",
          "top right",
          "top right",
          "top right",
          "top right",
          "top right",
          "top right",
          "top right",
          "top right",
          "top right",
          "top right",
          "top right",
          "top right",
          "top right",
          "top right",
          "top right",
          "top right",
          "top right",
          "top right",
          "top right",
          "top right",
          "top right",
          "top right",
          "top right",
          "top right",
          "top right",
          "top right",
          "top right",
          "top right",
          "top right",
          "top right",
          "top right",
          "top right",
          "top right",
          "top right",
          "top right",
          "top right",
          "top right",
          "top right",
          "top right",
          "top right",
          "top right",
          "top right",
          "top right",
          "top right",
          "top right",
          "top right",
          "top right",
          "top right",
          "top right",
          "top right",
          "top right",
          "top right",
          "top right",
          "top right",
          "top right",
          "top right",
          "top right",
          "top right",
          "top right",
          "top right",
          "top right",
          "top right",
          "top right"
         ],
         "type": "scatter",
         "x": [
          6.399511575092063,
          5.889403359793546,
          5.183970924492758,
          5.459962071197701,
          4.9498538558990735,
          4.244421420598194,
          3.6874529829856275,
          3.177344767687007,
          2.471912332386225,
          2.0992213065523746,
          1.589113091253747,
          0.8836806559529258,
          2.8412774124203217,
          2.3311691971216,
          1.6257367618208018,
          1.9628722362047064,
          1.4527640209060806,
          0.7473315856051528,
          0.2649831566096683,
          -0.24512505868895573,
          -0.9505574939898569,
          -5.5586447430080845,
          -5.623362019868506,
          -5.83653206905045,
          -5.5586447430080845,
          -5.623362019868506,
          -5.83653206905045,
          -5.552019880960415,
          -5.616737157820839,
          -5.829907207002783,
          -5.467201887306248,
          -5.667158495258374,
          -5.919726919391833,
          -5.5586447430080845,
          -5.623362019868506,
          -5.83653206905045,
          -6.118752497121181,
          -6.1834697739815985,
          -6.39663982316355,
          -5.575062109965406,
          -5.787028962139569,
          -6.044939374016067,
          -1.882648731476671,
          -2.0946642302637253,
          -2.3611746560640157,
          -1.5524466617909027,
          -1.7913527569173233,
          -2.0775877940333096,
          -1.289413297568716,
          -1.5865157629002251,
          -1.9474925450915537,
          -2.213372995200759,
          -2.5276579820588925,
          -2.968416120960958,
          -1.2862847335273013,
          -1.6076185400184162,
          -1.998600981157331,
          -2.088840241951977,
          -2.410174048443108,
          -2.8011564895820396,
          -2.828872871168742,
          -3.172654882588021,
          -3.6470454737570916,
          1.2143598543225984,
          0.8815928019306085,
          0.4165429390074955,
          1.2390285597296913,
          0.8876390297985157,
          0.3995489630857474,
          0.9517890920349998,
          0.5648713520106678,
          0.013087518836803369,
          -0.29630157738800555,
          -0.6924711413441198,
          -1.2587011200208806,
          0.7382738923862249,
          0.32829219613147487,
          -0.24937970400473475,
          -0.09883111316349869,
          -0.5088128094182629,
          -1.0864847095544796,
          -1.3018636602990163,
          -1.7222472434737313,
          -2.3200492404161857,
          2.9084720143840155,
          2.5171268161318086,
          1.9603984547149071,
          2.9306238385936236,
          2.5227113857368373,
          1.9433623959689115,
          2.2645298758089787,
          1.8273884351994862,
          1.2035113389685286,
          0.9061326747093794,
          0.45924151492144993,
          -0.17954263281936278,
          1.8226758437789954,
          1.3676850009407264,
          0.7243680323133788,
          0.9615716371340088,
          0.5065807942957612,
          -0.13673617433155805,
          -0.4387715643186709,
          -0.9043014305591157,
          -1.5612531532953806,
          4.143271527305883,
          3.7160785904289906,
          3.110644393452324,
          4.047226619620671,
          3.5960315463054293,
          2.963886305786671,
          3.022763307353719,
          2.547392806615914,
          1.8789069771819396,
          1.5794822960714487,
          1.0990034959605968,
          0.422334896255272,
          2.4092449175199295,
          1.922455083983719,
          1.2428878293099608,
          1.5390380371739845,
          1.0522482036377276,
          0.3726809489639695,
          0.0019138590908216457,
          -0.489281974178418,
          -1.1768931206311262,
          5.026107011671932,
          4.569215797001876,
          3.9230505791925445,
          4.737180032640339,
          4.2590285963468375,
          3.5899071167668417,
          3.413015504819864,
          2.918362639624821,
          2.2274359740753837,
          1.9064870308336737,
          1.4084800859339293,
          0.7133188748178636,
          2.6844811012012944,
          2.183810626710077,
          1.486807824795921,
          1.8096237428291175,
          1.3089532683378913,
          0.6119504664237834,
          0.18343913822668156,
          -0.32017104703534116,
          -1.0204970165435654,
          5.607873427403428,
          5.128392620561083,
          4.456262253560199,
          5.130680046189722,
          4.6356849424291795,
          3.946340833539786,
          3.5917219325974017,
          3.087397164538391,
          2.386777037923725,
          2.03681674734484,
          1.5307724713291524,
          0.8278390505913009,
          2.7949733638716054,
          2.288301077981007,
          1.5852919779943448,
          1.917824560671196,
          1.411152274780516,
          0.708143174793852,
          0.2442284622151334,
          -0.2636651971469206,
          -0.9683305537548268,
          5.985416648901188,
          5.493439418567057,
          4.805069169539756,
          5.32565781482484,
          4.822432273097505,
          4.123781400484434,
          3.658985760949246,
          3.15125121430726,
          2.4466966629487885,
          2.083336579468501,
          1.5747747241781784,
          0.8696921684649332,
          2.8300629434089952,
          2.3209100487895604,
          1.6156364521612776,
          1.9522047654038985,
          1.4430518707843163,
          0.7377782741560726,
          0.2621246088291276,
          -0.24748344604723727,
          -0.9528732510989251,
          6.196406901244039,
          5.69553553744983,
          4.997295838451832,
          5.409928776623751,
          4.902699640804267,
          4.19918503653499,
          3.6823647068128658,
          3.172751624290809,
          2.467362930930097,
          2.096688926830609,
          1.5868339647724632,
          0.8814262195147737,
          2.8404249740493945,
          2.3303931984522332,
          1.6249760716050083,
          1.9620691444762617,
          1.4520373688790897,
          0.746620242031824,
          0.26485782205476127,
          -0.2452322007473633,
          -0.9506646360482396,
          -9.765103091540468,
          8.957894660731132
         ],
         "y": [
          0.03285094362542118,
          0.03711484616306682,
          0.05103137885885156,
          0.025486654793430263,
          0.02965160691192459,
          0.04347157613251906,
          0.06115825262531338,
          0.0683186320679362,
          0.09118930364096578,
          0.11686952963055652,
          0.1299224631398923,
          0.16594955358722174,
          0.09893907275029679,
          0.11178819725982148,
          0.1440412259470797,
          0.17558104462061896,
          0.1929383807408963,
          0.22864838598536974,
          0.2326170214317772,
          0.25609698277538384,
          0.3054790895300489,
          0.7577832036280568,
          0.759921561257615,
          0.7648781589416674,
          0.7577832036280568,
          0.759921561257615,
          0.7648781589416674,
          0.7564536607716894,
          0.7585920184012476,
          0.7635486160853,
          0.7139482819679214,
          0.7274153324899262,
          0.7333435316134195,
          0.7577832036280568,
          0.759921561257615,
          0.7648781589416674,
          0.798368679055085,
          0.8005070366846432,
          0.8054636343686956,
          0.731501385539727,
          0.745159678713577,
          0.7514383535326901,
          0.5243051809851977,
          0.5306804871579672,
          0.5462865233787098,
          0.4671121025959981,
          0.47337400241519667,
          0.49016091157036035,
          0.4311991037476648,
          0.44308639171166575,
          0.4665841052381753,
          0.458680088090339,
          0.47479911735311797,
          0.506425929795804,
          0.4295129749305481,
          0.44379618444626445,
          0.4680554824067318,
          0.529422947980774,
          0.5447105361616416,
          0.5694307861894987,
          0.5146821588053152,
          0.5348551057372501,
          0.5688669653961306,
          0.30464072159904454,
          0.31534665382552984,
          0.3392023690845972,
          0.26823710939617795,
          0.27752279354599163,
          0.2997185867884353,
          0.2515455849856858,
          0.26142151668855196,
          0.2905559397317298,
          0.2939896508953911,
          0.31045356971941285,
          0.35193702936878635,
          0.2637003285392989,
          0.2792386985588343,
          0.3143355011250397,
          0.3471203213625349,
          0.36687980097785733,
          0.40565263278869135,
          0.37481774447767036,
          0.4009331878097553,
          0.45055664234781423,
          0.1826607802495288,
          0.19160100068950714,
          0.21364829723734635,
          0.15043254551801488,
          0.157054538694126,
          0.17564152159392432,
          0.15393274883869368,
          0.16213925587333333,
          0.1875857050789379,
          0.19988347393958883,
          0.21377967348337135,
          0.25218064633481296,
          0.1740875673164638,
          0.18810806941381775,
          0.22226470967531464,
          0.2527833607663521,
          0.27167993071243945,
          0.30941263389733864,
          0.2935589780078627,
          0.31787655059960085,
          0.3684359078777788,
          0.12073981997782302,
          0.1264158480062606,
          0.14295971438797217,
          0.08949271842595741,
          0.09418754365217763,
          0.10870773416733515,
          0.10208346123123857,
          0.1095114709417071,
          0.1328167607047731,
          0.15073706029827594,
          0.1639903646243437,
          0.20053741735714337,
          0.12899942837139344,
          0.14233547398459312,
          0.1752142565521937,
          0.20636040641519882,
          0.22425435650519665,
          0.26101205196191146,
          0.25466453405122746,
          0.2785136921908139,
          0.3283529602884392,
          0.08711000290863014,
          0.09191351811545467,
          0.10627990363470874,
          0.05903154951151324,
          0.06328657501993606,
          0.07720882063880208,
          0.07851403425440251,
          0.08578870224316415,
          0.10867484368109337,
          0.13025893529107535,
          0.14341649043583315,
          0.1794440013686991,
          0.1100554160739251,
          0.1229504125445009,
          0.15521345500664463,
          0.18701750556588626,
          0.2044586002504314,
          0.24035557885057113,
          0.24012601972720427,
          0.26367797908796964,
          0.3130823181761846,
          0.062457533343475036,
          0.06687310821822323,
          0.0809737716649056,
          0.03983618176770909,
          0.04410209870891768,
          0.05802997940320731,
          0.06736283332385429,
          0.07453236698674615,
          0.09736453368468823,
          0.12124421599246904,
          0.13430630372207375,
          0.1703219153530634,
          0.10290393382134444,
          0.11576221255113817,
          0.14806964075592977,
          0.17964079102635,
          0.19700728136689627,
          0.23276936271073378,
          0.2350215067263206,
          0.25851062229019606,
          0.3079350320049984,
          0.049131991633488026,
          0.05345020784341259,
          0.0673628142802718,
          0.03143055841675646,
          0.03566551478487101,
          0.049540993864459204,
          0.06341681662838794,
          0.0705863502912798,
          0.09345702186430938,
          0.11796109754088413,
          0.13102318527048884,
          0.16705027571781828,
          0.09982094858405566,
          0.11267922731384927,
          0.14495240456634906,
          0.17647547701009025,
          0.19384196735063652,
          0.22957212116035153,
          0.23287138634551174,
          0.2563605019093873,
          0.30574260866405234,
          0.040146688643802886,
          0.04444050790132148,
          0.05832769112018932,
          0.0279878276472445,
          0.03216193398600775,
          0.04602420616673941,
          0.0614417756398411,
          0.06860215508246403,
          0.0914728266554935,
          0.11703461012588967,
          0.13008754363522546,
          0.1661146340825549,
          0.09897938044145016,
          0.11182850495097485,
          0.14408153363823306,
          0.17563390886748476,
          0.1929912449877621,
          0.22870125023223553,
          0.23262960451302117,
          0.2561095658566277,
          0.30549167261129284,
          0.931164129364203,
          0.014930232236564533
         ]
        },
        {
         "line": {
          "color": "#636EFA"
         },
         "mode": "lines",
         "showlegend": false,
         "text": [
          "",
          "full<br>vowels",
          ""
         ],
         "textposition": [
          "bottom left",
          "bottom left",
          "bottom left"
         ],
         "type": "scatter",
         "x": [
          6.399511575092063,
          5.889403359793546,
          5.183970924492758
         ],
         "y": [
          0.03285094362542118,
          0.03711484616306682,
          0.05103137885885156
         ]
        },
        {
         "line": {
          "color": "#636EFA"
         },
         "mode": "lines",
         "showlegend": false,
         "text": [
          "",
          "schwa<br>suppressed<br>vowels",
          ""
         ],
         "textposition": [
          "bottom left",
          "bottom left",
          "bottom left"
         ],
         "type": "scatter",
         "x": [
          5.459962071197701,
          4.9498538558990735,
          4.244421420598194
         ],
         "y": [
          0.025486654793430263,
          0.02965160691192459,
          0.04347157613251906
         ]
        },
        {
         "line": {
          "color": "#636EFA"
         },
         "mode": "lines",
         "showlegend": false,
         "text": [
          "",
          "short<br>suppressed<br>vowels",
          ""
         ],
         "textposition": [
          "bottom left",
          "bottom left",
          "bottom left"
         ],
         "type": "scatter",
         "x": [
          3.6874529829856275,
          3.177344767687007,
          2.471912332386225
         ],
         "y": [
          0.06115825262531338,
          0.0683186320679362,
          0.09118930364096578
         ]
        },
        {
         "line": {
          "color": "#636EFA"
         },
         "mode": "lines",
         "showlegend": false,
         "text": [
          "",
          "long<br>vowels",
          ""
         ],
         "textposition": [
          "bottom left",
          "bottom left",
          "bottom left"
         ],
         "type": "scatter",
         "x": [
          2.0992213065523746,
          1.589113091253747,
          0.8836806559529258
         ],
         "y": [
          0.11686952963055652,
          0.1299224631398923,
          0.16594955358722174
         ]
        },
        {
         "line": {
          "color": "#636EFA"
         },
         "mode": "lines",
         "showlegend": false,
         "text": [
          "",
          "lateral<br>vowels",
          ""
         ],
         "textposition": [
          "bottom left",
          "bottom left",
          "bottom left"
         ],
         "type": "scatter",
         "x": [
          2.8412774124203217,
          2.3311691971216,
          1.6257367618208018
         ],
         "y": [
          0.09893907275029679,
          0.11178819725982148,
          0.1440412259470797
         ]
        },
        {
         "line": {
          "color": "#636EFA"
         },
         "mode": "lines",
         "showlegend": false,
         "text": [
          "",
          "flattened<br>lateral<br>vowels",
          ""
         ],
         "textposition": [
          "bottom left",
          "bottom left",
          "bottom left"
         ],
         "type": "scatter",
         "x": [
          1.9628722362047064,
          1.4527640209060806,
          0.7473315856051528
         ],
         "y": [
          0.17558104462061896,
          0.1929383807408963,
          0.22864838598536974
         ]
        },
        {
         "line": {
          "color": "#636EFA"
         },
         "mode": "lines",
         "showlegend": false,
         "text": [
          "",
          "no<br>vowels",
          ""
         ],
         "textposition": [
          "bottom left",
          "bottom left",
          "bottom left"
         ],
         "type": "scatter",
         "x": [
          0.2649831566096683,
          -0.24512505868895573,
          -0.9505574939898569
         ],
         "y": [
          0.2326170214317772,
          0.25609698277538384,
          0.3054790895300489
         ]
        },
        {
         "line": {
          "color": "#636EFA"
         },
         "mode": "lines",
         "name": "Basic Systems",
         "type": "scatter",
         "x": [
          6.399511575092063,
          5.889403359793546,
          5.183970924492758
         ],
         "y": [
          0.03285094362542118,
          0.03711484616306682,
          0.05103137885885156
         ]
        }
       ],
       "layout": {
        "height": 1024,
        "template": {
         "data": {
          "bar": [
           {
            "error_x": {
             "color": "#2a3f5f"
            },
            "error_y": {
             "color": "#2a3f5f"
            },
            "marker": {
             "line": {
              "color": "#E5ECF6",
              "width": 0.5
             },
             "pattern": {
              "fillmode": "overlay",
              "size": 10,
              "solidity": 0.2
             }
            },
            "type": "bar"
           }
          ],
          "barpolar": [
           {
            "marker": {
             "line": {
              "color": "#E5ECF6",
              "width": 0.5
             },
             "pattern": {
              "fillmode": "overlay",
              "size": 10,
              "solidity": 0.2
             }
            },
            "type": "barpolar"
           }
          ],
          "carpet": [
           {
            "aaxis": {
             "endlinecolor": "#2a3f5f",
             "gridcolor": "white",
             "linecolor": "white",
             "minorgridcolor": "white",
             "startlinecolor": "#2a3f5f"
            },
            "baxis": {
             "endlinecolor": "#2a3f5f",
             "gridcolor": "white",
             "linecolor": "white",
             "minorgridcolor": "white",
             "startlinecolor": "#2a3f5f"
            },
            "type": "carpet"
           }
          ],
          "choropleth": [
           {
            "colorbar": {
             "outlinewidth": 0,
             "ticks": ""
            },
            "type": "choropleth"
           }
          ],
          "contour": [
           {
            "colorbar": {
             "outlinewidth": 0,
             "ticks": ""
            },
            "colorscale": [
             [
              0,
              "#0d0887"
             ],
             [
              0.1111111111111111,
              "#46039f"
             ],
             [
              0.2222222222222222,
              "#7201a8"
             ],
             [
              0.3333333333333333,
              "#9c179e"
             ],
             [
              0.4444444444444444,
              "#bd3786"
             ],
             [
              0.5555555555555556,
              "#d8576b"
             ],
             [
              0.6666666666666666,
              "#ed7953"
             ],
             [
              0.7777777777777778,
              "#fb9f3a"
             ],
             [
              0.8888888888888888,
              "#fdca26"
             ],
             [
              1,
              "#f0f921"
             ]
            ],
            "type": "contour"
           }
          ],
          "contourcarpet": [
           {
            "colorbar": {
             "outlinewidth": 0,
             "ticks": ""
            },
            "type": "contourcarpet"
           }
          ],
          "heatmap": [
           {
            "colorbar": {
             "outlinewidth": 0,
             "ticks": ""
            },
            "colorscale": [
             [
              0,
              "#0d0887"
             ],
             [
              0.1111111111111111,
              "#46039f"
             ],
             [
              0.2222222222222222,
              "#7201a8"
             ],
             [
              0.3333333333333333,
              "#9c179e"
             ],
             [
              0.4444444444444444,
              "#bd3786"
             ],
             [
              0.5555555555555556,
              "#d8576b"
             ],
             [
              0.6666666666666666,
              "#ed7953"
             ],
             [
              0.7777777777777778,
              "#fb9f3a"
             ],
             [
              0.8888888888888888,
              "#fdca26"
             ],
             [
              1,
              "#f0f921"
             ]
            ],
            "type": "heatmap"
           }
          ],
          "histogram": [
           {
            "marker": {
             "pattern": {
              "fillmode": "overlay",
              "size": 10,
              "solidity": 0.2
             }
            },
            "type": "histogram"
           }
          ],
          "histogram2d": [
           {
            "colorbar": {
             "outlinewidth": 0,
             "ticks": ""
            },
            "colorscale": [
             [
              0,
              "#0d0887"
             ],
             [
              0.1111111111111111,
              "#46039f"
             ],
             [
              0.2222222222222222,
              "#7201a8"
             ],
             [
              0.3333333333333333,
              "#9c179e"
             ],
             [
              0.4444444444444444,
              "#bd3786"
             ],
             [
              0.5555555555555556,
              "#d8576b"
             ],
             [
              0.6666666666666666,
              "#ed7953"
             ],
             [
              0.7777777777777778,
              "#fb9f3a"
             ],
             [
              0.8888888888888888,
              "#fdca26"
             ],
             [
              1,
              "#f0f921"
             ]
            ],
            "type": "histogram2d"
           }
          ],
          "histogram2dcontour": [
           {
            "colorbar": {
             "outlinewidth": 0,
             "ticks": ""
            },
            "colorscale": [
             [
              0,
              "#0d0887"
             ],
             [
              0.1111111111111111,
              "#46039f"
             ],
             [
              0.2222222222222222,
              "#7201a8"
             ],
             [
              0.3333333333333333,
              "#9c179e"
             ],
             [
              0.4444444444444444,
              "#bd3786"
             ],
             [
              0.5555555555555556,
              "#d8576b"
             ],
             [
              0.6666666666666666,
              "#ed7953"
             ],
             [
              0.7777777777777778,
              "#fb9f3a"
             ],
             [
              0.8888888888888888,
              "#fdca26"
             ],
             [
              1,
              "#f0f921"
             ]
            ],
            "type": "histogram2dcontour"
           }
          ],
          "mesh3d": [
           {
            "colorbar": {
             "outlinewidth": 0,
             "ticks": ""
            },
            "type": "mesh3d"
           }
          ],
          "parcoords": [
           {
            "line": {
             "colorbar": {
              "outlinewidth": 0,
              "ticks": ""
             }
            },
            "type": "parcoords"
           }
          ],
          "pie": [
           {
            "automargin": true,
            "type": "pie"
           }
          ],
          "scatter": [
           {
            "fillpattern": {
             "fillmode": "overlay",
             "size": 10,
             "solidity": 0.2
            },
            "type": "scatter"
           }
          ],
          "scatter3d": [
           {
            "line": {
             "colorbar": {
              "outlinewidth": 0,
              "ticks": ""
             }
            },
            "marker": {
             "colorbar": {
              "outlinewidth": 0,
              "ticks": ""
             }
            },
            "type": "scatter3d"
           }
          ],
          "scattercarpet": [
           {
            "marker": {
             "colorbar": {
              "outlinewidth": 0,
              "ticks": ""
             }
            },
            "type": "scattercarpet"
           }
          ],
          "scattergeo": [
           {
            "marker": {
             "colorbar": {
              "outlinewidth": 0,
              "ticks": ""
             }
            },
            "type": "scattergeo"
           }
          ],
          "scattergl": [
           {
            "marker": {
             "colorbar": {
              "outlinewidth": 0,
              "ticks": ""
             }
            },
            "type": "scattergl"
           }
          ],
          "scattermap": [
           {
            "marker": {
             "colorbar": {
              "outlinewidth": 0,
              "ticks": ""
             }
            },
            "type": "scattermap"
           }
          ],
          "scattermapbox": [
           {
            "marker": {
             "colorbar": {
              "outlinewidth": 0,
              "ticks": ""
             }
            },
            "type": "scattermapbox"
           }
          ],
          "scatterpolar": [
           {
            "marker": {
             "colorbar": {
              "outlinewidth": 0,
              "ticks": ""
             }
            },
            "type": "scatterpolar"
           }
          ],
          "scatterpolargl": [
           {
            "marker": {
             "colorbar": {
              "outlinewidth": 0,
              "ticks": ""
             }
            },
            "type": "scatterpolargl"
           }
          ],
          "scatterternary": [
           {
            "marker": {
             "colorbar": {
              "outlinewidth": 0,
              "ticks": ""
             }
            },
            "type": "scatterternary"
           }
          ],
          "surface": [
           {
            "colorbar": {
             "outlinewidth": 0,
             "ticks": ""
            },
            "colorscale": [
             [
              0,
              "#0d0887"
             ],
             [
              0.1111111111111111,
              "#46039f"
             ],
             [
              0.2222222222222222,
              "#7201a8"
             ],
             [
              0.3333333333333333,
              "#9c179e"
             ],
             [
              0.4444444444444444,
              "#bd3786"
             ],
             [
              0.5555555555555556,
              "#d8576b"
             ],
             [
              0.6666666666666666,
              "#ed7953"
             ],
             [
              0.7777777777777778,
              "#fb9f3a"
             ],
             [
              0.8888888888888888,
              "#fdca26"
             ],
             [
              1,
              "#f0f921"
             ]
            ],
            "type": "surface"
           }
          ],
          "table": [
           {
            "cells": {
             "fill": {
              "color": "#EBF0F8"
             },
             "line": {
              "color": "white"
             }
            },
            "header": {
             "fill": {
              "color": "#C8D4E3"
             },
             "line": {
              "color": "white"
             }
            },
            "type": "table"
           }
          ]
         },
         "layout": {
          "annotationdefaults": {
           "arrowcolor": "#2a3f5f",
           "arrowhead": 0,
           "arrowwidth": 1
          },
          "autotypenumbers": "strict",
          "coloraxis": {
           "colorbar": {
            "outlinewidth": 0,
            "ticks": ""
           }
          },
          "colorscale": {
           "diverging": [
            [
             0,
             "#8e0152"
            ],
            [
             0.1,
             "#c51b7d"
            ],
            [
             0.2,
             "#de77ae"
            ],
            [
             0.3,
             "#f1b6da"
            ],
            [
             0.4,
             "#fde0ef"
            ],
            [
             0.5,
             "#f7f7f7"
            ],
            [
             0.6,
             "#e6f5d0"
            ],
            [
             0.7,
             "#b8e186"
            ],
            [
             0.8,
             "#7fbc41"
            ],
            [
             0.9,
             "#4d9221"
            ],
            [
             1,
             "#276419"
            ]
           ],
           "sequential": [
            [
             0,
             "#0d0887"
            ],
            [
             0.1111111111111111,
             "#46039f"
            ],
            [
             0.2222222222222222,
             "#7201a8"
            ],
            [
             0.3333333333333333,
             "#9c179e"
            ],
            [
             0.4444444444444444,
             "#bd3786"
            ],
            [
             0.5555555555555556,
             "#d8576b"
            ],
            [
             0.6666666666666666,
             "#ed7953"
            ],
            [
             0.7777777777777778,
             "#fb9f3a"
            ],
            [
             0.8888888888888888,
             "#fdca26"
            ],
            [
             1,
             "#f0f921"
            ]
           ],
           "sequentialminus": [
            [
             0,
             "#0d0887"
            ],
            [
             0.1111111111111111,
             "#46039f"
            ],
            [
             0.2222222222222222,
             "#7201a8"
            ],
            [
             0.3333333333333333,
             "#9c179e"
            ],
            [
             0.4444444444444444,
             "#bd3786"
            ],
            [
             0.5555555555555556,
             "#d8576b"
            ],
            [
             0.6666666666666666,
             "#ed7953"
            ],
            [
             0.7777777777777778,
             "#fb9f3a"
            ],
            [
             0.8888888888888888,
             "#fdca26"
            ],
            [
             1,
             "#f0f921"
            ]
           ]
          },
          "colorway": [
           "#636efa",
           "#EF553B",
           "#00cc96",
           "#ab63fa",
           "#FFA15A",
           "#19d3f3",
           "#FF6692",
           "#B6E880",
           "#FF97FF",
           "#FECB52"
          ],
          "font": {
           "color": "#2a3f5f"
          },
          "geo": {
           "bgcolor": "white",
           "lakecolor": "white",
           "landcolor": "#E5ECF6",
           "showlakes": true,
           "showland": true,
           "subunitcolor": "white"
          },
          "hoverlabel": {
           "align": "left"
          },
          "hovermode": "closest",
          "mapbox": {
           "style": "light"
          },
          "paper_bgcolor": "white",
          "plot_bgcolor": "#E5ECF6",
          "polar": {
           "angularaxis": {
            "gridcolor": "white",
            "linecolor": "white",
            "ticks": ""
           },
           "bgcolor": "#E5ECF6",
           "radialaxis": {
            "gridcolor": "white",
            "linecolor": "white",
            "ticks": ""
           }
          },
          "scene": {
           "xaxis": {
            "backgroundcolor": "#E5ECF6",
            "gridcolor": "white",
            "gridwidth": 2,
            "linecolor": "white",
            "showbackground": true,
            "ticks": "",
            "zerolinecolor": "white"
           },
           "yaxis": {
            "backgroundcolor": "#E5ECF6",
            "gridcolor": "white",
            "gridwidth": 2,
            "linecolor": "white",
            "showbackground": true,
            "ticks": "",
            "zerolinecolor": "white"
           },
           "zaxis": {
            "backgroundcolor": "#E5ECF6",
            "gridcolor": "white",
            "gridwidth": 2,
            "linecolor": "white",
            "showbackground": true,
            "ticks": "",
            "zerolinecolor": "white"
           }
          },
          "shapedefaults": {
           "line": {
            "color": "#2a3f5f"
           }
          },
          "ternary": {
           "aaxis": {
            "gridcolor": "white",
            "linecolor": "white",
            "ticks": ""
           },
           "baxis": {
            "gridcolor": "white",
            "linecolor": "white",
            "ticks": ""
           },
           "bgcolor": "#E5ECF6",
           "caxis": {
            "gridcolor": "white",
            "linecolor": "white",
            "ticks": ""
           }
          },
          "title": {
           "x": 0.05
          },
          "xaxis": {
           "automargin": true,
           "gridcolor": "white",
           "linecolor": "white",
           "ticks": "",
           "title": {
            "standoff": 15
           },
           "zerolinecolor": "white",
           "zerolinewidth": 2
          },
          "yaxis": {
           "automargin": true,
           "gridcolor": "white",
           "linecolor": "white",
           "ticks": "",
           "title": {
            "standoff": 15
           },
           "zerolinecolor": "white",
           "zerolinewidth": 2
          }
         }
        },
        "width": 1280,
        "xaxis": {
         "range": [
          -1.5,
          10
         ],
         "title": {
          "text": "Average Outline Complexity Overhead (bits)"
         }
        },
        "yaxis": {
         "range": [
          -0.01,
          0.4
         ],
         "title": {
          "text": "Reconstruction Error (probability)"
         }
        }
       }
      }
     },
     "metadata": {},
     "output_type": "display_data"
    }
   ],
   "source": [
    "fig = go.Figure()\n",
    "\n",
    "fig.add_trace(go.Scatter(x=np.linspace(-1.5,10,24), y=[max(0,-x/4) for x in np.linspace(-1.5,10,24)], mode='none', fill='tozeroy', name = \"Excluded Region\", fillcolor='#EF553B'))\n",
    "fig.add_trace(go.Scatter(x=np.linspace(-1.5,10,24), y=[-1 for x in np.linspace(-1.5,10,24)], mode='none', fill='tozeroy', showlegend=False, fillcolor='#EF553B'))\n",
    "fig.add_trace(go.Scatter(x=np.linspace(-1.5,10,24), y=[0 for x in np.linspace(-1.5,10,24)], mode='lines', fill='none', showlegend=False,line=dict(color='#EF553B')))\n",
    "\n",
    "fig.add_trace(go.Scatter(x=[x[1]['mean_transmission_shift'] for x in curtailed_scores],\n",
    "                         y=[x[1]['reconstruction_error'] for x in curtailed_scores],\n",
    "                         text=[x[0] for x in curtailed_scores], textposition=[x[2] for x in curtailed_scores],\n",
    "                         mode='markers', name=\"Curtailed Systems\", line=dict(color='#FFAA50')))\n",
    "\n",
    "for i in range(0,len(scores),3):\n",
    "    fig.add_trace(go.Scatter(x=[x[1]['mean_transmission_shift'] for x in scores[i:i+3]],\n",
    "                         y=[x[1]['reconstruction_error'] for x in scores[i:i+3]],\n",
    "                         text=['',list(short_vowel_names)[i//3].replace(' ','<br>'),''], textposition=['bottom left' for x in scores[i:i+3]],\n",
    "                         mode='lines', line=dict(color='#636EFA'), showlegend=False))\n",
    "\n",
    "fig.add_trace(go.Scatter(x=[x[1]['mean_transmission_shift'] for x in scores[:3]],\n",
    "                         y=[x[1]['reconstruction_error'] for x in scores[:3]],\n",
    "                         mode='lines', line=dict(color='#636EFA'), name = \"Basic Systems\"))\n",
    "\n",
    "# fig.add_trace(go.Scatter(x=[x[1]['mean_transmission_shift'] for x in comparison_data],\n",
    "#                          y=[x[1]['reconstruction_error'] for x in comparison_data],\n",
    "#                          text=[x[0] for x in comparison_data], textposition=[x[2] for x in comparison_data],\n",
    "#                          mode='markers+text', name=\"Shorthand Systems\", line=dict(color='#636EFA')))\n",
    "\n",
    "fig.update_layout(width=1280, height=1024, xaxis_range=[-1.5, 10], yaxis_range=[-0.01, 0.4],\n",
    "                  xaxis_title=\"Average Outline Complexity Overhead (bits)\",\n",
    "                  yaxis_title=\"Reconstruction Error (probability)\")\n",
    "fig.show()"
   ]
  },
  {
   "cell_type": "code",
   "execution_count": 24,
   "id": "fe8d3995",
   "metadata": {},
   "outputs": [],
   "source": [
    "# ChatGPT implementation of the extraction of supported points\n",
    "\n",
    "from collections import namedtuple\n",
    "\n",
    "Point = namedtuple(\"Point\", [\"x\", \"y\", \"metadata\"])  # Extendable metadata\n",
    "\n",
    "class SupportedParetoFront:\n",
    "    def __init__(self, points):\n",
    "        \"\"\"Initialize with a list of Point(x, y, metadata).\"\"\"\n",
    "        self.points = sorted(points, key=lambda p: (p.x, p.y))  # Sort by x\n",
    "        self.supported_points = self.compute_lower_hull()\n",
    "\n",
    "    def cross_product(self, o, a, b):\n",
    "        \"\"\"Cross product of vector OA and OB (O is origin).\n",
    "        Returns positive if counter-clockwise turn, negative if clockwise, 0 if collinear.\"\"\"\n",
    "        return (a.x - o.x) * (b.y - o.y) - (a.y - o.y) * (b.x - o.x)\n",
    "\n",
    "    def compute_lower_hull(self):\n",
    "        \"\"\"Finds the lower convex hull of the points (supported Pareto front).\"\"\"\n",
    "        lower_hull = []\n",
    "        for p in self.points:\n",
    "            while len(lower_hull) >= 2 and self.cross_product(lower_hull[-2], lower_hull[-1], p) <= 0:\n",
    "                lower_hull.pop()\n",
    "            lower_hull.append(p)\n",
    "        return lower_hull\n",
    "\n",
    "    def get_supported_points(self):\n",
    "        \"\"\"Return the supported points with metadata.\"\"\"\n",
    "        return self.supported_points"
   ]
  },
  {
   "cell_type": "code",
   "execution_count": 25,
   "id": "58cffe9b",
   "metadata": {},
   "outputs": [
    {
     "name": "stdout",
     "output_type": "stream",
     "text": [
      "Point(-9.765103091540468, 0.931164129364203), Metadata: Null\n",
      "Point(0.8836806559529258, 0.16594955358722174), Metadata: MC,LoV,100\n",
      "Point(1.589113091253747, 0.1299224631398923), Metadata: FPMF,LoV,100\n",
      "Point(2.471912332386225, 0.09118930364096578), Metadata: MC,ShSV,100\n",
      "Point(3.177344767687007, 0.0683186320679362), Metadata: FPMF,ShSV,100\n",
      "Point(4.244421420598194, 0.04347157613251906), Metadata: MC,SSV,100\n",
      "Point(4.9498538558990735, 0.02965160691192459), Metadata: FPMF,SSV,100\n",
      "Point(5.459962071197701, 0.025486654793430263), Metadata: FC,SSV,100\n",
      "Point(8.957894660731132, 0.014930232236564533), Metadata: IPA\n"
     ]
    }
   ],
   "source": [
    "# Sample points with metadata\n",
    "points = [Point(x[1]['mean_transmission_shift'], x[1]['reconstruction_error'], x[0]) for x in curtailed_scores]\n",
    "\n",
    "pareto = SupportedParetoFront(points)\n",
    "result = pareto.get_supported_points()\n",
    "\n",
    "# Print the supported points\n",
    "for p in result:\n",
    "    print(f\"Point({p.x}, {p.y}), Metadata: {p.metadata}\")"
   ]
  },
  {
   "cell_type": "code",
   "execution_count": 26,
   "id": "2f0e26d2",
   "metadata": {},
   "outputs": [
    {
     "data": {
      "application/vnd.plotly.v1+json": {
       "config": {
        "plotlyServerURL": "https://plot.ly"
       },
       "data": [
        {
         "fill": "tozeroy",
         "fillcolor": "#EF553B",
         "mode": "none",
         "name": "Excluded Region",
         "type": "scatter",
         "x": {
          "bdata": "AAAAAAAA+L8AAAAAAADwvwAAAAAAAOC/AAAAAAAAAAAAAAAAAADgPwAAAAAAAPA/AAAAAAAA+D8AAAAAAAAAQAAAAAAAAARAAAAAAAAACEAAAAAAAAAMQAAAAAAAABBAAAAAAAAAEkAAAAAAAAAUQAAAAAAAABZAAAAAAAAAGEAAAAAAAAAaQAAAAAAAABxAAAAAAAAAHkAAAAAAAAAgQAAAAAAAACFAAAAAAAAAIkAAAAAAAAAjQAAAAAAAACRA",
          "dtype": "f8"
         },
         "y": [
          0.375,
          0.25,
          0.125,
          0,
          0,
          0,
          0,
          0,
          0,
          0,
          0,
          0,
          0,
          0,
          0,
          0,
          0,
          0,
          0,
          0,
          0,
          0,
          0,
          0
         ]
        },
        {
         "fill": "tozeroy",
         "fillcolor": "#EF553B",
         "mode": "none",
         "showlegend": false,
         "type": "scatter",
         "x": {
          "bdata": "AAAAAAAA+L8AAAAAAADwvwAAAAAAAOC/AAAAAAAAAAAAAAAAAADgPwAAAAAAAPA/AAAAAAAA+D8AAAAAAAAAQAAAAAAAAARAAAAAAAAACEAAAAAAAAAMQAAAAAAAABBAAAAAAAAAEkAAAAAAAAAUQAAAAAAAABZAAAAAAAAAGEAAAAAAAAAaQAAAAAAAABxAAAAAAAAAHkAAAAAAAAAgQAAAAAAAACFAAAAAAAAAIkAAAAAAAAAjQAAAAAAAACRA",
          "dtype": "f8"
         },
         "y": [
          -1,
          -1,
          -1,
          -1,
          -1,
          -1,
          -1,
          -1,
          -1,
          -1,
          -1,
          -1,
          -1,
          -1,
          -1,
          -1,
          -1,
          -1,
          -1,
          -1,
          -1,
          -1,
          -1,
          -1
         ]
        },
        {
         "fill": "none",
         "line": {
          "color": "#EF553B"
         },
         "mode": "lines",
         "showlegend": false,
         "type": "scatter",
         "x": {
          "bdata": "AAAAAAAA+L8AAAAAAADwvwAAAAAAAOC/AAAAAAAAAAAAAAAAAADgPwAAAAAAAPA/AAAAAAAA+D8AAAAAAAAAQAAAAAAAAARAAAAAAAAACEAAAAAAAAAMQAAAAAAAABBAAAAAAAAAEkAAAAAAAAAUQAAAAAAAABZAAAAAAAAAGEAAAAAAAAAaQAAAAAAAABxAAAAAAAAAHkAAAAAAAAAgQAAAAAAAACFAAAAAAAAAIkAAAAAAAAAjQAAAAAAAACRA",
          "dtype": "f8"
         },
         "y": [
          0,
          0,
          0,
          0,
          0,
          0,
          0,
          0,
          0,
          0,
          0,
          0,
          0,
          0,
          0,
          0,
          0,
          0,
          0,
          0,
          0,
          0,
          0,
          0
         ]
        },
        {
         "line": {
          "color": "#AAAAAA"
         },
         "mode": "lines",
         "showlegend": false,
         "text": [
          "Null",
          "MC,LoV,100",
          "FPMF,LoV,100",
          "MC,ShSV,100",
          "FPMF,ShSV,100",
          "MC,SSV,100",
          "FPMF,SSV,100",
          "FC,SSV,100",
          "IPA"
         ],
         "type": "scatter",
         "x": [
          -9.765103091540468,
          0.8836806559529258,
          1.589113091253747,
          2.471912332386225,
          3.177344767687007,
          4.244421420598194,
          4.9498538558990735,
          5.459962071197701,
          8.957894660731132
         ],
         "y": [
          0.931164129364203,
          0.16594955358722174,
          0.1299224631398923,
          0.09118930364096578,
          0.0683186320679362,
          0.04347157613251906,
          0.02965160691192459,
          0.025486654793430263,
          0.014930232236564533
         ]
        },
        {
         "line": {
          "color": "#636EFA"
         },
         "mode": "lines",
         "showlegend": false,
         "text": [
          "",
          "full<br>vowels",
          ""
         ],
         "textposition": [
          "bottom left",
          "bottom left",
          "bottom left"
         ],
         "type": "scatter",
         "x": [
          6.399511575092063,
          5.889403359793546,
          5.183970924492758
         ],
         "y": [
          0.03285094362542118,
          0.03711484616306682,
          0.05103137885885156
         ]
        },
        {
         "line": {
          "color": "#636EFA"
         },
         "mode": "lines",
         "showlegend": false,
         "text": [
          "",
          "schwa<br>suppressed<br>vowels",
          ""
         ],
         "textposition": [
          "bottom left",
          "bottom left",
          "bottom left"
         ],
         "type": "scatter",
         "x": [
          5.459962071197701,
          4.9498538558990735,
          4.244421420598194
         ],
         "y": [
          0.025486654793430263,
          0.02965160691192459,
          0.04347157613251906
         ]
        },
        {
         "line": {
          "color": "#636EFA"
         },
         "mode": "lines",
         "showlegend": false,
         "text": [
          "",
          "short<br>suppressed<br>vowels",
          ""
         ],
         "textposition": [
          "bottom left",
          "bottom left",
          "bottom left"
         ],
         "type": "scatter",
         "x": [
          3.6874529829856275,
          3.177344767687007,
          2.471912332386225
         ],
         "y": [
          0.06115825262531338,
          0.0683186320679362,
          0.09118930364096578
         ]
        },
        {
         "line": {
          "color": "#636EFA"
         },
         "mode": "lines",
         "showlegend": false,
         "text": [
          "",
          "long<br>vowels",
          ""
         ],
         "textposition": [
          "bottom left",
          "bottom left",
          "bottom left"
         ],
         "type": "scatter",
         "x": [
          2.0992213065523746,
          1.589113091253747,
          0.8836806559529258
         ],
         "y": [
          0.11686952963055652,
          0.1299224631398923,
          0.16594955358722174
         ]
        },
        {
         "line": {
          "color": "#636EFA"
         },
         "mode": "lines",
         "showlegend": false,
         "text": [
          "",
          "lateral<br>vowels",
          ""
         ],
         "textposition": [
          "bottom left",
          "bottom left",
          "bottom left"
         ],
         "type": "scatter",
         "x": [
          2.8412774124203217,
          2.3311691971216,
          1.6257367618208018
         ],
         "y": [
          0.09893907275029679,
          0.11178819725982148,
          0.1440412259470797
         ]
        },
        {
         "line": {
          "color": "#636EFA"
         },
         "mode": "lines",
         "showlegend": false,
         "text": [
          "",
          "flattened<br>lateral<br>vowels",
          ""
         ],
         "textposition": [
          "bottom left",
          "bottom left",
          "bottom left"
         ],
         "type": "scatter",
         "x": [
          1.9628722362047064,
          1.4527640209060806,
          0.7473315856051528
         ],
         "y": [
          0.17558104462061896,
          0.1929383807408963,
          0.22864838598536974
         ]
        },
        {
         "line": {
          "color": "#636EFA"
         },
         "mode": "lines",
         "showlegend": false,
         "text": [
          "",
          "no<br>vowels",
          ""
         ],
         "textposition": [
          "bottom left",
          "bottom left",
          "bottom left"
         ],
         "type": "scatter",
         "x": [
          0.2649831566096683,
          -0.24512505868895573,
          -0.9505574939898569
         ],
         "y": [
          0.2326170214317772,
          0.25609698277538384,
          0.3054790895300489
         ]
        },
        {
         "line": {
          "color": "#636EFA"
         },
         "mode": "lines",
         "name": "Basic Systems",
         "type": "scatter",
         "x": [
          6.399511575092063,
          5.889403359793546,
          5.183970924492758
         ],
         "y": [
          0.03285094362542118,
          0.03711484616306682,
          0.05103137885885156
         ]
        },
        {
         "line": {
          "color": "#636EFA"
         },
         "mode": "markers+text",
         "name": "Shorthand Systems",
         "text": [
          "Spelling",
          "IPA",
          "Carter</br></br>Briefhand",
          "Dutton</br></br>Speedwords",
          "Gregg</br></br>Anniversary",
          "Gregg</br></br>Notehand",
          "Gregg</br></br>Simplified",
          "bref",
          "Yublin",
          "Cut Spelng",
          "Taylor",
          "Taylor+",
          "Characterie",
          "Teeline",
          "Keyscript",
          "Dearborn</br></br>Speedwriting",
          "QC-line",
          "Yash",
          "Jeake</br></br>Ph. Tr. 487",
          "Polyphonic</br></br>Cipher",
          "Pitman</br></br>2000",
          "Pitman 2000</br></br>(No Vowel)",
          "Superwrite",
          "Swiftograph</br></br>Curtailed",
          "Swiftograph</br></br>Full"
         ],
         "textposition": [
          "top center",
          "top center",
          "top center",
          "bottom center",
          "top center",
          "bottom left",
          "bottom center",
          "top center",
          "top center",
          "top center",
          "top center",
          "top center",
          "top center",
          "bottom center",
          "top right",
          "top center",
          "middle right",
          "bottom center",
          "top right",
          "top right",
          "bottom left",
          "top right",
          "top left",
          "top center",
          "middle right"
         ],
         "type": "scatter",
         "x": [
          9.032685167501281,
          8.957894660731132,
          -0.3404847284724646,
          0.5043864856355338,
          2.0157196431571123,
          3.3728810587563522,
          2.5752095048045787,
          1.7994265664138087,
          4.948696388815664,
          7.57562594835035,
          0.15749139398657874,
          0.722894506196381,
          4.7156301805954435,
          3.556719332211011,
          -1.0418072141740753,
          -0.2553155309816777,
          3.7459244643134006,
          0.4818343735785042,
          -1.3284811196546489,
          4.5354578197439,
          4.367288823841984,
          1.1197254169674045,
          1.070541564317419,
          3.1266400217544223,
          5.64367541984743
         ],
         "y": [
          0,
          0.014930232236564533,
          0.3048400643277738,
          0.11017558339765876,
          0.07505138574335446,
          0.033954582356027774,
          0.06600137338137413,
          0,
          0,
          0.005325956756667138,
          0.2218609124591735,
          0.1900756428174497,
          0.0662984787750377,
          0.054781492737337456,
          0.27275805499274164,
          0.18216280866243562,
          0.0647610299624436,
          0.18388474099533814,
          0.35139657535538305,
          0.023091815341297117,
          0.0188530058822729,
          0.12174817795441739,
          0.12144321942914205,
          0.10909772718267308,
          0.02466666732051115
         ]
        }
       ],
       "layout": {
        "height": 1024,
        "template": {
         "data": {
          "bar": [
           {
            "error_x": {
             "color": "#2a3f5f"
            },
            "error_y": {
             "color": "#2a3f5f"
            },
            "marker": {
             "line": {
              "color": "#E5ECF6",
              "width": 0.5
             },
             "pattern": {
              "fillmode": "overlay",
              "size": 10,
              "solidity": 0.2
             }
            },
            "type": "bar"
           }
          ],
          "barpolar": [
           {
            "marker": {
             "line": {
              "color": "#E5ECF6",
              "width": 0.5
             },
             "pattern": {
              "fillmode": "overlay",
              "size": 10,
              "solidity": 0.2
             }
            },
            "type": "barpolar"
           }
          ],
          "carpet": [
           {
            "aaxis": {
             "endlinecolor": "#2a3f5f",
             "gridcolor": "white",
             "linecolor": "white",
             "minorgridcolor": "white",
             "startlinecolor": "#2a3f5f"
            },
            "baxis": {
             "endlinecolor": "#2a3f5f",
             "gridcolor": "white",
             "linecolor": "white",
             "minorgridcolor": "white",
             "startlinecolor": "#2a3f5f"
            },
            "type": "carpet"
           }
          ],
          "choropleth": [
           {
            "colorbar": {
             "outlinewidth": 0,
             "ticks": ""
            },
            "type": "choropleth"
           }
          ],
          "contour": [
           {
            "colorbar": {
             "outlinewidth": 0,
             "ticks": ""
            },
            "colorscale": [
             [
              0,
              "#0d0887"
             ],
             [
              0.1111111111111111,
              "#46039f"
             ],
             [
              0.2222222222222222,
              "#7201a8"
             ],
             [
              0.3333333333333333,
              "#9c179e"
             ],
             [
              0.4444444444444444,
              "#bd3786"
             ],
             [
              0.5555555555555556,
              "#d8576b"
             ],
             [
              0.6666666666666666,
              "#ed7953"
             ],
             [
              0.7777777777777778,
              "#fb9f3a"
             ],
             [
              0.8888888888888888,
              "#fdca26"
             ],
             [
              1,
              "#f0f921"
             ]
            ],
            "type": "contour"
           }
          ],
          "contourcarpet": [
           {
            "colorbar": {
             "outlinewidth": 0,
             "ticks": ""
            },
            "type": "contourcarpet"
           }
          ],
          "heatmap": [
           {
            "colorbar": {
             "outlinewidth": 0,
             "ticks": ""
            },
            "colorscale": [
             [
              0,
              "#0d0887"
             ],
             [
              0.1111111111111111,
              "#46039f"
             ],
             [
              0.2222222222222222,
              "#7201a8"
             ],
             [
              0.3333333333333333,
              "#9c179e"
             ],
             [
              0.4444444444444444,
              "#bd3786"
             ],
             [
              0.5555555555555556,
              "#d8576b"
             ],
             [
              0.6666666666666666,
              "#ed7953"
             ],
             [
              0.7777777777777778,
              "#fb9f3a"
             ],
             [
              0.8888888888888888,
              "#fdca26"
             ],
             [
              1,
              "#f0f921"
             ]
            ],
            "type": "heatmap"
           }
          ],
          "histogram": [
           {
            "marker": {
             "pattern": {
              "fillmode": "overlay",
              "size": 10,
              "solidity": 0.2
             }
            },
            "type": "histogram"
           }
          ],
          "histogram2d": [
           {
            "colorbar": {
             "outlinewidth": 0,
             "ticks": ""
            },
            "colorscale": [
             [
              0,
              "#0d0887"
             ],
             [
              0.1111111111111111,
              "#46039f"
             ],
             [
              0.2222222222222222,
              "#7201a8"
             ],
             [
              0.3333333333333333,
              "#9c179e"
             ],
             [
              0.4444444444444444,
              "#bd3786"
             ],
             [
              0.5555555555555556,
              "#d8576b"
             ],
             [
              0.6666666666666666,
              "#ed7953"
             ],
             [
              0.7777777777777778,
              "#fb9f3a"
             ],
             [
              0.8888888888888888,
              "#fdca26"
             ],
             [
              1,
              "#f0f921"
             ]
            ],
            "type": "histogram2d"
           }
          ],
          "histogram2dcontour": [
           {
            "colorbar": {
             "outlinewidth": 0,
             "ticks": ""
            },
            "colorscale": [
             [
              0,
              "#0d0887"
             ],
             [
              0.1111111111111111,
              "#46039f"
             ],
             [
              0.2222222222222222,
              "#7201a8"
             ],
             [
              0.3333333333333333,
              "#9c179e"
             ],
             [
              0.4444444444444444,
              "#bd3786"
             ],
             [
              0.5555555555555556,
              "#d8576b"
             ],
             [
              0.6666666666666666,
              "#ed7953"
             ],
             [
              0.7777777777777778,
              "#fb9f3a"
             ],
             [
              0.8888888888888888,
              "#fdca26"
             ],
             [
              1,
              "#f0f921"
             ]
            ],
            "type": "histogram2dcontour"
           }
          ],
          "mesh3d": [
           {
            "colorbar": {
             "outlinewidth": 0,
             "ticks": ""
            },
            "type": "mesh3d"
           }
          ],
          "parcoords": [
           {
            "line": {
             "colorbar": {
              "outlinewidth": 0,
              "ticks": ""
             }
            },
            "type": "parcoords"
           }
          ],
          "pie": [
           {
            "automargin": true,
            "type": "pie"
           }
          ],
          "scatter": [
           {
            "fillpattern": {
             "fillmode": "overlay",
             "size": 10,
             "solidity": 0.2
            },
            "type": "scatter"
           }
          ],
          "scatter3d": [
           {
            "line": {
             "colorbar": {
              "outlinewidth": 0,
              "ticks": ""
             }
            },
            "marker": {
             "colorbar": {
              "outlinewidth": 0,
              "ticks": ""
             }
            },
            "type": "scatter3d"
           }
          ],
          "scattercarpet": [
           {
            "marker": {
             "colorbar": {
              "outlinewidth": 0,
              "ticks": ""
             }
            },
            "type": "scattercarpet"
           }
          ],
          "scattergeo": [
           {
            "marker": {
             "colorbar": {
              "outlinewidth": 0,
              "ticks": ""
             }
            },
            "type": "scattergeo"
           }
          ],
          "scattergl": [
           {
            "marker": {
             "colorbar": {
              "outlinewidth": 0,
              "ticks": ""
             }
            },
            "type": "scattergl"
           }
          ],
          "scattermap": [
           {
            "marker": {
             "colorbar": {
              "outlinewidth": 0,
              "ticks": ""
             }
            },
            "type": "scattermap"
           }
          ],
          "scattermapbox": [
           {
            "marker": {
             "colorbar": {
              "outlinewidth": 0,
              "ticks": ""
             }
            },
            "type": "scattermapbox"
           }
          ],
          "scatterpolar": [
           {
            "marker": {
             "colorbar": {
              "outlinewidth": 0,
              "ticks": ""
             }
            },
            "type": "scatterpolar"
           }
          ],
          "scatterpolargl": [
           {
            "marker": {
             "colorbar": {
              "outlinewidth": 0,
              "ticks": ""
             }
            },
            "type": "scatterpolargl"
           }
          ],
          "scatterternary": [
           {
            "marker": {
             "colorbar": {
              "outlinewidth": 0,
              "ticks": ""
             }
            },
            "type": "scatterternary"
           }
          ],
          "surface": [
           {
            "colorbar": {
             "outlinewidth": 0,
             "ticks": ""
            },
            "colorscale": [
             [
              0,
              "#0d0887"
             ],
             [
              0.1111111111111111,
              "#46039f"
             ],
             [
              0.2222222222222222,
              "#7201a8"
             ],
             [
              0.3333333333333333,
              "#9c179e"
             ],
             [
              0.4444444444444444,
              "#bd3786"
             ],
             [
              0.5555555555555556,
              "#d8576b"
             ],
             [
              0.6666666666666666,
              "#ed7953"
             ],
             [
              0.7777777777777778,
              "#fb9f3a"
             ],
             [
              0.8888888888888888,
              "#fdca26"
             ],
             [
              1,
              "#f0f921"
             ]
            ],
            "type": "surface"
           }
          ],
          "table": [
           {
            "cells": {
             "fill": {
              "color": "#EBF0F8"
             },
             "line": {
              "color": "white"
             }
            },
            "header": {
             "fill": {
              "color": "#C8D4E3"
             },
             "line": {
              "color": "white"
             }
            },
            "type": "table"
           }
          ]
         },
         "layout": {
          "annotationdefaults": {
           "arrowcolor": "#2a3f5f",
           "arrowhead": 0,
           "arrowwidth": 1
          },
          "autotypenumbers": "strict",
          "coloraxis": {
           "colorbar": {
            "outlinewidth": 0,
            "ticks": ""
           }
          },
          "colorscale": {
           "diverging": [
            [
             0,
             "#8e0152"
            ],
            [
             0.1,
             "#c51b7d"
            ],
            [
             0.2,
             "#de77ae"
            ],
            [
             0.3,
             "#f1b6da"
            ],
            [
             0.4,
             "#fde0ef"
            ],
            [
             0.5,
             "#f7f7f7"
            ],
            [
             0.6,
             "#e6f5d0"
            ],
            [
             0.7,
             "#b8e186"
            ],
            [
             0.8,
             "#7fbc41"
            ],
            [
             0.9,
             "#4d9221"
            ],
            [
             1,
             "#276419"
            ]
           ],
           "sequential": [
            [
             0,
             "#0d0887"
            ],
            [
             0.1111111111111111,
             "#46039f"
            ],
            [
             0.2222222222222222,
             "#7201a8"
            ],
            [
             0.3333333333333333,
             "#9c179e"
            ],
            [
             0.4444444444444444,
             "#bd3786"
            ],
            [
             0.5555555555555556,
             "#d8576b"
            ],
            [
             0.6666666666666666,
             "#ed7953"
            ],
            [
             0.7777777777777778,
             "#fb9f3a"
            ],
            [
             0.8888888888888888,
             "#fdca26"
            ],
            [
             1,
             "#f0f921"
            ]
           ],
           "sequentialminus": [
            [
             0,
             "#0d0887"
            ],
            [
             0.1111111111111111,
             "#46039f"
            ],
            [
             0.2222222222222222,
             "#7201a8"
            ],
            [
             0.3333333333333333,
             "#9c179e"
            ],
            [
             0.4444444444444444,
             "#bd3786"
            ],
            [
             0.5555555555555556,
             "#d8576b"
            ],
            [
             0.6666666666666666,
             "#ed7953"
            ],
            [
             0.7777777777777778,
             "#fb9f3a"
            ],
            [
             0.8888888888888888,
             "#fdca26"
            ],
            [
             1,
             "#f0f921"
            ]
           ]
          },
          "colorway": [
           "#636efa",
           "#EF553B",
           "#00cc96",
           "#ab63fa",
           "#FFA15A",
           "#19d3f3",
           "#FF6692",
           "#B6E880",
           "#FF97FF",
           "#FECB52"
          ],
          "font": {
           "color": "#2a3f5f"
          },
          "geo": {
           "bgcolor": "white",
           "lakecolor": "white",
           "landcolor": "#E5ECF6",
           "showlakes": true,
           "showland": true,
           "subunitcolor": "white"
          },
          "hoverlabel": {
           "align": "left"
          },
          "hovermode": "closest",
          "mapbox": {
           "style": "light"
          },
          "paper_bgcolor": "white",
          "plot_bgcolor": "#E5ECF6",
          "polar": {
           "angularaxis": {
            "gridcolor": "white",
            "linecolor": "white",
            "ticks": ""
           },
           "bgcolor": "#E5ECF6",
           "radialaxis": {
            "gridcolor": "white",
            "linecolor": "white",
            "ticks": ""
           }
          },
          "scene": {
           "xaxis": {
            "backgroundcolor": "#E5ECF6",
            "gridcolor": "white",
            "gridwidth": 2,
            "linecolor": "white",
            "showbackground": true,
            "ticks": "",
            "zerolinecolor": "white"
           },
           "yaxis": {
            "backgroundcolor": "#E5ECF6",
            "gridcolor": "white",
            "gridwidth": 2,
            "linecolor": "white",
            "showbackground": true,
            "ticks": "",
            "zerolinecolor": "white"
           },
           "zaxis": {
            "backgroundcolor": "#E5ECF6",
            "gridcolor": "white",
            "gridwidth": 2,
            "linecolor": "white",
            "showbackground": true,
            "ticks": "",
            "zerolinecolor": "white"
           }
          },
          "shapedefaults": {
           "line": {
            "color": "#2a3f5f"
           }
          },
          "ternary": {
           "aaxis": {
            "gridcolor": "white",
            "linecolor": "white",
            "ticks": ""
           },
           "baxis": {
            "gridcolor": "white",
            "linecolor": "white",
            "ticks": ""
           },
           "bgcolor": "#E5ECF6",
           "caxis": {
            "gridcolor": "white",
            "linecolor": "white",
            "ticks": ""
           }
          },
          "title": {
           "x": 0.05
          },
          "xaxis": {
           "automargin": true,
           "gridcolor": "white",
           "linecolor": "white",
           "ticks": "",
           "title": {
            "standoff": 15
           },
           "zerolinecolor": "white",
           "zerolinewidth": 2
          },
          "yaxis": {
           "automargin": true,
           "gridcolor": "white",
           "linecolor": "white",
           "ticks": "",
           "title": {
            "standoff": 15
           },
           "zerolinecolor": "white",
           "zerolinewidth": 2
          }
         }
        },
        "width": 1280,
        "xaxis": {
         "range": [
          -1.5,
          10
         ],
         "title": {
          "text": "Average Outline Complexity Overhead (bits)"
         }
        },
        "yaxis": {
         "range": [
          -0.01,
          0.4
         ],
         "title": {
          "text": "Reconstruction Error (probability)"
         }
        }
       }
      }
     },
     "metadata": {},
     "output_type": "display_data"
    }
   ],
   "source": [
    "fig = go.Figure()\n",
    "\n",
    "fig.add_trace(go.Scatter(x=np.linspace(-1.5,10,24), y=[max(0,-x/4) for x in np.linspace(-1.5,10,24)], mode='none', fill='tozeroy', name = \"Excluded Region\", fillcolor='#EF553B'))\n",
    "fig.add_trace(go.Scatter(x=np.linspace(-1.5,10,24), y=[-1 for x in np.linspace(-1.5,10,24)], mode='none', fill='tozeroy', showlegend=False, fillcolor='#EF553B'))\n",
    "fig.add_trace(go.Scatter(x=np.linspace(-1.5,10,24), y=[0 for x in np.linspace(-1.5,10,24)], mode='lines', fill='none', showlegend=False,line=dict(color='#EF553B')))\n",
    "\n",
    "\n",
    "fig.add_trace(go.Scatter(x=[p.x for p in result],\n",
    "                        y=[p.y for p in result],\n",
    "                        text=[p.metadata for p in result],\n",
    "                        mode='lines', line=dict(color='#AAAAAA'), showlegend=False))\n",
    "\n",
    "for i in range(0,len(scores),3):\n",
    "    fig.add_trace(go.Scatter(x=[x[1]['mean_transmission_shift'] for x in scores[i:i+3]],\n",
    "                         y=[x[1]['reconstruction_error'] for x in scores[i:i+3]],\n",
    "                         text=['',list(short_vowel_names)[i//3].replace(' ','<br>'),''], textposition=['bottom left' for x in scores[i:i+3]],\n",
    "                         mode='lines', line=dict(color='#636EFA'), showlegend=False))\n",
    "    \n",
    "fig.add_trace(go.Scatter(x=[x[1]['mean_transmission_shift'] for x in scores[:3]],\n",
    "                         y=[x[1]['reconstruction_error'] for x in scores[:3]],\n",
    "                         mode='lines', line=dict(color='#636EFA'), name = \"Basic Systems\"))\n",
    "\n",
    "    \n",
    "fig.add_trace(go.Scatter(x=[x[1]['mean_transmission_shift'] for x in comparison_data],\n",
    "                         y=[x[1]['reconstruction_error'] for x in comparison_data],\n",
    "                         text=[x[0] for x in comparison_data], textposition=[x[2] for x in comparison_data],\n",
    "                         mode='markers+text', name=\"Shorthand Systems\", line=dict(color='#636EFA')))\n",
    "\n",
    "fig.update_layout(width=1280, height=1024, xaxis_range=[-1.5, 10], yaxis_range=[-0.01, 0.4],\n",
    "                  xaxis_title=\"Average Outline Complexity Overhead (bits)\",\n",
    "                  yaxis_title=\"Reconstruction Error (probability)\")\n",
    "fig.show()"
   ]
  },
  {
   "cell_type": "code",
   "execution_count": 27,
   "id": "2d13cf49",
   "metadata": {},
   "outputs": [
    {
     "data": {
      "text/plain": [
       "[Point(x=-9.765103091540468, y=0.931164129364203, metadata='Null'),\n",
       " Point(x=0.8836806559529258, y=0.16594955358722174, metadata='MC,LoV,100'),\n",
       " Point(x=1.589113091253747, y=0.1299224631398923, metadata='FPMF,LoV,100'),\n",
       " Point(x=2.471912332386225, y=0.09118930364096578, metadata='MC,ShSV,100'),\n",
       " Point(x=3.177344767687007, y=0.0683186320679362, metadata='FPMF,ShSV,100'),\n",
       " Point(x=4.244421420598194, y=0.04347157613251906, metadata='MC,SSV,100'),\n",
       " Point(x=4.9498538558990735, y=0.02965160691192459, metadata='FPMF,SSV,100'),\n",
       " Point(x=5.459962071197701, y=0.025486654793430263, metadata='FC,SSV,100'),\n",
       " Point(x=8.957894660731132, y=0.014930232236564533, metadata='IPA')]"
      ]
     },
     "execution_count": 27,
     "metadata": {},
     "output_type": "execute_result"
    }
   ],
   "source": [
    "result"
   ]
  },
  {
   "cell_type": "code",
   "execution_count": 28,
   "id": "0d8e3d47",
   "metadata": {},
   "outputs": [
    {
     "name": "stdout",
     "output_type": "stream",
     "text": [
      "{'mean_binary_length': 11.878537616304925, 'mean_binary_excess': 5.3809163976162075, 'mean_entropy_shift': 2.1134345247644575, 'mean_transmission_cost': 10.648783747493393, 'mean_transmission_excess': 4.151162528804676, 'mean_transmission_shift': 0.8836806559529258, 'reconstruction_entropy': 0.6555904136126467, 'reconstruction_error': 0.16594955358722174, 'alphabet': 't s n r e k f l p θ m w i a h ʃ o C ŋ u y'}\n",
      "only -> onle -> onl\n",
      "between -> petwen -> petw\n",
      "information -> nfrmaʃn -> nfrma\n",
      "number -> nmpr -> nmp\n",
      "example -> ksmpl -> ksmp\n",
      "children -> Cltrn -> Cltr\n",
      "university -> unfrste -> unfrst\n",
      "always -> lwes -> lwe\n",
      "figure -> fkyr -> fky\n",
      "family -> fmle -> fml\n",
      "development -> tflpmnt -> tflpm\n",
      "himself -> hmslf -> hmsl\n",
      "government -> kfrmnt -> kfrm\n",
      "together -> tkθr -> tkθ\n",
      "international -> nrnʃnl -> nrnʃ\n",
      "section -> skʃn -> skʃ\n",
      "anything -> neθŋ -> neθ\n",
      "either -> eθr -> eθ\n",
      "behind -> phint -> phi\n",
      "education -> Ckaʃn -> Cka\n",
      "management -> mnCmnt -> mnCm\n",
      "nature -> naCr -> naC\n",
      "society -> ssite -> ssi\n",
      "particular -> prtkylr -> prtky\n",
      "individual -> ntfCwl -> ntfC\n",
      "community -> kmunte -> kmu\n",
      "provide -> prfit -> prfi\n",
      "specific -> spsfk -> spsf\n",
      "english -> ŋlʃ -> ŋl\n",
      "everything -> freθŋ -> freθ\n",
      "perhaps -> prhps -> prhp\n",
      "became -> pekam -> peka\n",
      "function -> fŋkʃn -> fŋkʃ\n",
      "someone -> smwn -> smw\n",
      "position -> psʃn -> psʃ\n",
      "especially -> spʃle -> spʃ\n",
      "understand -> ntrstnt -> ntrstn\n",
      "themselves -> θmslfs -> θmsl\n",
      "treatment -> tretmnt -> tretm\n",
      "outside -> tsit -> tsi\n",
      "inside -> nsit -> nsi\n",
      "relationship -> relaʃnʃp -> relaʃ\n",
      "conditions -> kntʃns -> kntʃ\n",
      "sometimes -> smtims -> smti\n",
      "required -> rekwirt -> rekw\n",
      "questions -> kwsCns -> kwsC\n",
      "effects -> efkts -> efk\n",
      "structure -> strkCr -> strkC\n",
      "performance -> prfrmns -> prfrmn\n",
      "likely -> likle -> likl\n",
      "production -> prtkʃn -> prtkʃ\n",
      "response -> respns -> resp\n",
      "necessary -> nssre -> nssr\n",
      "security -> skyrte -> sky\n",
      "associated -> soseatt -> sosea\n",
      "activity -> ktfte -> ktft\n",
      "potential -> ptnʃl -> ptnʃ\n",
      "decision -> tsʃn -> tsʃ\n",
      "significant -> sknfknt -> sknfk\n",
      "financial -> fnnʃl -> fnnʃ\n",
      "remember -> remmpr -> remm\n",
      "situation -> sCaʃn -> sCa\n",
      "private -> prift -> prif\n",
      "population -> ppylaʃn -> ppy\n",
      "difficult -> tfklt -> tfkl\n",
      "everyone -> frewn -> frew\n",
      "technology -> tknlCe -> tknl\n",
      "movement -> mfmnt -> mfm\n",
      "department -> tprtmnt -> tprtm\n",
      "environment -> nfirnmnt -> nfi\n",
      "particularly -> prtkylrle -> prtkyl\n",
      "forward -> frwrt -> frw\n",
      "create -> kreat -> krea\n",
      "application -> plkaʃn -> plka\n",
      "organization -> rknsaʃn -> rknsa\n",
      "behavior -> phafyr -> pha\n",
      "effective -> efktf -> efkt\n",
      "complex -> kmplks -> kmplk\n",
      "influence -> nflns -> nfln\n",
      "expression -> ksprʃn -> ksprʃ\n",
      "individuals -> ntfCwls -> ntfCw\n",
      "anyone -> newn -> new\n",
      "expected -> kspktt -> kspk\n",
      "respect -> respkt -> respk\n",
      "religious -> relCs -> relC\n",
      "network -> ntwrk -> ntw\n",
      "directly -> trktle -> trktl\n",
      "appropriate -> propret -> propr\n",
      "despite -> tspit -> tsp\n",
      "communication -> kmunkaʃn -> kmunk\n",
      "yourself -> yrslf -> yrsl\n",
      "species -> speʃes -> speʃe\n",
      "distribution -> tstrpuʃn -> tstrpu\n",
      "immediately -> metetle -> metetl\n",
      "industry -> ntstre -> ntstr\n",
      "temperature -> tmprCr -> tmprC\n",
      "discussion -> tskʃn -> tskʃ\n",
      "environmental -> nfirnmnl -> nfir\n",
      "association -> soseaʃn -> soseaʃ\n",
      "union -> unyn -> uny\n",
      "identity -> itntte -> itntt\n",
      "scale -> skal -> ska\n",
      "multiple -> mltpl -> mltp\n",
      "certainly -> srtnle -> srtnl\n",
      "previous -> prefes -> prefe\n",
      "beautiful -> putfl -> putf\n",
      "traditional -> trtʃnl -> trtʃ\n",
      "explain -> ksplan -> kspla\n",
      "statement -> statmnt -> statm\n",
      "exactly -> ksktle -> ksktl\n",
      "slowly -> slole -> slol\n",
      "completely -> kmpletle -> kmpletl\n",
      "strategy -> strtCe -> strtC\n",
      "professional -> prfʃnl -> prfʃ\n",
      "introduction -> ntrtkʃn -> ntrtkʃ\n",
      "requirements -> rkwirmnts -> rkwi\n",
      "failure -> falyr -> faly\n",
      "agreement -> kremnt -> kremn\n",
      "economy -> eknme -> eknm\n",
      "independent -> ntpntnt -> ntpn\n",
      "chinese -> Cines -> Cine\n",
      "relationships -> relaʃnʃps -> relaʃnʃ\n",
      "require -> rekwir -> rekwi\n",
      "investment -> nfsmnt -> nfsm\n",
      "construction -> knstrkʃn -> knstrk\n",
      "hospital -> hsptl -> hspt\n",
      "equal -> ekwl -> ekw\n",
      "popular -> ppylr -> ppyl\n",
      "female -> femal -> fema\n",
      "remain -> reman -> rema\n",
      "exercise -> ksrsis -> ksrsi\n",
      "exchange -> ksCanC -> ksCa\n",
      "otherwise -> θrwis -> θrw\n",
      "nation -> naʃn -> naʃ\n",
      "principles -> prnspls -> prnsp\n",
      "administration -> tmnstraʃn -> tmnst\n",
      "perspective -> prspktf -> prspk\n",
      "operation -> praʃn -> praʃ\n",
      "agency -> aCnse -> aCn\n",
      "conflict -> knflkt -> knflk\n",
      "identified -> itntfit -> itntf\n",
      "relevant -> rlfnt -> rlfn\n",
      "organizations -> rknsaʃns -> rknsaʃ\n",
      "institutions -> nsttʃns -> nsttʃ\n",
      "definition -> tfnʃn -> tfnʃ\n",
      "library -> liprre -> lipr\n",
      "january -> Cnure -> Cnu\n",
      "september -> sptmpr -> sptm\n",
      "reaction -> rekʃn -> rekʃ\n",
      "shoulder -> ʃoltr -> ʃolt\n",
      "existence -> ksstns -> ksstn\n",
      "essential -> snʃl -> snʃ\n",
      "collection -> klkʃn -> klkʃ\n",
      "online -> nlin -> nli\n",
      "applications -> plkaʃns -> plkaʃ\n",
      "december -> tsmpr -> tsmp\n",
      "characteristics -> krktrstks -> krktrst\n",
      "scientific -> sintfk -> sintf\n",
      "evaluation -> efluaʃn -> eflu\n",
      "argument -> rkymnt -> rky\n",
      "october -> ktopr -> ktop\n",
      "location -> lokaʃn -> loka\n",
      "responsibility -> respnsplte -> respnsp\n",
      "circumstances -> srkmstnss -> srkms\n",
      "relatively -> rltfle -> rltfl\n",
      "transfer -> trnsfr -> trnsf\n",
      "equation -> kwaʃn -> kwaʃ\n",
      "resistance -> resstns -> resstn\n",
      "conversation -> knfrsaʃn -> knfrsa\n",
      "eventually -> efnʃle -> efnʃ\n",
      "leadership -> letrʃp -> letrʃ\n",
      "details -> tetals -> teta\n",
      "connection -> knkʃn -> knkʃ\n",
      "communities -> kmuntes -> kmunt\n",
      "generation -> Cnraʃn -> Cnra\n",
      "ancient -> anʃnt -> anʃ\n",
      "frequency -> frekwnse -> frekw\n",
      "framework -> framwrk -> framw\n",
      "formation -> frmaʃn -> frma\n",
      "description -> tskrpʃn -> tskrp\n",
      "components -> kmponnts -> kmponn\n",
      "slightly -> slitle -> slitl\n",
      "equipment -> kwpmnt -> kwpm\n",
      "recently -> resnle -> resnl\n",
      "copyright -> kperit -> kperi\n",
      "philosophy -> flsfe -> flsf\n",
      "november -> nofmpr -> nofmp\n",
      "conference -> knfrns -> knfrn\n",
      "procedure -> prseCr -> prseC\n",
      "majority -> mCrte -> mCrt\n",
      "prevent -> prefnt -> prefn\n",
      "client -> klint -> kli\n",
      "impossible -> mpspl -> mpsp\n",
      "employment -> mplmnt -> mplmn\n",
      "station -> staʃn -> staʃ\n",
      "annual -> nul -> nu\n",
      "variable -> frepl -> frep\n",
      "possibility -> psplte -> psplt\n",
      "practical -> prktkl -> prktk\n",
      "creation -> kreaʃn -> kreaʃ\n",
      "interaction -> nrkʃn -> nrkʃ\n",
      "moreover -> mrofr -> mrof\n",
      "commercial -> kmrʃl -> kmrʃ\n",
      "educational -> Ckaʃnl -> Ckaʃ\n",
      "psychology -> siklCe -> siklC\n",
      "frequently -> frekwntle -> frekwn\n",
      "background -> pkkrnt -> pkkr\n",
      "interpretation -> ntrprtaʃn -> ntrprta\n",
      "february -> fprre -> fprr\n",
      "contemporary -> kntmprre -> kntmpr\n",
      "california -> klfrny -> klfrn\n",
      "regular -> rkylr -> rkyl\n",
      "maintain -> mantan -> manta\n",
      "reduction -> rtkʃn -> rtkʃ\n",
      "secretary -> skrtre -> skrtr\n",
      "familiar -> fmlyr -> fmly\n",
      "kingdom -> kŋtm -> kŋt\n",
      "ratio -> raʃeo -> raʃ\n",
      "visual -> fʃwl -> fʃw\n",
      "participants -> prtspnts -> prtsp\n",
      "insurance -> nʃrns -> nʃrn\n",
      "entirely -> ntirle -> ntirl\n",
      "interview -> ntrfu -> ntrf\n",
      "sufficient -> sfʃnt -> sfʃ\n",
      "previously -> prefesle -> prefesl\n",
      "recognized -> rkknist -> rkk\n",
      "combination -> kmpnaʃn -> kmpna\n",
      "intelligence -> ntlCns -> ntlCn\n",
      "concentration -> knsntraʃn -> knsntr\n",
      "regulation -> rkylaʃn -> rkyla\n",
      "symptoms -> smptms -> smpt\n",
      "foundation -> fntaʃn -> fnta\n",
      "soldiers -> solCrs -> solC\n",
      "consequences -> knskwnss -> knskw\n",
      "district -> tstrkt -> tstrk\n",
      "dependent -> tpntnt -> tpntn\n",
      "conclusion -> knklʃn -> knklʃ\n",
      "psychological -> siklCkl -> siklCk\n",
      "specifically -> spsfkle -> spsfkl\n",
      "recognition -> rkknʃn -> rkkn\n",
      "significantly -> sknfkntle -> sknfkn\n",
      "judgment -> CCmnt -> CCm\n",
      "discovered -> tskfrt -> tskf\n",
      "representation -> rprsntaʃn -> rprsnta\n",
      "document -> tkymnt -> tky\n",
      "revolution -> rflʃn -> rflʃ\n",
      "confidence -> knftns -> knft\n",
      "transport -> trnsprt -> trnsp\n",
      "assistance -> sstns -> sstn\n",
      "sequence -> sekwns -> sekw\n",
      "situations -> sCaʃns -> sCaʃ\n",
      "respectively -> rspktfle -> rspkt\n",
      "implementation -> mplmntaʃn -> mplmnta\n",
      "experimental -> ksprmntl -> ksprmn\n",
      "subsequent -> spskwnt -> spskw\n",
      "nevertheless -> nfrθls -> nfrθ\n",
      "combined -> kmpint -> kmpi\n",
      "explanation -> ksplnaʃn -> ksplna\n",
      "behaviour -> phafyr -> phafy\n",
      "competition -> kmptʃn -> kmptʃ\n",
      "increasingly -> nkresŋle -> nkresŋl\n",
      "obviously -> pfesle -> pfesl\n",
      "resolution -> rslʃn -> rslʃ\n",
      "largely -> lrCle -> lrCl\n",
      "exposure -> kspoʃr -> kspoʃ\n",
      "notion -> noʃn -> noʃ\n",
      "matrix -> matrks -> matrk\n",
      "transition -> trnsʃn -> trnsʃ\n",
      "remembered -> remmprt -> remmp\n",
      "indicate -> ntkat -> ntka\n",
      "participation -> prtspaʃn -> prtspa\n",
      "pure -> pyr -> py\n",
      "movements -> mfmnts -> mfmn\n",
      "extremely -> kstremle -> kstreml\n",
      "documents -> tkymnts -> tkymn\n",
      "permission -> prmʃn -> prmʃ\n",
      "similarly -> smlrle -> smlrl\n",
      "closely -> klosle -> klosl\n",
      "consumption -> knsmʃn -> knsmʃ\n",
      "probability -> prpplte -> prpp\n",
      "strategic -> strteCk -> strteC\n",
      "consistent -> knsstnt -> knsstn\n",
      "dynamic -> tinmk -> tinm\n",
      "democratic -> tmkrtk -> tmkr\n",
      "consciousness -> knʃsns -> knʃsn\n",
      "television -> tlfʃn -> tlfʃ\n",
      "empire -> mpir -> mpi\n",
      "investigation -> nfstkaʃn -> nfstk\n",
      "intervention -> ntrfnʃn -> ntrfnʃ\n",
      "domain -> toman -> toma\n",
      "statements -> statmnts -> statmn\n",
      "approximately -> prksmtle -> prksmtl\n",
      "mainly -> manle -> manl\n",
      "identification -> itntfkaʃn -> itntfk\n",
      "examination -> ksmnaʃn -> ksmna\n",
      "diagnosis -> tiknoss -> tikno\n",
      "dangerous -> tanCrs -> tanC\n",
      "campaign -> kmpan -> kmpa\n",
      "reasonable -> resnpl -> resnp\n",
      "primarily -> primrle -> primrl\n",
      "recognize -> rkknis -> rkkni\n",
      "necessarily -> nssrle -> nssrl\n",
      "integration -> nkraʃn -> nkra\n",
      "infection -> nfkʃn -> nfkʃ\n",
      "theoretical -> θertkl -> θert\n",
      "intellectual -> nlkCl -> nlkC\n",
      "australia -> straly -> stral\n",
      "consideration -> knstraʃn -> knstra\n",
      "category -> ktkre -> ktkr\n",
      "regulations -> rkylaʃns -> rkylaʃ\n",
      "furthermore -> frθrmr -> frθrm\n",
      "commonly -> kmnle -> kmnl\n",
      "revealed -> refelt -> refe\n",
      "improvement -> mprfmnt -> mprfm\n",
      "publication -> pplkaʃn -> pplka\n",
      "executive -> kskytf -> ksky\n",
      "democracy -> tmkrse -> tmkrs\n",
      "emotions -> emoʃns -> emoʃ\n",
      "capable -> kappl -> kapp\n",
      "twice -> twis -> twi\n",
      "anxiety -> ŋsite -> ŋs\n",
      "reflect -> rflkt -> rflk\n",
      "liquid -> lkwt -> lkw\n",
      "personality -> prsnlte -> prsnlt\n",
      "considerable -> knstrpl -> knstrp\n",
      "transformation -> trnsfrmaʃn -> trnsfrma\n",
      "biological -> pilCkl -> pilC\n",
      "visible -> fspl -> fsp\n",
      "distinct -> tstŋkt -> tstŋk\n",
      "constitution -> knsttʃn -> knstt\n",
      "estimated -> stmatt -> stma\n",
      "republic -> repplk -> reppl\n",
      "measurement -> mʃrmnt -> mʃrmn\n",
      "depression -> tprʃn -> tprʃ\n",
      "determination -> ttrmnaʃn -> ttrmna\n",
      "implications -> mplkaʃns -> mplk\n",
      "ultimately -> ltmtle -> ltmtl\n",
      "convention -> knfnʃn -> knfnʃ\n",
      "demonstrated -> tmnstratt -> tmnstra\n",
      "childhood -> Ciltht -> Cilth\n",
      "alcohol -> lkhl -> lkh\n",
      "agencies -> aCnses -> aCns\n",
      "stability -> stplte -> stplt\n",
      "translation -> trnslaʃn -> trnsl\n",
      "effectively -> efktfle -> efktfl\n",
      "equivalent -> kwflnt -> kwfl\n",
      "emergency -> emrCnse -> emrCn\n",
      "corporation -> krpraʃn -> krpra\n",
      "innovation -> nfaʃn -> nfa\n",
      "organized -> rknist -> rkni\n",
      "concrete -> knkret -> knkre\n",
      "governments -> kfrmnts -> kfrmn\n",
      "composition -> kmpsʃn -> kmpsʃ\n",
      "observation -> psrfaʃn -> psrfa\n",
      "statistics -> sttstks -> sttst\n",
      "commitment -> kmtmnt -> kmtm\n",
      "contribution -> kntrpuʃn -> kntrp\n",
      "strongly -> strŋle -> strŋl\n",
      "senior -> senyr -> seny\n",
      "algorithm -> lkrθm -> lkrθ\n",
      "maintenance -> mantnns -> mantn\n",
      "agricultural -> krklCrl -> krklC\n",
      "molecular -> mlkylr -> mlky\n",
      "substance -> spstns -> spstn\n",
      "properly -> prprle -> prprl\n",
      "survival -> srfifl -> srfi\n",
      "independence -> ntpntns -> ntpntn\n",
      "arguments -> rkymnts -> rkym\n",
      "preparation -> prpraʃn -> prpra\n",
      "calculated -> klkylatt -> klky\n",
      "architecture -> rktkCr -> rktkC\n",
      "perfectly -> prfkle -> prfkl\n",
      "variation -> freaʃn -> freaʃ\n",
      "expansion -> kspnʃn -> kspn\n",
      "intensity -> ntnste -> ntnst\n",
      "observations -> psrfaʃns -> psrfaʃ\n",
      "governance -> kfrnns -> kfrnn\n",
      "comfortable -> kmfrtpl -> kmf\n",
      "nobody -> nopte -> nopt\n",
      "household -> hsholt -> hsh\n",
      "distinction -> tstŋkʃn -> tstŋkʃ\n",
      "classification -> klsfkaʃn -> klsfk\n",
      "database -> ttpas -> ttp\n",
      "expectations -> kspktaʃns -> kspkta\n",
      "substantial -> spstnʃl -> spstnʃ\n",
      "yield -> yelt -> yel\n",
      "feedback -> fetpk -> fetp\n",
      "involvement -> nflfmnt -> nflfm\n",
      "permanent -> prmnnt -> prmnn\n",
      "reflection -> rflkʃn -> rflkʃ\n",
      "engagement -> nkaCmnt -> nkaCm\n",
      "seriously -> sresle -> sresl\n",
      "quietly -> kwitle -> kwitl\n",
      "legislation -> lCslaʃn -> lCsl\n",
      "contribute -> kntrput -> kntrpu\n",
      "cooperation -> kwpraʃn -> kwpr\n",
      "website -> wpsit -> wpsi\n",
      "dominant -> tmnnt -> tmnn\n",
      "happiness -> hpens -> hpen\n",
      "presentation -> prsntaʃn -> prsnta\n",
      "guidelines -> kitlins -> kitli\n",
      "profile -> profil -> prof\n",
      "comprehensive -> kmprehnsf -> kmpreh\n",
      "formula -> frmyl -> frmy\n",
      "precisely -> presisle -> presi\n",
      "landscape -> lnskap -> lnsk\n",
      "extension -> kstnʃn -> kstnʃ\n",
      "breakfast -> prkfst -> prkfs\n",
      "absolutely -> psltle -> psltl\n",
      "valuable -> flypl -> flyp\n",
      "characterized -> krktrist -> krktri\n",
      "communications -> kmunkaʃns -> kmunkaʃ\n",
      "detection -> ttkʃn -> ttkʃ\n",
      "prevention -> prefnʃn -> prefnʃ\n",
      "spatial -> spaʃl -> spaʃ\n",
      "mixture -> mksCr -> mksC\n",
      "instructions -> nstrkʃns -> nstrk\n",
      "contrary -> kntrre -> kntrr\n",
      "consequence -> knskwns -> knskwn\n",
      "unfortunately -> nfrCntle -> nfrCn\n",
      "distributed -> tstrpytt -> tstrpy\n",
      "requirement -> rkwirmnt -> rkwir\n",
      "transmission -> trnsmʃn -> trnsmʃ\n",
      "elsewhere -> lswr -> lsw\n",
      "imagination -> mCnaʃn -> mCna\n",
      "exception -> kspʃn -> kspʃ\n",
      "radiation -> rateaʃn -> ratea\n",
      "ireland -> irlnt -> irln\n",
      "satisfaction -> stsfkʃn -> stsf\n",
      "instruments -> nstrmnts -> nstrmn\n",
      "establishment -> stplʃmnt -> stplʃm\n",
      "complexity -> kmplkste -> kmplkst\n",
      "consequently -> knskwntle -> knskwntl\n",
      "manufacturing -> mnyfkCrŋ -> mny\n",
      "separation -> spraʃn -> spraʃ\n",
      "helpful -> hlpfl -> hlpf\n",
      "assumption -> smpʃn -> smpʃ\n",
      "membrane -> mmpran -> mmpra\n",
      "intention -> ntnCn -> ntnC\n",
      "decline -> tklin -> tkli\n",
      "destruction -> tstrkʃn -> tstrkʃ\n",
      "effectiveness -> efktfns -> efktfn\n",
      "populations -> ppylaʃns -> ppyla\n",
      "applicable -> plkpl -> plkp\n",
      "hypothesis -> hipθss -> hipθ\n",
      "migration -> mikraʃn -> mikr\n",
      "instruction -> nstrkʃn -> nstrkʃ\n",
      "chamber -> Campr -> Cam\n",
      "regulatory -> rkyltre -> rkylt\n",
      "settlement -> stlmnt -> stlm\n",
      "interface -> nrfas -> nrfa\n",
      "strike -> strik -> stri\n",
      "contributions -> kntrpuʃns -> kntrpuʃ\n",
      "enforcement -> nfrsmnt -> nfrsm\n",
      "transportation -> trnsprtaʃn -> trnspr\n",
      "abstract -> pstrkt -> pstrk\n",
      "platform -> pltfrm -> pltfr\n",
      "atmosphere -> tmsfr -> tmsf\n",
      "mistake -> mstak -> msta\n",
      "constantly -> knstntle -> knstntl\n",
      "criticism -> krtssm -> krtss\n",
      "definitely -> tfntle -> tfntl\n",
      "fiction -> fkʃn -> fkʃ\n",
      "enterprise -> nrpris -> nrpr\n",
      "constitutional -> knsttʃnl -> knsttʃ\n",
      "disappeared -> tspert -> tspe\n",
      "infrastructure -> nfrstrkCr -> nfrstr\n",
      "proportion -> prprʃn -> prprʃ\n",
      "newspaper -> nspapr -> nspa\n",
      "namely -> namle -> naml\n",
      "regardless -> rkrtls -> rkrtl\n",
      "canadian -> knaten -> kna\n",
      "limitations -> lmtaʃns -> lmta\n",
      "parliament -> prlmnt -> prlm\n",
      "aircraft -> rkrft -> rkrf\n",
      "competitive -> kmpttf -> kmptt\n",
      "everybody -> frepte -> frept\n",
      "mutual -> muCl -> muC\n",
      "punishment -> pnʃmnt -> pnʃm\n",
      "isolated -> islatt -> isla\n",
      "compliance -> kmplins -> kmplin\n",
      "unusual -> nuʃwl -> nuʃ\n",
      "complicated -> kmplkatt -> kmplka\n",
      "sustainable -> sstanpl -> ssta\n",
      "evaluate -> efluat -> eflua\n",
      "pregnancy -> prknnse -> prknn\n",
      "compensation -> kmpnsaʃn -> kmpnsa\n",
      "orientation -> rentaʃn -> renta\n",
      "temporary -> tmprre -> tmprr\n",
      "discrimination -> tskrmnaʃn -> tskrm\n",
      "transactions -> trnskʃns -> trnsk\n",
      "theology -> θelCe -> θelC\n",
      "behavioral -> pehafyrl -> peh\n",
      "duration -> traʃn -> traʃ\n",
      "remote -> remot -> remo\n",
      "molecules -> mlkuls -> mlku\n",
      "reputation -> rpytaʃn -> rpy\n",
      "overcome -> ofrkm -> ofrk\n",
      "correlation -> krlaʃn -> krlaʃ\n",
      "translated -> trnslatt -> trnsla\n",
      "defendant -> tfntnt -> tfntn\n",
      "ownership -> onrʃp -> onrʃ\n",
      "faculty -> fklte -> fklt\n",
      "duplicated -> tplkatt -> tplka\n",
      "publications -> pplkaʃns -> pplkaʃ\n",
      "developments -> tflpmnts -> tflpmn\n",
      "humanity -> umnte -> umnt\n",
      "acquisition -> kwsʃn -> kwsʃ\n",
      "uncertainty -> nsrtnte -> nsrtnt\n",
      "equilibrium -> ekwlprem -> ekwlp\n",
      "considerations -> knstraʃns -> knstraʃ\n",
      "simulation -> smylaʃn -> smy\n",
      "confusion -> knfuʃn -> knfu\n",
      "simultaneously -> simltanesle -> siml\n",
      "acceptance -> ksptns -> ksptn\n",
      "overview -> ofrfu -> ofrf\n",
      "excited -> ksitt -> ksi\n",
      "impression -> mprʃn -> mprʃ\n",
      "amendment -> mntmnt -> mntm\n",
      "conversion -> knfrʃn -> knfrʃ\n",
      "occupied -> kypit -> kyp\n",
      "retrieved -> retreft -> retre\n",
      "conservation -> knsrfaʃn -> knsrfa\n",
      "illustrated -> lstratt -> lstra\n",
      "reminded -> remintt -> remi\n",
      "partnership -> prtnrʃp -> prtnrʃ\n",
      "yesterday -> ystrte -> ystr\n",
      "arrangements -> ranCmnts -> ranCm\n",
      "sensitivity -> snstfte -> snstft\n",
      "priority -> prirte -> prirt\n",
      "analyses -> nlses -> nlse\n",
      "differential -> tfrnʃl -> tfrnʃ\n",
      "mathematical -> mθmtkl -> mθm\n",
      "inspired -> nspirt -> nspi\n",
      "surgical -> srCkl -> srCk\n",
      "locations -> lokaʃns -> lokaʃ\n",
      "advertising -> tfrtisŋ -> tfrti\n",
      "arrangement -> ranCmnt -> ranCmn\n",
      "subsequently -> spskwntle -> spskwn\n",
      "identical -> itntkl -> itntk\n",
      "mathematics -> mθmtks -> mθmt\n",
      "enormous -> enrms -> enr\n",
      "environments -> nfirnmnts -> nfirn\n",
      "christianity -> krsCente -> krsCe\n",
      "motivation -> motfaʃn -> motfa\n",
      "testament -> tstmnt -> tstm\n",
      "inquiry -> nkwrre -> nkw\n",
      "recommendations -> rkmntaʃns -> rkmnta\n",
      "configuration -> knfkyraʃn -> knfky\n",
      "enhanced -> nhnst -> nh\n",
      "curriculum -> krkylm -> krky\n",
      "accordingly -> krtŋle -> krtŋl\n",
      "acceptable -> ksptpl -> ksptp\n",
      "judicial -> Ctʃl -> Ctʃ\n",
      "jurisdiction -> Crstkʃn -> Crstk\n",
      "sacrifice -> skrfis -> skrfi\n",
      "regularly -> rkylrle -> rkylrl\n",
      "meanwhile -> menwil -> menw\n",
      "achievement -> Cefmnt -> Cefm\n",
      "privacy -> prifse -> prifs\n",
      "attributes -> trputs -> trpu\n",
      "threshold -> θrʃolt -> θrʃo\n",
      "appreciate -> preʃeat -> preʃe\n",
      "activation -> ktfaʃn -> ktfa\n",
      "remarkable -> remrkpl -> remrkp\n",
      "responsibilities -> respnspltes -> respnsplt\n",
      "linguistic -> lŋkwstk -> lŋkws\n",
      "generations -> Cnraʃns -> Cnraʃ\n",
      "membership -> mmprʃp -> mmprʃ\n",
      "restrictions -> restrkʃns -> restrk\n",
      "utility -> utlte -> utlt\n",
      "execution -> kskuʃn -> ksku\n",
      "mortality -> mrtlte -> mrtlt\n",
      "receptor -> resptr -> respt\n",
      "excitement -> ksitmnt -> ksitm\n",
      "slavery -> slafre -> slafr\n",
      "suspected -> sspktt -> ssp\n",
      "transaction -> trnskʃn -> trnskʃ\n",
      "availability -> falplte -> falplt\n",
      "medieval -> metefl -> metef\n",
      "finite -> finit -> fini\n",
      "conceptual -> knspCl -> knspC\n",
      "football -> ftpl -> ftp\n",
      "dedicated -> ttkatt -> ttka\n",
      "electricity -> lktrste -> lktrst\n",
      "physician -> fsʃn -> fsʃ\n",
      "neighborhood -> naprht -> naprh\n",
      "communist -> kmynst -> kmy\n",
      "conception -> knspʃn -> knspʃ\n",
      "concentrations -> knsntraʃns -> knsntra\n",
      "likewise -> likwis -> likw\n",
      "testimony -> tstmone -> tstmo\n",
      "explicitly -> ksplstle -> ksplstl\n",
      "anxious -> ŋʃs -> ŋʃ\n",
      "vulnerable -> flnrpl -> flnrp\n",
      "promotion -> prmoʃn -> prmoʃ\n",
      "unlikely -> nlikle -> nlikl\n",
      "diagnostic -> tiknstk -> tiknst\n",
      "gentleman -> Cnlmn -> Cnlm\n",
      "diabetes -> tipetes -> tipe\n",
      "therapeutic -> θrputk -> θrpu\n",
      "productivity -> protktfte -> protkt\n",
      "painful -> panfl -> panf\n",
      "calculate -> klkylat -> klkyl\n",
      "reliable -> relipl -> relip\n",
      "automatically -> tmtkle -> tmtkl\n",
      "eternal -> etrnl -> etrn\n",
      "quantitative -> kwnttatf -> kwntta\n",
      "declaration -> tklraʃn -> tklra\n",
      "integrity -> ntkrte -> ntkrt\n",
      "afterwards -> ftrwrts -> ftrw\n",
      "differently -> tfrntle -> tfrntl\n",
      "distinguished -> tstŋkwʃt -> tstŋkw\n",
      "extraordinary -> kstrrtnre -> kstrr\n",
      "hydrogen -> hitrCn -> hitrC\n",
      "alongside -> lŋsit -> lŋsi\n",
      "facilitate -> fsltat -> fslta\n",
      "immigration -> mkraʃn -> mkraʃ\n",
      "suspect -> sspkt -> sspk\n",
      "companion -> kmpnyn -> kmpny\n",
      "collaboration -> klpraʃn -> klpra\n",
      "qualitative -> kwltatf -> kwlta\n",
      "handbook -> hntpk -> hntp\n",
      "quarterly -> kwrtrle -> kwrtrl\n",
      "romantic -> romntk -> romnt\n",
      "coefficient -> kofʃnt -> kofʃ\n",
      "nonetheless -> nnθls -> nnθl\n",
      "meaningful -> menŋfl -> menŋf\n",
      "scotland -> sktlnt -> sktln\n",
      "reward -> rewrt -> rew\n",
      "genuine -> Cnywn -> Cny\n",
      "investments -> nfsmnts -> nfsmn\n",
      "altogether -> ltkθr -> ltkθ\n",
      "calculation -> klkylaʃn -> klkyla\n",
      "widespread -> witsprt -> witsp\n",
      "email -> emal -> ema\n",
      "capabilities -> kappltes -> kapplt\n",
      "methodology -> mθtlCe -> mθtl\n",
      "revised -> refist -> refi\n",
      "revolutionary -> rflʃnre -> rflʃnr\n",
      "vietnam -> fetnm -> fetn\n",
      "expertise -> ksprtes -> ksprte\n",
      "lifetime -> liftim -> lift\n",
      "absorption -> psrpʃn -> psrpʃ\n",
      "revelation -> rflaʃn -> rfla\n",
      "legislative -> lCslatf -> lCsla\n",
      "flexible -> flkspl -> flksp\n",
      "grandmother -> krntmθr -> krntmθ\n",
      "qualified -> kwlfit -> kwlf\n",
      "discharge -> tsCrC -> tsC\n",
      "respiratory -> rsprtre -> rspr\n",
      "mobility -> moplte -> moplt\n",
      "ideology -> itelCe -> itelC\n",
      "dispute -> tsput -> tspu\n",
      "sufficiently -> sfʃntle -> sfʃn\n",
      "attachment -> tCmnt -> tCm\n",
      "designated -> tsknatt -> tskna\n",
      "pulmonary -> plmnre -> plmnr\n",
      "representations -> rprsntaʃns -> rprsntaʃ\n",
      "graduate -> krCwt -> krCw\n",
      "regression -> rkrʃn -> rkrʃ\n",
      "grandfather -> krnfθr -> krnfθ\n",
      "salvation -> slfaʃn -> slfa\n",
      "unexpected -> nkspktt -> nksp\n",
      "dominated -> tmnatt -> tmna\n",
      "newspapers -> nspaprs -> nspap\n",
      "assignment -> sinmnt -> sinm\n",
      "eleven -> elfn -> elf\n",
      "replacement -> rplasmnt -> rplasm\n",
      "adaptation -> tptaʃn -> tpta\n",
      "citizenship -> stsnʃp -> stsnʃ\n",
      "confident -> knftnt -> knftn\n",
      "nowhere -> nowr -> now\n",
      "embrace -> mpras -> mpra\n",
      "adjustment -> Cstmnt -> Cstm\n",
      "occupation -> kypaʃn -> kypa\n",
      "inequality -> nkwlte -> nkwl\n",
      "diffusion -> tfuʃn -> tfu\n",
      "attributed -> trpytt -> trpy\n",
      "investigate -> nfstkat -> nfstka\n",
      "corruption -> krpʃn -> krpʃ\n",
      "unconscious -> nknʃs -> nknʃ\n",
      "photographs -> fotkrfs -> fotk\n",
      "circulation -> srkylaʃn -> srky\n",
      "reconstruction -> reknstrkʃn -> reknst\n",
      "preceding -> presetŋ -> preset\n",
      "inspection -> nspkʃn -> nspkʃ\n",
      "destination -> tstnaʃn -> tstna\n",
      "theological -> θelCkl -> θelCk\n",
      "intermediate -> nrmetet -> nrmet\n",
      "profound -> profnt -> profn\n",
      "photograph -> fotkrf -> fotkr\n",
      "exploration -> ksplraʃn -> ksplra\n",
      "invisible -> nfspl -> nfsp\n",
      "inclusion -> nklʃn -> nklʃ\n",
      "isolation -> islaʃn -> islaʃ\n",
      "preference -> prfrns -> prfrn\n",
      "retirement -> retirmnt -> reti\n",
      "conversations -> knfrsaʃns -> knfrsaʃ\n",
      "legitimate -> lCtmt -> lCtm\n",
      "negotiations -> nkoʃeaʃns -> nkoʃ\n",
      "anybody -> nepte -> nept\n",
      "reliability -> reliplte -> reliplt\n",
      "birthday -> prθta -> prθt\n",
      "invasion -> nfaʃn -> nfaʃ\n",
      "exclusive -> ksklsf -> kskls\n",
      "thoroughly -> θrole -> θrol\n",
      "posterior -> pstryr -> pstry\n",
      "correctly -> krktle -> krktl\n",
      "complications -> kmplkaʃns -> kmplkaʃ\n",
      "suggestion -> sCsCn -> sCsC\n",
      "incorporated -> nkrpratt -> nkrpr\n",
      "treatments -> tretmnts -> tretmn\n",
      "medication -> mtkaʃn -> mtka\n",
      "coordination -> kortnaʃn -> kort\n",
      "improvements -> mprfmnts -> mprfmn\n",
      "explanations -> ksplnaʃns -> ksplnaʃ\n",
      "gesture -> CsCr -> CsC\n",
      "investigations -> nfstkaʃns -> nfstkaʃ\n",
      "accessible -> ksspl -> kssp\n",
      "authorized -> θrist -> θri\n",
      "vegetables -> fCtpls -> fCtp\n",
      "archives -> rkifs -> rki\n",
      "ingredients -> nkretents -> nkrete\n",
      "healthcare -> hlθkr -> hlθk\n",
      "brilliant -> prlynt -> prly\n",
      "corporations -> krpraʃns -> krpraʃ\n",
      "inherent -> nhrnt -> nhr\n",
      "calculations -> klkylaʃns -> klkylaʃ\n",
      "circular -> srkylr -> srkyl\n",
      "likelihood -> likleht -> likleh\n",
      "unemployment -> nmplmnt -> nmplm\n",
      "completion -> kmpleʃn -> kmpleʃ\n",
      "proposition -> prpsʃn -> prpsʃ\n",
      "correspondence -> krspntns -> krspntn\n",
      "sensation -> snsaʃn -> snsaʃ\n",
      "horizon -> hrisn -> hri\n",
      "netherlands -> nθrlnts -> nθrln\n",
      "seemingly -> semŋle -> semŋl\n",
      "scripture -> skrpCr -> skrpC\n",
      "relaxed -> relkst -> relk\n",
      "departure -> tprCr -> tprC\n",
      "preliminary -> prelmnre -> prelmn\n",
      "conviction -> knfkʃn -> knfkʃ\n",
      "sustainability -> sstanplte -> sstanp\n",
      "hierarchy -> hirrke -> hirr\n",
      "flexibility -> flksplte -> flksplt\n",
      "reception -> respʃn -> respʃ\n",
      "sociology -> soselCe -> sosel\n",
      "cellular -> slylr -> slyl\n",
      "exclaimed -> ksklamt -> kskla\n",
      "purely -> pyrle -> pyrl\n",
      "prediction -> pretkʃn -> pretkʃ\n",
      "doorway -> trwa -> trw\n",
      "enterprises -> nrpriss -> nrpri\n",
      "importantly -> mprtntle -> mprtntl\n",
      "politicians -> pltʃns -> pltʃ\n",
      "registration -> rCstraʃn -> rCstra\n",
      "justified -> Cstfit -> Cstf\n",
      "tolerance -> tlrns -> tlrn\n",
      "mediated -> meteatt -> metea\n",
      "faithful -> faθfl -> faθf\n",
      "vitamin -> fitmn -> fitm\n",
      "creativity -> kreatfte -> kreatft\n",
      "entertainment -> nrtanmnt -> nrta\n",
      "beneficial -> pnfʃl -> pnfʃ\n",
      "households -> hsholts -> hsho\n",
      "strictly -> strktle -> strktl\n",
      "worldwide -> wrltwit -> wrltw\n",
      "repeatedly -> rpettle -> rpet\n",
      "presidential -> prstnʃl -> prstnʃ\n",
      "injection -> nCkʃn -> nCkʃ\n",
      "outline -> tlin -> tli\n",
      "inflation -> nflaʃn -> nfla\n",
      "practitioners -> prktʃnrs -> prktʃ\n",
      "inhabitants -> nhptnts -> nhp\n",
      "optimization -> ptmsaʃn -> ptmsa\n",
      "estimation -> stmaʃn -> stmaʃ\n",
      "evolutionary -> flʃnre -> flʃnr\n",
      "inevitable -> nftpl -> nftp\n",
      "uncomfortable -> nkmfrtpl -> nkmf\n",
      "civilization -> sflsaʃn -> sflsa\n",
      "paradigm -> prtim -> prti\n",
      "pathway -> pθwa -> pθw\n",
      "interference -> nrfrns -> nrfrn\n",
      "ideological -> itelCkl -> itelCk\n",
      "disciples -> tsipls -> tsip\n",
      "manuscript -> mnyskrpt -> mnys\n",
      "departments -> tprtmnts -> tprtmn\n",
      "rejection -> reCkʃn -> reCkʃ\n",
      "retained -> retant -> reta\n",
      "violation -> filaʃn -> fila\n",
      "descriptions -> tskrpʃns -> tskrpʃ\n",
      "desirable -> tsirpl -> tsirp\n",
      "respondents -> rspntnts -> rspn\n",
      "exclusively -> ksklsfle -> ksklsfl\n",
      "influential -> nflnʃl -> nflnʃ\n",
      "portfolio -> prtfoleo -> prtfo\n",
      "scholarship -> sklrʃp -> sklrʃ\n",
      "curiosity -> kyreste -> kyrest\n",
      "initiated -> nʃeatt -> nʃe\n",
      "rotation -> rotaʃn -> rota\n",
      "expenditure -> kspntCr -> kspntC\n",
      "headquarters -> htkrtrs -> htkrt\n",
      "differentiation -> tfrnʃeaʃn -> tfrnʃe\n",
      "funeral -> funrl -> fun\n",
      "supervision -> sprfʃn -> sprf\n",
      "certificate -> srtfkt -> srtfk\n",
      "surveillance -> srfalns -> srfaln\n",
      "consistently -> knsstntle -> knsstntl\n",
      "comparable -> kmprpl -> kmprp\n",
      "stakeholders -> stakholtrs -> stakh\n",
      "basically -> paskle -> paskl\n",
      "exclusion -> ksklʃn -> ksklʃ\n",
      "disclosure -> tskloʃr -> tskl\n",
      "indication -> ntkaʃn -> ntkaʃ\n",
      "remind -> remint -> remin\n",
      "vascular -> fskylr -> fsky\n",
      "railway -> ralwa -> ralw\n",
      "presumably -> prsmple -> prsmp\n",
      "presenting -> presntŋ -> presn\n",
      "documentation -> tkymntaʃn -> tkymnta\n",
      "prescribed -> preskript -> presk\n",
      "safely -> safle -> safl\n",
      "restoration -> rstraʃn -> rstra\n",
      "sexuality -> skʃlte -> skʃlt\n",
      "displacement -> tsplasmnt -> tsplasm\n",
      "backward -> pkwrt -> pkw\n",
      "covenant -> kfnnt -> kfnn\n",
      "elementary -> lmntre -> lmntr\n",
      "accountability -> knplte -> knplt\n",
      "socialist -> soʃlst -> soʃls\n",
      "enthusiasm -> nθsesm -> nθse\n",
      "modification -> mtfkaʃn -> mtfka\n",
      "receptors -> rsptrs -> rsptr\n",
      "sophisticated -> sfstkatt -> sfstk\n",
      "peaceful -> pesfl -> pesf\n",
      "allocation -> lkaʃn -> lka\n",
      "prevalence -> prflns -> prfln\n",
      "sovereignty -> sfrnte -> sfrnt\n",
      "persistent -> prsstnt -> prsstn\n",
      "secular -> skylr -> skyl\n",
      "compromise -> kmprmis -> kmprm\n",
      "formulation -> frmylaʃn -> frmylaʃ\n",
      "metabolism -> mtplsm -> mtp\n",
      "placement -> plasmnt -> plasm\n",
      "stimulation -> stmylaʃn -> stmy\n",
      "lifestyle -> lifstil -> lifsti\n",
      "cooperative -> kopratf -> kopra\n",
      "reproduction -> reprtkʃn -> reprtk\n",
      "justification -> Cstfkaʃn -> Cstfk\n",
      "surprisingly -> sprisŋle -> sprisŋl\n",
      "emphasized -> mfsist -> mfsi\n",
      "ceremony -> srmone -> srmo\n",
      "workplace -> wrkplas -> wrkp\n",
      "inferior -> nfrer -> nfre\n",
      "overhead -> ofrht -> ofrh\n",
      "specialized -> spʃlist -> spʃli\n",
      "physiological -> fselCkl -> fselC\n",
      "notably -> notple -> notp\n",
      "hardware -> hrtwr -> hrtw\n",
      "problematic -> prplmtk -> prplmt\n",
      "complaint -> kmplant -> kmpla\n",
      "inflammatory -> nflmtre -> nflm\n",
      "switzerland -> swtsrlnt -> swtsrl\n",
      "adventure -> tfnCr -> tfnC\n",
      "suspicion -> sspʃn -> sspʃ\n",
      "deliberately -> tlprtle -> tlprtl\n",
      "nitrogen -> nitrCn -> nitrC\n",
      "frustration -> frstraʃn -> frstra\n",
      "sympathy -> smpθe -> smpθ\n",
      "underground -> ntrkrnt -> ntrkrn\n",
      "workshop -> wrkʃp -> wrkʃ\n",
      "geography -> Cekrfe -> Cekr\n",
      "singular -> sŋkylr -> sŋky\n",
      "appreciation -> preʃeaʃn -> preʃea\n",
      "accurately -> kyrtle -> kyrtl\n",
      "expectation -> kspktaʃn -> kspktaʃ\n",
      "anticipated -> ntspatt -> ntsp\n",
      "inspiration -> nspraʃn -> nspr\n",
      "accumulation -> kumylaʃn -> kumy\n",
      "independently -> ntpntntle -> ntpntntl\n",
      "defects -> tefkts -> tefk\n",
      "evidently -> ftntle -> ftntl\n",
      "midnight -> mtnit -> mtni\n",
      "questioned -> kwsCnt -> kwsCn\n",
      "confined -> knfint -> knfi\n",
      "deviation -> tefeaʃn -> tefea\n",
      "egyptian -> Cpʃn -> Cpʃ\n",
      "geometry -> Cemtre -> Cemt\n",
      "silently -> silntle -> silntl\n",
      "extraction -> kstrkʃn -> kstrkʃ\n",
      "deputy -> tpyte -> tpy\n",
      "degradation -> tkrtaʃn -> tkrta\n",
      "interpretations -> ntrprtaʃns -> ntrprtaʃ\n",
      "participant -> prtspnt -> prtspn\n",
      "residential -> rstnʃl -> rstnʃ\n",
      "psychiatric -> siketrk -> siket\n",
      "sharply -> ʃrple -> ʃrpl\n",
      "eligible -> lCpl -> lCp\n",
      "geographical -> Cekrfkl -> Cekrf\n",
      "hesitated -> hstatt -> hsta\n",
      "globalization -> kloplsaʃn -> kloplsa\n",
      "illustration -> lstraʃn -> lstraʃ\n",
      "convenient -> knfenynt -> knfe\n",
      "mainstream -> manstrem -> manst\n",
      "preservation -> prsrfaʃn -> prsrfa\n",
      "lonely -> lonle -> lonl\n",
      "dictionary -> tkʃnre -> tkʃ\n",
      "realization -> relsaʃn -> relsa\n",
      "invitation -> nftaʃn -> nfta\n",
      "subsection -> spskʃn -> spskʃ\n",
      "peculiar -> pkulyr -> pkul\n",
      "wireless -> wirls -> wirl\n",
      "compassion -> kmpʃn -> kmpʃ\n",
      "civilian -> sflyn -> sfly\n",
      "hallway -> hlwa -> hlw\n",
      "coefficients -> kofʃnts -> kofʃn\n",
      "rehabilitation -> repltaʃn -> replta\n",
      "substrate -> spstrat -> spstr\n",
      "mediterranean -> mttranen -> mttra\n",
      "precision -> presʃn -> presʃ\n",
      "inadequate -> ntkwt -> ntkw\n",
      "coordinate -> kortnt -> kortn\n",
      "stimulus -> stmyls -> stmyl\n",
      "medications -> mtkaʃns -> mtkaʃ\n",
      "signature -> sknCr -> sknC\n",
      "characterization -> krktrsaʃn -> krktrsa\n",
      "invention -> nfnʃn -> nfnʃ\n",
      "residual -> rsCl -> rsC\n",
      "ecology -> eklCe -> eklC\n",
      "vocabulary -> fokpylre -> fokp\n",
      "arbitrary -> rptrre -> rptrr\n",
      "squeezed -> skwest -> skwe\n",
      "satellite -> stlit -> stli\n",
      "psychiatry -> skitre -> skit\n",
      "resonance -> rsnns -> rsnn\n",
      "highlight -> hilit -> hili\n",
      "judgments -> CCmnts -> CCmn\n",
      "compression -> kmprʃn -> kmprʃ\n",
      "meditation -> mttaʃn -> mttaʃ\n",
      "positively -> pstfle -> pstfl\n",
      "afghanistan -> fknstn -> fknst\n",
      "substitute -> spsttt -> spstt\n",
      "similarity -> smlrte -> smlrt\n",
      "majesty -> mCste -> mCst\n",
      "occupational -> kypaʃnl -> kypaʃ\n",
      "certainty -> srtnte -> srtnt\n",
      "hormone -> hrmon -> hrmo\n",
      "genius -> Cenys -> Ceny\n",
      "celebrated -> slpratt -> slpra\n",
      "distributions -> tstrpuʃns -> tstrpuʃ\n",
      "liberation -> lpraʃn -> lpraʃ\n",
      "induction -> ntkʃn -> ntkʃ\n",
      "frequencies -> frekwnses -> frekwns\n",
      "municipal -> munspl -> munsp\n",
      "legitimacy -> lCtmse -> lCtms\n",
      "reinforced -> renfrst -> renf\n",
      "disposal -> tsposl -> tspo\n",
      "machinery -> mʃenre -> mʃenr\n",
      "limitation -> lmtaʃn -> lmtaʃ\n",
      "formerly -> frmrle -> frmrl\n",
      "minimize -> mnmis -> mnmi\n",
      "inheritance -> nhrtns -> nhrtn\n",
      "statutory -> stCtre -> stCtr\n",
      "sunlight -> snlit -> snli\n",
      "southeast -> sθest -> sθes\n",
      "teaspoon -> tespn -> tesp\n",
      "overwhelming -> ofrwlmŋ -> ofrw\n",
      "spontaneous -> spntanes -> spnta\n",
      "consultation -> knsltaʃn -> knslta\n",
      "controversy -> kntrfrse -> kntrf\n",
      "harvest -> hrfst -> hrfs\n",
      "fortunately -> frCntle -> frCntl\n",
      "succession -> sksʃn -> sksʃ\n",
      "libraries -> liprres -> liprr\n",
      "baseline -> paslin -> pasli\n",
      "railroad -> ralrot -> ralr\n",
      "demonstration -> tmnstraʃn -> tmnstraʃ\n",
      "presently -> prsntle -> prsntl\n",
      "haven -> hafn -> haf\n",
      "correction -> krkʃn -> krkʃ\n",
      "undoubtedly -> ntttle -> ntttl\n",
      "synthetic -> snθtk -> snθt\n",
      "computational -> kmputaʃnl -> kmputa\n",
      "combinations -> kmpnaʃns -> kmpnaʃ\n",
      "cognition -> kknʃn -> kknʃ\n",
      "continent -> kntnnt -> kntnn\n",
      "progression -> prkrʃn -> prkrʃ\n",
      "inflammation -> nflmaʃn -> nflma\n",
      "gradient -> kratent -> kraten\n",
      "generalized -> Cnrlist -> Cnrli\n",
      "kindness -> kintns -> kintn\n",
      "anthropology -> nθrplCe -> nθrp\n",
      "installation -> nstlaʃn -> nstla\n",
      "retention -> retnʃn -> retnʃ\n",
      "cerebral -> sreprl -> srep\n",
      "dramatically -> trmtkle -> trmtkl\n",
      "variability -> freplte -> freplt\n",
      "unnecessary -> nnssre -> nnssr\n",
      "incredible -> nkrtpl -> nkrtp\n",
      "wildlife -> wiltlif -> wiltl\n",
      "israeli -> srale -> sra\n",
      "controversial -> kntrfrʃl -> kntrfrʃ\n",
      "continuously -> kntnusle -> kntnusl\n",
      "vulnerability -> flnrplte -> flnrplt\n",
      "useless -> usls -> usl\n",
      "approximation -> prksmaʃn -> prksma\n",
      "fusion -> fuʃn -> fuʃ\n",
      "inhibition -> npʃn -> npʃ\n",
      "closure -> kloʃr -> kloʃ\n",
      "sympathetic -> smpθtk -> smpθt\n",
      "manufacturer -> mnyfkCrr -> mnyf\n",
      "provincial -> prfnʃl -> prfnʃ\n",
      "straightforward -> stratfrwrt -> stratf\n",
      "certification -> srtfkaʃn -> srtfka\n",
      "convergence -> knfrCns -> knfrCn\n",
      "profiles -> profils -> profi\n",
      "modernity -> mtrnte -> mtrnt\n",
      "willingness -> wlŋns -> wlŋn\n",
      "revenge -> refnC -> refn\n",
      "projection -> prCkʃn -> prCkʃ\n",
      "explosion -> ksploʃn -> ksplo\n",
      "longitudinal -> lnCttnl -> lnCttn\n",
      "impairment -> mprmnt -> mprm\n",
      "mankind -> mnkint -> mnki\n",
      "transnational -> trnsnʃnl -> trnsn\n",
      "triumph -> trimf -> trim\n",
      "rebellion -> rplyn -> rply\n",
      "federation -> ftraʃn -> ftra\n",
      "exploitation -> kspltaʃn -> ksplta\n",
      "disposition -> tspsʃn -> tsps\n",
      "manufacturers -> mnyfkCrrs -> mnyfk\n",
      "cardiovascular -> krteofskylr -> krteof\n",
      "eyebrows -> iprs -> ip\n",
      "oxidation -> kstaʃn -> kstaʃ\n",
      "recommendation -> rkmntaʃn -> rkmntaʃ\n",
      "triangle -> triŋkl -> triŋk\n",
      "enlightenment -> nlitnmnt -> nlit\n",
      "ridiculous -> rtkyls -> rtky\n",
      "desperately -> tsprtle -> tsprtl\n",
      "vacuum -> fkum -> fku\n",
      "hypertension -> hiprtnʃn -> hiprtn\n",
      "reproductive -> reprtktf -> reprtkt\n",
      "nonlinear -> nnlner -> nnl\n",
      "discretion -> tskrʃn -> tskrʃ\n",
      "openly -> opnle -> opnl\n",
      "ratios -> raʃeos -> raʃe\n",
      "specification -> spsfkaʃn -> spsfka\n",
      "relaxation -> relksaʃn -> relksa\n",
      "toxicity -> tksste -> tksst\n",
      "regiment -> rCmnt -> rCm\n",
      "disappointment -> tspntmnt -> tspntm\n",
      "casual -> kʃwl -> kʃw\n",
      "seventeenth -> sfntenθ -> sfnte\n",
      "disabled -> tsaplt -> tsa\n",
      "expedition -> ksptʃn -> ksptʃ\n",
      "dysfunction -> tsfŋkʃn -> tsfŋk\n",
      "behold -> pholt -> pho\n",
      "halfway -> hfwa -> hfw\n",
      "luxury -> lkʃre -> lkʃr\n",
      "intentionally -> ntnʃnle -> ntnʃ\n",
      "interpersonal -> ntrprsnl -> ntrprsn\n",
      "insufficient -> nsfʃnt -> nsfʃ\n",
      "transparent -> trnsprnt -> trnsprn\n",
      "navigation -> nfkaʃn -> nfka\n",
      "mutations -> mutaʃns -> muta\n",
      "negro -> nekro -> nekr\n",
      "recipient -> rspent -> rspen\n",
      "abruptly -> prptle -> prptl\n",
      "bilateral -> piltrl -> piltr\n",
      "deposition -> tpsʃn -> tpsʃ\n",
      "negotiation -> nkoʃeaʃn -> nkoʃe\n",
      "parliamentary -> prlmnre -> prlmnr\n",
      "incorporate -> nkrprat -> nkrpra\n",
      "shareholders -> ʃrholtrs -> ʃrh\n",
      "validation -> fltaʃn -> fltaʃ\n",
      "accommodate -> kmtat -> kmta\n",
      "texture -> tksCr -> tksC\n",
      "termination -> trmnaʃn -> trmna\n",
      "chambers -> Camprs -> Camp\n",
      "elevation -> lfaʃn -> lfaʃ\n",
      "perfection -> prfkʃn -> prfkʃ\n",
      "randomized -> rntmist -> rntmi\n",
      "conjunction -> knCŋkʃn -> knCŋ\n",
      "incomplete -> nkmplet -> nkmpl\n",
      "revision -> refʃn -> refʃ\n",
      "metropolitan -> mtrpltn -> mtrpl\n",
      "celebration -> slpraʃn -> slpraʃ\n",
      "proliferation -> prolfraʃn -> prolf\n",
      "utilized -> utlist -> utli\n",
      "restriction -> restrkʃn -> restrkʃ\n",
      "heavenly -> hfnle -> hfnl\n",
      "popularity -> ppylrte -> ppylrt\n",
      "portuguese -> prCkes -> prCke\n",
      "reluctant -> relktnt -> relktn\n",
      "accommodation -> kmtaʃn -> kmtaʃ\n",
      "prosecution -> prskuʃn -> prsku\n",
      "arbitration -> rptraʃn -> rptra\n",
      "alignment -> linmnt -> linm\n",
      "suspension -> sspnʃn -> sspnʃ\n",
      "exchanged -> ksCanCt -> ksCan\n",
      "objection -> pCkʃn -> pCkʃ\n",
      "biography -> pikrfe -> pikrf\n",
      "descriptive -> tskrptf -> tskrpt\n",
      "coherent -> kohrnt -> koh\n",
      "instability -> nstplte -> nstp\n",
      "resurrection -> rsrkʃn -> rsrk\n",
      "magnificent -> mknfsnt -> mknfsn\n",
      "transparency -> trnsprnse -> trnsprns\n",
      "headache -> htak -> hta\n",
      "hopefully -> hopfle -> hopf\n",
      "encouragement -> nkrCmnt -> nkrCm\n",
      "downward -> tnwrt -> tnwr\n",
      "vegetation -> fCtaʃn -> fCta\n",
      "afterward -> ftrwrt -> ftrwr\n",
      "junction -> Cŋkʃn -> Cŋkʃ\n",
      "favorable -> fafrpl -> fafrp\n",
      "correlated -> krlatt -> krlat\n",
      "mandatory -> mnttre -> mnttr\n",
      "rewards -> rewrts -> rewr\n",
      "interestingly -> ntrstŋle -> ntrstŋl\n",
      "girlfriend -> krlfrnt -> krlfr\n",
      "alternatively -> ltrntfle -> ltrntfl\n",
      "notwithstanding -> ntwθstntŋ -> ntwθ\n",
      "dioxide -> tiksit -> tiksi\n",
      "satisfactory -> stsfktre -> stsfk\n",
      "elimination -> lmnaʃn -> lmnaʃ\n",
      "violations -> filaʃns -> filaʃ\n",
      "submission -> spmʃn -> spmʃ\n",
      "workforce -> wrkfrs -> wrkf\n",
      "supplement -> splmnt -> splm\n",
      "compatible -> kmptpl -> kmptp\n",
      "computation -> kmpytaʃn -> kmpy\n",
      "pediatric -> petetrk -> petet\n",
      "instinct -> nstŋkt -> nstŋk\n",
      "indirectly -> ntrktle -> ntrktl\n",
      "taxation -> tksaʃn -> tksa\n",
      "demographic -> tmkrfk -> tmkrf\n",
      "scholarly -> sklrle -> sklrl\n",
      "complementary -> kmplmntre -> kmplm\n",
      "outward -> twrt -> twr\n",
      "prohibited -> prohptt -> proh\n",
      "basement -> pasmnt -> pasm\n",
      "nonsense -> nnsns -> nnsn\n",
      "terminology -> trmnlCe -> trmnlC\n",
      "ventricular -> fntrkulr -> fntrku\n",
      "predominantly -> prtmnntle -> prtmnn\n",
      "enhancement -> nhnsmnt -> nhnsm\n",
      "obedience -> opetens -> opete\n",
      "confession -> knfʃn -> knfʃ\n",
      "overnight -> ofrnit -> ofrn\n",
      "commitments -> kmtmnts -> kmtmn\n",
      "legislature -> lCslaCr -> lCslaC\n",
      "inappropriate -> npropret -> npro\n",
      "photography -> ftkrfe -> ftkr\n",
      "manipulation -> mnpylaʃn -> mnp\n",
      "congressional -> knkrʃnl -> knkrʃ\n",
      "manufacture -> mnyfkCr -> mnyfkC\n",
      "norway -> nrwa -> nrw\n",
      "modifications -> mtfkaʃns -> mtfkaʃ\n",
      "premium -> premem -> preme\n",
      "tablespoons -> taplspns -> taplsp\n",
      "confirmation -> knfrmaʃn -> knfrma\n",
      "ecosystem -> ekosstm -> ekoss\n",
      "commonwealth -> kmnwlθ -> kmnw\n",
      "utilization -> utlsaʃn -> utls\n",
      "unstable -> nstapl -> nstap\n",
      "congregation -> kŋkrkaʃn -> kŋkrka\n",
      "repetition -> rptʃn -> rptʃ\n",
      "temporarily -> tmprrle -> tmprrl\n",
      "anticipation -> ntspaʃn -> ntspa\n",
      "preparations -> prpraʃns -> prpraʃ\n",
      "feasible -> fespl -> fesp\n",
      "fury -> fyre -> fy\n",
      "intersection -> ntrskʃn -> ntrskʃ\n",
      "pathology -> pθlCe -> pθlC\n",
      "righteousness -> riCsns -> riC\n",
      "cumulative -> kumyltf -> kumyl\n",
      "reconciliation -> rknsleaʃn -> rknsl\n",
      "deployment -> tplmnt -> tplmn\n",
      "archaeological -> rkelCkl -> rkelC\n",
      "extensively -> kstnsfle -> kstnsfl\n",
      "individually -> ntfCle -> ntfCl\n",
      "adequately -> tkwtle -> tkwtl\n",
      "athletes -> θlets -> θle\n",
      "appropriately -> propretle -> propre\n",
      "propaganda -> prpknt -> prpkn\n",
      "antibody -> ntepte -> ntep\n",
      "contingent -> kntnCnt -> kntnC\n",
      "harmful -> hrmfl -> hrmf\n",
      "hierarchical -> hirrkkl -> hirrk\n",
      "meantime -> mentim -> ment\n",
      "musicians -> musʃns -> musʃ\n",
      "initiation -> nʃeaʃn -> nʃea\n",
      "comprehension -> kmprehnʃn -> kmprehn\n",
      "cultivation -> kltfaʃn -> kltfa\n",
      "maritime -> mrtim -> mrti\n",
      "sociological -> soselCkl -> soselC\n",
      "recurrent -> rekrnt -> rekrn\n",
      "cathedral -> kθetrl -> kθet\n",
      "hypotheses -> hipθses -> hipθs\n",
      "northwest -> nrθwst -> nrθw\n",
      "earthquake -> rθkwak -> rθkw\n",
      "countryside -> kntresit -> kntresi\n",
      "achievements -> Cefmnts -> Cefmn\n",
      "transformations -> trnsfrmaʃns -> trnsfrmaʃ\n",
      "conquest -> kŋkwst -> kŋkw\n",
      "efficiently -> fʃntle -> fʃntl\n",
      "intimacy -> ntmse -> ntms\n",
      "persuade -> prswat -> prsw\n",
      "acceleration -> kslraʃn -> kslra\n",
      "immunity -> munte -> munt\n",
      "vacation -> fakaʃn -> faka\n",
      "specifications -> spsfkaʃns -> spsfkaʃ\n",
      "fertility -> frtlte -> frtlt\n",
      "devotion -> tfoʃn -> tfoʃ\n",
      "furious -> fyres -> fyr\n",
      "practitioner -> prktʃnr -> prktʃn\n",
      "mutation -> mutaʃn -> mutaʃ\n",
      "standardized -> stntrtist -> stntrti\n",
      "recruitment -> rkrtmnt -> rkrtm\n",
      "masculine -> mskyln -> msky\n",
      "accumulated -> kumylatt -> kumyla\n",
      "messenger -> msnCr -> msnC\n",
      "purity -> pyrte -> pyrt\n",
      "simultaneous -> simltanes -> simlt\n",
      "mercury -> mrkyre -> mrky\n",
      "manifestations -> mnfstaʃns -> mnfsta\n",
      "humanitarian -> umntren -> umntr\n",
      "transient -> trnʃnt -> trnʃn\n",
      "substantive -> spstntf -> spstnt\n",
      "kindly -> kintle -> kintl\n",
      "negotiate -> nkoʃeat -> nkoʃea\n",
      "supervisor -> sprfisr -> sprfi\n",
      "disturbance -> tstrpns -> tstrpn\n",
      "appetite -> ptit -> pti\n",
      "reservoir -> rsfwr -> rsfw\n",
      "propagation -> prpkaʃn -> prpka\n",
      "sanctions -> sŋkʃns -> sŋkʃ\n",
      "resilience -> rslens -> rslen\n",
      "homeland -> homlnt -> homl\n",
      "battalion -> ptlyn -> ptly\n",
      "simulations -> smylaʃns -> smyl\n",
      "bibliography -> pplekrfe -> pplek\n",
      "morphology -> mrflCe -> mrflC\n",
      "cervical -> srfkl -> srfk\n",
      "transcription -> trnskrpʃn -> trnskr\n",
      "sunshine -> snʃin -> snʃi\n",
      "litigation -> ltkaʃn -> ltkaʃ\n",
      "temptation -> tmtaʃn -> tmta\n",
      "trajectory -> trCktre -> trCkt\n",
      "homogeneous -> homCenes -> homC\n",
      "palestine -> plstin -> plsti\n",
      "discomfort -> tskmfrt -> tskm\n",
      "nigeria -> niCre -> niC\n",
      "timely -> timle -> timl\n",
      "mediation -> meteaʃn -> meteaʃ\n",
      "specificity -> spsfste -> spsfs\n",
      "entrepreneurs -> ntrprnrs -> ntrprn\n",
      "overwhelmed -> ofrwlmt -> ofrwl\n",
      "methodological -> mθtlCkl -> mθtlC\n",
      "superficial -> sprfʃl -> sprfʃ\n",
      "chemotherapy -> kemoθrpe -> kemoθ\n",
      "refined -> rfint -> rfi\n",
      "urinary -> yrnre -> yrnr\n",
      "abnormalities -> pnrmltes -> pnrmlt\n",
      "unpublished -> npplʃt -> nppl\n",
      "muscular -> mskylr -> mskyl\n",
      "conversely -> knfrsle -> knfrsl\n",
      "clarify -> klrfi -> klrf\n",
      "missionary -> mʃnre -> mʃnr\n",
      "angular -> ŋkylr -> ŋky\n",
      "responsive -> rspnsf -> rspns\n",
      "renewable -> renpl -> renp\n",
      "substitution -> spsttʃn -> spsttʃ\n",
      "deformation -> tefrmaʃn -> tefrma\n",
      "theft -> θft -> θf\n",
      "irrigation -> rkaʃn -> rkaʃ\n",
      "southwest -> sθwst -> sθw\n",
      "wavelength -> waflŋθ -> wafl\n",
      "spirituality -> sprClte -> sprClt\n",
      "documentary -> tkymnre -> tkymnr\n",
      "admiration -> tmraʃn -> tmraʃ\n",
      "permanently -> prmnntle -> prmnntl\n",
      "databases -> ttpass -> ttpa\n",
      "crises -> krises -> krise\n",
      "vibration -> fipraʃn -> fipra\n",
      "prevailing -> prefalŋ -> prefa\n",
      "courtyard -> krtyrt -> krty\n",
      "daylight -> talit -> tali\n",
      "flavor -> flafr -> flaf\n",
      "ventilation -> fnlaʃn -> fnla\n",
      "suppression -> sprʃn -> sprʃ\n",
      "assignments -> sinmnts -> sinmn\n",
      "susceptible -> ssptpl -> sspt\n",
      "eternity -> etrnte -> etrnt\n",
      "credibility -> krtplte -> krtplt\n",
      "implication -> mplkaʃn -> mplka\n",
      "unpleasant -> nplsnt -> nplsn\n",
      "narrator -> nratr -> nra\n",
      "convenience -> knfenyns -> knfeny\n",
      "prescription -> prskrpʃn -> prskrp\n",
      "invasive -> nfasf -> nfas\n",
      "executives -> kskytfs -> kskyt\n",
      "valuation -> fluaʃn -> flua\n",
      "verification -> frfkaʃn -> frfk\n",
      "frameworks -> framwrks -> framwr\n",
      "sanctuary -> sŋkCre -> sŋkC\n",
      "evaluations -> efluaʃns -> efluaʃ\n",
      "supposedly -> spostle -> spostl\n",
      "contamination -> kntmnaʃn -> kntmn\n",
      "phosphate -> fsfat -> fsf\n",
      "unaware -> nwr -> nw\n",
      "argentina -> rCnten -> rCnte\n",
      "obscure -> pskyr -> psky\n",
      "palestinian -> plstnen -> plstne\n",
      "taxable -> tkspl -> tksp\n",
      "persuaded -> prswatt -> prswa\n",
      "consciously -> knʃsle -> knʃsl\n",
      "respondent -> rspntnt -> rspnt\n",
      "prohibition -> propʃn -> propʃ\n",
      "penetration -> pntraʃn -> pntra\n",
      "ambiguous -> mpkus -> mpku\n",
      "dynasty -> tinste -> tinst\n",
      "symposium -> smposem -> smpos\n",
      "incorporation -> nkrpraʃn -> nkrpraʃ\n",
      "nightmare -> nitmr -> nitm\n",
      "bankruptcy -> pŋkrpse -> pŋkrps\n",
      "randomly -> rntmle -> rntml\n",
      "reinforcement -> renfrsmnt -> renfr\n",
      "swiftly -> swftle -> swftl\n",
      "malignant -> mlknnt -> mlknn\n",
      "decomposition -> tekmpsʃn -> tekm\n",
      "geometric -> Cemtrk -> Cemtr\n",
      "stimulate -> stmylat -> stmyla\n",
      "manifestation -> mnfstaʃn -> mnfstaʃ\n",
      "counterparts -> kntrprts -> kntrpr\n",
      "pharmaceutical -> frmstkl -> frmstk\n",
      "contradiction -> kntrtkʃn -> kntrtkʃ\n",
      "inconsistent -> nknsstnt -> nknss\n",
      "psychotherapy -> sikoθrpe -> sikoθ\n",
      "saturated -> sCratt -> sCra\n",
      "pragmatic -> prkmtk -> prkmt\n",
      "arguably -> rkuple -> rkup\n",
      "disciplinary -> tsplnre -> tsplnr\n",
      "obstruction -> pstrkʃn -> pstrkʃ\n",
      "vampire -> fmpir -> fmpi\n",
      "intentional -> ntnʃnl -> ntnʃn\n",
      "domination -> tmnaʃn -> tmnaʃ\n",
      "circumstance -> srkmstns -> srkmst\n",
      "notation -> notaʃn -> nota\n",
      "psychologist -> siklCst -> siklCs\n",
      "announcement -> nnsmnt -> nnsm\n",
      "conspiracy -> knsprse -> knspr\n",
      "simplified -> smplfit -> smplf\n",
      "manuscripts -> mnyskrpts -> mnysk\n",
      "backwards -> pkwrts -> pkwr\n",
      "advancement -> tfnsmnt -> tfnsm\n",
      "profitable -> prftpl -> prftp\n",
      "consultant -> knsltnt -> knsltn\n",
      "differentiated -> tfrnʃeatt -> tfrnʃea\n",
      "disruption -> tsrpʃn -> tsrp\n",
      "soluble -> slypl -> slyp\n",
      "negatively -> nktfle -> nktfl\n",
      "descendants -> tsnnts -> tsnn\n",
      "rationality -> rʃnlte -> rʃnlt\n",
      "theorists -> θersts -> θers\n",
      "coordinated -> kortnatt -> kortna\n",
      "dissertation -> tsrtaʃn -> tsrta\n",
      "ambiguity -> mpkute -> mpkut\n",
      "transplantation -> trnsplntaʃn -> trnspl\n",
      "antibiotics -> ntepitks -> ntepi\n",
      "proclaimed -> proklamt -> prokl\n",
      "genuinely -> Cnywnle -> Cnyw\n",
      "segregation -> skrkaʃn -> skrka\n",
      "collectively -> klktfle -> klktfl\n",
      "superiority -> sprerte -> sprert\n",
      "amusement -> musmnt -> musm\n",
      "redemption -> rtmʃn -> rtmʃ\n",
      "spectacular -> spktkylr -> spktk\n",
      "insertion -> nsrʃn -> nsrʃ\n",
      "comprised -> kmprist -> kmpri\n",
      "translations -> trnslaʃns -> trnslaʃ\n",
      "criticized -> krtsist -> krtsi\n",
      "supernatural -> sprnCrl -> sprnC\n",
      "unfamiliar -> nfmlyr -> nfm\n",
      "chloride -> klrit -> klri\n",
      "probabilities -> prppltes -> prpplt\n",
      "chromosome -> kromsom -> kromso\n",
      "articulated -> rtkylatt -> rtkyl\n",
      "contraction -> kntrkʃn -> kntrkʃ\n",
      "consolidation -> knsltaʃn -> knsltaʃ\n",
      "benign -> pnin -> pni\n",
      "acquaintance -> kwantns -> kwantn\n",
      "qualifications -> kwlfkaʃns -> kwlfk\n",
      "embarrassment -> mprsmnt -> mprsm\n",
      "strangely -> stranCle -> stranCl\n",
      "taxpayer -> tkspar -> tkspa\n",
      "warehouse -> wrhs -> wrh\n",
      "arthritis -> rθrits -> rθri\n",
      "schizophrenia -> sktsfrene -> sktsf\n",
      "vietnamese -> fetnmes -> fetnme\n",
      "heterogeneous -> htrCenys -> htrC\n",
      "basketball -> psktpl -> psktp\n",
      "localized -> loklist -> lokli\n",
      "automobile -> tmopel -> tmop\n",
      "hostility -> hstlte -> hstlt\n",
      "depreciation -> tpreʃeaʃn -> tpreʃ\n",
      "maximize -> mksmis -> mksmi\n",
      "hepatitis -> hptits -> hpti\n",
      "systematically -> sstmtkle -> sstmtkl\n",
      "hesitation -> hstaʃn -> hstaʃ\n",
      "publicity -> pplste -> pplst\n",
      "muhammad -> mhmt -> mh\n",
      "restraint -> restrant -> restra\n",
      "confrontation -> knfrntaʃn -> knfrnta\n",
      "northeast -> nrθest -> nrθes\n",
      "keywords -> kewrts -> kew\n",
      "dispersion -> tsprʃn -> tsprʃ\n",
      "oversight -> ofrsit -> ofrsi\n",
      "confidential -> knftnʃl -> knftnʃ\n",
      "whatsoever -> wtsofr -> wtso\n",
      "resemblance -> resmplns -> resmp\n",
      "alright -> lrit -> lri\n",
      "contradictory -> kntrtktre -> kntrtktr\n",
      "simulated -> smylatt -> smyla\n",
      "functionality -> fŋkʃnlte -> fŋkʃnlt\n",
      "backgrounds -> pkkrnts -> pkkrn\n",
      "procurement -> prokyrmnt -> proky\n",
      "lively -> lifle -> lifl\n",
      "secretly -> sekrtle -> sekrtl\n",
      "champagne -> ʃmpan -> ʃmpa\n",
      "privately -> priftle -> priftl\n",
      "disadvantage -> tstfnC -> tstf\n",
      "homework -> homwrk -> homw\n",
      "driveway -> trifwa -> trifw\n",
      "imprisonment -> mprsnmnt -> mprsnm\n",
      "freshly -> frʃle -> frʃl\n",
      "originated -> rCnatt -> rCna\n",
      "artifacts -> rtfkts -> rtfk\n",
      "replication -> rplkaʃn -> rplka\n",
      "combustion -> kmpsCn -> kmpsC\n",
      "memorandum -> mmrntm -> mmrn\n",
      "textbook -> tkstpk -> tkstp\n",
      "speculation -> spkylaʃn -> spky\n",
      "inequalities -> nkwltes -> nkwlt\n",
      "fellowship -> floʃp -> floʃ\n",
      "routinely -> rtenle -> rtenl\n",
      "coherence -> kohrns -> kohrn\n",
      "recreation -> rkreaʃn -> rkrea\n",
      "monument -> mnymnt -> mnym\n",
      "authorization -> θrsaʃn -> θrsa\n",
      "deprived -> tprift -> tpri\n",
      "precipitation -> prsptaʃn -> prspta\n",
      "dissolution -> tslʃn -> tslʃ\n",
      "postwar -> postwr -> postw\n",
      "eagerly -> ekrle -> ekrl\n",
      "communism -> kmynsm -> kmyn\n",
      "explanatory -> ksplntre -> ksplnt\n",
      "distinctly -> tstŋktle -> tstŋktl\n",
      "catheter -> kθtr -> kθt\n",
      "visibility -> fsplte -> fsplt\n",
      "hospitality -> hsptlte -> hsptlt\n",
      "coincidence -> konstns -> konst\n",
      "perceptual -> prspCwl -> prspC\n",
      "fluctuations -> flkCaʃns -> flkC\n",
      "invariably -> nfreple -> nfrep\n",
      "genocide -> Cnsit -> Cnsi\n",
      "aviation -> afeaʃn -> afea\n",
      "aqueous -> akwes -> akw\n",
      "staircase -> strkas -> strka\n",
      "socioeconomic -> soseoknmk -> soseok\n",
      "graduated -> krCatt -> krCa\n",
      "disadvantages -> tstfnCs -> tstfn\n",
      "secretion -> skreʃn -> skreʃ\n",
      "enthusiastic -> nθsestk -> nθses\n",
      "corrosion -> kroʃn -> kroʃ\n",
      "exemption -> ksmʃn -> ksmʃ\n",
      "notification -> notfkaʃn -> notf\n",
      "forthcoming -> frθkmŋ -> frθk\n",
      "foremost -> frmost -> frmo\n",
      "microbial -> mikropel -> mikrope\n",
      "seizures -> seʃrs -> seʃ\n",
      "geological -> CelCkl -> CelC\n",
      "swollen -> swoln -> swo\n",
      "constructions -> knstrkʃns -> knstrkʃ\n",
      "contextual -> kntksCl -> kntksC\n",
      "quotation -> kwotaʃn -> kwota\n",
      "sequential -> skwnʃl -> skwn\n",
      "prostate -> prstat -> prsta\n",
      "presentations -> prsntaʃns -> prsntaʃ\n",
      "reluctantly -> rlktntle -> rlkt\n",
      "reservation -> rsrfaʃn -> rsrf\n",
      "myocardial -> mikrtel -> mikrt\n",
      "resentment -> rsnmnt -> rsnm\n",
      "configurations -> knfkyraʃns -> knfkyra\n",
      "detention -> ttnʃn -> ttnʃ\n",
      "pavement -> pafmnt -> pafm\n",
      "revolt -> refolt -> refo\n",
      "predictable -> pretktpl -> pretktp\n",
      "authenticity -> θntste -> θnts\n",
      "polarization -> polrsaʃn -> polrsa\n",
      "nonprofit -> nnprft -> nnp\n",
      "reformation -> rfrmaʃn -> rfrma\n",
      "ecosystems -> ekosstms -> ekosst\n",
      "viewpoint -> fupnt -> fup\n",
      "incapable -> nkappl -> nkap\n",
      "metaphysical -> mtfskl -> mtfsk\n",
      "electromagnetic -> lktromkntk -> lktrom\n",
      "undermine -> ntrmin -> ntrmi\n",
      "reservations -> rsrfaʃns -> rsrfa\n",
      "adulthood -> tltht -> tlth\n",
      "reductions -> retkʃns -> retkʃ\n",
      "plantation -> plntaʃn -> plnta\n",
      "empowerment -> mprmnt -> mprmn\n",
      "constituents -> knstCnts -> knstC\n",
      "password -> pswrt -> psw\n",
      "dedication -> ttkaʃn -> ttkaʃ\n",
      "norwegian -> nrweCn -> nrwe\n",
      "conductivity -> kntktfte -> kntktft\n",
      "inherently -> nhrntle -> nhrn\n",
      "indifference -> ntfrns -> ntfrn\n",
      "postoperative -> postprtf -> postp\n",
      "entrepreneurship -> ntrprnrʃp -> ntrprnrʃ\n",
      "recession -> rsʃn -> rsʃ\n",
      "alterations -> ltraʃns -> ltra\n",
      "smoothly -> smθle -> smθl\n",
      "subjectivity -> spCktfte -> spCktft\n",
      "regeneration -> reCnraʃn -> reCnr\n",
      "continuation -> kntnuaʃn -> kntnua\n",
      "peptide -> pptit -> ppti\n",
      "estimating -> stmatŋ -> stmat\n",
      "landscapes -> lnskaps -> lnska\n",
      "intellectuals -> ntlkCls -> ntlkC\n",
      "deception -> tspʃn -> tspʃ\n",
      "neurological -> nrlCkl -> nrlC\n",
      "transplant -> trnsplnt -> trnspln\n",
      "anesthesia -> nsθeʃ -> nsθe\n",
      "contaminated -> kntmnatt -> kntmna\n",
      "compartment -> kmprtmnt -> kmprtm\n",
      "premature -> premCr -> premC\n",
      "charitable -> Crtpl -> Crtp\n",
      "imitation -> mtaʃn -> mtaʃ\n",
      "consecutive -> knskytf -> knsky\n",
      "implicitly -> mplstle -> mplstl\n",
      "animation -> nmaʃn -> nmaʃ\n",
      "prognosis -> prknoss -> prkno\n",
      "subsidiary -> spstere -> spster\n",
      "rectangular -> rktŋkylr -> rktŋk\n",
      "logistics -> lCstks -> lCst\n",
      "visualization -> fʃwlsaʃn -> fʃwlsa\n",
      "explosive -> ksplosf -> ksplos\n",
      "contributors -> kntrpytrs -> kntrpy\n",
      "unprecedented -> nprstntt -> nprs\n",
      "olympic -> olmpk -> olm\n",
      "gastrointestinal -> kstrontstnl -> kstron\n",
      "confederate -> knftrt -> knftr\n",
      "helicopter -> hlkptr -> hlkp\n",
      "exaggerated -> ksCratt -> ksCr\n",
      "ukraine -> ukran -> ukra\n",
      "masculinity -> mskylnte -> mskylnt\n",
      "sideways -> sitwas -> sitw\n",
      "modulation -> mClaʃn -> mCla\n",
      "hastily -> hastle -> hastl\n",
      "delegation -> tlkaʃn -> tlka\n",
      "hemisphere -> hmsfr -> hmsf\n",
      "stereotypes -> stretips -> streti\n",
      "grandparents -> krntprnts -> krntpr\n",
      "communion -> kmunyn -> kmuny\n",
      "kinase -> kinas -> kina\n",
      "ambulance -> mpylns -> mpy\n",
      "disbelief -> tsplef -> tsple\n",
      "neuroscience -> nyrosins -> nyro\n",
      "mainland -> manlnt -> manln\n",
      "spectroscopy -> spktrskpe -> spktrsk\n",
      "marketplace -> mrktplas -> mrktp\n",
      "pipeline -> piplin -> pipli\n",
      "stochastic -> stokstk -> stokst\n",
      "respectable -> respktpl -> respktp\n",
      "corinthians -> krnθens -> krnθe\n",
      "theoretically -> θertkle -> θertk\n",
      "moonlight -> mnlit -> mnli\n",
      "download -> tnlot -> tnlo\n",
      "excitation -> ksitaʃn -> ksita\n",
      "contractual -> kntrkCl -> kntrkC\n",
      "advocated -> tfkatt -> tfka\n",
      "fixation -> fksaʃn -> fksa\n",
      "plainly -> planle -> planl\n",
      "saturation -> sCraʃn -> sCraʃ\n",
      "mobilization -> moplsaʃn -> moplsa\n",
      "infusion -> nfuʃn -> nfuʃ\n",
      "disagreement -> tskremnt -> tskrem\n",
      "casualties -> kʃltes -> kʃlt\n",
      "prototype -> prottip -> prott\n",
      "exponential -> ksponnʃl -> kspon\n",
      "perpendicular -> prpntkylr -> prpntk\n",
      "determinants -> ttrmnnts -> ttrmnn\n",
      "resigned -> resint -> resi\n",
      "chiefly -> Cefle -> Cefl\n",
      "designation -> tsknaʃn -> tsknaʃ\n",
      "pertaining -> prtanŋ -> prta\n",
      "devastating -> tfstatŋ -> tfsta\n",
      "discharged -> tsCrCt -> tsCr\n",
      "microwave -> mikrwaf -> mikrw\n",
      "violently -> filntle -> filntl\n",
      "providence -> prftns -> prftn\n",
      "biodiversity -> piotifrste -> piot\n",
      "sculpture -> sklpCr -> sklpC\n",
      "persecution -> prskuʃn -> prskuʃ\n",
      "nationality -> nʃnlte -> nʃnlt\n",
      "intervene -> ntrfen -> ntrfe\n",
      "delightful -> tlitfl -> tlitf\n",
      "introductory -> ntrtktre -> ntrtktr\n",
      "impatient -> mpaʃnt -> mpa\n",
      "telecommunications -> tlkmunkaʃns -> tlkmu\n",
      "constituent -> knstCnt -> knstCn\n",
      "cocaine -> kokan -> koka\n",
      "thankful -> θŋkfl -> θŋkf\n",
      "inquired -> nkwirt -> nkwi\n",
      "exhaustion -> kssCn -> kssC\n",
      "evenly -> efnle -> efnl\n",
      "comparatively -> kmprtfle -> kmprtfl\n",
      "vocational -> fokaʃnl -> foka\n",
      "intercourse -> nrkrs -> nrkr\n",
      "microscopy -> mikrskpe -> mikrs\n",
      "cautiously -> kʃsle -> kʃsl\n",
      "disclose -> tsklos -> tsklo\n",
      "viscosity -> fskste -> fskst\n",
      "tuberculosis -> tprkyloss -> tprky\n",
      "encyclopedia -> nsiklpete -> nsik\n",
      "evangelical -> efnClkl -> efnC\n",
      "nervously -> nrfsle -> nrfsl\n",
      "specialty -> spʃlte -> spʃlt\n",
      "undergraduate -> ntrkrCwt -> ntrkrCw\n",
      "cooperate -> kwprat -> kwpra\n",
      "phoenix -> fenks -> fenk\n",
      "wartime -> wrtim -> wrti\n",
      "contingency -> kntnCnse -> kntnCn\n",
      "apologize -> plCis -> plCi\n",
      "unchanged -> nCanCt -> nCa\n",
      "humility -> humlte -> huml\n",
      "memoirs -> mmwrs -> mmw\n",
      "refrigerator -> rfrCratr -> rfrC\n",
      "attainment -> tanmnt -> tanm\n",
      "profoundly -> profntle -> profntl\n",
      "subdivision -> sptfʃn -> sptf\n",
      "compulsory -> kmplsre -> kmplsr\n",
      "familiarity -> fmlyrte -> fmlyrt\n",
      "extinction -> kstŋʃn -> kstŋʃ\n",
      "placebo -> plsepo -> plsep\n",
      "distortion -> tstrʃn -> tstrʃ\n",
      "psychoanalysis -> sikonlss -> sikon\n",
      "restructuring -> restrkCrŋ -> restrkC\n",
      "rainbow -> ranpo -> ranp\n",
      "unlimited -> nlmtt -> nlm\n",
      "aggregation -> krkaʃn -> krka\n",
      "bandwidth -> pntwtθ -> pntw\n",
      "bureaucracy -> pyrkrse -> pyrkr\n",
      "hypothetical -> hipθtkl -> hipθt\n",
      "eligibility -> lCplte -> lCplt\n",
      "biochemical -> piokmkl -> piok\n",
      "pneumonia -> nmony -> nmon\n",
      "vaguely -> fakle -> fakl\n",
      "chancellor -> Cnslr -> Cnsl\n",
      "entrepreneurial -> ntrprnrel -> ntrprnre\n",
      "affordable -> frtpl -> frtp\n",
      "recycling -> resiklŋ -> resik\n",
      "jehovah -> Chof -> Ch\n",
      "disappearance -> tsperns -> tspern\n",
      "arithmetic -> rθmtk -> rθmt\n",
      "compromised -> kmprmist -> kmprmi\n",
      "appropriation -> propreaʃn -> proprea\n",
      "irritation -> rtaʃn -> rtaʃ\n",
      "connectivity -> knktfte -> knktft\n",
      "hydraulic -> hitrlk -> hitrl\n",
      "infrared -> nfrrt -> nfrr\n",
      "equitable -> kwtpl -> kwtp\n",
      "participatory -> prtsptre -> prtspt\n",
      "ammunition -> mynʃn -> myn\n",
      "fulfillment -> flflmnt -> flflm\n",
      "internationally -> nrnʃnle -> nrnʃn\n",
      "quotations -> kwotaʃns -> kwotaʃ\n",
      "autobiography -> tpikrfe -> tpik\n",
      "authoritative -> θrtatf -> θrta\n",
      "circulating -> srkylatŋ -> srkyla\n",
      "examinations -> ksmnaʃns -> ksmnaʃ\n",
      "conduction -> kntkʃn -> kntkʃ\n",
      "fireplace -> firplas -> firpla\n",
      "loneliness -> lonlens -> lonlen\n",
      "unrelated -> nrelatt -> nrela\n",
      "localization -> loklsaʃn -> loklsa\n",
      "epithelial -> pθlyl -> pθly\n",
      "melancholy -> mlnkle -> mlnkl\n",
      "groundwater -> krntwtr -> krntw\n",
      "curiously -> kyresle -> kyresl\n",
      "formidable -> frmtpl -> frmtp\n",
      "rainfall -> ranfl -> ranf\n",
      "susceptibility -> ssptplte -> ssptp\n",
      "factual -> fkCl -> fkC\n",
      "policeman -> plesmn -> plesm\n",
      "standpoint -> stntpnt -> stntpn\n",
      "battlefield -> ptlfelt -> ptlf\n",
      "hurricane -> hrkan -> hrka\n",
      "antibiotic -> ntepitk -> ntepit\n",
      "trademark -> tratmrk -> tratm\n",
      "calibration -> klpraʃn -> klpraʃ\n",
      "liquidity -> lkwtte -> lkwtt\n",
      "pedagogy -> ptkoCe -> ptkoC\n",
      "repression -> reprʃn -> reprʃ\n",
      "carpenter -> krpntr -> krpnt\n",
      "bicycle -> piskl -> pisk\n",
      "pertinent -> prtnnt -> prtnn\n",
      "epidemiology -> ptmelCe -> ptmel\n",
      "adsorption -> tsrpʃn -> tsrpʃ\n",
      "concurrent -> knkrnt -> knkrn\n",
      "ceremonies -> srmones -> srmon\n",
      "interdisciplinary -> ntrtsplnre -> ntrtsp\n",
      "motivations -> motfaʃns -> motfaʃ\n",
      "orchestra -> rkstr -> rkst\n",
      "polynomial -> plenomel -> plenom\n",
      "confidentiality -> knftnʃelte -> knftnʃe\n",
      "nursery -> nrsre -> nrsr\n",
      "angrily -> ŋkrle -> ŋkrl\n",
      "bipolar -> pipolr -> pipo\n",
      "negligence -> nklCns -> nklC\n",
      "auxiliary -> kslyre -> ksly\n",
      "worldly -> wrltle -> wrltl\n",
      "unusually -> nuʃwle -> nuʃw\n",
      "modernization -> mtrnsaʃn -> mtrnsa\n",
      "methodologies -> mθotlCes -> mθo\n",
      "communists -> kmynsts -> kmyns\n",
      "authoritarian -> θrtren -> θrtr\n",
      "fluorescence -> flrsns -> flrsn\n",
      "magnesium -> mknesem -> mknese\n",
      "volatility -> fltlte -> fltlt\n",
      "alteration -> ltraʃn -> ltraʃ\n",
      "generosity -> Cnrste -> Cnrst\n",
      "unexpectedly -> nkspkttle -> nkspk\n",
      "imperfect -> mprfkt -> mprfk\n",
      "disguise -> tskis -> tski\n",
      "permeability -> prmeplte -> prmep\n",
      "photographer -> ftkrfr -> ftkrf\n",
      "superintendent -> sprntntnt -> sprntn\n",
      "unequal -> nekwl -> nekw\n",
      "merchandise -> mrCntis -> mrCnti\n",
      "gateway -> katwa -> katw\n",
      "contention -> kntnʃn -> kntnʃ\n",
      "shareholder -> ʃrholtr -> ʃrho\n",
      "deprivation -> tprfaʃn -> tprfa\n",
      "hygiene -> hiCen -> hiCe\n",
      "beneficiary -> pnfʃere -> pnfʃe\n",
      "patiently -> paʃntle -> paʃntl\n",
      "hopeless -> hopls -> hopl\n",
      "authentication -> θntkaʃn -> θntk\n",
      "accessibility -> kssplte -> kssplt\n",
      "grammatical -> krmtkl -> krmtk\n",
      "fragmentation -> frkmntaʃn -> frkmnta\n",
      "endothelial -> ntoθelel -> ntoθ\n",
      "commentators -> kmntatrs -> kmnta\n",
      "manipulate -> mnpylat -> mnpy\n",
      "procession -> prsʃn -> prsʃ\n",
      "textile -> tkstil -> tksti\n",
      "willingly -> wlŋle -> wlŋl\n",
      "unpredictable -> nprtktpl -> nprtk\n",
      "deviations -> tefeaʃns -> tefeaʃ\n",
      "insistence -> nsstns -> nsstn\n",
      "cohesion -> koheʃn -> kohe\n",
      "competitiveness -> kmpttfns -> kmpttfn\n",
      "detachment -> tetCmnt -> tetCm\n",
      "persuasion -> prswaʃn -> prswaʃ\n",
      "existential -> ksstnʃl -> ksstnʃ\n",
      "deadline -> ttlin -> ttli\n",
      "almighty -> lmite -> lmi\n",
      "understandable -> ntrstntpl -> ntrstntp\n",
      "inclination -> nklnaʃn -> nklna\n",
      "centralized -> sntrlist -> sntrli\n",
      "graduation -> krCaʃn -> krCaʃ\n",
      "oxidative -> kstitf -> ksti\n",
      "precursor -> prekrsr -> prekrs\n",
      "agitation -> Ctaʃn -> Ctaʃ\n",
      "archbishop -> rCpʃp -> rCp\n",
      "periodically -> peretkle -> peret\n",
      "intracellular -> ntrslylr -> ntrsly\n",
      "assimilation -> smlaʃn -> smla\n",
      "jurisdictions -> Crstkʃns -> Crstkʃ\n",
      "usefulness -> usflns -> usfln\n",
      "interstate -> ntrstat -> ntrsta\n",
      "orderly -> rtrle -> rtrl\n",
      "segmentation -> skmntaʃn -> skmnta\n",
      "turbulent -> trpylnt -> trpyl\n",
      "anguish -> ŋkwʃ -> ŋkw\n",
      "communicative -> kmunktf -> kmunkt\n",
      "inscription -> nskrpʃn -> nskrpʃ\n",
      "beneficiaries -> pnfʃeres -> pnfʃer\n",
      "stakeholder -> stakholtr -> stakho\n",
      "resignation -> rsknaʃn -> rskna\n",
      "instinctively -> nstŋktfle -> nstŋktfl\n",
      "unsuccessful -> nskssfl -> nsks\n",
      "monuments -> mnymnts -> mnymn\n",
      "indispensable -> ntspnspl -> ntspn\n",
      "multiplication -> mltplkaʃn -> mltplk\n",
      "morphological -> mrflCkl -> mrflCk\n",
      "unacceptable -> nksptpl -> nkspt\n",
      "incremental -> nkrmntl -> nkrmn\n",
      "tuition -> tuʃn -> tuʃ\n",
      "stabilization -> staplsaʃn -> staplsa\n",
      "pathogens -> pθCns -> pθC\n",
      "qualification -> kwlfkaʃn -> kwlfka\n",
      "unreasonable -> nresnpl -> nresn\n",
      "acknowledgments -> knlCmnts -> knlCm\n",
      "sweetheart -> swethrt -> sweth\n",
      "inquiries -> nkwres -> nkwre\n",
      "precautions -> prekʃns -> prekʃ\n",
      "uniquely -> unekle -> unekl\n",
      "automation -> tmaʃn -> tmaʃ\n",
      "intensely -> ntnsle -> ntnsl\n",
      "multicultural -> mlteklCrl -> mltek\n",
      "exquisite -> kskwst -> kskw\n",
      "dislike -> tslik -> tsli\n",
      "worthwhile -> wrθwil -> wrθw\n",
      "salient -> salent -> salen\n",
      "resection -> reskʃn -> resk\n",
      "humiliation -> humleaʃn -> humle\n",
      "refrain -> rfran -> rfra\n",
      "microscope -> mikrskop -> mikrsk\n",
      "mitochondrial -> mitkntrel -> mitkn\n",
      "bedside -> ptsit -> ptsi\n",
      "expressly -> ksprsle -> ksprsl\n",
      "politely -> plitle -> plitl\n",
      "twilight -> twilit -> twili\n",
      "comfortably -> kmfrtple -> kmfrtp\n",
      "deterioration -> ttreraʃn -> ttrer\n",
      "paperwork -> paprwrk -> paprw\n",
      "humidity -> humtte -> humt\n",
      "apprehension -> prhnʃn -> prhn\n",
      "formations -> frmaʃns -> frmaʃ\n",
      "ensemble -> nsmpl -> nsmp\n",
      "unilateral -> unltrl -> unl\n",
      "synthesized -> snθsist -> snθsi\n",
      "microscopic -> mikrskpk -> mikrskp\n",
      "invariant -> nfrent -> nfren\n",
      "memorable -> mmrpl -> mmrp\n",
      "pancreatic -> pnkretk -> pnkre\n",
      "elasticity -> elstste -> elst\n",
      "handkerchief -> hŋkrCef -> hŋkrC\n",
      "terrestrial -> trstrel -> trstre\n",
      "citation -> sitaʃn -> sita\n",
      "israelites -> srlits -> srli\n",
      "uniformly -> unfrmle -> unfrml\n",
      "carbohydrate -> krpohitrt -> krpoh\n",
      "allegedly -> lCtle -> lCtl\n",
      "attributable -> trpytpl -> trpyt\n",
      "adhesion -> theʃn -> theʃ\n",
      "persuasive -> prswasf -> prswas\n",
      "seismic -> sismk -> sism\n",
      "feasibility -> fesplte -> fesplt\n",
      "astonishment -> stnʃmnt -> stnʃm\n",
      "legendary -> lCntre -> lCntr\n",
      "vaginal -> fCinl -> fCi\n",
      "embodiment -> mptemnt -> mptem\n",
      "constable -> knstpl -> knstp\n",
      "lymphoma -> lmfom -> lmfo\n",
      "dissemination -> tsmnaʃn -> tsmna\n",
      "insignificant -> nsknyfknt -> nskn\n",
      "biomedical -> piomtkl -> piomtk\n",
      "bangladesh -> pŋltʃ -> pŋlt\n",
      "noticeable -> notspl -> notsp\n",
      "questionable -> kwsCnpl -> kwsCnp\n",
      "1869\n",
      "{'mean_binary_length': 11.383203152637249, 'mean_binary_excess': 4.885581933948531, 'mean_entropy_shift': 1.618100061096781, 'mean_transmission_cost': 10.223901205378947, 'mean_transmission_excess': 3.72627998669023, 'mean_transmission_shift': 0.4587981138384798, 'reconstruction_entropy': 0.6526202331786901, 'reconstruction_error': 0.1650958209076464, 'alphabet': 't s n r f k p l e θ m w i a h o C ʃ ŋ u y'}\n"
     ]
    }
   ],
   "source": [
    "# a greedy optimal cutailment process\n",
    "\n",
    "vowel_type = \"long vowels\"\n",
    "consonant_type = \"merged consonants\"\n",
    "\n",
    "dictionary = {w:translate(w,vowel_types[vowel_type] + consonant_types[consonant_type]) for w in ipa_dict}\n",
    "found = {dictionary[w]:w for w in dictionary}\n",
    "\n",
    "\n",
    "print(code_statistics(word_list(dictionary), dictionary))\n",
    "\n",
    "found_num = 0\n",
    "for word in list(one_grams_dict.keys())[:100000]:\n",
    "    if word not in ipa_dict:\n",
    "        continue\n",
    "\n",
    "    mapped = dictionary[word]\n",
    "    for l in range(1,len(mapped)):\n",
    "        curtailed = mapped[:l]\n",
    "        if curtailed not in found:\n",
    "            found[curtailed] = word\n",
    "            dictionary[word] = curtailed\n",
    "            print(f\"{word} -> {mapped} -> {curtailed}\")\n",
    "            found_num += 1\n",
    "            break\n",
    "\n",
    "print(found_num)\n",
    "print(code_statistics(word_list(dictionary), dictionary))\n"
   ]
  },
  {
   "cell_type": "code",
   "execution_count": 29,
   "id": "970fc529",
   "metadata": {},
   "outputs": [
    {
     "name": "stdout",
     "output_type": "stream",
     "text": [
      "the -> θ\n",
      "of -> f\n",
      "and -> nt\n",
      "to -> t\n",
      "a -> e\n",
      "in -> n\n",
      "that -> θt\n",
      "is -> s\n",
      "for -> fr\n",
      "i -> i\n",
      "it -> t\n",
      "was -> ws\n",
      "as -> s\n",
      "not -> nt\n",
      "with -> wθ\n",
      "he -> he\n",
      "on -> n\n",
      "you -> u\n",
      "be -> pe\n",
      "his -> hs\n"
     ]
    }
   ],
   "source": [
    "dictionary = {w:translate(w,vowel_types[vowel_type] + consonant_types[consonant_type]) for w in ipa_dict}\n",
    "\n",
    "for word in list(one_grams_dict.keys())[:20]:\n",
    "    mapped = dictionary[word]\n",
    "    print(f\"{word} -> {mapped}\")"
   ]
  },
  {
   "cell_type": "code",
   "execution_count": 30,
   "id": "d5fe5631",
   "metadata": {},
   "outputs": [
    {
     "data": {
      "text/plain": [
       "Counter({'t': 85086975218,\n",
       "         's': 57657891005,\n",
       "         'n': 56573170207,\n",
       "         'r': 52773253166,\n",
       "         'e': 30330857212,\n",
       "         'k': 30051943988,\n",
       "         'f': 30036320817,\n",
       "         'l': 29501976780,\n",
       "         'p': 28767343014,\n",
       "         'θ': 26922060895,\n",
       "         'm': 21052228823,\n",
       "         'w': 13995235641,\n",
       "         'i': 11966549619,\n",
       "         'a': 11855641381,\n",
       "         'h': 10022097671,\n",
       "         'ʃ': 8777360739,\n",
       "         'o': 8376218324,\n",
       "         'C': 8374441959,\n",
       "         'ŋ': 7166862389,\n",
       "         'u': 3520408026,\n",
       "         'y': 2144903403})"
      ]
     },
     "execution_count": 30,
     "metadata": {},
     "output_type": "execute_result"
    }
   ],
   "source": [
    "letters = Counter()\n",
    "\n",
    "for word in list(one_grams_dict.keys()):\n",
    "    if word not in ipa_dict:\n",
    "        continue\n",
    "    mapped = dictionary[word]\n",
    "    count = one_grams_dict[word]\n",
    "    for l in mapped:\n",
    "        letters[l] += count\n",
    "    \n",
    "letters"
   ]
  },
  {
   "cell_type": "code",
   "execution_count": 31,
   "id": "6c9e008d",
   "metadata": {},
   "outputs": [
    {
     "data": {
      "text/plain": [
       "Counter({'nt': 18994725101,\n",
       "         'st': 9546107150,\n",
       "         'tr': 8308164451,\n",
       "         'fr': 7984485217,\n",
       "         'pr': 7637432076,\n",
       "         're': 5953392540,\n",
       "         'ns': 5821541424,\n",
       "         'rt': 5502805676,\n",
       "         'ts': 5032858976,\n",
       "         'rs': 4839704597,\n",
       "         'ʃn': 4806478985,\n",
       "         'pl': 4443130336,\n",
       "         'kn': 4081791490,\n",
       "         'kt': 3830890363,\n",
       "         'kr': 3773294424,\n",
       "         'lt': 3538114457,\n",
       "         'le': 3494916120,\n",
       "         'ks': 3409560846,\n",
       "         'mn': 3351524273,\n",
       "         'tt': 3348335545,\n",
       "         'θr': 3080136474,\n",
       "         'kl': 3066086118,\n",
       "         'te': 3048083804,\n",
       "         'pt': 3038708017,\n",
       "         'es': 2944808806,\n",
       "         'rn': 2939000811,\n",
       "         'θt': 2832796867,\n",
       "         'sp': 2822479495,\n",
       "         'rm': 2724193875,\n",
       "         'rk': 2671639752,\n",
       "         'tn': 2656228416,\n",
       "         'pe': 2578169108,\n",
       "         'it': 2388933279,\n",
       "         'ls': 2337740611,\n",
       "         'at': 2255223784,\n",
       "         'tk': 2141418078,\n",
       "         'fl': 2126787719,\n",
       "         'aʃ': 2080858562,\n",
       "         'ss': 2049351465,\n",
       "         'wr': 2024054210,\n",
       "         'mp': 2011968222,\n",
       "         'ws': 1968339949,\n",
       "         'wn': 1960998053,\n",
       "         'et': 1940260152,\n",
       "         'sk': 1920271872,\n",
       "         'tl': 1906385443,\n",
       "         'wθ': 1903624650,\n",
       "         'tf': 1901092543,\n",
       "         'hs': 1888429569,\n",
       "         'sn': 1851612054,\n",
       "         'pn': 1845262812,\n",
       "         'he': 1814301816,\n",
       "         'ta': 1727014913,\n",
       "         'sm': 1683305935,\n",
       "         'nl': 1658585871,\n",
       "         'rf': 1650722301,\n",
       "         'sr': 1551048369,\n",
       "         'ps': 1545434841,\n",
       "         'km': 1530122537,\n",
       "         'ra': 1486007450,\n",
       "         'ft': 1477064479,\n",
       "         'tŋ': 1476934185,\n",
       "         'se': 1475998992,\n",
       "         'sl': 1471609259,\n",
       "         'rp': 1442335787,\n",
       "         'rl': 1431459149,\n",
       "         'hr': 1425400637,\n",
       "         'li': 1412271909,\n",
       "         'ms': 1385355969,\n",
       "         'mr': 1378513984,\n",
       "         'pk': 1358547822,\n",
       "         'fn': 1348018126,\n",
       "         'pi': 1337141447,\n",
       "         'nf': 1322736180,\n",
       "         'lk': 1315741897,\n",
       "         'ma': 1314073690,\n",
       "         'ne': 1311644485,\n",
       "         'la': 1281643981,\n",
       "         'Cr': 1279733222,\n",
       "         'θs': 1271276493,\n",
       "         'tm': 1266707020,\n",
       "         'wt': 1265255605,\n",
       "         'in': 1232843185,\n",
       "         'lf': 1232046870,\n",
       "         'nr': 1218356899,\n",
       "         'mt': 1217041593,\n",
       "         'ri': 1207301722,\n",
       "         'en': 1206230284,\n",
       "         'as': 1190598254,\n",
       "         'os': 1177105811,\n",
       "         'we': 1172666164,\n",
       "         'ka': 1170800340,\n",
       "         'an': 1158538441,\n",
       "         'el': 1147599297,\n",
       "         'hf': 1131359640,\n",
       "         'ht': 1125635030,\n",
       "         'so': 1106777423,\n",
       "         'yr': 1100396086,\n",
       "         'rC': 1084321511,\n",
       "         'ʃe': 1077395990,\n",
       "         'ef': 1068639276,\n",
       "         'fs': 1045902523,\n",
       "         'fi': 1035475305,\n",
       "         'wl': 1032104878,\n",
       "         'mi': 998979911,\n",
       "         'fk': 985864979,\n",
       "         'on': 984626826,\n",
       "         'si': 981142401,\n",
       "         'nk': 980738599,\n",
       "         'no': 970034977,\n",
       "         'ti': 961445216,\n",
       "         'lr': 960721265,\n",
       "         'ro': 960434480,\n",
       "         'kw': 957682642,\n",
       "         'Cn': 938447728,\n",
       "         'kʃ': 934780183,\n",
       "         'me': 921576500,\n",
       "         'ol': 915727400,\n",
       "         'lo': 886540191,\n",
       "         'ŋk': 886299928,\n",
       "         'is': 873942953,\n",
       "         'nC': 870964834,\n",
       "         'nʃ': 853247766,\n",
       "         'tp': 845145638,\n",
       "         'Cs': 835037844,\n",
       "         'ek': 814951551,\n",
       "         'ln': 788512439,\n",
       "         'θn': 780377544,\n",
       "         'pa': 777913580,\n",
       "         'ʃl': 769705657,\n",
       "         'θa': 748364045,\n",
       "         'ak': 747975602,\n",
       "         'wi': 747266695,\n",
       "         'lŋ': 741202880,\n",
       "         'em': 716495731,\n",
       "         'wC': 713306773,\n",
       "         'ot': 713118826,\n",
       "         'us': 708123655,\n",
       "         'rŋ': 693677270,\n",
       "         'θŋ': 691619310,\n",
       "         'ep': 687451532,\n",
       "         'ml': 659965983,\n",
       "         'sf': 654519058,\n",
       "         'il': 644005287,\n",
       "         'im': 640850676,\n",
       "         'am': 637316412,\n",
       "         'wa': 637019405,\n",
       "         'ko': 620486890,\n",
       "         'sC': 617439158,\n",
       "         'sa': 602918095,\n",
       "         'fe': 594843783,\n",
       "         'lC': 579433359,\n",
       "         'ky': 560701639,\n",
       "         'nŋ': 560124593,\n",
       "         'mo': 559426569,\n",
       "         'lp': 558238183,\n",
       "         'ik': 552077296,\n",
       "         'lm': 548887560,\n",
       "         'sŋ': 547821395,\n",
       "         'kŋ': 543572489,\n",
       "         'ir': 543414402,\n",
       "         'fa': 531238412,\n",
       "         'eC': 526374899,\n",
       "         'po': 525793752,\n",
       "         'ap': 523692135,\n",
       "         'er': 509850834,\n",
       "         'kf': 507883482,\n",
       "         'if': 506212426,\n",
       "         'ʃr': 500894876,\n",
       "         'nm': 493231153,\n",
       "         'θe': 484481570,\n",
       "         'Ck': 483174378,\n",
       "         'na': 456370433,\n",
       "         'rθ': 454687868,\n",
       "         'ʃt': 450260757,\n",
       "         'θm': 448295212,\n",
       "         'rʃ': 432901761,\n",
       "         'al': 410735268,\n",
       "         'ok': 408744687,\n",
       "         'fŋ': 407088030,\n",
       "         'of': 406166063,\n",
       "         'Ce': 404616817,\n",
       "         'yl': 400752165,\n",
       "         'ho': 398498343,\n",
       "         'fu': 391242112,\n",
       "         'op': 381916850,\n",
       "         'tʃ': 375307265,\n",
       "         'hl': 373300260,\n",
       "         'aC': 373109551,\n",
       "         'un': 364453071,\n",
       "         'mC': 361340890,\n",
       "         'tw': 357938108,\n",
       "         'lʃ': 353117614,\n",
       "         'mθ': 350432373,\n",
       "         'mk': 347297826,\n",
       "         'θo': 339393516,\n",
       "         'hi': 338934248,\n",
       "         'hn': 338784741,\n",
       "         'nn': 337793925,\n",
       "         'to': 332257189,\n",
       "         'Ct': 330261783,\n",
       "         'nθ': 329108912,\n",
       "         'pp': 323367182,\n",
       "         'Cl': 317988647,\n",
       "         'af': 317637645,\n",
       "         'pʃ': 317295426,\n",
       "         'pf': 311232580,\n",
       "         'ip': 309113492,\n",
       "         'Ca': 297235872,\n",
       "         'kp': 294291119,\n",
       "         'ŋs': 289981964,\n",
       "         'fʃ': 280437981,\n",
       "         'ea': 272603000,\n",
       "         'om': 265873229,\n",
       "         'oʃ': 259236683,\n",
       "         'mf': 254579523,\n",
       "         'rr': 247371572,\n",
       "         'eθ': 243680446,\n",
       "         'kC': 243140852,\n",
       "         'fm': 241763821,\n",
       "         'mm': 241142727,\n",
       "         'ut': 237890960,\n",
       "         'eŋ': 225647069,\n",
       "         'sʃ': 224138159,\n",
       "         'ni': 220100949,\n",
       "         'Cp': 218370299,\n",
       "         'oθ': 217439801,\n",
       "         'mŋ': 217360411,\n",
       "         'mʃ': 206296771,\n",
       "         'ʃo': 205917366,\n",
       "         'mu': 205463206,\n",
       "         'pC': 201947969,\n",
       "         'hp': 201607070,\n",
       "         'fo': 199831127,\n",
       "         'ke': 196161244,\n",
       "         'ʃp': 194465694,\n",
       "         'pu': 192815123,\n",
       "         'tC': 188319549,\n",
       "         'lθ': 184491063,\n",
       "         'lu': 179881188,\n",
       "         'ki': 172183596,\n",
       "         'pŋ': 170812016,\n",
       "         'um': 169432045,\n",
       "         'Cŋ': 168326464,\n",
       "         'wm': 161607100,\n",
       "         'oŋ': 157103040,\n",
       "         'yn': 156950932,\n",
       "         'nu': 155999762,\n",
       "         'pm': 153261847,\n",
       "         'ly': 151931971,\n",
       "         'ny': 150688813,\n",
       "         'uʃ': 138420933,\n",
       "         'wk': 136003081,\n",
       "         'Cm': 135449018,\n",
       "         'py': 134445565,\n",
       "         'Ci': 133094785,\n",
       "         'wʃ': 126125829,\n",
       "         'ku': 123762569,\n",
       "         'hm': 122895699,\n",
       "         'kk': 122844651,\n",
       "         'yt': 122580913,\n",
       "         'ph': 121714583,\n",
       "         'ʃs': 121169898,\n",
       "         'iŋ': 112500259,\n",
       "         'sw': 112143364,\n",
       "         'kθ': 111139290,\n",
       "         'fC': 102775268,\n",
       "         'ew': 102681831,\n",
       "         'lw': 100059443,\n",
       "         'ha': 96310241,\n",
       "         'pθ': 96133624,\n",
       "         'mw': 95717144,\n",
       "         'fθ': 94544826,\n",
       "         'np': 93762433,\n",
       "         'ŋl': 91865724,\n",
       "         'Cw': 91727287,\n",
       "         'oC': 90779170,\n",
       "         'rw': 84675025,\n",
       "         'yŋ': 84058036,\n",
       "         'uC': 82924962,\n",
       "         'wp': 82144019,\n",
       "         'sθ': 76152596,\n",
       "         'rh': 75912534,\n",
       "         'ys': 74190356,\n",
       "         'eo': 73442927,\n",
       "         'tθ': 70847719,\n",
       "         'aŋ': 67033979,\n",
       "         'eʃ': 66916518,\n",
       "         'ym': 65288933,\n",
       "         'my': 65286344,\n",
       "         'ʃa': 64849552,\n",
       "         'ŋθ': 64777626,\n",
       "         'fy': 64759936,\n",
       "         'or': 63393333,\n",
       "         'ul': 57240151,\n",
       "         'θl': 52379739,\n",
       "         'θk': 46529219,\n",
       "         'nh': 45582532,\n",
       "         'ar': 45410166,\n",
       "         'ʃŋ': 44663321,\n",
       "         'CC': 44577742,\n",
       "         'ʃk': 44333005,\n",
       "         'ua': 40183994,\n",
       "         'ʃf': 36944188,\n",
       "         'hŋ': 36770711,\n",
       "         'ŋŋ': 33968153,\n",
       "         'ʃw': 32200322,\n",
       "         'aθ': 30939770,\n",
       "         'll': 29914468,\n",
       "         'yp': 29880620,\n",
       "         'ur': 27744590,\n",
       "         'Co': 26925057,\n",
       "         'eh': 24357865,\n",
       "         'ŋt': 23072565,\n",
       "         'wo': 22807193,\n",
       "         'ff': 21902254,\n",
       "         'fw': 21348251,\n",
       "         'wŋ': 21076174,\n",
       "         'nw': 20706726,\n",
       "         'yf': 20680728,\n",
       "         'ye': 19387931,\n",
       "         'fp': 19228229,\n",
       "         'θi': 19174607,\n",
       "         'ʃm': 18606951,\n",
       "         'kh': 17046046,\n",
       "         'th': 16498949,\n",
       "         'uŋ': 16462798,\n",
       "         'uk': 16208330,\n",
       "         'wf': 15176906,\n",
       "         'θw': 14341972,\n",
       "         'uθ': 14039493,\n",
       "         'Cʃ': 13821286,\n",
       "         'sh': 13303145,\n",
       "         'up': 12808812,\n",
       "         'mh': 12774814,\n",
       "         'iC': 12462460,\n",
       "         'oh': 12357616,\n",
       "         'ʃi': 12105786,\n",
       "         'hk': 12100604,\n",
       "         'ŋr': 10595214,\n",
       "         'hu': 9787120,\n",
       "         'yw': 8968705,\n",
       "         'hθ': 8238577,\n",
       "         'iw': 7764563,\n",
       "         'ŋʃ': 7338493,\n",
       "         'θf': 6671484,\n",
       "         'pw': 5695058,\n",
       "         'ŋf': 5276958,\n",
       "         'ow': 4913911,\n",
       "         'io': 4766442,\n",
       "         'ry': 4639902,\n",
       "         'yo': 3590750,\n",
       "         'hC': 3469076,\n",
       "         'ŋn': 3118213,\n",
       "         'Cf': 3043345,\n",
       "         'ty': 2307633,\n",
       "         'sy': 2037520,\n",
       "         'ei': 1975242,\n",
       "         'Ch': 1636097,\n",
       "         'tu': 1468600,\n",
       "         'θC': 1466532})"
      ]
     },
     "execution_count": 31,
     "metadata": {},
     "output_type": "execute_result"
    }
   ],
   "source": [
    "pairs = Counter()\n",
    "\n",
    "for word in list(one_grams_dict.keys()):\n",
    "    if word not in ipa_dict:\n",
    "        continue\n",
    "    mapped = dictionary[word]\n",
    "    count = one_grams_dict[word]\n",
    "    if len(mapped) == 1:\n",
    "        continue\n",
    "\n",
    "    for i in range(len(mapped)-1):\n",
    "        pairs[mapped[i:i+2]] += count\n",
    "    \n",
    "pairs"
   ]
  },
  {
   "cell_type": "code",
   "execution_count": null,
   "id": "73cee297",
   "metadata": {},
   "outputs": [],
   "source": []
  }
 ],
 "metadata": {
  "kernelspec": {
   "display_name": "Python 3",
   "language": "python",
   "name": "python3"
  },
  "language_info": {
   "codemirror_mode": {
    "name": "ipython",
    "version": 3
   },
   "file_extension": ".py",
   "mimetype": "text/x-python",
   "name": "python",
   "nbconvert_exporter": "python",
   "pygments_lexer": "ipython3",
   "version": "3.12.6"
  }
 },
 "nbformat": 4,
 "nbformat_minor": 5
}
